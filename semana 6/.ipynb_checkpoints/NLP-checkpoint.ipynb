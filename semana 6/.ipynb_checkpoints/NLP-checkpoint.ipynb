{
 "cells": [
  {
   "cell_type": "markdown",
   "id": "b9a742a4",
   "metadata": {},
   "source": [
    "## NLP y una librería especializada: [spaCy](https://spacy.io/usage)\n",
    "\n",
    "Esta librería permite hacer diversas tareas de NLP: POS tags, lematización, detección de oraciones, análisis sintácticos, ... Un aspecto fundamental de estas herramientas es que nos permiten extraer información de oraciones, conjuntos de oraciones o textos. Surgen con esto infinitas preguntas:\n",
    "\n",
    "- ¿Es posible encontrar los **sustantivos** o **verbos** más frecuentes?\n",
    "- ¿Qué diferencias en cuanto a información nos entregan los **sustantivos** o **verbos** más frecuentes?\n",
    "- ¿Cómo cambian las frecuencias de palabras con la lematización?\n",
    "- ¿Cómo podríamos acercarnos a los temas más importantes de un corpus de textos?\n",
    "- ¿Cómo podemos extraer palabras clave?\n",
    "- ¿Qué nos dicen las formas verbales sobre la información de los textos?"
   ]
  },
  {
   "cell_type": "markdown",
   "id": "f2eda5c0",
   "metadata": {},
   "source": [
    "### archivo!"
   ]
  },
  {
   "cell_type": "code",
   "execution_count": 1,
   "id": "d1d996dd",
   "metadata": {},
   "outputs": [],
   "source": [
    "## texto elegido\n",
    "archivo = open('funes el memorioso-borges.txt', 'r', encoding='utf-8')"
   ]
  },
  {
   "cell_type": "code",
   "execution_count": 2,
   "id": "851b7c27",
   "metadata": {},
   "outputs": [],
   "source": [
    "## leemos el archivo!\n",
    "archivo = archivo.read()"
   ]
  },
  {
   "cell_type": "code",
   "execution_count": 3,
   "id": "da9be0f1",
   "metadata": {},
   "outputs": [
    {
     "data": {
      "text/plain": [
       "'Lo recuerdo (yo no tengo derecho a pronunciar ese verbo sagrado, solo un hombre en la tierra tuvo derecho y ese hombre ha muerto) con una oscura pasionaria en la mano, viéndola como nadie la ha visto, aunque la mirara desde el crepúsculo del día hasta el de la noche, toda una vida entera. Lo recuerdo, la cara taciturna y aindiada y singularmente remota, detrás del cigarrillo. Recuerdo (creo) sus manos afiladas de trenzador. Recuerdo cerca de esas manos un mate, con las armas de la Banda Oriental; recuerdo en la ventana de la casa una estera amarilla, con un vago paisaje lacustre. Recuerdo claramente su voz; la voz pausada, resentida y nasal del orillero antiguo, sin los silbidos italianos de ahora. Más de tres veces no lo vi; la última, en 1887… Me parece muy feliz el proyecto de que todos aquellos que lo trataron escriban sobre él; mi testimonio será acaso el más breve y sin duda el más pobre, pero no el menos imparcial del volumen que editarán ustedes. Mi deplorable condición de arge'"
      ]
     },
     "execution_count": 3,
     "metadata": {},
     "output_type": "execute_result"
    }
   ],
   "source": [
    "## visualizamos los primeros 100 caracteres\n",
    "archivo[:1000]"
   ]
  },
  {
   "cell_type": "markdown",
   "id": "49ea2868",
   "metadata": {},
   "source": [
    "### instalamos spaCy!"
   ]
  },
  {
   "cell_type": "code",
   "execution_count": 4,
   "id": "6ab71f86",
   "metadata": {},
   "outputs": [
    {
     "name": "stdout",
     "output_type": "stream",
     "text": [
      "Requirement already satisfied: pip in c:\\users\\jxver\\anaconda3\\lib\\site-packages (23.0.1)\n",
      "Requirement already satisfied: pip in c:\\users\\jxver\\anaconda3\\lib\\site-packages (23.0.1)\n",
      "Requirement already satisfied: setuptools in c:\\users\\jxver\\anaconda3\\lib\\site-packages (67.5.1)\n",
      "Collecting setuptools\n",
      "  Downloading setuptools-67.6.0-py3-none-any.whl (1.1 MB)\n",
      "     ---------------------------------------- 1.1/1.1 MB 7.7 MB/s eta 0:00:00\n",
      "Requirement already satisfied: wheel in c:\\users\\jxver\\anaconda3\\lib\\site-packages (0.38.4)\n",
      "Installing collected packages: setuptools\n",
      "  Attempting uninstall: setuptools\n",
      "    Found existing installation: setuptools 67.5.1\n",
      "    Uninstalling setuptools-67.5.1:\n",
      "      Successfully uninstalled setuptools-67.5.1\n",
      "Successfully installed setuptools-67.6.0\n"
     ]
    },
    {
     "name": "stderr",
     "output_type": "stream",
     "text": [
      "ERROR: pip's dependency resolver does not currently take into account all the packages that are installed. This behaviour is the source of the following dependency conflicts.\n",
      "spyder 4.2.5 requires pyqt5<5.13, which is not installed.\n",
      "spyder 4.2.5 requires pyqtwebengine<5.13, which is not installed.\n",
      "sphinx 4.0.1 requires Jinja2<3.0,>=2.3, but you have jinja2 3.1.2 which is incompatible.\n",
      "sphinx 4.0.1 requires MarkupSafe<2.0, but you have markupsafe 2.0.1 which is incompatible.\n",
      "es-core-news-sm 3.1.0 requires spacy<3.2.0,>=3.1.0, but you have spacy 3.5.0 which is incompatible.\n",
      "en-core-web-sm 3.2.0 requires spacy<3.3.0,>=3.2.0, but you have spacy 3.5.0 which is incompatible.\n",
      "en-core-web-md 3.2.0 requires spacy<3.3.0,>=3.2.0, but you have spacy 3.5.0 which is incompatible.\n"
     ]
    },
    {
     "name": "stdout",
     "output_type": "stream",
     "text": [
      "Requirement already satisfied: spacy in c:\\users\\jxver\\anaconda3\\lib\\site-packages (3.5.0)\n",
      "Requirement already satisfied: typer<0.8.0,>=0.3.0 in c:\\users\\jxver\\anaconda3\\lib\\site-packages (from spacy) (0.3.2)\n",
      "Requirement already satisfied: tqdm<5.0.0,>=4.38.0 in c:\\users\\jxver\\anaconda3\\lib\\site-packages (from spacy) (4.62.3)\n",
      "Requirement already satisfied: packaging>=20.0 in c:\\users\\jxver\\anaconda3\\lib\\site-packages (from spacy) (20.9)\n",
      "Requirement already satisfied: langcodes<4.0.0,>=3.2.0 in c:\\users\\jxver\\anaconda3\\lib\\site-packages (from spacy) (3.2.1)\n",
      "Requirement already satisfied: requests<3.0.0,>=2.13.0 in c:\\users\\jxver\\anaconda3\\lib\\site-packages (from spacy) (2.25.1)\n",
      "Requirement already satisfied: catalogue<2.1.0,>=2.0.6 in c:\\users\\jxver\\anaconda3\\lib\\site-packages (from spacy) (2.0.6)\n",
      "Requirement already satisfied: wasabi<1.2.0,>=0.9.1 in c:\\users\\jxver\\anaconda3\\lib\\site-packages (from spacy) (0.10.1)\n",
      "Requirement already satisfied: pydantic!=1.8,!=1.8.1,<1.11.0,>=1.7.4 in c:\\users\\jxver\\anaconda3\\lib\\site-packages (from spacy) (1.8.2)\n",
      "Requirement already satisfied: preshed<3.1.0,>=3.0.2 in c:\\users\\jxver\\anaconda3\\lib\\site-packages (from spacy) (3.0.5)\n",
      "Requirement already satisfied: cymem<2.1.0,>=2.0.2 in c:\\users\\jxver\\anaconda3\\lib\\site-packages (from spacy) (2.0.5)\n",
      "Requirement already satisfied: spacy-loggers<2.0.0,>=1.0.0 in c:\\users\\jxver\\anaconda3\\lib\\site-packages (from spacy) (1.0.1)\n",
      "Requirement already satisfied: jinja2 in c:\\users\\jxver\\anaconda3\\lib\\site-packages (from spacy) (3.1.2)\n",
      "Requirement already satisfied: thinc<8.2.0,>=8.1.0 in c:\\users\\jxver\\anaconda3\\lib\\site-packages (from spacy) (8.1.9)\n",
      "Requirement already satisfied: setuptools in c:\\users\\jxver\\anaconda3\\lib\\site-packages (from spacy) (67.6.0)\n",
      "Requirement already satisfied: numpy>=1.15.0 in c:\\users\\jxver\\anaconda3\\lib\\site-packages (from spacy) (1.20.1)\n",
      "Requirement already satisfied: spacy-legacy<3.1.0,>=3.0.11 in c:\\users\\jxver\\anaconda3\\lib\\site-packages (from spacy) (3.0.12)\n",
      "Requirement already satisfied: srsly<3.0.0,>=2.4.3 in c:\\users\\jxver\\anaconda3\\lib\\site-packages (from spacy) (2.4.6)\n",
      "Requirement already satisfied: murmurhash<1.1.0,>=0.28.0 in c:\\users\\jxver\\anaconda3\\lib\\site-packages (from spacy) (1.0.5)\n",
      "Requirement already satisfied: pathy>=0.10.0 in c:\\users\\jxver\\anaconda3\\lib\\site-packages (from spacy) (0.10.1)\n",
      "Requirement already satisfied: smart-open<7.0.0,>=5.2.1 in c:\\users\\jxver\\anaconda3\\lib\\site-packages (from spacy) (5.2.1)\n",
      "Requirement already satisfied: pyparsing>=2.0.2 in c:\\users\\jxver\\anaconda3\\lib\\site-packages (from packaging>=20.0->spacy) (2.4.7)\n",
      "Requirement already satisfied: typing-extensions>=3.7.4.3 in c:\\users\\jxver\\anaconda3\\lib\\site-packages (from pydantic!=1.8,!=1.8.1,<1.11.0,>=1.7.4->spacy) (3.7.4.3)\n",
      "Requirement already satisfied: chardet<5,>=3.0.2 in c:\\users\\jxver\\anaconda3\\lib\\site-packages (from requests<3.0.0,>=2.13.0->spacy) (3.0.4)\n",
      "Requirement already satisfied: urllib3<1.27,>=1.21.1 in c:\\users\\jxver\\anaconda3\\lib\\site-packages (from requests<3.0.0,>=2.13.0->spacy) (1.26.4)\n",
      "Requirement already satisfied: idna<3,>=2.5 in c:\\users\\jxver\\anaconda3\\lib\\site-packages (from requests<3.0.0,>=2.13.0->spacy) (2.10)\n",
      "Requirement already satisfied: certifi>=2017.4.17 in c:\\users\\jxver\\anaconda3\\lib\\site-packages (from requests<3.0.0,>=2.13.0->spacy) (2020.12.5)\n",
      "Requirement already satisfied: blis<0.8.0,>=0.7.8 in c:\\users\\jxver\\anaconda3\\lib\\site-packages (from thinc<8.2.0,>=8.1.0->spacy) (0.7.9)\n",
      "Requirement already satisfied: confection<1.0.0,>=0.0.1 in c:\\users\\jxver\\anaconda3\\lib\\site-packages (from thinc<8.2.0,>=8.1.0->spacy) (0.0.4)\n",
      "Requirement already satisfied: colorama in c:\\users\\jxver\\anaconda3\\lib\\site-packages (from tqdm<5.0.0,>=4.38.0->spacy) (0.4.4)\n",
      "Requirement already satisfied: click<7.2.0,>=7.1.1 in c:\\users\\jxver\\anaconda3\\lib\\site-packages (from typer<0.8.0,>=0.3.0->spacy) (7.1.2)\n",
      "Requirement already satisfied: MarkupSafe>=2.0 in c:\\users\\jxver\\anaconda3\\lib\\site-packages (from jinja2->spacy) (2.0.1)\n",
      "Collecting es-dep-news-trf==3.5.0\n",
      "  Downloading https://github.com/explosion/spacy-models/releases/download/es_dep_news_trf-3.5.0/es_dep_news_trf-3.5.0-py3-none-any.whl (410.2 MB)\n",
      "     -------------------------------------- 410.2/410.2 MB 3.4 MB/s eta 0:00:00\n",
      "Requirement already satisfied: spacy<3.6.0,>=3.5.0 in c:\\users\\jxver\\anaconda3\\lib\\site-packages (from es-dep-news-trf==3.5.0) (3.5.0)\n",
      "Requirement already satisfied: spacy-transformers<1.3.0,>=1.2.0.dev0 in c:\\users\\jxver\\anaconda3\\lib\\site-packages (from es-dep-news-trf==3.5.0) (1.2.2)\n",
      "Requirement already satisfied: langcodes<4.0.0,>=3.2.0 in c:\\users\\jxver\\anaconda3\\lib\\site-packages (from spacy<3.6.0,>=3.5.0->es-dep-news-trf==3.5.0) (3.2.1)\n",
      "Requirement already satisfied: pydantic!=1.8,!=1.8.1,<1.11.0,>=1.7.4 in c:\\users\\jxver\\anaconda3\\lib\\site-packages (from spacy<3.6.0,>=3.5.0->es-dep-news-trf==3.5.0) (1.8.2)\n",
      "Requirement already satisfied: wasabi<1.2.0,>=0.9.1 in c:\\users\\jxver\\anaconda3\\lib\\site-packages (from spacy<3.6.0,>=3.5.0->es-dep-news-trf==3.5.0) (0.10.1)\n",
      "Requirement already satisfied: preshed<3.1.0,>=3.0.2 in c:\\users\\jxver\\anaconda3\\lib\\site-packages (from spacy<3.6.0,>=3.5.0->es-dep-news-trf==3.5.0) (3.0.5)\n",
      "Requirement already satisfied: typer<0.8.0,>=0.3.0 in c:\\users\\jxver\\anaconda3\\lib\\site-packages (from spacy<3.6.0,>=3.5.0->es-dep-news-trf==3.5.0) (0.3.2)\n",
      "Requirement already satisfied: srsly<3.0.0,>=2.4.3 in c:\\users\\jxver\\anaconda3\\lib\\site-packages (from spacy<3.6.0,>=3.5.0->es-dep-news-trf==3.5.0) (2.4.6)\n",
      "Requirement already satisfied: setuptools in c:\\users\\jxver\\anaconda3\\lib\\site-packages (from spacy<3.6.0,>=3.5.0->es-dep-news-trf==3.5.0) (67.6.0)\n",
      "Requirement already satisfied: murmurhash<1.1.0,>=0.28.0 in c:\\users\\jxver\\anaconda3\\lib\\site-packages (from spacy<3.6.0,>=3.5.0->es-dep-news-trf==3.5.0) (1.0.5)\n",
      "Requirement already satisfied: requests<3.0.0,>=2.13.0 in c:\\users\\jxver\\anaconda3\\lib\\site-packages (from spacy<3.6.0,>=3.5.0->es-dep-news-trf==3.5.0) (2.25.1)\n",
      "Requirement already satisfied: cymem<2.1.0,>=2.0.2 in c:\\users\\jxver\\anaconda3\\lib\\site-packages (from spacy<3.6.0,>=3.5.0->es-dep-news-trf==3.5.0) (2.0.5)\n",
      "Requirement already satisfied: spacy-legacy<3.1.0,>=3.0.11 in c:\\users\\jxver\\anaconda3\\lib\\site-packages (from spacy<3.6.0,>=3.5.0->es-dep-news-trf==3.5.0) (3.0.12)\n",
      "Requirement already satisfied: spacy-loggers<2.0.0,>=1.0.0 in c:\\users\\jxver\\anaconda3\\lib\\site-packages (from spacy<3.6.0,>=3.5.0->es-dep-news-trf==3.5.0) (1.0.1)\n",
      "Requirement already satisfied: jinja2 in c:\\users\\jxver\\anaconda3\\lib\\site-packages (from spacy<3.6.0,>=3.5.0->es-dep-news-trf==3.5.0) (3.1.2)\n",
      "Requirement already satisfied: pathy>=0.10.0 in c:\\users\\jxver\\anaconda3\\lib\\site-packages (from spacy<3.6.0,>=3.5.0->es-dep-news-trf==3.5.0) (0.10.1)\n",
      "Requirement already satisfied: catalogue<2.1.0,>=2.0.6 in c:\\users\\jxver\\anaconda3\\lib\\site-packages (from spacy<3.6.0,>=3.5.0->es-dep-news-trf==3.5.0) (2.0.6)\n",
      "Requirement already satisfied: numpy>=1.15.0 in c:\\users\\jxver\\anaconda3\\lib\\site-packages (from spacy<3.6.0,>=3.5.0->es-dep-news-trf==3.5.0) (1.20.1)\n",
      "Requirement already satisfied: packaging>=20.0 in c:\\users\\jxver\\anaconda3\\lib\\site-packages (from spacy<3.6.0,>=3.5.0->es-dep-news-trf==3.5.0) (20.9)\n",
      "Requirement already satisfied: tqdm<5.0.0,>=4.38.0 in c:\\users\\jxver\\anaconda3\\lib\\site-packages (from spacy<3.6.0,>=3.5.0->es-dep-news-trf==3.5.0) (4.62.3)\n",
      "Requirement already satisfied: smart-open<7.0.0,>=5.2.1 in c:\\users\\jxver\\anaconda3\\lib\\site-packages (from spacy<3.6.0,>=3.5.0->es-dep-news-trf==3.5.0) (5.2.1)\n",
      "Requirement already satisfied: thinc<8.2.0,>=8.1.0 in c:\\users\\jxver\\anaconda3\\lib\\site-packages (from spacy<3.6.0,>=3.5.0->es-dep-news-trf==3.5.0) (8.1.9)\n",
      "Requirement already satisfied: spacy-alignments<1.0.0,>=0.7.2 in c:\\users\\jxver\\anaconda3\\lib\\site-packages (from spacy-transformers<1.3.0,>=1.2.0.dev0->es-dep-news-trf==3.5.0) (0.8.3)\n",
      "Requirement already satisfied: transformers<4.27.0,>=3.4.0 in c:\\users\\jxver\\anaconda3\\lib\\site-packages (from spacy-transformers<1.3.0,>=1.2.0.dev0->es-dep-news-trf==3.5.0) (4.11.3)\n",
      "Requirement already satisfied: torch>=1.8.0 in c:\\users\\jxver\\anaconda3\\lib\\site-packages (from spacy-transformers<1.3.0,>=1.2.0.dev0->es-dep-news-trf==3.5.0) (1.10.0)\n",
      "Requirement already satisfied: pyparsing>=2.0.2 in c:\\users\\jxver\\anaconda3\\lib\\site-packages (from packaging>=20.0->spacy<3.6.0,>=3.5.0->es-dep-news-trf==3.5.0) (2.4.7)\n",
      "Requirement already satisfied: typing-extensions>=3.7.4.3 in c:\\users\\jxver\\anaconda3\\lib\\site-packages (from pydantic!=1.8,!=1.8.1,<1.11.0,>=1.7.4->spacy<3.6.0,>=3.5.0->es-dep-news-trf==3.5.0) (3.7.4.3)\n",
      "Requirement already satisfied: chardet<5,>=3.0.2 in c:\\users\\jxver\\anaconda3\\lib\\site-packages (from requests<3.0.0,>=2.13.0->spacy<3.6.0,>=3.5.0->es-dep-news-trf==3.5.0) (3.0.4)\n",
      "Requirement already satisfied: urllib3<1.27,>=1.21.1 in c:\\users\\jxver\\anaconda3\\lib\\site-packages (from requests<3.0.0,>=2.13.0->spacy<3.6.0,>=3.5.0->es-dep-news-trf==3.5.0) (1.26.4)\n",
      "Requirement already satisfied: certifi>=2017.4.17 in c:\\users\\jxver\\anaconda3\\lib\\site-packages (from requests<3.0.0,>=2.13.0->spacy<3.6.0,>=3.5.0->es-dep-news-trf==3.5.0) (2020.12.5)\n",
      "Requirement already satisfied: idna<3,>=2.5 in c:\\users\\jxver\\anaconda3\\lib\\site-packages (from requests<3.0.0,>=2.13.0->spacy<3.6.0,>=3.5.0->es-dep-news-trf==3.5.0) (2.10)\n",
      "Requirement already satisfied: confection<1.0.0,>=0.0.1 in c:\\users\\jxver\\anaconda3\\lib\\site-packages (from thinc<8.2.0,>=8.1.0->spacy<3.6.0,>=3.5.0->es-dep-news-trf==3.5.0) (0.0.4)\n",
      "Requirement already satisfied: blis<0.8.0,>=0.7.8 in c:\\users\\jxver\\anaconda3\\lib\\site-packages (from thinc<8.2.0,>=8.1.0->spacy<3.6.0,>=3.5.0->es-dep-news-trf==3.5.0) (0.7.9)\n",
      "Requirement already satisfied: colorama in c:\\users\\jxver\\anaconda3\\lib\\site-packages (from tqdm<5.0.0,>=4.38.0->spacy<3.6.0,>=3.5.0->es-dep-news-trf==3.5.0) (0.4.4)\n",
      "Requirement already satisfied: filelock in c:\\users\\jxver\\anaconda3\\lib\\site-packages (from transformers<4.27.0,>=3.4.0->spacy-transformers<1.3.0,>=1.2.0.dev0->es-dep-news-trf==3.5.0) (3.0.12)\n",
      "Requirement already satisfied: regex!=2019.12.17 in c:\\users\\jxver\\appdata\\roaming\\python\\python38\\site-packages (from transformers<4.27.0,>=3.4.0->spacy-transformers<1.3.0,>=1.2.0.dev0->es-dep-news-trf==3.5.0) (2022.10.31)\n",
      "Requirement already satisfied: sacremoses in c:\\users\\jxver\\anaconda3\\lib\\site-packages (from transformers<4.27.0,>=3.4.0->spacy-transformers<1.3.0,>=1.2.0.dev0->es-dep-news-trf==3.5.0) (0.0.46)\n",
      "Requirement already satisfied: tokenizers<0.11,>=0.10.1 in c:\\users\\jxver\\anaconda3\\lib\\site-packages (from transformers<4.27.0,>=3.4.0->spacy-transformers<1.3.0,>=1.2.0.dev0->es-dep-news-trf==3.5.0) (0.10.3)\n",
      "Requirement already satisfied: pyyaml>=5.1 in c:\\users\\jxver\\anaconda3\\lib\\site-packages (from transformers<4.27.0,>=3.4.0->spacy-transformers<1.3.0,>=1.2.0.dev0->es-dep-news-trf==3.5.0) (5.4.1)\n",
      "Requirement already satisfied: huggingface-hub>=0.0.17 in c:\\users\\jxver\\anaconda3\\lib\\site-packages (from transformers<4.27.0,>=3.4.0->spacy-transformers<1.3.0,>=1.2.0.dev0->es-dep-news-trf==3.5.0) (0.0.19)\n",
      "Requirement already satisfied: click<7.2.0,>=7.1.1 in c:\\users\\jxver\\anaconda3\\lib\\site-packages (from typer<0.8.0,>=0.3.0->spacy<3.6.0,>=3.5.0->es-dep-news-trf==3.5.0) (7.1.2)\n",
      "Requirement already satisfied: MarkupSafe>=2.0 in c:\\users\\jxver\\anaconda3\\lib\\site-packages (from jinja2->spacy<3.6.0,>=3.5.0->es-dep-news-trf==3.5.0) (2.0.1)\n",
      "Requirement already satisfied: six in c:\\users\\jxver\\anaconda3\\lib\\site-packages (from sacremoses->transformers<4.27.0,>=3.4.0->spacy-transformers<1.3.0,>=1.2.0.dev0->es-dep-news-trf==3.5.0) (1.16.0)\n",
      "Requirement already satisfied: joblib in c:\\users\\jxver\\anaconda3\\lib\\site-packages (from sacremoses->transformers<4.27.0,>=3.4.0->spacy-transformers<1.3.0,>=1.2.0.dev0->es-dep-news-trf==3.5.0) (1.1.0)\n",
      "[+] Download and installation successful\n",
      "You can now load the package via spacy.load('es_dep_news_trf')\n"
     ]
    }
   ],
   "source": [
    "## https://spacy.io/usage\n",
    "!pip install --upgrade pip\n",
    "!pip install -U pip setuptools wheel\n",
    "!pip install -U spacy\n",
    "!python -m spacy download es_dep_news_trf"
   ]
  },
  {
   "cell_type": "code",
   "execution_count": 5,
   "id": "fd11a661",
   "metadata": {},
   "outputs": [],
   "source": [
    "## importamos la librería\n",
    "import spacy\n",
    "\n",
    "## importamos el modelo\n",
    "nlp = spacy.load(\"es_dep_news_trf\")"
   ]
  },
  {
   "cell_type": "code",
   "execution_count": 6,
   "id": "9e2c9dd7",
   "metadata": {},
   "outputs": [
    {
     "name": "stderr",
     "output_type": "stream",
     "text": [
      "C:\\Users\\jxver\\anaconda3\\lib\\site-packages\\torch\\autocast_mode.py:141: UserWarning: User provided device_type of 'cuda', but CUDA is not available. Disabling\n",
      "  warnings.warn('User provided device_type of \\'cuda\\', but CUDA is not available. Disabling')\n"
     ]
    }
   ],
   "source": [
    "## un ejemplo!\n",
    "\n",
    "## usamos nlp\n",
    "doc = nlp(\"Mi testimonio será acaso el más breve y sin duda el más pobre, pero no el menos imparcial del volumen que editarán ustedes.\") # Run the pipeline on the input text"
   ]
  },
  {
   "cell_type": "code",
   "execution_count": 7,
   "id": "787dbd50",
   "metadata": {},
   "outputs": [
    {
     "data": {
      "text/plain": [
       "Mi testimonio será acaso el más breve y sin duda el más pobre, pero no el menos imparcial del volumen que editarán ustedes."
      ]
     },
     "execution_count": 7,
     "metadata": {},
     "output_type": "execute_result"
    }
   ],
   "source": [
    "doc"
   ]
  },
  {
   "cell_type": "code",
   "execution_count": 8,
   "id": "adc1720e",
   "metadata": {},
   "outputs": [
    {
     "name": "stdout",
     "output_type": "stream",
     "text": [
      "Mi mi DET DET True\n",
      "testimonio testimonio NOUN NOUN False\n",
      "será ser AUX AUX True\n",
      "acaso acaso ADV ADV False\n",
      "el el DET DET True\n",
      "más más ADV ADV True\n",
      "breve breve ADJ ADJ True\n",
      "y y CCONJ CCONJ True\n",
      "sin sin ADP ADP True\n",
      "duda duda NOUN NOUN False\n",
      "el el DET DET True\n",
      "más más ADV ADV True\n",
      "pobre pobre ADJ ADJ False\n",
      ", , PUNCT PUNCT False\n",
      "pero pero CCONJ CCONJ True\n",
      "no no ADV ADV True\n",
      "el el DET DET True\n",
      "menos menos ADV ADV True\n",
      "imparcial imparcial ADJ ADJ False\n",
      "del del ADP ADP True\n",
      "volumen volumen NOUN NOUN False\n",
      "que que PRON PRON True\n",
      "editarán editar VERB VERB False\n",
      "ustedes tú PRON PRON True\n",
      ". . PUNCT PUNCT False\n"
     ]
    }
   ],
   "source": [
    "## veamos qué hay en doc\n",
    "for token in doc:\n",
    "    print(token.text, token.lemma_, token.pos_, token.tag_, token.is_stop)"
   ]
  },
  {
   "cell_type": "code",
   "execution_count": 9,
   "id": "409d3f5a",
   "metadata": {},
   "outputs": [],
   "source": [
    "## ¿Cómo podríamos filtrar los sustantivos o verbos?\n",
    "## ¿Cómo eliminamos la puntuación?"
   ]
  },
  {
   "cell_type": "code",
   "execution_count": 10,
   "id": "0051cf15",
   "metadata": {},
   "outputs": [
    {
     "name": "stdout",
     "output_type": "stream",
     "text": [
      "Requirement already satisfied: nltk in c:\\users\\jxver\\appdata\\roaming\\python\\python38\\site-packages (3.8.1)\n",
      "Requirement already satisfied: regex>=2021.8.3 in c:\\users\\jxver\\appdata\\roaming\\python\\python38\\site-packages (from nltk) (2022.10.31)\n",
      "Requirement already satisfied: tqdm in c:\\users\\jxver\\anaconda3\\lib\\site-packages (from nltk) (4.62.3)\n",
      "Requirement already satisfied: joblib in c:\\users\\jxver\\anaconda3\\lib\\site-packages (from nltk) (1.1.0)\n",
      "Requirement already satisfied: click in c:\\users\\jxver\\anaconda3\\lib\\site-packages (from nltk) (7.1.2)\n",
      "Requirement already satisfied: colorama in c:\\users\\jxver\\anaconda3\\lib\\site-packages (from tqdm->nltk) (0.4.4)\n"
     ]
    }
   ],
   "source": [
    "## ¿Qué pasa si tenemos más de una oración?\n",
    "\n",
    "## instalamos nltk\n",
    "!pip install --user -U nltk"
   ]
  },
  {
   "cell_type": "code",
   "execution_count": 11,
   "id": "dfd02ed4",
   "metadata": {},
   "outputs": [
    {
     "name": "stdout",
     "output_type": "stream",
     "text": [
      "showing info https://raw.githubusercontent.com/nltk/nltk_data/gh-pages/index.xml\n"
     ]
    },
    {
     "data": {
      "text/plain": [
       "True"
      ]
     },
     "execution_count": 11,
     "metadata": {},
     "output_type": "execute_result"
    }
   ],
   "source": [
    "## importamos otra librería\n",
    "import nltk\n",
    "\n",
    "## descargamos los datos\n",
    "nltk.download()"
   ]
  },
  {
   "cell_type": "code",
   "execution_count": 12,
   "id": "6cf52707",
   "metadata": {},
   "outputs": [],
   "source": [
    "## función que divide en oraciones\n",
    "from nltk import sent_tokenize\n",
    "\n",
    "## oraciones\n",
    "oraciones = []\n",
    "text = \"Lo recuerdo (yo no tengo derecho a pronunciar ese verbo sagrado, solo un hombre en la tierra tuvo derecho y ese hombre ha muerto) con una oscura pasionaria en la mano, viéndola como nadie la ha visto, aunque la mirara desde el crepúsculo del día hasta el de la noche, toda una vida entera. Lo recuerdo, la cara taciturna y aindiada y singularmente remota, detrás del cigarrillo.\"\n",
    "for sent in sent_tokenize(text):\n",
    "    oraciones = oraciones + [sent]"
   ]
  },
  {
   "cell_type": "code",
   "execution_count": 13,
   "id": "313e2ec1",
   "metadata": {},
   "outputs": [
    {
     "data": {
      "text/plain": [
       "2"
      ]
     },
     "execution_count": 13,
     "metadata": {},
     "output_type": "execute_result"
    }
   ],
   "source": [
    "len(oraciones)"
   ]
  },
  {
   "cell_type": "code",
   "execution_count": null,
   "id": "e4b3d96f",
   "metadata": {},
   "outputs": [],
   "source": []
  }
 ],
 "metadata": {
  "kernelspec": {
   "display_name": "Python 3",
   "language": "python",
   "name": "python3"
  },
  "language_info": {
   "codemirror_mode": {
    "name": "ipython",
    "version": 3
   },
   "file_extension": ".py",
   "mimetype": "text/x-python",
   "name": "python",
   "nbconvert_exporter": "python",
   "pygments_lexer": "ipython3",
   "version": "3.8.8"
  }
 },
 "nbformat": 4,
 "nbformat_minor": 5
}
