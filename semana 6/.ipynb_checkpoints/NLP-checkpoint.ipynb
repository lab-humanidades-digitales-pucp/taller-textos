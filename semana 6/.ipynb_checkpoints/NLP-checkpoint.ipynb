{
 "cells": [
  {
   "cell_type": "markdown",
   "id": "f2eda5c0",
   "metadata": {},
   "source": [
    "## archivo!"
   ]
  },
  {
   "cell_type": "code",
   "execution_count": 3,
   "id": "d1d996dd",
   "metadata": {},
   "outputs": [],
   "source": [
    "## texto elegido\n",
    "archivo = open('funes el memorioso-borges.txt', 'r', encoding='utf-8')"
   ]
  },
  {
   "cell_type": "code",
   "execution_count": 4,
   "id": "851b7c27",
   "metadata": {},
   "outputs": [],
   "source": [
    "## leemos el archivo!\n",
    "archivo = archivo.read()"
   ]
  },
  {
   "cell_type": "code",
   "execution_count": 6,
   "id": "da9be0f1",
   "metadata": {},
   "outputs": [
    {
     "data": {
      "text/plain": [
       "'Lo recuerdo (yo no tengo derecho a pronunciar ese verbo sagrado, solo un hombre en la tierra tuvo derecho y ese hombre ha muerto) con una oscura pasionaria en la mano, viéndola como nadie la ha visto, aunque la mirara desde el crepúsculo del día hasta el de la noche, toda una vida entera. Lo recuerdo, la cara taciturna y aindiada y singularmente remota, detrás del cigarrillo. Recuerdo (creo) sus manos afiladas de trenzador. Recuerdo cerca de esas manos un mate, con las armas de la Banda Oriental; recuerdo en la ventana de la casa una estera amarilla, con un vago paisaje lacustre. Recuerdo claramente su voz; la voz pausada, resentida y nasal del orillero antiguo, sin los silbidos italianos de ahora. Más de tres veces no lo vi; la última, en 1887… Me parece muy feliz el proyecto de que todos aquellos que lo trataron escriban sobre él; mi testimonio será acaso el más breve y sin duda el más pobre, pero no el menos imparcial del volumen que editarán ustedes. Mi deplorable condición de arge'"
      ]
     },
     "execution_count": 6,
     "metadata": {},
     "output_type": "execute_result"
    }
   ],
   "source": [
    "## visualizamos los primeros 100 caracteres\n",
    "archivo[:1000]"
   ]
  },
  {
   "cell_type": "markdown",
   "id": "11cc10d4",
   "metadata": {},
   "source": [
    "## librería especializada: [spaCy](https://spacy.io/usage)"
   ]
  },
  {
   "cell_type": "code",
   "execution_count": 19,
   "id": "d01d2a4d",
   "metadata": {},
   "outputs": [
    {
     "name": "stdout",
     "output_type": "stream",
     "text": [
      "Requirement already satisfied: pip in c:\\users\\jxver\\anaconda3\\lib\\site-packages (23.0.1)\n",
      "Requirement already satisfied: pip in c:\\users\\jxver\\anaconda3\\lib\\site-packages (23.0.1)"
     ]
    },
    {
     "name": "stderr",
     "output_type": "stream",
     "text": [
      "ERROR: pip's dependency resolver does not currently take into account all the packages that are installed. This behaviour is the source of the following dependency conflicts.\n",
      "spyder 4.2.5 requires pyqt5<5.13, which is not installed.\n",
      "spyder 4.2.5 requires pyqtwebengine<5.13, which is not installed.\n",
      "sphinx 4.0.1 requires Jinja2<3.0,>=2.3, but you have jinja2 3.1.2 which is incompatible.\n",
      "sphinx 4.0.1 requires MarkupSafe<2.0, but you have markupsafe 2.0.1 which is incompatible.\n",
      "es-core-news-sm 3.1.0 requires spacy<3.2.0,>=3.1.0, but you have spacy 3.2.3 which is incompatible.\n"
     ]
    },
    {
     "name": "stdout",
     "output_type": "stream",
     "text": [
      "\n",
      "Requirement already satisfied: setuptools in c:\\users\\jxver\\anaconda3\\lib\\site-packages (60.5.0)\n",
      "Collecting setuptools\n",
      "  Downloading setuptools-67.5.1-py3-none-any.whl (1.1 MB)\n",
      "     ---------------------------------------- 1.1/1.1 MB 4.3 MB/s eta 0:00:00\n",
      "Requirement already satisfied: wheel in c:\\users\\jxver\\anaconda3\\lib\\site-packages (0.37.1)\n",
      "Collecting wheel\n",
      "  Downloading wheel-0.38.4-py3-none-any.whl (36 kB)\n",
      "Installing collected packages: wheel, setuptools\n",
      "  Attempting uninstall: wheel\n",
      "    Found existing installation: wheel 0.37.1\n",
      "    Uninstalling wheel-0.37.1:\n",
      "      Successfully uninstalled wheel-0.37.1\n",
      "  Attempting uninstall: setuptools\n",
      "    Found existing installation: setuptools 60.5.0\n",
      "    Uninstalling setuptools-60.5.0:\n",
      "      Successfully uninstalled setuptools-60.5.0\n",
      "Successfully installed setuptools-67.5.1 wheel-0.38.4\n",
      "Requirement already satisfied: spacy in c:\\users\\jxver\\anaconda3\\lib\\site-packages (3.2.3)\n",
      "Collecting spacy\n",
      "  Downloading spacy-3.5.0-cp38-cp38-win_amd64.whl (12.6 MB)\n",
      "     ---------------------------------------- 12.6/12.6 MB 4.3 MB/s eta 0:00:00\n",
      "Requirement already satisfied: packaging>=20.0 in c:\\users\\jxver\\anaconda3\\lib\\site-packages (from spacy) (20.9)\n",
      "Requirement already satisfied: numpy>=1.15.0 in c:\\users\\jxver\\anaconda3\\lib\\site-packages (from spacy) (1.20.1)\n",
      "Collecting thinc<8.2.0,>=8.1.0\n",
      "  Downloading thinc-8.1.9-cp38-cp38-win_amd64.whl (1.5 MB)\n",
      "     ---------------------------------------- 1.5/1.5 MB 8.6 MB/s eta 0:00:00\n",
      "Collecting pathy>=0.10.0\n",
      "  Downloading pathy-0.10.1-py3-none-any.whl (48 kB)\n",
      "     ---------------------------------------- 48.9/48.9 kB ? eta 0:00:00\n",
      "Requirement already satisfied: smart-open<7.0.0,>=5.2.1 in c:\\users\\jxver\\anaconda3\\lib\\site-packages (from spacy) (5.2.1)\n",
      "Requirement already satisfied: spacy-loggers<2.0.0,>=1.0.0 in c:\\users\\jxver\\anaconda3\\lib\\site-packages (from spacy) (1.0.1)\n",
      "Requirement already satisfied: requests<3.0.0,>=2.13.0 in c:\\users\\jxver\\anaconda3\\lib\\site-packages (from spacy) (2.25.1)\n",
      "Requirement already satisfied: cymem<2.1.0,>=2.0.2 in c:\\users\\jxver\\anaconda3\\lib\\site-packages (from spacy) (2.0.5)\n",
      "Requirement already satisfied: murmurhash<1.1.0,>=0.28.0 in c:\\users\\jxver\\anaconda3\\lib\\site-packages (from spacy) (1.0.5)\n",
      "Requirement already satisfied: langcodes<4.0.0,>=3.2.0 in c:\\users\\jxver\\anaconda3\\lib\\site-packages (from spacy) (3.2.1)\n",
      "Requirement already satisfied: pydantic!=1.8,!=1.8.1,<1.11.0,>=1.7.4 in c:\\users\\jxver\\anaconda3\\lib\\site-packages (from spacy) (1.8.2)\n",
      "Requirement already satisfied: typer<0.8.0,>=0.3.0 in c:\\users\\jxver\\anaconda3\\lib\\site-packages (from spacy) (0.3.2)\n",
      "Requirement already satisfied: jinja2 in c:\\users\\jxver\\anaconda3\\lib\\site-packages (from spacy) (3.1.2)\n",
      "Requirement already satisfied: catalogue<2.1.0,>=2.0.6 in c:\\users\\jxver\\anaconda3\\lib\\site-packages (from spacy) (2.0.6)\n",
      "Collecting spacy-legacy<3.1.0,>=3.0.11\n",
      "  Downloading spacy_legacy-3.0.12-py2.py3-none-any.whl (29 kB)\n",
      "Requirement already satisfied: tqdm<5.0.0,>=4.38.0 in c:\\users\\jxver\\anaconda3\\lib\\site-packages (from spacy) (4.62.3)\n",
      "Requirement already satisfied: preshed<3.1.0,>=3.0.2 in c:\\users\\jxver\\anaconda3\\lib\\site-packages (from spacy) (3.0.5)"
     ]
    },
    {
     "name": "stderr",
     "output_type": "stream",
     "text": [
      "ERROR: pip's dependency resolver does not currently take into account all the packages that are installed. This behaviour is the source of the following dependency conflicts.\n",
      "to-requirements-txt 1.3.0 requires click==8.0.3, but you have click 7.1.2 which is incompatible.\n",
      "es-dep-news-trf 3.2.0 requires spacy<3.3.0,>=3.2.0, but you have spacy 3.5.0 which is incompatible.\n",
      "es-core-news-sm 3.1.0 requires spacy<3.2.0,>=3.1.0, but you have spacy 3.5.0 which is incompatible.\n",
      "en-core-web-sm 3.2.0 requires spacy<3.3.0,>=3.2.0, but you have spacy 3.5.0 which is incompatible.\n",
      "en-core-web-md 3.2.0 requires spacy<3.3.0,>=3.2.0, but you have spacy 3.5.0 which is incompatible.\n"
     ]
    },
    {
     "name": "stdout",
     "output_type": "stream",
     "text": [
      "\n",
      "Collecting srsly<3.0.0,>=2.4.3\n",
      "  Downloading srsly-2.4.6-cp38-cp38-win_amd64.whl (482 kB)\n",
      "     ------------------------------------- 482.7/482.7 kB 15.2 MB/s eta 0:00:00\n",
      "Collecting wasabi<1.2.0,>=0.9.1\n",
      "  Downloading wasabi-1.1.1-py3-none-any.whl (27 kB)\n",
      "Requirement already satisfied: setuptools in c:\\users\\jxver\\anaconda3\\lib\\site-packages (from spacy) (67.5.1)\n",
      "Requirement already satisfied: pyparsing>=2.0.2 in c:\\users\\jxver\\anaconda3\\lib\\site-packages (from packaging>=20.0->spacy) (2.4.7)\n",
      "Requirement already satisfied: typing-extensions>=3.7.4.3 in c:\\users\\jxver\\anaconda3\\lib\\site-packages (from pydantic!=1.8,!=1.8.1,<1.11.0,>=1.7.4->spacy) (3.7.4.3)\n",
      "Requirement already satisfied: certifi>=2017.4.17 in c:\\users\\jxver\\anaconda3\\lib\\site-packages (from requests<3.0.0,>=2.13.0->spacy) (2020.12.5)\n",
      "Requirement already satisfied: chardet<5,>=3.0.2 in c:\\users\\jxver\\anaconda3\\lib\\site-packages (from requests<3.0.0,>=2.13.0->spacy) (3.0.4)\n",
      "Requirement already satisfied: idna<3,>=2.5 in c:\\users\\jxver\\anaconda3\\lib\\site-packages (from requests<3.0.0,>=2.13.0->spacy) (2.10)\n",
      "Requirement already satisfied: urllib3<1.27,>=1.21.1 in c:\\users\\jxver\\anaconda3\\lib\\site-packages (from requests<3.0.0,>=2.13.0->spacy) (1.26.4)\n",
      "  Downloading wasabi-0.10.1-py3-none-any.whl (26 kB)\n",
      "Collecting confection<1.0.0,>=0.0.1\n",
      "  Downloading confection-0.0.4-py3-none-any.whl (32 kB)\n",
      "Collecting blis<0.8.0,>=0.7.8\n",
      "  Downloading blis-0.7.9-cp38-cp38-win_amd64.whl (7.0 MB)\n",
      "     ---------------------------------------- 7.0/7.0 MB 7.9 MB/s eta 0:00:00\n",
      "Requirement already satisfied: colorama in c:\\users\\jxver\\anaconda3\\lib\\site-packages (from tqdm<5.0.0,>=4.38.0->spacy) (0.4.4)\n",
      "Collecting click<7.2.0,>=7.1.1\n",
      "  Downloading click-7.1.2-py2.py3-none-any.whl (82 kB)\n",
      "     -------------------------------------- 82.8/82.8 kB 357.3 kB/s eta 0:00:00\n",
      "Requirement already satisfied: MarkupSafe>=2.0 in c:\\users\\jxver\\anaconda3\\lib\\site-packages (from jinja2->spacy) (2.0.1)\n",
      "Installing collected packages: wasabi, srsly, spacy-legacy, click, blis, confection, thinc, pathy, spacy\n",
      "  Attempting uninstall: wasabi\n",
      "    Found existing installation: wasabi 0.8.2\n",
      "    Uninstalling wasabi-0.8.2:\n",
      "      Successfully uninstalled wasabi-0.8.2\n",
      "  Attempting uninstall: srsly\n",
      "    Found existing installation: srsly 2.4.1\n",
      "    Uninstalling srsly-2.4.1:\n",
      "      Successfully uninstalled srsly-2.4.1\n",
      "  Attempting uninstall: spacy-legacy\n",
      "    Found existing installation: spacy-legacy 3.0.8\n",
      "    Uninstalling spacy-legacy-3.0.8:\n",
      "      Successfully uninstalled spacy-legacy-3.0.8\n",
      "  Attempting uninstall: click\n",
      "    Found existing installation: click 8.0.3\n",
      "    Uninstalling click-8.0.3:\n",
      "      Successfully uninstalled click-8.0.3\n",
      "  Attempting uninstall: blis\n",
      "    Found existing installation: blis 0.7.4\n",
      "    Uninstalling blis-0.7.4:\n",
      "      Successfully uninstalled blis-0.7.4\n",
      "  Attempting uninstall: thinc\n",
      "    Found existing installation: thinc 8.0.13\n",
      "    Uninstalling thinc-8.0.13:\n",
      "      Successfully uninstalled thinc-8.0.13\n",
      "  Attempting uninstall: pathy\n",
      "    Found existing installation: pathy 0.6.0\n",
      "    Uninstalling pathy-0.6.0:\n",
      "      Successfully uninstalled pathy-0.6.0\n",
      "  Attempting uninstall: spacy\n",
      "    Found existing installation: spacy 3.2.3\n",
      "    Uninstalling spacy-3.2.3:\n",
      "      Successfully uninstalled spacy-3.2.3\n",
      "Successfully installed blis-0.7.9 click-7.1.2 confection-0.0.4 pathy-0.10.1 spacy-3.5.0 spacy-legacy-3.0.12 srsly-2.4.6 thinc-8.1.9 wasabi-0.10.1\n",
      "Collecting es-dep-news-trf==3.5.0\n",
      "  Downloading https://github.com/explosion/spacy-models/releases/download/es_dep_news_trf-3.5.0/es_dep_news_trf-3.5.0-py3-none-any.whl (410.2 MB)\n",
      "     -------------------------------------- 410.2/410.2 MB 3.1 MB/s eta 0:00:00\n",
      "Requirement already satisfied: spacy<3.6.0,>=3.5.0 in c:\\users\\jxver\\anaconda3\\lib\\site-packages (from es-dep-news-trf==3.5.0) (3.5.0)\n",
      "Collecting spacy-transformers<1.3.0,>=1.2.0.dev0\n",
      "  Downloading spacy_transformers-1.2.2-cp38-cp38-win_amd64.whl (302 kB)\n",
      "     -------------------------------------- 302.9/302.9 kB 4.6 MB/s eta 0:00:00\n",
      "Requirement already satisfied: spacy-loggers<2.0.0,>=1.0.0 in c:\\users\\jxver\\anaconda3\\lib\\site-packages (from spacy<3.6.0,>=3.5.0->es-dep-news-trf==3.5.0) (1.0.1)\n",
      "Requirement already satisfied: catalogue<2.1.0,>=2.0.6 in c:\\users\\jxver\\anaconda3\\lib\\site-packages (from spacy<3.6.0,>=3.5.0->es-dep-news-trf==3.5.0) (2.0.6)\n",
      "Requirement already satisfied: smart-open<7.0.0,>=5.2.1 in c:\\users\\jxver\\anaconda3\\lib\\site-packages (from spacy<3.6.0,>=3.5.0->es-dep-news-trf==3.5.0) (5.2.1)\n",
      "Requirement already satisfied: requests<3.0.0,>=2.13.0 in c:\\users\\jxver\\anaconda3\\lib\\site-packages (from spacy<3.6.0,>=3.5.0->es-dep-news-trf==3.5.0) (2.25.1)\n",
      "Requirement already satisfied: pathy>=0.10.0 in c:\\users\\jxver\\anaconda3\\lib\\site-packages (from spacy<3.6.0,>=3.5.0->es-dep-news-trf==3.5.0) (0.10.1)\n",
      "Requirement already satisfied: wasabi<1.2.0,>=0.9.1 in c:\\users\\jxver\\anaconda3\\lib\\site-packages (from spacy<3.6.0,>=3.5.0->es-dep-news-trf==3.5.0) (0.10.1)\n",
      "Requirement already satisfied: numpy>=1.15.0 in c:\\users\\jxver\\anaconda3\\lib\\site-packages (from spacy<3.6.0,>=3.5.0->es-dep-news-trf==3.5.0) (1.20.1)\n",
      "Requirement already satisfied: cymem<2.1.0,>=2.0.2 in c:\\users\\jxver\\anaconda3\\lib\\site-packages (from spacy<3.6.0,>=3.5.0->es-dep-news-trf==3.5.0) (2.0.5)\n",
      "Requirement already satisfied: jinja2 in c:\\users\\jxver\\anaconda3\\lib\\site-packages (from spacy<3.6.0,>=3.5.0->es-dep-news-trf==3.5.0) (3.1.2)\n",
      "Requirement already satisfied: spacy-legacy<3.1.0,>=3.0.11 in c:\\users\\jxver\\anaconda3\\lib\\site-packages (from spacy<3.6.0,>=3.5.0->es-dep-news-trf==3.5.0) (3.0.12)\n",
      "Requirement already satisfied: packaging>=20.0 in c:\\users\\jxver\\anaconda3\\lib\\site-packages (from spacy<3.6.0,>=3.5.0->es-dep-news-trf==3.5.0) (20.9)\n",
      "Requirement already satisfied: murmurhash<1.1.0,>=0.28.0 in c:\\users\\jxver\\anaconda3\\lib\\site-packages (from spacy<3.6.0,>=3.5.0->es-dep-news-trf==3.5.0) (1.0.5)\n",
      "Requirement already satisfied: typer<0.8.0,>=0.3.0 in c:\\users\\jxver\\anaconda3\\lib\\site-packages (from spacy<3.6.0,>=3.5.0->es-dep-news-trf==3.5.0) (0.3.2)\n",
      "Requirement already satisfied: preshed<3.1.0,>=3.0.2 in c:\\users\\jxver\\anaconda3\\lib\\site-packages (from spacy<3.6.0,>=3.5.0->es-dep-news-trf==3.5.0) (3.0.5)\n",
      "Requirement already satisfied: thinc<8.2.0,>=8.1.0 in c:\\users\\jxver\\anaconda3\\lib\\site-packages (from spacy<3.6.0,>=3.5.0->es-dep-news-trf==3.5.0) (8.1.9)\n",
      "Requirement already satisfied: setuptools in c:\\users\\jxver\\anaconda3\\lib\\site-packages (from spacy<3.6.0,>=3.5.0->es-dep-news-trf==3.5.0) (67.5.1)\n",
      "Requirement already satisfied: tqdm<5.0.0,>=4.38.0 in c:\\users\\jxver\\anaconda3\\lib\\site-packages (from spacy<3.6.0,>=3.5.0->es-dep-news-trf==3.5.0) (4.62.3)\n",
      "Requirement already satisfied: pydantic!=1.8,!=1.8.1,<1.11.0,>=1.7.4 in c:\\users\\jxver\\anaconda3\\lib\\site-packages (from spacy<3.6.0,>=3.5.0->es-dep-news-trf==3.5.0) (1.8.2)\n",
      "Requirement already satisfied: srsly<3.0.0,>=2.4.3 in c:\\users\\jxver\\anaconda3\\lib\\site-packages (from spacy<3.6.0,>=3.5.0->es-dep-news-trf==3.5.0) (2.4.6)\n",
      "Requirement already satisfied: langcodes<4.0.0,>=3.2.0 in c:\\users\\jxver\\anaconda3\\lib\\site-packages (from spacy<3.6.0,>=3.5.0->es-dep-news-trf==3.5.0) (3.2.1)\n",
      "Requirement already satisfied: transformers<4.27.0,>=3.4.0 in c:\\users\\jxver\\anaconda3\\lib\\site-packages (from spacy-transformers<1.3.0,>=1.2.0.dev0->es-dep-news-trf==3.5.0) (4.11.3)\n",
      "Requirement already satisfied: spacy-alignments<1.0.0,>=0.7.2 in c:\\users\\jxver\\anaconda3\\lib\\site-packages (from spacy-transformers<1.3.0,>=1.2.0.dev0->es-dep-news-trf==3.5.0) (0.8.3)\n",
      "Requirement already satisfied: torch>=1.8.0 in c:\\users\\jxver\\anaconda3\\lib\\site-packages (from spacy-transformers<1.3.0,>=1.2.0.dev0->es-dep-news-trf==3.5.0) (1.10.0)\n",
      "Requirement already satisfied: pyparsing>=2.0.2 in c:\\users\\jxver\\anaconda3\\lib\\site-packages (from packaging>=20.0->spacy<3.6.0,>=3.5.0->es-dep-news-trf==3.5.0) (2.4.7)\n",
      "Requirement already satisfied: typing-extensions>=3.7.4.3 in c:\\users\\jxver\\anaconda3\\lib\\site-packages (from pydantic!=1.8,!=1.8.1,<1.11.0,>=1.7.4->spacy<3.6.0,>=3.5.0->es-dep-news-trf==3.5.0) (3.7.4.3)\n",
      "Requirement already satisfied: certifi>=2017.4.17 in c:\\users\\jxver\\anaconda3\\lib\\site-packages (from requests<3.0.0,>=2.13.0->spacy<3.6.0,>=3.5.0->es-dep-news-trf==3.5.0) (2020.12.5)\n",
      "Requirement already satisfied: urllib3<1.27,>=1.21.1 in c:\\users\\jxver\\anaconda3\\lib\\site-packages (from requests<3.0.0,>=2.13.0->spacy<3.6.0,>=3.5.0->es-dep-news-trf==3.5.0) (1.26.4)\n",
      "Requirement already satisfied: chardet<5,>=3.0.2 in c:\\users\\jxver\\anaconda3\\lib\\site-packages (from requests<3.0.0,>=2.13.0->spacy<3.6.0,>=3.5.0->es-dep-news-trf==3.5.0) (3.0.4)\n",
      "Requirement already satisfied: idna<3,>=2.5 in c:\\users\\jxver\\anaconda3\\lib\\site-packages (from requests<3.0.0,>=2.13.0->spacy<3.6.0,>=3.5.0->es-dep-news-trf==3.5.0) (2.10)\n",
      "Requirement already satisfied: blis<0.8.0,>=0.7.8 in c:\\users\\jxver\\anaconda3\\lib\\site-packages (from thinc<8.2.0,>=8.1.0->spacy<3.6.0,>=3.5.0->es-dep-news-trf==3.5.0) (0.7.9)\n",
      "Requirement already satisfied: confection<1.0.0,>=0.0.1 in c:\\users\\jxver\\anaconda3\\lib\\site-packages (from thinc<8.2.0,>=8.1.0->spacy<3.6.0,>=3.5.0->es-dep-news-trf==3.5.0) (0.0.4)\n",
      "Requirement already satisfied: colorama in c:\\users\\jxver\\anaconda3\\lib\\site-packages (from tqdm<5.0.0,>=4.38.0->spacy<3.6.0,>=3.5.0->es-dep-news-trf==3.5.0) (0.4.4)\n",
      "Requirement already satisfied: regex!=2019.12.17 in c:\\users\\jxver\\anaconda3\\lib\\site-packages (from transformers<4.27.0,>=3.4.0->spacy-transformers<1.3.0,>=1.2.0.dev0->es-dep-news-trf==3.5.0) (2021.4.4)\n",
      "Requirement already satisfied: filelock in c:\\users\\jxver\\anaconda3\\lib\\site-packages (from transformers<4.27.0,>=3.4.0->spacy-transformers<1.3.0,>=1.2.0.dev0->es-dep-news-trf==3.5.0) (3.0.12)\n",
      "Requirement already satisfied: huggingface-hub>=0.0.17 in c:\\users\\jxver\\anaconda3\\lib\\site-packages (from transformers<4.27.0,>=3.4.0->spacy-transformers<1.3.0,>=1.2.0.dev0->es-dep-news-trf==3.5.0) (0.0.19)\n",
      "Requirement already satisfied: pyyaml>=5.1 in c:\\users\\jxver\\anaconda3\\lib\\site-packages (from transformers<4.27.0,>=3.4.0->spacy-transformers<1.3.0,>=1.2.0.dev0->es-dep-news-trf==3.5.0) (5.4.1)\n",
      "Requirement already satisfied: tokenizers<0.11,>=0.10.1 in c:\\users\\jxver\\anaconda3\\lib\\site-packages (from transformers<4.27.0,>=3.4.0->spacy-transformers<1.3.0,>=1.2.0.dev0->es-dep-news-trf==3.5.0) (0.10.3)\n",
      "Requirement already satisfied: sacremoses in c:\\users\\jxver\\anaconda3\\lib\\site-packages (from transformers<4.27.0,>=3.4.0->spacy-transformers<1.3.0,>=1.2.0.dev0->es-dep-news-trf==3.5.0) (0.0.46)\n",
      "Requirement already satisfied: click<7.2.0,>=7.1.1 in c:\\users\\jxver\\anaconda3\\lib\\site-packages (from typer<0.8.0,>=0.3.0->spacy<3.6.0,>=3.5.0->es-dep-news-trf==3.5.0) (7.1.2)\n",
      "Requirement already satisfied: MarkupSafe>=2.0 in c:\\users\\jxver\\anaconda3\\lib\\site-packages (from jinja2->spacy<3.6.0,>=3.5.0->es-dep-news-trf==3.5.0) (2.0.1)\n",
      "Requirement already satisfied: six in c:\\users\\jxver\\anaconda3\\lib\\site-packages (from sacremoses->transformers<4.27.0,>=3.4.0->spacy-transformers<1.3.0,>=1.2.0.dev0->es-dep-news-trf==3.5.0) (1.16.0)\n",
      "Requirement already satisfied: joblib in c:\\users\\jxver\\anaconda3\\lib\\site-packages (from sacremoses->transformers<4.27.0,>=3.4.0->spacy-transformers<1.3.0,>=1.2.0.dev0->es-dep-news-trf==3.5.0) (1.1.0)\n",
      "Installing collected packages: spacy-transformers, es-dep-news-trf\n",
      "  Attempting uninstall: spacy-transformers\n",
      "    Found existing installation: spacy-transformers 1.1.2\n",
      "    Uninstalling spacy-transformers-1.1.2:\n",
      "      Successfully uninstalled spacy-transformers-1.1.2\n",
      "  Attempting uninstall: es-dep-news-trf\n",
      "    Found existing installation: es-dep-news-trf 3.2.0\n",
      "    Uninstalling es-dep-news-trf-3.2.0:\n",
      "      Successfully uninstalled es-dep-news-trf-3.2.0\n",
      "Successfully installed es-dep-news-trf-3.5.0 spacy-transformers-1.2.2\n",
      "[+] Download and installation successful\n",
      "You can now load the package via spacy.load('es_dep_news_trf')\n"
     ]
    }
   ],
   "source": [
    "## instalamos spaCy!\n",
    "!pip install --upgrade pip\n",
    "!pip install -U pip setuptools wheel\n",
    "!pip install -U spacy\n",
    "!python -m spacy download es_dep_news_trf"
   ]
  },
  {
   "cell_type": "code",
   "execution_count": 20,
   "id": "a6d748d7",
   "metadata": {},
   "outputs": [],
   "source": [
    "## importamos la librería\n",
    "import spacy\n",
    "\n",
    "## importamos el modelo\n",
    "nlp = spacy.load(\"es_dep_news_trf\")"
   ]
  },
  {
   "cell_type": "code",
   "execution_count": 21,
   "id": "9674a995",
   "metadata": {},
   "outputs": [
    {
     "name": "stderr",
     "output_type": "stream",
     "text": [
      "C:\\Users\\jxver\\anaconda3\\lib\\site-packages\\torch\\autocast_mode.py:141: UserWarning: User provided device_type of 'cuda', but CUDA is not available. Disabling\n",
      "  warnings.warn('User provided device_type of \\'cuda\\', but CUDA is not available. Disabling')\n"
     ]
    }
   ],
   "source": [
    "## un ejemplo!\n",
    "\n",
    "## usamos nlp\n",
    "doc = nlp(\"mi testimonio será acaso el más breve y sin duda el más pobre, pero no el menos imparcial del volumen que editarán ustedes.\") # Run the pipeline on the input text"
   ]
  },
  {
   "cell_type": "code",
   "execution_count": 22,
   "id": "09f846d6",
   "metadata": {},
   "outputs": [
    {
     "data": {
      "text/plain": [
       "mi testimonio será acaso el más breve y sin duda el más pobre, pero no el menos imparcial del volumen que editarán ustedes."
      ]
     },
     "execution_count": 22,
     "metadata": {},
     "output_type": "execute_result"
    }
   ],
   "source": [
    "doc"
   ]
  },
  {
   "cell_type": "code",
   "execution_count": 23,
   "id": "84a89bc8",
   "metadata": {},
   "outputs": [
    {
     "name": "stdout",
     "output_type": "stream",
     "text": [
      "mi mi DET DET det xx True True\n",
      "testimonio testimonio NOUN NOUN nsubj xxxx True False\n",
      "será ser AUX AUX cop xxxx True True\n",
      "acaso acaso ADV ADV advmod xxxx True False\n",
      "el el DET DET det xx True True\n",
      "más más ADV ADV advmod xxx True True\n",
      "breve breve ADJ ADJ ROOT xxxx True True\n",
      "y y CCONJ CCONJ cc x True True\n",
      "sin sin ADP ADP advmod xxx True True\n",
      "duda duda NOUN NOUN fixed xxxx True False\n",
      "el el DET DET det xx True True\n",
      "más más ADV ADV advmod xxx True True\n",
      "pobre pobre ADJ ADJ conj xxxx True False\n",
      ", , PUNCT PUNCT punct , False False\n",
      "pero pero CCONJ CCONJ cc xxxx True True\n",
      "no no ADV ADV advmod xx True True\n",
      "el el DET DET det xx True True\n",
      "menos menos ADV ADV advmod xxxx True True\n",
      "imparcial imparcial ADJ ADJ conj xxxx True False\n",
      "del del ADP ADP case xxx True True\n",
      "volumen volumen NOUN NOUN nmod xxxx True False\n",
      "que que PRON PRON obj xxx True True\n",
      "editarán editar VERB VERB acl xxxx True False\n",
      "ustedes tú PRON PRON nsubj xxxx True True\n",
      ". . PUNCT PUNCT punct . False False\n"
     ]
    }
   ],
   "source": [
    "## veamos qué hay en doc\n",
    "for token in doc:\n",
    "    print(token.text, token.lemma_, token.pos_, token.tag_, token.dep_,\n",
    "            token.shape_, token.is_alpha, token.is_stop)"
   ]
  },
  {
   "cell_type": "code",
   "execution_count": null,
   "id": "409d3f5a",
   "metadata": {},
   "outputs": [],
   "source": []
  }
 ],
 "metadata": {
  "kernelspec": {
   "display_name": "Python 3",
   "language": "python",
   "name": "python3"
  },
  "language_info": {
   "codemirror_mode": {
    "name": "ipython",
    "version": 3
   },
   "file_extension": ".py",
   "mimetype": "text/x-python",
   "name": "python",
   "nbconvert_exporter": "python",
   "pygments_lexer": "ipython3",
   "version": "3.8.8"
  }
 },
 "nbformat": 4,
 "nbformat_minor": 5
}
