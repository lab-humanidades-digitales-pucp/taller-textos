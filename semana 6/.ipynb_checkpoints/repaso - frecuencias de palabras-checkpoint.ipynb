{
 "cells": [
  {
   "cell_type": "markdown",
   "id": "792f12b1",
   "metadata": {},
   "source": [
    "# **Análisis automático de textos en Humanidades**\n",
    "### Javier Vera Zúñiga, jveraz@pucp.edu.pe"
   ]
  },
  {
   "cell_type": "markdown",
   "id": "bfd314eb",
   "metadata": {},
   "source": [
    "### **Repaso Python**"
   ]
  },
  {
   "cell_type": "markdown",
   "id": "6ef1dc01",
   "metadata": {},
   "source": [
    "## 1. ¿Qué es Python?\n",
    "\n",
    "**Python** es una forma organizada (una especie de juego) que nos permite a través de elementos, reglas e instrucciones ejecutar acciones en una máquina. Python puede dividirse en dos módulos:\n",
    "\n",
    "- **Módulo de elementos básicos:** operadores, reglas, condiciones lógicas\n",
    "- **Módulo de las variables:** el valor actual de las variables\n",
    "\n",
    "Un **código** es esencialmente una **combinación de elementos básicos** que cambian el **valor actual de las variables.** "
   ]
  },
  {
   "cell_type": "code",
   "execution_count": 31,
   "id": "d33e6956",
   "metadata": {},
   "outputs": [],
   "source": [
    "## Un ejemplo, construyamos un código que elimine signos de puntación de un string\n",
    "\n",
    "## string ejemplo\n",
    "s = 'Sustantivo, Virgencita y Ramona son los gatos del zoológico de esta casa.'\n",
    "## el valor actual de s está dado por su última ejecución\n",
    "\n",
    "## ahorra borremos las comas\n",
    "s = s.replace(',','')"
   ]
  },
  {
   "cell_type": "code",
   "execution_count": 32,
   "id": "dd1d28b4",
   "metadata": {},
   "outputs": [
    {
     "data": {
      "text/plain": [
       "'Sustantivo Virgencita y Ramona son los gatos del zoológico de esta casa.'"
      ]
     },
     "execution_count": 32,
     "metadata": {},
     "output_type": "execute_result"
    }
   ],
   "source": [
    "## pueden notar que s cambió!\n",
    "s"
   ]
  },
  {
   "cell_type": "code",
   "execution_count": 33,
   "id": "711ac643",
   "metadata": {},
   "outputs": [],
   "source": [
    "## ahora, lo hacemos cambiar nuevamente para eliminar el punto\n",
    "## ahorra borremos el punto\n",
    "s = s.replace('.','')"
   ]
  },
  {
   "cell_type": "code",
   "execution_count": 35,
   "id": "f5788fdf",
   "metadata": {},
   "outputs": [
    {
     "data": {
      "text/plain": [
       "'Sustantivo Virgencita y Ramona son los gatos del zoológico de esta casa'"
      ]
     },
     "execution_count": 35,
     "metadata": {},
     "output_type": "execute_result"
    }
   ],
   "source": [
    "## Finalmente, s tiene un último valor (suponiendo que este es el valor buscado)\n",
    "s"
   ]
  },
  {
   "cell_type": "markdown",
   "id": "5e8201c1",
   "metadata": {},
   "source": [
    "**Ejercicio!**\n",
    "\n",
    "Baje las palabras a minúscula, divida en tokens, cuente el número de tokens. Persiga el valor de las variables que use ¿Qué limitaciones observa?"
   ]
  },
  {
   "cell_type": "code",
   "execution_count": null,
   "id": "17a9c1eb",
   "metadata": {},
   "outputs": [],
   "source": [
    "## solución! s en minuscula + división tokens + contar tokens"
   ]
  },
  {
   "cell_type": "markdown",
   "id": "ae5a1a55",
   "metadata": {},
   "source": [
    "## 2. Un poco sobre variables\n",
    "\n",
    "Las **variables** tienen **dos características fundamentales:**\n",
    "    \n",
    "- Almacenan información temporalmente\n",
    "- El tipo de información nos dice el tipo de la variable\n",
    "\n",
    "Estas características se asignan de dos formas:\n",
    "    \n",
    "- Mediante la sintaxis \"variable = información\"; o\n",
    "- Mediante las iteraciones con **for** (:O)\n",
    "\n",
    "Existen variables de diversos tipos: números, strings, listas, diccionarios, valores de verdad."
   ]
  },
  {
   "cell_type": "markdown",
   "id": "c00b21b3",
   "metadata": {},
   "source": [
    "**Ejercicio!**\n",
    "\n",
    "Considere el string s = 'sustantivo'. Acceda sucesivamente a todos los caracteres. Use la variable **index.** ¿Qué valores toma esta variable? "
   ]
  },
  {
   "cell_type": "code",
   "execution_count": 37,
   "id": "cafd535d",
   "metadata": {},
   "outputs": [
    {
     "name": "stdout",
     "output_type": "stream",
     "text": [
      "s\n",
      "u\n",
      "s\n",
      "t\n",
      "a\n",
      "n\n",
      "t\n",
      "i\n",
      "v\n",
      "o\n"
     ]
    }
   ],
   "source": [
    "s = 'sustantivo'\n",
    "\n",
    "for x in s:\n",
    "    print(x)"
   ]
  },
  {
   "cell_type": "code",
   "execution_count": 38,
   "id": "7d104cdb",
   "metadata": {},
   "outputs": [
    {
     "name": "stdout",
     "output_type": "stream",
     "text": [
      "s\n"
     ]
    }
   ],
   "source": [
    "index = 0\n",
    "print(s[index])"
   ]
  },
  {
   "cell_type": "code",
   "execution_count": 39,
   "id": "1f40d0f4",
   "metadata": {},
   "outputs": [
    {
     "name": "stdout",
     "output_type": "stream",
     "text": [
      "u\n"
     ]
    }
   ],
   "source": [
    "index = 1\n",
    "print(s[index])"
   ]
  },
  {
   "cell_type": "markdown",
   "id": "2064fcaf",
   "metadata": {},
   "source": [
    "## 3. Strings!\n",
    "\n",
    "Los **strings** son una clase especial de variables, que permite representar secuencias de caracteres. Para nosotros, los strings son algo muy importante. Tienen diversas características interesantes:\n",
    "\n",
    "- Los strings están ordenados!\n",
    "- Es posible acceder a sus posiciones usando s[i], si **s** es el string, e **i** el índice.\n",
    "- Las posiciones empiezan desde **0** hasta **len(s) - 1**.\n",
    "- Podemos concatenar strings usando **+.**"
   ]
  },
  {
   "cell_type": "markdown",
   "id": "cc9f0cec",
   "metadata": {},
   "source": [
    "**Ejercicio!**\n",
    "\n",
    "Parta del string **s_vacio = ''.** Copie el string **s = 'sustantivo'** en **s_vacio** usando únicamente concatenaciones. "
   ]
  },
  {
   "cell_type": "code",
   "execution_count": 53,
   "id": "c4c7161d",
   "metadata": {},
   "outputs": [],
   "source": [
    "s_vacio = s"
   ]
  },
  {
   "cell_type": "code",
   "execution_count": 54,
   "id": "454256e0",
   "metadata": {},
   "outputs": [
    {
     "data": {
      "text/plain": [
       "'sustantivo'"
      ]
     },
     "execution_count": 54,
     "metadata": {},
     "output_type": "execute_result"
    }
   ],
   "source": [
    "s_vacio"
   ]
  },
  {
   "cell_type": "code",
   "execution_count": 46,
   "id": "12185f04",
   "metadata": {},
   "outputs": [
    {
     "data": {
      "text/plain": [
       "'sustantivo'"
      ]
     },
     "execution_count": 46,
     "metadata": {},
     "output_type": "execute_result"
    }
   ],
   "source": [
    "s"
   ]
  },
  {
   "cell_type": "code",
   "execution_count": 47,
   "id": "e3221e67",
   "metadata": {},
   "outputs": [],
   "source": [
    "s_vacio = s_vacio + s[0] "
   ]
  },
  {
   "cell_type": "code",
   "execution_count": 48,
   "id": "217b7ec5",
   "metadata": {},
   "outputs": [
    {
     "data": {
      "text/plain": [
       "'su'"
      ]
     },
     "execution_count": 48,
     "metadata": {},
     "output_type": "execute_result"
    }
   ],
   "source": [
    "s_vacio"
   ]
  },
  {
   "cell_type": "code",
   "execution_count": 49,
   "id": "723a0bfc",
   "metadata": {},
   "outputs": [],
   "source": [
    "## string vacío\n",
    "s_vacio = ''\n",
    "\n",
    "## agregamos caracteres\n",
    "s_vacio = s_vacio + s[0]"
   ]
  },
  {
   "cell_type": "code",
   "execution_count": 50,
   "id": "508b3f04",
   "metadata": {},
   "outputs": [
    {
     "data": {
      "text/plain": [
       "'s'"
      ]
     },
     "execution_count": 50,
     "metadata": {},
     "output_type": "execute_result"
    }
   ],
   "source": [
    "s_vacio"
   ]
  },
  {
   "cell_type": "code",
   "execution_count": 51,
   "id": "ded9a599",
   "metadata": {},
   "outputs": [],
   "source": [
    "## agregamos caracteres\n",
    "s_vacio = s_vacio + s[1]"
   ]
  },
  {
   "cell_type": "code",
   "execution_count": 52,
   "id": "9f65fd1e",
   "metadata": {},
   "outputs": [
    {
     "data": {
      "text/plain": [
       "'su'"
      ]
     },
     "execution_count": 52,
     "metadata": {},
     "output_type": "execute_result"
    }
   ],
   "source": [
    "s_vacio"
   ]
  },
  {
   "cell_type": "markdown",
   "id": "ab82c841",
   "metadata": {},
   "source": [
    "## 4. Listas!\n",
    "\n",
    "Las **listas** y los **strings** son esencialmente lo mismo. Los caracteres de un string se comportan como los elementos de una lista. Las listas tienen algunas características interesantes:\n",
    "\n",
    "- Las listas están ordenadas!\n",
    "- Es posible acceder a sus posiciones usando L[i], si **L** es el string, e **i** el índice.\n",
    "- Las posiciones empiezan desde **0** hasta **len(L) - 1**.\n",
    "- Podemos concatenar strings usando **+.**\n",
    "\n",
    "(Si notan, son las mismas caracerísticas de los strings!)\n",
    "\n",
    "La única diferencia es que los elementos de una lista están separados por comas, mientras que en un string están uno al lado del otro. Otra gran diferencia es que los strings están formados por caracteres seleccionados en un conjunto finito, en cambio las listas están formadas por cualquier cosa. "
   ]
  },
  {
   "cell_type": "code",
   "execution_count": 57,
   "id": "c8d120d9",
   "metadata": {},
   "outputs": [
    {
     "name": "stdout",
     "output_type": "stream",
     "text": [
      "0\n"
     ]
    }
   ],
   "source": [
    "## Para agregar elementos, usamos el signo +\n",
    "\n",
    "## lista inicial\n",
    "L = []\n",
    "print(len(L))\n",
    "\n",
    "## agregamos un elemento\n",
    "L = L + ['palabra']"
   ]
  },
  {
   "cell_type": "code",
   "execution_count": 61,
   "id": "c4f1ebd1",
   "metadata": {},
   "outputs": [
    {
     "ename": "TypeError",
     "evalue": "can only concatenate list (not \"str\") to list",
     "output_type": "error",
     "traceback": [
      "\u001b[1;31m---------------------------------------------------------------------------\u001b[0m",
      "\u001b[1;31mTypeError\u001b[0m                                 Traceback (most recent call last)",
      "\u001b[1;32m<ipython-input-61-7d34073f31b0>\u001b[0m in \u001b[0;36m<module>\u001b[1;34m\u001b[0m\n\u001b[0;32m      1\u001b[0m \u001b[1;31m## ¿Por qué el siguiente código genera un error?\u001b[0m\u001b[1;33m\u001b[0m\u001b[1;33m\u001b[0m\u001b[1;33m\u001b[0m\u001b[0m\n\u001b[1;32m----> 2\u001b[1;33m \u001b[0mL\u001b[0m \u001b[1;33m=\u001b[0m \u001b[0mL\u001b[0m \u001b[1;33m+\u001b[0m \u001b[1;34m'palabra'\u001b[0m\u001b[1;33m\u001b[0m\u001b[1;33m\u001b[0m\u001b[0m\n\u001b[0m",
      "\u001b[1;31mTypeError\u001b[0m: can only concatenate list (not \"str\") to list"
     ]
    }
   ],
   "source": [
    "## ¿Por qué el siguiente código genera un error?\n",
    "L = L + 'palabra'"
   ]
  },
  {
   "cell_type": "markdown",
   "id": "55ff9cc5",
   "metadata": {},
   "source": [
    "**Ejercicio!**\n",
    "\n",
    "Parta de la lista **L = [].** Copie los caracteres del string **s = 'sustantivo'** como elementos en **L**. "
   ]
  },
  {
   "cell_type": "markdown",
   "id": "956a457e",
   "metadata": {},
   "source": [
    "## 5. Un poco de lógica en Python!\n",
    "\n",
    "Una parte esencial de Python es que podemos jugar con proposiciones lógicas, ya sean verdaderas o falsas. Existen operadores que nos permiten **preguntar** si una afirmación es verdadera o falsa:\n",
    "\n",
    "- **in**\n",
    "- **==**\n",
    "- **>**\n",
    "- **<**\n",
    "\n",
    "Toda expresión lógica tiene **tres elementos:** dos que se comparan, y un operador central. El resultado de esto, siempre es **True** o **False.**\n",
    "\n",
    "Existe otro operador importante: **not.** "
   ]
  },
  {
   "cell_type": "code",
   "execution_count": 62,
   "id": "509dbed1",
   "metadata": {},
   "outputs": [
    {
     "data": {
      "text/plain": [
       "True"
      ]
     },
     "execution_count": 62,
     "metadata": {},
     "output_type": "execute_result"
    }
   ],
   "source": [
    "## algunos ejemplos\n",
    "\n",
    "## números que se comparan\n",
    "2 < 3"
   ]
  },
  {
   "cell_type": "code",
   "execution_count": 63,
   "id": "84c7f535",
   "metadata": {},
   "outputs": [
    {
     "data": {
      "text/plain": [
       "False"
      ]
     },
     "execution_count": 63,
     "metadata": {},
     "output_type": "execute_result"
    }
   ],
   "source": [
    "## más números\n",
    "3 < 2"
   ]
  },
  {
   "cell_type": "code",
   "execution_count": 65,
   "id": "565ee770",
   "metadata": {},
   "outputs": [
    {
     "data": {
      "text/plain": [
       "True"
      ]
     },
     "execution_count": 65,
     "metadata": {},
     "output_type": "execute_result"
    }
   ],
   "source": [
    "## una lista\n",
    "'sustantivo' in ['sustantivo']"
   ]
  },
  {
   "cell_type": "code",
   "execution_count": 67,
   "id": "071b76ce",
   "metadata": {},
   "outputs": [
    {
     "data": {
      "text/plain": [
       "True"
      ]
     },
     "execution_count": 67,
     "metadata": {},
     "output_type": "execute_result"
    }
   ],
   "source": [
    "## otra lista\n",
    "'sustantivo' in ['verbo','sustantivo']"
   ]
  },
  {
   "cell_type": "code",
   "execution_count": 68,
   "id": "10cc1fac",
   "metadata": {},
   "outputs": [
    {
     "name": "stdout",
     "output_type": "stream",
     "text": [
      "True\n",
      "False\n"
     ]
    }
   ],
   "source": [
    "## uso de not\n",
    "\n",
    "## números\n",
    "print(2 < 3)\n",
    "\n",
    "## uso de not\n",
    "print(not 2 < 3)"
   ]
  },
  {
   "cell_type": "code",
   "execution_count": 72,
   "id": "80dafaa6",
   "metadata": {},
   "outputs": [
    {
     "name": "stdout",
     "output_type": "stream",
     "text": [
      "True\n",
      "False\n"
     ]
    }
   ],
   "source": [
    "## uso de not en listas\n",
    "\n",
    "## una lista\n",
    "print('sustantivo' in ['sustantivo'])\n",
    "\n",
    "## uso de not\n",
    "print('sustantivo' not in ['sustantivo'])\n"
   ]
  },
  {
   "cell_type": "markdown",
   "id": "86c1646a",
   "metadata": {},
   "source": [
    "## Ejercicio!\n",
    "\n",
    "## Escriba un pequeño código que entregue True usando combinaciones de not, in, <, and"
   ]
  },
  {
   "cell_type": "code",
   "execution_count": 77,
   "id": "46591746",
   "metadata": {},
   "outputs": [
    {
     "data": {
      "text/plain": [
       "True"
      ]
     },
     "execution_count": 77,
     "metadata": {},
     "output_type": "execute_result"
    }
   ],
   "source": [
    "## proposición verdadera\n",
    "\n",
    "('palabra' in ['palabra']) and (not 2 > 3)"
   ]
  },
  {
   "cell_type": "code",
   "execution_count": 78,
   "id": "d8055a8c",
   "metadata": {},
   "outputs": [
    {
     "data": {
      "text/plain": [
       "True"
      ]
     },
     "execution_count": 78,
     "metadata": {},
     "output_type": "execute_result"
    }
   ],
   "source": [
    "('palabra' in ['palabra']) or (2 > 3)"
   ]
  },
  {
   "cell_type": "markdown",
   "id": "7f80fbd1",
   "metadata": {},
   "source": [
    "Las condiciones lógicas deben usarse a nuestra conveniencia. En general, si queremos que algo ocurra en cierto caso, debemos expresar ese caso como algo que pueda ser **True** o **False.** Para esto usamos **if.** La escructura es siempre igual: **if** + proposición verdadera. La **proposición verdadera** se construye como hemos visto. "
   ]
  },
  {
   "cell_type": "code",
   "execution_count": 81,
   "id": "b9f642f9",
   "metadata": {},
   "outputs": [
    {
     "name": "stdout",
     "output_type": "stream",
     "text": [
      "hola!\n"
     ]
    }
   ],
   "source": [
    "if ('palabra' in ['palabra']) and (not 2 > 3):\n",
    "    print('hola!')"
   ]
  },
  {
   "cell_type": "code",
   "execution_count": 110,
   "id": "5e3c6aaf",
   "metadata": {},
   "outputs": [],
   "source": [
    "## Ejercicio!\n",
    "\n",
    "## elementos\n",
    "L = ['palabra','palabra','otra palabra','otra otra palabra']\n",
    "\n",
    "## lista vacía\n",
    "Lu = []\n",
    "\n",
    "## proposición P: un elemento de L no está en Lu\n",
    "\n",
    "## agregue la palabra si P es verdadera\n",
    "\n",
    "## :)"
   ]
  },
  {
   "cell_type": "code",
   "execution_count": 111,
   "id": "08a24890",
   "metadata": {},
   "outputs": [
    {
     "data": {
      "text/plain": [
       "[]"
      ]
     },
     "execution_count": 111,
     "metadata": {},
     "output_type": "execute_result"
    }
   ],
   "source": [
    "Lu"
   ]
  },
  {
   "cell_type": "code",
   "execution_count": 112,
   "id": "9af54dfc",
   "metadata": {},
   "outputs": [],
   "source": [
    "## variable: la primera palabra, o token!\n",
    "primer_token = L[0]\n",
    "\n",
    "## agregamos primer_token a Lu\n",
    "if primer_token not in Lu: ## algo = la variable primer_token no está en Lu\n",
    "    Lu = Lu + [primer_token]"
   ]
  },
  {
   "cell_type": "code",
   "execution_count": 113,
   "id": "aa898965",
   "metadata": {},
   "outputs": [
    {
     "data": {
      "text/plain": [
       "['palabra']"
      ]
     },
     "execution_count": 113,
     "metadata": {},
     "output_type": "execute_result"
    }
   ],
   "source": [
    "Lu"
   ]
  },
  {
   "cell_type": "code",
   "execution_count": 114,
   "id": "9d2a176f",
   "metadata": {},
   "outputs": [],
   "source": [
    "## variable: la primera palabra, o token!\n",
    "segundo_token = L[1]"
   ]
  },
  {
   "cell_type": "code",
   "execution_count": 115,
   "id": "35df8891",
   "metadata": {},
   "outputs": [
    {
     "data": {
      "text/plain": [
       "False"
      ]
     },
     "execution_count": 115,
     "metadata": {},
     "output_type": "execute_result"
    }
   ],
   "source": [
    "segundo_token not in Lu"
   ]
  },
  {
   "cell_type": "code",
   "execution_count": 116,
   "id": "786944b6",
   "metadata": {},
   "outputs": [],
   "source": [
    "## agregamos segundo_token a Lu\n",
    "if segundo_token not in Lu:\n",
    "    Lu = Lu + [segundo_token]"
   ]
  },
  {
   "cell_type": "code",
   "execution_count": 117,
   "id": "f19cc908",
   "metadata": {},
   "outputs": [
    {
     "data": {
      "text/plain": [
       "['palabra']"
      ]
     },
     "execution_count": 117,
     "metadata": {},
     "output_type": "execute_result"
    }
   ],
   "source": [
    "Lu"
   ]
  },
  {
   "cell_type": "code",
   "execution_count": 138,
   "id": "f2ae6140",
   "metadata": {},
   "outputs": [
    {
     "data": {
      "text/plain": [
       "['palabra', 'palabra', 'otra palabra', 'otra otra palabra']"
      ]
     },
     "execution_count": 138,
     "metadata": {},
     "output_type": "execute_result"
    }
   ],
   "source": [
    "L"
   ]
  },
  {
   "cell_type": "code",
   "execution_count": 139,
   "id": "18c9968e",
   "metadata": {},
   "outputs": [],
   "source": [
    "Lu = []"
   ]
  },
  {
   "cell_type": "code",
   "execution_count": 146,
   "id": "6ca31fd6",
   "metadata": {},
   "outputs": [],
   "source": [
    "## indice!\n",
    "index = 0 ## 0, 1, 2, 3 [0,1,2,3]\n",
    "\n",
    "consulta = L[index]\n",
    "\n",
    "## condición\n",
    "\n",
    "if consulta not in Lu:\n",
    "    Lu = Lu + [consulta]\n",
    "else:\n",
    "    print('no la agregamos porque ya está!')"
   ]
  },
  {
   "cell_type": "code",
   "execution_count": 147,
   "id": "23e6500e",
   "metadata": {},
   "outputs": [
    {
     "data": {
      "text/plain": [
       "['palabra', 'otra palabra', 'otra otra palabra']"
      ]
     },
     "execution_count": 147,
     "metadata": {},
     "output_type": "execute_result"
    }
   ],
   "source": [
    "Lu"
   ]
  },
  {
   "cell_type": "markdown",
   "id": "9ce64037",
   "metadata": {},
   "source": [
    "Problema! ¿Qué pasa si L es una lista muuuuuuy grande? ¿De qué forma podemos **recorrer L**?"
   ]
  },
  {
   "cell_type": "markdown",
   "id": "534350b7",
   "metadata": {},
   "source": [
    "## 6. El famoso ciclo for, un caso de asignación sucesiva de variables\n",
    "\n",
    "Supongamos que tenemos la lista "
   ]
  },
  {
   "cell_type": "code",
   "execution_count": 82,
   "id": "f2595a43",
   "metadata": {},
   "outputs": [],
   "source": [
    "L = ['palabra','palabra','otra palabra','otra otra palabra']"
   ]
  },
  {
   "cell_type": "markdown",
   "id": "107034eb",
   "metadata": {},
   "source": [
    "Y queremos copiar los elementos de L en otra lista Lu, sujetos a cierta condición. Una opción es ir uno a uno, en un proceso que puede ser tedioso. ¿Cómo resolvemos esto? En vez de hacer esto,"
   ]
  },
  {
   "cell_type": "code",
   "execution_count": 83,
   "id": "5fadc9e2",
   "metadata": {},
   "outputs": [],
   "source": [
    "variable = 'palabra' ## (o variable = L[0])"
   ]
  },
  {
   "cell_type": "markdown",
   "id": "7babbf39",
   "metadata": {},
   "source": [
    "luego"
   ]
  },
  {
   "cell_type": "code",
   "execution_count": 84,
   "id": "11548395",
   "metadata": {},
   "outputs": [],
   "source": [
    "variable = 'palabra' ## (o variable = L[1])"
   ]
  },
  {
   "cell_type": "markdown",
   "id": "af10bf95",
   "metadata": {},
   "source": [
    "luego"
   ]
  },
  {
   "cell_type": "code",
   "execution_count": 85,
   "id": "0179f383",
   "metadata": {},
   "outputs": [],
   "source": [
    "variable = 'otra palabra' ## (o variable = L[2])"
   ]
  },
  {
   "cell_type": "markdown",
   "id": "99f5c652",
   "metadata": {},
   "source": [
    "...\n",
    "\n",
    "Usamos **for**"
   ]
  },
  {
   "cell_type": "code",
   "execution_count": 149,
   "id": "1dc3d134",
   "metadata": {},
   "outputs": [
    {
     "data": {
      "text/plain": [
       "['palabra', 'palabra', 'otra palabra', 'otra otra palabra']"
      ]
     },
     "execution_count": 149,
     "metadata": {},
     "output_type": "execute_result"
    }
   ],
   "source": [
    "L"
   ]
  },
  {
   "cell_type": "code",
   "execution_count": 157,
   "id": "94035840",
   "metadata": {},
   "outputs": [
    {
     "name": "stdout",
     "output_type": "stream",
     "text": [
      "palabra\n",
      "palabra\n",
      "otra palabra\n",
      "otra otra palabra\n"
     ]
    }
   ],
   "source": [
    "## uso de for\n",
    "for item in L:\n",
    "    print(item)\n",
    "\n",
    "## ¿Qué es item? ¿Cuál es su valor?"
   ]
  },
  {
   "cell_type": "code",
   "execution_count": 151,
   "id": "0ea5845f",
   "metadata": {},
   "outputs": [
    {
     "data": {
      "text/plain": [
       "'otra otra palabra'"
      ]
     },
     "execution_count": 151,
     "metadata": {},
     "output_type": "execute_result"
    }
   ],
   "source": [
    "item"
   ]
  },
  {
   "cell_type": "code",
   "execution_count": 160,
   "id": "0cb704b6",
   "metadata": {},
   "outputs": [
    {
     "data": {
      "text/plain": [
       "[0, 1, 2, 3, 4, 5, 6, 7, 8, 9]"
      ]
     },
     "execution_count": 160,
     "metadata": {},
     "output_type": "execute_result"
    }
   ],
   "source": [
    "list(range(10))"
   ]
  },
  {
   "cell_type": "code",
   "execution_count": 158,
   "id": "93bfc64e",
   "metadata": {},
   "outputs": [
    {
     "name": "stdout",
     "output_type": "stream",
     "text": [
      "palabra\n",
      "palabra\n",
      "otra palabra\n",
      "otra otra palabra\n"
     ]
    }
   ],
   "source": [
    "## uso de for\n",
    "for indice in range(len(L)):\n",
    "    print(L[indice])"
   ]
  },
  {
   "cell_type": "code",
   "execution_count": 161,
   "id": "ced2abb2",
   "metadata": {},
   "outputs": [
    {
     "data": {
      "text/plain": [
       "['palabra', 'palabra', 'otra palabra', 'otra otra palabra']"
      ]
     },
     "execution_count": 161,
     "metadata": {},
     "output_type": "execute_result"
    }
   ],
   "source": [
    "L"
   ]
  },
  {
   "cell_type": "code",
   "execution_count": 172,
   "id": "c87562a3",
   "metadata": {},
   "outputs": [],
   "source": [
    "Lu = []"
   ]
  },
  {
   "cell_type": "code",
   "execution_count": 173,
   "id": "2a40fcd1",
   "metadata": {},
   "outputs": [],
   "source": [
    "consulta = 'casa'"
   ]
  },
  {
   "cell_type": "code",
   "execution_count": 174,
   "id": "e12c1772",
   "metadata": {},
   "outputs": [
    {
     "name": "stdout",
     "output_type": "stream",
     "text": [
      "palabra\n",
      "palabra\n",
      "otra palabra\n",
      "otra otra palabra\n"
     ]
    }
   ],
   "source": [
    "## transformar este código usando for!\n",
    "\n",
    "## la variable consulta \"toma\" valores en la lista\n",
    "## L\n",
    "for consulta in L:\n",
    "    print(consulta)\n",
    "    ## condición\n",
    "    if consulta not in Lu:\n",
    "        Lu = Lu + [consulta]"
   ]
  },
  {
   "cell_type": "code",
   "execution_count": 171,
   "id": "71b4bf73",
   "metadata": {},
   "outputs": [
    {
     "data": {
      "text/plain": [
       "['palabra', 'otra palabra', 'otra otra palabra']"
      ]
     },
     "execution_count": 171,
     "metadata": {},
     "output_type": "execute_result"
    }
   ],
   "source": [
    "Lu"
   ]
  },
  {
   "cell_type": "code",
   "execution_count": 176,
   "id": "1dc10dcd",
   "metadata": {},
   "outputs": [],
   "source": [
    "## lista vacía\n",
    "Lu = []\n",
    "\n",
    "## transformar este código usando índices!\n",
    "\n",
    "## la variable consulta \"toma\" valores en la lista\n",
    "## L\n",
    "for indice in range(len(L)):\n",
    "    ## elemento de L\n",
    "    elemento = L[indice]\n",
    "    ## condición\n",
    "    if elemento not in Lu:\n",
    "        Lu = Lu + [elemento]"
   ]
  },
  {
   "cell_type": "code",
   "execution_count": 177,
   "id": "b244b8aa",
   "metadata": {},
   "outputs": [
    {
     "data": {
      "text/plain": [
       "['palabra', 'otra palabra', 'otra otra palabra']"
      ]
     },
     "execution_count": 177,
     "metadata": {},
     "output_type": "execute_result"
    }
   ],
   "source": [
    "Lu"
   ]
  },
  {
   "cell_type": "code",
   "execution_count": null,
   "id": "5b93a9a8",
   "metadata": {},
   "outputs": [],
   "source": []
  },
  {
   "cell_type": "code",
   "execution_count": 90,
   "id": "f1c49cf7",
   "metadata": {},
   "outputs": [],
   "source": [
    "## Ejercicio!\n",
    "\n",
    "## Copie la lista L en otra lista L_copia usando un ciclo for\n",
    "\n",
    "## lista vacía\n",
    "L_copia = []"
   ]
  },
  {
   "cell_type": "code",
   "execution_count": 91,
   "id": "ca967b3b",
   "metadata": {},
   "outputs": [],
   "source": [
    "## Ejercicio! (observación! las listas se comportan igual que los strings)\n",
    "\n",
    "## Copie el string s = 'sustantivo' en otro string s_copia usando un ciclo for\n",
    "\n",
    "## string vacío\n",
    "s_copia = ''"
   ]
  },
  {
   "cell_type": "code",
   "execution_count": 87,
   "id": "0521a361",
   "metadata": {},
   "outputs": [],
   "source": [
    "## Ejercicio!\n",
    "\n",
    "## elementos\n",
    "L = ['palabra','palabra','otra palabra','otra otra palabra']\n",
    "\n",
    "## lista de palabras prohibidas!\n",
    "Lp = ['otra palabra']\n",
    "\n",
    "## Defina una nueva lista L_filtrada que tenga los elementos de L, \n",
    "## sin los elementos de Lp\n",
    "\n",
    "## método! haganlo sin pensar\n",
    "\n",
    "## sin pensar!\n",
    "## ¿sirve partir con una lista vacía? Sí\n",
    "\n",
    "L_filtrada = []\n",
    "\n",
    "## sin pensar 2!\n",
    "## ¿Sirve un ciclo for? Sí ...\n",
    "\n",
    "for ...\n",
    "    if ..."
   ]
  },
  {
   "cell_type": "code",
   "execution_count": 181,
   "id": "2c3f73ab",
   "metadata": {},
   "outputs": [],
   "source": [
    "## solución :)\n",
    "\n",
    "## elementos\n",
    "L = ['palabra','palabra','otra palabra','otra otra palabra']\n",
    "\n",
    "## lista de palabras prohibidas!\n",
    "Lp = ['otra palabra']\n",
    "\n",
    "## lista\n",
    "L_filtrada = []\n",
    "\n",
    "## queremos definir una nueva lista L_filtrada en donde no aparezcan \n",
    "## los elementos de Lp\n",
    "\n",
    "## ¿Qué hacemos?\n",
    "## recorremos la lista L\n",
    "for elemento in L:\n",
    "    ## condición: elemento no esté en Lp\n",
    "    if elemento not in Lp:\n",
    "        ## guardamos\n",
    "        ## L_filtrada.append(elemento)\n",
    "        L_filtrada = L_filtrada + [elemento]"
   ]
  },
  {
   "cell_type": "code",
   "execution_count": 182,
   "id": "a7dc56e8",
   "metadata": {},
   "outputs": [
    {
     "data": {
      "text/plain": [
       "['palabra', 'palabra', 'otra otra palabra']"
      ]
     },
     "execution_count": 182,
     "metadata": {},
     "output_type": "execute_result"
    }
   ],
   "source": [
    "L_filtrada"
   ]
  },
  {
   "cell_type": "code",
   "execution_count": 94,
   "id": "c6cd5f2f",
   "metadata": {},
   "outputs": [],
   "source": [
    "## Ejercicio! Contemos frecuencias!\n",
    "\n",
    "## Identifique los types de la lista \n",
    "L = ['palabra','palabra','otra palabra','otra otra palabra']\n",
    "\n",
    "## Cuente cuántas veces aparece cada elemento de Lt en L. \n",
    "## Use L.count(item)"
   ]
  },
  {
   "cell_type": "code",
   "execution_count": 183,
   "id": "7c396693",
   "metadata": {},
   "outputs": [],
   "source": [
    "## lista de types\n",
    "Lt = []\n",
    "\n",
    "## recorremos L\n",
    "for elemento in L:\n",
    "    ## condición\n",
    "    if elemento not in Lt:\n",
    "        Lt = Lt + [elemento]"
   ]
  },
  {
   "cell_type": "code",
   "execution_count": 184,
   "id": "61b0dbc9",
   "metadata": {},
   "outputs": [
    {
     "data": {
      "text/plain": [
       "['palabra', 'otra palabra', 'otra otra palabra']"
      ]
     },
     "execution_count": 184,
     "metadata": {},
     "output_type": "execute_result"
    }
   ],
   "source": [
    "Lt"
   ]
  },
  {
   "cell_type": "code",
   "execution_count": 186,
   "id": "b28234b8",
   "metadata": {},
   "outputs": [
    {
     "data": {
      "text/plain": [
       "1"
      ]
     },
     "execution_count": 186,
     "metadata": {},
     "output_type": "execute_result"
    }
   ],
   "source": [
    "L.count('otra palabra')"
   ]
  },
  {
   "cell_type": "code",
   "execution_count": 189,
   "id": "254d479c",
   "metadata": {},
   "outputs": [
    {
     "name": "stdout",
     "output_type": "stream",
     "text": [
      "palabra 2\n",
      "otra palabra 1\n",
      "otra otra palabra 1\n"
     ]
    }
   ],
   "source": [
    "for elemento in Lt:\n",
    "    print(elemento, L.count(elemento))"
   ]
  },
  {
   "cell_type": "code",
   "execution_count": 192,
   "id": "551ed5b4",
   "metadata": {},
   "outputs": [],
   "source": [
    "## ¿Dónde podemos almacenar estos resultados?\n",
    "\n",
    "R = []\n",
    "\n",
    "for elemento in Lt:\n",
    "    \n",
    "    R = R + [L.count(elemento)]"
   ]
  },
  {
   "cell_type": "code",
   "execution_count": 194,
   "id": "38d529ed",
   "metadata": {},
   "outputs": [
    {
     "data": {
      "text/plain": [
       "([2, 1, 1], ['palabra', 'otra palabra', 'otra otra palabra'])"
      ]
     },
     "execution_count": 194,
     "metadata": {},
     "output_type": "execute_result"
    }
   ],
   "source": [
    "R, Lt"
   ]
  },
  {
   "cell_type": "code",
   "execution_count": null,
   "id": "000e04a2",
   "metadata": {},
   "outputs": [],
   "source": []
  },
  {
   "cell_type": "code",
   "execution_count": null,
   "id": "bebd41d6",
   "metadata": {},
   "outputs": [],
   "source": []
  },
  {
   "cell_type": "code",
   "execution_count": 92,
   "id": "b990a09b",
   "metadata": {},
   "outputs": [],
   "source": [
    "## Ejercicio! Juntemos todo\n",
    "\n",
    "## Identifique los types de la lista\n",
    "L = ['palabra','palabra','otra palabra','otra otra palabra']\n",
    "\n",
    "## Remueva los elementos que están en lista de elementos prohibidos\n",
    "L_p = ['otra palabra']"
   ]
  },
  {
   "cell_type": "code",
   "execution_count": 93,
   "id": "341e6c26",
   "metadata": {},
   "outputs": [],
   "source": [
    "## Ejercicio! Otra versión de juntar todo\n",
    "\n",
    "## Identifique los types de la lista (remueva los signos de puntuación: use replace y no use replace)\n",
    "L = ['palabra,','palabra.','otra palabra;','otra otra palabra']\n",
    "\n",
    "## Remueva los elementos que están en lista de elementos prohibidos\n",
    "L_p = ['otra palabra']"
   ]
  },
  {
   "cell_type": "markdown",
   "id": "cae334e4",
   "metadata": {},
   "source": [
    "## problemas &#x1F916;!"
   ]
  },
  {
   "cell_type": "code",
   "execution_count": 28,
   "id": "6d5cda06",
   "metadata": {},
   "outputs": [],
   "source": [
    "## puede cambiar el nombre\n",
    "\n",
    "archivo = open('funes el memorioso-borges.txt', 'r', encoding='utf-8')"
   ]
  },
  {
   "cell_type": "code",
   "execution_count": 29,
   "id": "45d092ee",
   "metadata": {},
   "outputs": [],
   "source": [
    "## esta será la variable elegida!\n",
    "\n",
    "archivo = archivo.read()"
   ]
  },
  {
   "cell_type": "code",
   "execution_count": 30,
   "id": "58d20326",
   "metadata": {},
   "outputs": [
    {
     "data": {
      "text/plain": [
       "'Lo recuerdo (yo no tengo derecho a pronunciar ese verbo sagrado, solo un hombre en la tierra tuvo derecho y ese hombre ha muerto) con una oscura pasionaria en la mano, viéndola como nadie la ha visto, aunque la mirara desde el crepúsculo del día hasta el de la noche, toda una vida entera. Lo recuerdo, la cara taciturna y aindiada y singularmente remota, detrás del cigarrillo. Recuerdo (creo) sus manos afiladas de trenzador. Recuerdo cerca de esas manos un mate, con las armas de la Banda Oriental; recuerdo en la ventana de la casa una estera amarilla, con un vago paisaje lacustre. Recuerdo claramente su voz; la voz pausada, resentida y nasal del orillero antiguo, sin los silbidos italianos de ahora. Más de tres veces no lo vi; la última, en 1887… Me parece muy feliz el proyecto de que todos aquellos que lo trataron escriban sobre él; mi testimonio será acaso el más breve y sin duda el más pobre, pero no el menos imparcial del volumen que editarán ustedes. Mi deplorable condición de argentino me impedirá incurrir en el ditirambo —género obligatorio en el Uruguay, cuando el tema es un uruguayo. Literato, cajetilla, porteño: Funes no dijo esas injuriosas palabras, pero de un modo suficiente me consta que yo representaba para él esas desventuras. Pedro Leandro Ipuche ha escrito que Funes era un precursor de los superhombres; “Un Zarathustra cimarrón y vernáculo”; no lo discuto, pero no hay que olvidar que era también un compadrito de Fray Bentos, con ciertas incurables limitaciones.\\n\\nMi primer recuerdo de Funes es muy perspicuo. Lo veo en un atardecer de marzo o febrero del año ochenta y cuatro. Mi padre, ese año, me había llevado a veranear a Fray Bentos. Yo volvía con mi primo Bernardo Haedo de la estancia de San Francisco. Volvíamos cantando, a caballo, y esa no era la única circunstancia de mi felicidad. Después de un día bochornoso, una enorme tormenta color pizarra había escondido el cielo. La alentaba el viento del Sur, ya se enloquecían los árboles; yo tenía el temor (la esperanza) de que nos sorprendiera en un descampado el agua elemental. Corrimos una especie de carrera con la tormenta. Entramos en un callejón que se ahondaba entre dos veredas altísimas de ladrillo. Había oscurecido de golpe; oí rápidos y casi secretos pasos en lo alto; alcé los ojos y vi un muchacho que corría por la estrecha y rota vereda como por una estrecha y rota pared. Recuerdo la bombacha, las alpargatas, recuerdo el cigarrillo en el duro rostro, contra el nubarrón ya sin límites. Bernardo le gritó imprevisiblemente: ¿Qué horas son, Ireneo? Sin consultar el cielo, sin detenerse, el otro respondió: Faltan cuatro minutos para las ocho, joven Bernardo Juan Francisco. La voz era aguda, burlona.\\n\\nYo soy tan distraído que el diálogo que acabo de referir no me hubiera llamado la atención si no lo hubiera recalcado mi primo, a quien estimulaban (creo) cierto orgullo local, y el deseo de mostrarse indiferente a la réplica tripartita del otro.\\n\\nMe dijo que el muchacho del callejón era un tal Ireneo Funes, mentado por algunas rarezas como la de no darse con nadie y la de saber siempre la hora, como un reloj. Agregó que era hijo de una planchadora del pueblo, María Clementina Funes, y que algunos decían que su padre era un médico del saladero, un inglés O’Connor, y otros un domador o rastreador del departamento del Salto. Vivía con su madre, a la vuelta de la quinta de los Laureles.\\n\\nLos años ochenta y cinco y ochenta y seis veraneamos en la ciudad de Montevideo. El ochenta y siete volví a Fray Bentos. Pregunté, como es natural, por todos los conocidos y, finalmente, por el “cronométrico Funes”. Me contestaron que lo había volteado un redomón en la estancia de San Francisco, y que había quedado tullido, sin esperanza. Recuerdo la impresión de incómoda magia que la noticia me produjo: la única vez que yo lo vi, veníamos a caballo de San Francisco y él andaba en un lugar alto; el hecho, en boca de mi primo Bernardo, tenía mucho de sueño elaborado con elementos anteriores. Me dijeron que no se movía del catre, puestos los ojos en la higuera del fondo o en una telaraña. En los atardeceres, permitía que lo sacaran a la ventana. Llevaba la soberbia hasta el punto de simular que era benéfico el golpe que lo había fulminado… Dos veces lo vi atrás de la reja, que burdamente recalcaba su condición de eterno prisionero: una, inmóvil, con los ojos cerrados; otra, inmóvil también, absorto en la contemplación de un oloroso gajo de santonina.\\n\\nNo sin alguna vanagloria yo había iniciado en aquel tiempo el estudio metódico del latín. Mi valija incluía el De viris illustribus de Lhomond, el Thesaurus de Quicherat, los comentarios de Julio César y un volumen impar de la Naturalis historia de Plinio, que excedía (y sigue excediendo) mis módicas virtudes de latinista. Todo se propala en un pueblo chico; Ireneo, en su rancho de las orillas, no tardó en enterarse del arribo de esos libros anómalos. Me dirigió una carta florida y ceremoniosa, en la que recordaba nuestro encuentro, desdichadamente fugaz, “del día siete de febrero del año ochenta y cuatro”, ponderaba los gloriosos servicios que don Gregorio Haedo, mi tío, finado ese mismo año, “había prestado a las dos patrias en la valerosa jornada de Ituzaingó”, y me solicitaba el préstamo de cualquiera de los volúmenes, acompañado de un diccionario “para la buena inteligencia del texto original, porque todavía ignoro el latín”. Prometía devolverlos en buen estado, casi inmediatamente. La letra era perfecta, muy perfilada; la ortografía, del tipo que Andrés Bello preconizó: i por y, j por g. Al principio, temí naturalmente una broma. Mis primos me aseguraron que no, que eran cosas de Ireneo. No supe si atribuir a descaro, a ignorancia o a estupidez la idea de que el arduo latín no requería más instrumento que un diccionario; para desengañarlo con plenitud le mandé el Gradus ad Parnassum de Quicherat. y la obra de Plinio.\\n\\nEl catorce de febrero me telegrafiaron de Buenos Aires que volviera inmediatamente, porque mi padre no estaba “nada bien”. Dios me perdone; el prestigio de ser el destinatario de un telegrama urgente, el deseo de comunicar a todo Fray Bentos la contradicción entre la forma negativa de la noticia y el perentorio adverbio, la tentación de dramatizar mi dolor, fingiendo un viril estoicismo, tal vez me distrajeron de toda posibilidad de dolor. Al hacer la valija, noté que me faltaban el Gradus y el primer tomo de la Naturalis historia. El “Saturno” zarpaba al día siguiente, por la mañana; esa noche, después de cenar, me encaminé a casa de Funes. Me asombró que la noche fuera no menos pesada que el día.\\n\\nEn el decente rancho, la madre de Funes me recibió. Me dijo que Ireneo estaba en la pieza del fondo y que no me extrañara encontrarla a oscuras, porque Ireneo sabía pasarse las horas muertas sin encender la vela. Atravesé el patio de baldosa, el corredorcito; llegué al segundo patio. Había una parra; la oscuridad pudo parecerme total. Oí de pronto la alta y burlona voz de Ireneo. Esa voz hablaba en latín; esa voz (que venía de la tiniebla) articulaba con moroso deleite un discurso o plegaria o incantación. Resonaron las sílabas romanas en el patio de tierra; mi temor las creía indescifrables, interminables; después, en el enorme diálogo de esa noche, supe que formaban el primer párrafo del vigésimocuarto capítulo del libro séptimo de la Naturalis historia. La materia de ese capítulo es la memoria; las palabras últimas fueron ut nihil non usdem verbis redderetur auditum.\\n\\nSin el menor cambio de voz, Ireneo me dijo que pasara. Estaba en el catre, fumando. Me parece que no le vi la cara hasta el alba; creo rememorar el ascua momentánea del cigarrillo. La pieza olía vagamente a humedad. Me senté; repetí la historia del telegrama y de la enfermedad de mi padre. Arribo, ahora, al más difícil punto de mi relato. Este (bueno es que ya lo sepa el lector) no tiene otro argumento que ese diálogo de hace ya medio siglo. No trataré de reproducir sus palabras, irrecuperables ahora. Prefiero resumir con veracidad las muchas cosas que me dijo Ireneo. El estilo indirecto es remoto y débil; yo sé que sacrifico la eficacia de mi relato; que mis lectores se imaginen los entrecortados períodos que me abrumaron esa noche.\\n\\nIreneo empezó por enumerar, en latín y español, los casos de memoria prodigiosa registrados por la Naturalis historia: Ciro, rey de los persas, que sabía llamar por su nombre a todos los soldados de sus ejércitos; Mitrídates Eupator, que administraba la justicia en los 22 idiomas de su imperio; Simónides, inventor de la mnemotecnia; Metrodoro, que profesaba el arte de repetir con fidelidad lo escuchado una sola vez. Con evidente buena fe se maravilló de que tales casos maravillaran. Me dijo que antes de esa tarde lluviosa en que lo volteó el azulejo, él había sido lo que son todos los cristianos: un ciego, un sordo, un abombado, un desmemoriado. (Traté de recordarle su percepción exacta del tiempo, su memoria de nombres propios; no me hizo caso.) Diecinueve años había vivido como quien sueña: miraba sin ver, oía sin oír, se olvidaba de todo, de casi todo. Al caer, perdió el conocimiento; cuando lo recobró, el presente era casi intolerable de tan rico y tan nítido, y también las memorias más antiguas y más triviales. Poco después averiguó que estaba tullido. El hecho apenas le interesó. Razonó (sintió) que la inmovilidad era un precio mínimo. Ahora su percepción y su memoria eran infalibles.\\n\\nNosotros, de un vistazo, percibimos tres copas en una mesa; Funes, todos los vástagos y racimos y frutos que comprende una parra. Sabía las formas de las nubes australes del amanecer del treinta de abril de mil ochocientos ochenta y dos y podía compararlas en el recuerdo con las vetas de un libro en pasta española que solo había mirado una vez y con las líneas de la espuma que un remo levantó en el Río Negro la víspera de la acción del Quebracho. Esos recuerdos no eran simples; cada imagen visual estaba ligada a sensaciones musculares, térmicas, etc. Podía reconstruir todos los sueños, todos los entresueños. Dos o tres veces había reconstruido un día entero; no había dudado nunca, pero cada reconstrucción había requerido un día entero. Me dijo: Más recuerdos tengo yo solo que los que habrán tenido todos los hombres desde que el mundo es mundo. Y también: Mis sueños son como 1a vigilia de ustedes. Y también, hacia el alba: Mi memoría, señor, es como vacíadero de basuras. Una circunferencia en un pizarrón, un triángulo rectángulo, un rombo, son formas que podemos intuir plenamente; lo mismo le pasaba a Ireneo con las aborrascadas crines de un potro, con una punta de ganado en una cuchilla, con el fuego cambiante y con la innumerable ceniza, con las muchas caras de un muerto en un largo velorio. No sé cuántas estrellas veía en el cielo.\\n\\nEsas cosas me dijo; ni entonces ni después las he puesto en duda. En aquel tiempo no había cinematógrafos ni fonógrafos; es, sin embargo, inverosímil y hasta increíble que nadie hiciera un experimento con Funes. Lo cierto es que vivimos postergando todo lo postergable; tal vez todos sabemos profundamente que somos inmortales y que tarde o temprano, todo hombre hará todas las cosas y sabrá todo.\\n\\nLa voz de Funes, desde la oscuridad, seguía hablando.\\n\\nMe dijo que hacia 1886 había discurrido un sistema original de numeración y que en muy pocos días había rebasado el veinticuatro mil. No lo había escrito, porque lo pensado una sola vez ya no podía borrársele. Su primer estímulo, creo, fue el desagrado de que los treinta y tres orientales requirieran dos signos y tres palabras, en lugar de una sola palabra y un solo signo. Aplicó luego ese disparatado principio a los otros números. En lugar de siete mil trece, decía (por ejemplo) Máximo Pérez; en lugar de siete mil catorce, El Ferrocarril; otros números eran Luis Melián Lafinur, Olimar, azufre, los bastos, la ballena, gas, la caldera, Napoleón, Agustín Vedia. En lugar de quinientos, decía nueve. Cada palabra tenía un signo particular, una especie marca; las últimas muy complicadas… Yo traté de explicarle que esa rapsodia de voces inconexas era precisamente lo contrario de un sistema numeración. Le dije que decir 365 era decir tres centenas, seis decenas, cinco unidades; análisis no existe en los “números” El Negro Timoteo o manta de carne. Funes no me entendió o no quiso entenderme.\\n\\nLocke, en el siglo XVII, postuló (y reprobó) un idioma imposible en el que cada cosa individual, cada piedra, cada pájaro y cada rama tuviera nombre propio; Funes proyectó alguna vez un idioma análogo, pero lo desechó por parecerle demasiado general, demasiado ambiguo. En efecto, Funes no solo recordaba cada hoja de cada árbol de cada monte, sino cada una de las veces que la había percibido o imaginado. Resolvió reducir cada una de sus jornadas pretéritas a unos setenta mil recuerdos, que definiría luego por cifras. Lo disuadieron dos consideraciones: la conciencia de que la tarea era interminable, la conciencia de que era inútil. Pensó que en la hora de la muerte no habría acabado aún de clasificar todos los recuerdos de la niñez.\\n\\nLos dos proyectos que he indicado (un vocabulario infinito para serie natural de los números, un inútil catálogo mental de todas las imágenes del recuerdo) son insensatos, pero revelan cierta balbuciente grandeza. Nos dejan vislumbrar o inferir el vertiginoso mundo de Funes. Este, no lo olvidemos, era casi incapaz de ideas generales, platónicas. No solo le costaba comprender que el símbolo genérico perro abarcara tantos individuos dispares de diversos tamaños y diversa forma; le molestaba que el perro de las tres y catorce (visto de perfil) tuviera el mismo nombre que el perro de las tres y cuarto (visto de frente). Su propia cara en el espejo, sus propias manos, lo sorprendían cada vez. Refiere Swift que el emperador de Lilliput discernía el movimiento del minutero; Funes discernía continuamente los tranquilos avances de la corrupción, de las caries, de la fatiga. Notaba los progresos de la muerte, de la humedad. Era el solitario y lúcido espectador de un mundo multiforme, instantáneo y casi intolerablemente preciso. Babilonia, Londres y Nueva York han abrumado con feroz esplendor la imaginación de los hombres; nadie, en sus torres populosas o en sus avenidas urgentes, ha sentido el calor y la presión de una realidad tan infatigable como la que día y noche convergía sobre el infeliz Ireneo, en su pobre arrabal sudamericano. Le era muy difícil dormir. Dormir es distraerse del mundo; Funes, de espaldas en el catre, en la sombra, se figuraba cada grieta y cada moldura de las casas precisas que lo rodeaban. (Repito que el menos importante de sus recuerdos era más minucioso y más vivo que nuestra percepción de un goce físico o de un tormento físico.) Hacia el Este, en un trecho no amanzanado, había casas nuevas, desconocidas. Funes las imaginaba negras, compactas, hechas de tiniebla homogénea; en esa dirección volvía la cara para dormir. También solía imaginarse en el fondo del río, mecido y anulado por la corriente.\\n\\nHabía aprendido sin esfuerzo el inglés, el francés, el portugués, el latín. Sospecho, sin embargo, que no era muy capaz de pensar. Pensar es olvidar diferencias, es generalizar, abstraer. En el abarrotado mundo de Funes no había sino detalles, casi inmediatos.\\n\\nLa recelosa claridad de la madrugada entró por el patio de tierra.\\n\\nEntonces vi la cara de la voz que toda la noche había hablado. Ireneo tenía diecinueve años; había nacido en 1868; me pareció monumental como el bronce, más antiguo que Egipto, anterior a las profecías y a las pirámides. Pensé que cada una de mis palabras (que cada uno de mis gestos) perduraría en su implacable memoria; me entorpeció el temor de multiplicar ademanes inútiles.\\n\\nIreneo Funes murió en 1889, de una congestión pulmonar.'"
      ]
     },
     "execution_count": 30,
     "metadata": {},
     "output_type": "execute_result"
    }
   ],
   "source": [
    "archivo"
   ]
  },
  {
   "cell_type": "markdown",
   "id": "0fdffa20",
   "metadata": {},
   "source": [
    "Considere una lista un poco más grande"
   ]
  },
  {
   "cell_type": "code",
   "execution_count": 25,
   "id": "46ddbb89",
   "metadata": {},
   "outputs": [],
   "source": [
    "## nueva versión de L. Usamos .split(' ')\n",
    "L = 'Lo recuerdo (yo no tengo derecho a pronunciar ese verbo sagrado, solo un hombre en la tierra tuvo derecho y ese hombre ha muerto) con una oscura pasionaria en la mano, viéndola como nadie la ha visto, aunque la mirara desde el crepúsculo del día hasta el de la noche, toda una vida entera.'.split(' ')"
   ]
  },
  {
   "cell_type": "code",
   "execution_count": 26,
   "id": "09ee3e01",
   "metadata": {},
   "outputs": [
    {
     "data": {
      "text/plain": [
       "['Lo',\n",
       " 'recuerdo',\n",
       " '(yo',\n",
       " 'no',\n",
       " 'tengo',\n",
       " 'derecho',\n",
       " 'a',\n",
       " 'pronunciar',\n",
       " 'ese',\n",
       " 'verbo',\n",
       " 'sagrado,',\n",
       " 'solo',\n",
       " 'un',\n",
       " 'hombre',\n",
       " 'en',\n",
       " 'la',\n",
       " 'tierra',\n",
       " 'tuvo',\n",
       " 'derecho',\n",
       " 'y',\n",
       " 'ese',\n",
       " 'hombre',\n",
       " 'ha',\n",
       " 'muerto)',\n",
       " 'con',\n",
       " 'una',\n",
       " 'oscura',\n",
       " 'pasionaria',\n",
       " 'en',\n",
       " 'la',\n",
       " 'mano,',\n",
       " 'viéndola',\n",
       " 'como',\n",
       " 'nadie',\n",
       " 'la',\n",
       " 'ha',\n",
       " 'visto,',\n",
       " 'aunque',\n",
       " 'la',\n",
       " 'mirara',\n",
       " 'desde',\n",
       " 'el',\n",
       " 'crepúsculo',\n",
       " 'del',\n",
       " 'día',\n",
       " 'hasta',\n",
       " 'el',\n",
       " 'de',\n",
       " 'la',\n",
       " 'noche,',\n",
       " 'toda',\n",
       " 'una',\n",
       " 'vida',\n",
       " 'entera.']"
      ]
     },
     "execution_count": 26,
     "metadata": {},
     "output_type": "execute_result"
    }
   ],
   "source": [
    "L"
   ]
  },
  {
   "cell_type": "markdown",
   "id": "918330d0",
   "metadata": {},
   "source": [
    "En este caso, si queremos guardar los elementos en otra lista, al parecer, el trabajo manual parece interminable ¿Qué hacemos? **Python** nos ofrece la posibilidad de **recorrer** los elementos de una lista usando el hecho de que los elementos de la lista están ordenados. "
   ]
  },
  {
   "cell_type": "code",
   "execution_count": 27,
   "id": "c0eef6a1",
   "metadata": {},
   "outputs": [],
   "source": [
    "## una nueva lista vacía\n",
    "l = []"
   ]
  },
  {
   "cell_type": "code",
   "execution_count": 58,
   "id": "01404e17",
   "metadata": {},
   "outputs": [],
   "source": [
    "## en vez de escribir\n",
    "\n",
    "## paso 1\n",
    "l = l + [L[0]]\n",
    "\n",
    "## paso 2\n",
    "l = l + [L[0]]\n",
    "\n",
    "## y así sucesivamente"
   ]
  },
  {
   "cell_type": "code",
   "execution_count": 59,
   "id": "2cfbc7b1",
   "metadata": {},
   "outputs": [],
   "source": [
    "## usamos los ciclos for!\n",
    "\n",
    "## una nueva lista vacía\n",
    "l = []\n",
    "\n",
    "## recorremos los elementos de L\n",
    "for elemento in L:\n",
    "    l = l + [elemento]"
   ]
  },
  {
   "cell_type": "code",
   "execution_count": 60,
   "id": "7f527bf9",
   "metadata": {},
   "outputs": [
    {
     "data": {
      "text/plain": [
       "['Lo',\n",
       " 'recuerdo',\n",
       " '(yo',\n",
       " 'no',\n",
       " 'tengo',\n",
       " 'derecho',\n",
       " 'a',\n",
       " 'pronunciar',\n",
       " 'ese',\n",
       " 'verbo',\n",
       " 'sagrado,',\n",
       " 'solo',\n",
       " 'un',\n",
       " 'hombre',\n",
       " 'en',\n",
       " 'la',\n",
       " 'tierra',\n",
       " 'tuvo',\n",
       " 'derecho',\n",
       " 'y',\n",
       " 'ese',\n",
       " 'hombre',\n",
       " 'ha',\n",
       " 'muerto)',\n",
       " 'con',\n",
       " 'una',\n",
       " 'oscura',\n",
       " 'pasionaria',\n",
       " 'en',\n",
       " 'la',\n",
       " 'mano,',\n",
       " 'viéndola',\n",
       " 'como',\n",
       " 'nadie',\n",
       " 'la',\n",
       " 'ha',\n",
       " 'visto,',\n",
       " 'aunque',\n",
       " 'la',\n",
       " 'mirara',\n",
       " 'desde',\n",
       " 'el',\n",
       " 'crepúsculo',\n",
       " 'del',\n",
       " 'día',\n",
       " 'hasta',\n",
       " 'el',\n",
       " 'de',\n",
       " 'la',\n",
       " 'noche,',\n",
       " 'toda',\n",
       " 'una',\n",
       " 'vida',\n",
       " 'entera.']"
      ]
     },
     "execution_count": 60,
     "metadata": {},
     "output_type": "execute_result"
    }
   ],
   "source": [
    "l"
   ]
  },
  {
   "cell_type": "markdown",
   "id": "638f0fc2",
   "metadata": {},
   "source": [
    "¿Qué es **elemento**?"
   ]
  },
  {
   "cell_type": "markdown",
   "id": "5243b6b2",
   "metadata": {},
   "source": [
    "**Desafío!** Construya una nueva lista que incluya los elementos de **L** sin repeticiones. Por ejemplo, si L fuera [1,1,2]\n",
    "la lista que buscamos sería [1,2]. "
   ]
  },
  {
   "cell_type": "markdown",
   "id": "5cc172a7",
   "metadata": {},
   "source": [
    "**Desafío!** Construya una lista que contenga las frecuencias de todos los types de la lista **L.** ¿Cuáles son las palabras **más frecuentes**? ¿y **menos frecuentes**? ¿qué **aplicaciones** (desde su disciplina) podrían tener este tipo de cálculos?"
   ]
  },
  {
   "cell_type": "code",
   "execution_count": null,
   "id": "80e5d826",
   "metadata": {},
   "outputs": [],
   "source": []
  }
 ],
 "metadata": {
  "kernelspec": {
   "display_name": "Python 3",
   "language": "python",
   "name": "python3"
  },
  "language_info": {
   "codemirror_mode": {
    "name": "ipython",
    "version": 3
   },
   "file_extension": ".py",
   "mimetype": "text/x-python",
   "name": "python",
   "nbconvert_exporter": "python",
   "pygments_lexer": "ipython3",
   "version": "3.8.8"
  }
 },
 "nbformat": 4,
 "nbformat_minor": 5
}
