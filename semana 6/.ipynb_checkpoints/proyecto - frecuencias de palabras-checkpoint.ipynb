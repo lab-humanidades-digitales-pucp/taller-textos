{
 "cells": [
  {
   "cell_type": "markdown",
   "id": "792f12b1",
   "metadata": {},
   "source": [
    "# **Análisis automático de textos en Humanidades**\n",
    "### Javier Vera Zúñiga, jveraz@pucp.edu.pe"
   ]
  },
  {
   "cell_type": "markdown",
   "id": "bfd314eb",
   "metadata": {},
   "source": [
    "### **Proyecto sobre frecuencias de palabras** &#x1F916;!\n",
    "\n",
    "El objetivo de este proyecto es integrar todos los conocimientos de **Python** en un proyecto sobre frecuencias de palabras. Esta tarea, que parece simple, tiene aplicaciones prácticas en diversos ámbitos y está relacionada a preguntas aún a medio responder. "
   ]
  },
  {
   "cell_type": "markdown",
   "id": "80061d7b",
   "metadata": {},
   "source": [
    "## 1. lectura de un texto\n",
    "\n",
    "Elijan un archivo txt de su interés (el texto puede estar en cualquier idioma, aunque una sección podría dificultarse en algunas lenguas). Vamos a usar de ejemplo Funes de Borges. En este sentido, cada proyecto tendrán variaciones. "
   ]
  },
  {
   "cell_type": "code",
   "execution_count": 7,
   "id": "6d5cda06",
   "metadata": {},
   "outputs": [],
   "source": [
    "## texto elegido\n",
    "\n",
    "archivo = open('funes el memorioso-borges.txt', 'r', encoding='utf-8')"
   ]
  },
  {
   "cell_type": "code",
   "execution_count": 8,
   "id": "45d092ee",
   "metadata": {},
   "outputs": [],
   "source": [
    "## leemos el archivo\n",
    "\n",
    "archivo = archivo.read()"
   ]
  },
  {
   "cell_type": "code",
   "execution_count": 9,
   "id": "58d20326",
   "metadata": {},
   "outputs": [
    {
     "data": {
      "text/plain": [
       "'Lo recuerdo (yo no tengo derecho a pronunciar ese verbo sagrado, solo un hombre en la tierra tuvo derecho y ese hombre ha muerto) con una oscura pasionaria en la mano, viéndola como nadie la ha visto, aunque la mirara desde el crepúsculo del día hasta el de la noche, toda una vida entera. Lo recuerdo, la cara taciturna y aindiada y singularmente remota, detrás del cigarrillo. Recuerdo (creo) sus manos afiladas de trenzador. Recuerdo cerca de esas manos un mate, con las armas de la Banda Oriental; recuerdo en la ventana de la casa una estera amarilla, con un vago paisaje lacustre. Recuerdo claramente su voz; la voz pausada, resentida y nasal del orillero antiguo, sin los silbidos italianos de ahora. Más de tres veces no lo vi; la última, en 1887… Me parece muy feliz el proyecto de que todos aquellos que lo trataron escriban sobre él; mi testimonio será acaso el más breve y sin duda el más pobre, pero no el menos imparcial del volumen que editarán ustedes. Mi deplorable condición de argentino me impedirá incurrir en el ditirambo —género obligatorio en el Uruguay, cuando el tema es un uruguayo. Literato, cajetilla, porteño: Funes no dijo esas injuriosas palabras, pero de un modo suficiente me consta que yo representaba para él esas desventuras. Pedro Leandro Ipuche ha escrito que Funes era un precursor de los superhombres; “Un Zarathustra cimarrón y vernáculo”; no lo discuto, pero no hay que olvidar que era también un compadrito de Fray Bentos, con ciertas incurables limitaciones.\\n\\nMi primer recuerdo de Funes es muy perspicuo. Lo veo en un atardecer de marzo o febrero del año ochenta y cuatro. Mi padre, ese año, me había llevado a veranear a Fray Bentos. Yo volvía con mi primo Bernardo Haedo de la estancia de San Francisco. Volvíamos cantando, a caballo, y esa no era la única circunstancia de mi felicidad. Después de un día bochornoso, una enorme tormenta color pizarra había escondido el cielo. La alentaba el viento del Sur, ya se enloquecían los árboles; yo tenía el temor (la esperanza) de que nos sorprendiera en un descampado el agua elemental. Corrimos una especie de carrera con la tormenta. Entramos en un callejón que se ahondaba entre dos veredas altísimas de ladrillo. Había oscurecido de golpe; oí rápidos y casi secretos pasos en lo alto; alcé los ojos y vi un muchacho que corría por la estrecha y rota vereda como por una estrecha y rota pared. Recuerdo la bombacha, las alpargatas, recuerdo el cigarrillo en el duro rostro, contra el nubarrón ya sin límites. Bernardo le gritó imprevisiblemente: ¿Qué horas son, Ireneo? Sin consultar el cielo, sin detenerse, el otro respondió: Faltan cuatro minutos para las ocho, joven Bernardo Juan Francisco. La voz era aguda, burlona.\\n\\nYo soy tan distraído que el diálogo que acabo de referir no me hubiera llamado la atención si no lo hubiera recalcado mi primo, a quien estimulaban (creo) cierto orgullo local, y el deseo de mostrarse indiferente a la réplica tripartita del otro.\\n\\nMe dijo que el muchacho del callejón era un tal Ireneo Funes, mentado por algunas rarezas como la de no darse con nadie y la de saber siempre la hora, como un reloj. Agregó que era hijo de una planchadora del pueblo, María Clementina Funes, y que algunos decían que su padre era un médico del saladero, un inglés O’Connor, y otros un domador o rastreador del departamento del Salto. Vivía con su madre, a la vuelta de la quinta de los Laureles.\\n\\nLos años ochenta y cinco y ochenta y seis veraneamos en la ciudad de Montevideo. El ochenta y siete volví a Fray Bentos. Pregunté, como es natural, por todos los conocidos y, finalmente, por el “cronométrico Funes”. Me contestaron que lo había volteado un redomón en la estancia de San Francisco, y que había quedado tullido, sin esperanza. Recuerdo la impresión de incómoda magia que la noticia me produjo: la única vez que yo lo vi, veníamos a caballo de San Francisco y él andaba en un lugar alto; el hecho, en boca de mi primo Bernardo, tenía mucho de sueño elaborado con elementos anteriores. Me dijeron que no se movía del catre, puestos los ojos en la higuera del fondo o en una telaraña. En los atardeceres, permitía que lo sacaran a la ventana. Llevaba la soberbia hasta el punto de simular que era benéfico el golpe que lo había fulminado… Dos veces lo vi atrás de la reja, que burdamente recalcaba su condición de eterno prisionero: una, inmóvil, con los ojos cerrados; otra, inmóvil también, absorto en la contemplación de un oloroso gajo de santonina.\\n\\nNo sin alguna vanagloria yo había iniciado en aquel tiempo el estudio metódico del latín. Mi valija incluía el De viris illustribus de Lhomond, el Thesaurus de Quicherat, los comentarios de Julio César y un volumen impar de la Naturalis historia de Plinio, que excedía (y sigue excediendo) mis módicas virtudes de latinista. Todo se propala en un pueblo chico; Ireneo, en su rancho de las orillas, no tardó en enterarse del arribo de esos libros anómalos. Me dirigió una carta florida y ceremoniosa, en la que recordaba nuestro encuentro, desdichadamente fugaz, “del día siete de febrero del año ochenta y cuatro”, ponderaba los gloriosos servicios que don Gregorio Haedo, mi tío, finado ese mismo año, “había prestado a las dos patrias en la valerosa jornada de Ituzaingó”, y me solicitaba el préstamo de cualquiera de los volúmenes, acompañado de un diccionario “para la buena inteligencia del texto original, porque todavía ignoro el latín”. Prometía devolverlos en buen estado, casi inmediatamente. La letra era perfecta, muy perfilada; la ortografía, del tipo que Andrés Bello preconizó: i por y, j por g. Al principio, temí naturalmente una broma. Mis primos me aseguraron que no, que eran cosas de Ireneo. No supe si atribuir a descaro, a ignorancia o a estupidez la idea de que el arduo latín no requería más instrumento que un diccionario; para desengañarlo con plenitud le mandé el Gradus ad Parnassum de Quicherat. y la obra de Plinio.\\n\\nEl catorce de febrero me telegrafiaron de Buenos Aires que volviera inmediatamente, porque mi padre no estaba “nada bien”. Dios me perdone; el prestigio de ser el destinatario de un telegrama urgente, el deseo de comunicar a todo Fray Bentos la contradicción entre la forma negativa de la noticia y el perentorio adverbio, la tentación de dramatizar mi dolor, fingiendo un viril estoicismo, tal vez me distrajeron de toda posibilidad de dolor. Al hacer la valija, noté que me faltaban el Gradus y el primer tomo de la Naturalis historia. El “Saturno” zarpaba al día siguiente, por la mañana; esa noche, después de cenar, me encaminé a casa de Funes. Me asombró que la noche fuera no menos pesada que el día.\\n\\nEn el decente rancho, la madre de Funes me recibió. Me dijo que Ireneo estaba en la pieza del fondo y que no me extrañara encontrarla a oscuras, porque Ireneo sabía pasarse las horas muertas sin encender la vela. Atravesé el patio de baldosa, el corredorcito; llegué al segundo patio. Había una parra; la oscuridad pudo parecerme total. Oí de pronto la alta y burlona voz de Ireneo. Esa voz hablaba en latín; esa voz (que venía de la tiniebla) articulaba con moroso deleite un discurso o plegaria o incantación. Resonaron las sílabas romanas en el patio de tierra; mi temor las creía indescifrables, interminables; después, en el enorme diálogo de esa noche, supe que formaban el primer párrafo del vigésimocuarto capítulo del libro séptimo de la Naturalis historia. La materia de ese capítulo es la memoria; las palabras últimas fueron ut nihil non usdem verbis redderetur auditum.\\n\\nSin el menor cambio de voz, Ireneo me dijo que pasara. Estaba en el catre, fumando. Me parece que no le vi la cara hasta el alba; creo rememorar el ascua momentánea del cigarrillo. La pieza olía vagamente a humedad. Me senté; repetí la historia del telegrama y de la enfermedad de mi padre. Arribo, ahora, al más difícil punto de mi relato. Este (bueno es que ya lo sepa el lector) no tiene otro argumento que ese diálogo de hace ya medio siglo. No trataré de reproducir sus palabras, irrecuperables ahora. Prefiero resumir con veracidad las muchas cosas que me dijo Ireneo. El estilo indirecto es remoto y débil; yo sé que sacrifico la eficacia de mi relato; que mis lectores se imaginen los entrecortados períodos que me abrumaron esa noche.\\n\\nIreneo empezó por enumerar, en latín y español, los casos de memoria prodigiosa registrados por la Naturalis historia: Ciro, rey de los persas, que sabía llamar por su nombre a todos los soldados de sus ejércitos; Mitrídates Eupator, que administraba la justicia en los 22 idiomas de su imperio; Simónides, inventor de la mnemotecnia; Metrodoro, que profesaba el arte de repetir con fidelidad lo escuchado una sola vez. Con evidente buena fe se maravilló de que tales casos maravillaran. Me dijo que antes de esa tarde lluviosa en que lo volteó el azulejo, él había sido lo que son todos los cristianos: un ciego, un sordo, un abombado, un desmemoriado. (Traté de recordarle su percepción exacta del tiempo, su memoria de nombres propios; no me hizo caso.) Diecinueve años había vivido como quien sueña: miraba sin ver, oía sin oír, se olvidaba de todo, de casi todo. Al caer, perdió el conocimiento; cuando lo recobró, el presente era casi intolerable de tan rico y tan nítido, y también las memorias más antiguas y más triviales. Poco después averiguó que estaba tullido. El hecho apenas le interesó. Razonó (sintió) que la inmovilidad era un precio mínimo. Ahora su percepción y su memoria eran infalibles.\\n\\nNosotros, de un vistazo, percibimos tres copas en una mesa; Funes, todos los vástagos y racimos y frutos que comprende una parra. Sabía las formas de las nubes australes del amanecer del treinta de abril de mil ochocientos ochenta y dos y podía compararlas en el recuerdo con las vetas de un libro en pasta española que solo había mirado una vez y con las líneas de la espuma que un remo levantó en el Río Negro la víspera de la acción del Quebracho. Esos recuerdos no eran simples; cada imagen visual estaba ligada a sensaciones musculares, térmicas, etc. Podía reconstruir todos los sueños, todos los entresueños. Dos o tres veces había reconstruido un día entero; no había dudado nunca, pero cada reconstrucción había requerido un día entero. Me dijo: Más recuerdos tengo yo solo que los que habrán tenido todos los hombres desde que el mundo es mundo. Y también: Mis sueños son como 1a vigilia de ustedes. Y también, hacia el alba: Mi memoría, señor, es como vacíadero de basuras. Una circunferencia en un pizarrón, un triángulo rectángulo, un rombo, son formas que podemos intuir plenamente; lo mismo le pasaba a Ireneo con las aborrascadas crines de un potro, con una punta de ganado en una cuchilla, con el fuego cambiante y con la innumerable ceniza, con las muchas caras de un muerto en un largo velorio. No sé cuántas estrellas veía en el cielo.\\n\\nEsas cosas me dijo; ni entonces ni después las he puesto en duda. En aquel tiempo no había cinematógrafos ni fonógrafos; es, sin embargo, inverosímil y hasta increíble que nadie hiciera un experimento con Funes. Lo cierto es que vivimos postergando todo lo postergable; tal vez todos sabemos profundamente que somos inmortales y que tarde o temprano, todo hombre hará todas las cosas y sabrá todo.\\n\\nLa voz de Funes, desde la oscuridad, seguía hablando.\\n\\nMe dijo que hacia 1886 había discurrido un sistema original de numeración y que en muy pocos días había rebasado el veinticuatro mil. No lo había escrito, porque lo pensado una sola vez ya no podía borrársele. Su primer estímulo, creo, fue el desagrado de que los treinta y tres orientales requirieran dos signos y tres palabras, en lugar de una sola palabra y un solo signo. Aplicó luego ese disparatado principio a los otros números. En lugar de siete mil trece, decía (por ejemplo) Máximo Pérez; en lugar de siete mil catorce, El Ferrocarril; otros números eran Luis Melián Lafinur, Olimar, azufre, los bastos, la ballena, gas, la caldera, Napoleón, Agustín Vedia. En lugar de quinientos, decía nueve. Cada palabra tenía un signo particular, una especie marca; las últimas muy complicadas… Yo traté de explicarle que esa rapsodia de voces inconexas era precisamente lo contrario de un sistema numeración. Le dije que decir 365 era decir tres centenas, seis decenas, cinco unidades; análisis no existe en los “números” El Negro Timoteo o manta de carne. Funes no me entendió o no quiso entenderme.\\n\\nLocke, en el siglo XVII, postuló (y reprobó) un idioma imposible en el que cada cosa individual, cada piedra, cada pájaro y cada rama tuviera nombre propio; Funes proyectó alguna vez un idioma análogo, pero lo desechó por parecerle demasiado general, demasiado ambiguo. En efecto, Funes no solo recordaba cada hoja de cada árbol de cada monte, sino cada una de las veces que la había percibido o imaginado. Resolvió reducir cada una de sus jornadas pretéritas a unos setenta mil recuerdos, que definiría luego por cifras. Lo disuadieron dos consideraciones: la conciencia de que la tarea era interminable, la conciencia de que era inútil. Pensó que en la hora de la muerte no habría acabado aún de clasificar todos los recuerdos de la niñez.\\n\\nLos dos proyectos que he indicado (un vocabulario infinito para serie natural de los números, un inútil catálogo mental de todas las imágenes del recuerdo) son insensatos, pero revelan cierta balbuciente grandeza. Nos dejan vislumbrar o inferir el vertiginoso mundo de Funes. Este, no lo olvidemos, era casi incapaz de ideas generales, platónicas. No solo le costaba comprender que el símbolo genérico perro abarcara tantos individuos dispares de diversos tamaños y diversa forma; le molestaba que el perro de las tres y catorce (visto de perfil) tuviera el mismo nombre que el perro de las tres y cuarto (visto de frente). Su propia cara en el espejo, sus propias manos, lo sorprendían cada vez. Refiere Swift que el emperador de Lilliput discernía el movimiento del minutero; Funes discernía continuamente los tranquilos avances de la corrupción, de las caries, de la fatiga. Notaba los progresos de la muerte, de la humedad. Era el solitario y lúcido espectador de un mundo multiforme, instantáneo y casi intolerablemente preciso. Babilonia, Londres y Nueva York han abrumado con feroz esplendor la imaginación de los hombres; nadie, en sus torres populosas o en sus avenidas urgentes, ha sentido el calor y la presión de una realidad tan infatigable como la que día y noche convergía sobre el infeliz Ireneo, en su pobre arrabal sudamericano. Le era muy difícil dormir. Dormir es distraerse del mundo; Funes, de espaldas en el catre, en la sombra, se figuraba cada grieta y cada moldura de las casas precisas que lo rodeaban. (Repito que el menos importante de sus recuerdos era más minucioso y más vivo que nuestra percepción de un goce físico o de un tormento físico.) Hacia el Este, en un trecho no amanzanado, había casas nuevas, desconocidas. Funes las imaginaba negras, compactas, hechas de tiniebla homogénea; en esa dirección volvía la cara para dormir. También solía imaginarse en el fondo del río, mecido y anulado por la corriente.\\n\\nHabía aprendido sin esfuerzo el inglés, el francés, el portugués, el latín. Sospecho, sin embargo, que no era muy capaz de pensar. Pensar es olvidar diferencias, es generalizar, abstraer. En el abarrotado mundo de Funes no había sino detalles, casi inmediatos.\\n\\nLa recelosa claridad de la madrugada entró por el patio de tierra.\\n\\nEntonces vi la cara de la voz que toda la noche había hablado. Ireneo tenía diecinueve años; había nacido en 1868; me pareció monumental como el bronce, más antiguo que Egipto, anterior a las profecías y a las pirámides. Pensé que cada una de mis palabras (que cada uno de mis gestos) perduraría en su implacable memoria; me entorpeció el temor de multiplicar ademanes inútiles.\\n\\nIreneo Funes murió en 1889, de una congestión pulmonar.'"
      ]
     },
     "execution_count": 9,
     "metadata": {},
     "output_type": "execute_result"
    }
   ],
   "source": [
    "archivo"
   ]
  },
  {
   "cell_type": "markdown",
   "id": "29107a70",
   "metadata": {},
   "source": [
    "## 2. Pre-procesamiento del texto\n",
    "\n",
    "En esta etapa, debemos **preparar** el string para poder hacer cálculos de frecuencias. Construya un código que:\n",
    "    \n",
    "- Baje el string a minúscula\n",
    "- Remueva signos de puntuación: esto va a depender de su texto!"
   ]
  },
  {
   "cell_type": "markdown",
   "id": "67dc9afb",
   "metadata": {},
   "source": [
    "## 3. Pre-procesamiento del texto\n",
    "\n",
    "Con el texto ya **pre-procesado** (o **limpio**, como dicen por ahi), hacemos algunos códigos entretenidos:\n",
    "    \n",
    "- Construya un código que transforme el string en una lista de tokens. Revise si el pre-procesamiento estuvo correcto, si no corríjalo :) Identifique los types de la lista anterior."
   ]
  },
  {
   "cell_type": "markdown",
   "id": "27ee3df2",
   "metadata": {},
   "source": [
    "## 4. Frecuencias\n",
    "\n",
    "- Construya un código que recorra los types y cuente cuántas veces aparecen en la lista de tokens. Haga esto de dos formas distintas :O\n",
    "- Una primera forma es contar cuántas veces aparece un type usando .count.\n",
    "- Otra forma, más elegante, es definir una lista de ceros del mismo largo que la lista de types. Después recorremos la lista de tokens, y para cada token sumamos 1 en la posición donde está ese token en la lista de types :)\n",
    "- ¿Cuál es la palabra más frecuente, la segunda más frecuente, la menos frecuente? \n",
    "- ¿Qué puede observar?"
   ]
  },
  {
   "cell_type": "markdown",
   "id": "120def15",
   "metadata": {},
   "source": [
    "## 5. Filtremos stopwords\n",
    "\n",
    "En esta etapa, vamos a revisar un concepto importante: las stopwords. Tradicionalmente, en asuntos de procesamiento del lenguaje natural es habitual remover ciertas palabras: ¿Cuáles? Las más frecuentes! Y por qué? En una lengua como el español, las palabras más frecuentes siguen dos principios interesantes:\n",
    "\n",
    "1. Las palabras más frecuentes son mucho más frecuentes que las menos frecuentes ([ver](https://en.wikipedia.org/wiki/Zipf%27s_law))\n",
    "2. Las palabras más frecuentes tienen significados **difusos.**\n",
    "\n",
    "¿Cómo filtramos las stopwords?\n",
    "\n",
    "- Cree un código que identifique el X% de los types más frecuentes (elija un X razonable). Pueden usar este [link](https://stackoverflow.com/questions/6422700/how-to-get-indices-of-a-sorted-array-in-python). Les puede servir esta forma: [[type,frecuencia],...] y usar este [link](https://stackoverflow.com/questions/4174941/how-to-sort-a-list-of-lists-by-a-specific-index-of-the-inner-list). No es necesario tratar de entender esos links, si les funciona estamos ok!\n",
    "- Remueva el X% de los types más frecuentes: ¿Cuáles son ahora las palabras más frecuentes?\n",
    "- Otra forma de hacer esto: nltk! instale nltk. Escriba"
   ]
  },
  {
   "cell_type": "code",
   "execution_count": 10,
   "id": "80e5d826",
   "metadata": {},
   "outputs": [
    {
     "name": "stdout",
     "output_type": "stream",
     "text": [
      "Requirement already satisfied: nltk in c:\\users\\jxver\\anaconda3\\lib\\site-packages (3.6.1)\n",
      "Requirement already satisfied: regex in c:\\users\\jxver\\anaconda3\\lib\\site-packages (from nltk) (2021.4.4)\n",
      "Requirement already satisfied: tqdm in c:\\users\\jxver\\anaconda3\\lib\\site-packages (from nltk) (4.62.3)\n",
      "Requirement already satisfied: joblib in c:\\users\\jxver\\anaconda3\\lib\\site-packages (from nltk) (1.1.0)\n",
      "Requirement already satisfied: click in c:\\users\\jxver\\anaconda3\\lib\\site-packages (from nltk) (8.0.3)\n",
      "Requirement already satisfied: colorama in c:\\users\\jxver\\anaconda3\\lib\\site-packages (from click->nltk) (0.4.4)\n"
     ]
    },
    {
     "name": "stderr",
     "output_type": "stream",
     "text": [
      "WARNING: You are using pip version 21.3.1; however, version 23.0.1 is available.\n",
      "You should consider upgrading via the 'c:\\users\\jxver\\anaconda3\\python.exe -m pip install --upgrade pip' command.\n"
     ]
    }
   ],
   "source": [
    "## instalar nltk\n",
    "!pip install nltk"
   ]
  },
  {
   "cell_type": "code",
   "execution_count": 11,
   "id": "30ee4028",
   "metadata": {},
   "outputs": [
    {
     "name": "stderr",
     "output_type": "stream",
     "text": [
      "[nltk_data] Downloading collection 'popular'\n",
      "[nltk_data]    | \n",
      "[nltk_data]    | Downloading package cmudict to\n",
      "[nltk_data]    |     C:\\Users\\jxver\\AppData\\Roaming\\nltk_data...\n",
      "[nltk_data]    |   Unzipping corpora\\cmudict.zip.\n",
      "[nltk_data]    | Downloading package gazetteers to\n",
      "[nltk_data]    |     C:\\Users\\jxver\\AppData\\Roaming\\nltk_data...\n",
      "[nltk_data]    |   Unzipping corpora\\gazetteers.zip.\n",
      "[nltk_data]    | Downloading package genesis to\n",
      "[nltk_data]    |     C:\\Users\\jxver\\AppData\\Roaming\\nltk_data...\n",
      "[nltk_data]    |   Unzipping corpora\\genesis.zip.\n",
      "[nltk_data]    | Downloading package gutenberg to\n",
      "[nltk_data]    |     C:\\Users\\jxver\\AppData\\Roaming\\nltk_data...\n",
      "[nltk_data]    |   Package gutenberg is already up-to-date!\n",
      "[nltk_data]    | Downloading package inaugural to\n",
      "[nltk_data]    |     C:\\Users\\jxver\\AppData\\Roaming\\nltk_data...\n",
      "[nltk_data]    |   Unzipping corpora\\inaugural.zip.\n",
      "[nltk_data]    | Downloading package movie_reviews to\n",
      "[nltk_data]    |     C:\\Users\\jxver\\AppData\\Roaming\\nltk_data...\n",
      "[nltk_data]    |   Unzipping corpora\\movie_reviews.zip.\n",
      "[nltk_data]    | Downloading package names to\n",
      "[nltk_data]    |     C:\\Users\\jxver\\AppData\\Roaming\\nltk_data...\n",
      "[nltk_data]    |   Unzipping corpora\\names.zip.\n",
      "[nltk_data]    | Downloading package shakespeare to\n",
      "[nltk_data]    |     C:\\Users\\jxver\\AppData\\Roaming\\nltk_data...\n",
      "[nltk_data]    |   Unzipping corpora\\shakespeare.zip.\n",
      "[nltk_data]    | Downloading package stopwords to\n",
      "[nltk_data]    |     C:\\Users\\jxver\\AppData\\Roaming\\nltk_data...\n",
      "[nltk_data]    |   Unzipping corpora\\stopwords.zip.\n",
      "[nltk_data]    | Downloading package treebank to\n",
      "[nltk_data]    |     C:\\Users\\jxver\\AppData\\Roaming\\nltk_data...\n",
      "[nltk_data]    |   Unzipping corpora\\treebank.zip.\n",
      "[nltk_data]    | Downloading package twitter_samples to\n",
      "[nltk_data]    |     C:\\Users\\jxver\\AppData\\Roaming\\nltk_data...\n",
      "[nltk_data]    |   Unzipping corpora\\twitter_samples.zip.\n",
      "[nltk_data]    | Downloading package omw to\n",
      "[nltk_data]    |     C:\\Users\\jxver\\AppData\\Roaming\\nltk_data...\n",
      "[nltk_data]    | Downloading package omw-1.4 to\n",
      "[nltk_data]    |     C:\\Users\\jxver\\AppData\\Roaming\\nltk_data...\n",
      "[nltk_data]    | Downloading package wordnet to\n",
      "[nltk_data]    |     C:\\Users\\jxver\\AppData\\Roaming\\nltk_data...\n",
      "[nltk_data]    |   Package wordnet is already up-to-date!\n",
      "[nltk_data]    | Downloading package wordnet2021 to\n",
      "[nltk_data]    |     C:\\Users\\jxver\\AppData\\Roaming\\nltk_data...\n",
      "[nltk_data]    | Downloading package wordnet31 to\n",
      "[nltk_data]    |     C:\\Users\\jxver\\AppData\\Roaming\\nltk_data...\n",
      "[nltk_data]    | Downloading package wordnet_ic to\n",
      "[nltk_data]    |     C:\\Users\\jxver\\AppData\\Roaming\\nltk_data...\n",
      "[nltk_data]    |   Unzipping corpora\\wordnet_ic.zip.\n",
      "[nltk_data]    | Downloading package words to\n",
      "[nltk_data]    |     C:\\Users\\jxver\\AppData\\Roaming\\nltk_data...\n",
      "[nltk_data]    |   Unzipping corpora\\words.zip.\n",
      "[nltk_data]    | Downloading package maxent_ne_chunker to\n",
      "[nltk_data]    |     C:\\Users\\jxver\\AppData\\Roaming\\nltk_data...\n",
      "[nltk_data]    |   Unzipping chunkers\\maxent_ne_chunker.zip.\n",
      "[nltk_data]    | Downloading package punkt to\n",
      "[nltk_data]    |     C:\\Users\\jxver\\AppData\\Roaming\\nltk_data...\n",
      "[nltk_data]    |   Unzipping tokenizers\\punkt.zip.\n",
      "[nltk_data]    | Downloading package snowball_data to\n",
      "[nltk_data]    |     C:\\Users\\jxver\\AppData\\Roaming\\nltk_data...\n",
      "[nltk_data]    | Downloading package averaged_perceptron_tagger to\n",
      "[nltk_data]    |     C:\\Users\\jxver\\AppData\\Roaming\\nltk_data...\n",
      "[nltk_data]    |   Unzipping taggers\\averaged_perceptron_tagger.zip.\n",
      "[nltk_data]    | \n",
      "[nltk_data]  Done downloading collection popular\n"
     ]
    },
    {
     "data": {
      "text/plain": [
       "True"
      ]
     },
     "execution_count": 11,
     "metadata": {},
     "output_type": "execute_result"
    }
   ],
   "source": [
    "## importamos la librería\n",
    "\n",
    "import nltk\n",
    "nltk.download('popular')"
   ]
  },
  {
   "cell_type": "code",
   "execution_count": 12,
   "id": "8c7ecfdf",
   "metadata": {},
   "outputs": [],
   "source": [
    "## definimos las stopwords (palabras que queremos remover)\n",
    "## las importamos\n",
    "from nltk.corpus import stopwords\n",
    "\n",
    "stop_words_sp = list(stopwords.words('spanish')) ## español\n",
    "stop_words_en = list(stopwords.words('english')) ## inglés"
   ]
  },
  {
   "cell_type": "code",
   "execution_count": 14,
   "id": "957731ee",
   "metadata": {},
   "outputs": [],
   "source": [
    "## ahora remueva estas palabras de su lista de tokens, y luego cuente frecuencias!"
   ]
  },
  {
   "cell_type": "code",
   "execution_count": null,
   "id": "10e28ced",
   "metadata": {},
   "outputs": [],
   "source": []
  }
 ],
 "metadata": {
  "kernelspec": {
   "display_name": "Python 3",
   "language": "python",
   "name": "python3"
  },
  "language_info": {
   "codemirror_mode": {
    "name": "ipython",
    "version": 3
   },
   "file_extension": ".py",
   "mimetype": "text/x-python",
   "name": "python",
   "nbconvert_exporter": "python",
   "pygments_lexer": "ipython3",
   "version": "3.8.8"
  }
 },
 "nbformat": 4,
 "nbformat_minor": 5
}
