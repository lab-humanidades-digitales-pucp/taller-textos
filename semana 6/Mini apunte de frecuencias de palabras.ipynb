{
 "cells": [
  {
   "cell_type": "markdown",
   "id": "f2eda5c0",
   "metadata": {},
   "source": [
    "## pre-procesamiento!"
   ]
  },
  {
   "cell_type": "code",
   "execution_count": 1,
   "id": "d1d996dd",
   "metadata": {},
   "outputs": [],
   "source": [
    "## texto elegido\n",
    "archivo = open('funes el memorioso-borges.txt', 'r', encoding='utf-8')"
   ]
  },
  {
   "cell_type": "code",
   "execution_count": 2,
   "id": "851b7c27",
   "metadata": {},
   "outputs": [],
   "source": [
    "## leemos el archivo!\n",
    "archivo = archivo.read()"
   ]
  },
  {
   "cell_type": "code",
   "execution_count": 6,
   "id": "da9be0f1",
   "metadata": {},
   "outputs": [
    {
     "data": {
      "text/plain": [
       "'Lo recuerdo (yo no tengo derecho a pronunciar ese verbo sagrado, solo un hombre en la tierra tuvo de'"
      ]
     },
     "execution_count": 6,
     "metadata": {},
     "output_type": "execute_result"
    }
   ],
   "source": [
    "## visualizamos los primeros 100 caracteres\n",
    "archivo[:100]"
   ]
  },
  {
   "cell_type": "code",
   "execution_count": 8,
   "id": "e0a3d6f9",
   "metadata": {},
   "outputs": [],
   "source": [
    "## bajamos a minúscula y eliminamos puntuación\n",
    "\n",
    "## importamos la librería string\n",
    "import string\n",
    "\n",
    "## guardamos en una lista la puntuación\n",
    "lista_puntuacion = list(string.punctuation) + ['…','—','“','”','\\n']\n",
    "\n",
    "## bajamos a minúscula\n",
    "texto = archivo.lower()\n",
    "\n",
    "## recorremos cada signo de puntuación y usamos replace :)\n",
    "for signo in lista_puntuacion:\n",
    "    ## en cada paso, borramos un signo de puntuación\n",
    "    texto = texto.replace(signo,'')"
   ]
  },
  {
   "cell_type": "code",
   "execution_count": 10,
   "id": "3e03fb81",
   "metadata": {},
   "outputs": [
    {
     "data": {
      "text/plain": [
       "'lo recuerdo yo no tengo derecho a pronunciar ese verbo sagrado solo un hombre en la tierra tuvo dere'"
      ]
     },
     "execution_count": 10,
     "metadata": {},
     "output_type": "execute_result"
    }
   ],
   "source": [
    "## revisamos los primeros 100 caracteres\n",
    "texto[:100]"
   ]
  },
  {
   "cell_type": "markdown",
   "id": "fe65cdfa",
   "metadata": {},
   "source": [
    "## frecuencias de una palabra!\n",
    "\n",
    "En un primer paso, nos gustaría saber cuántas veces aparece una palabra, por ejemplo el string 'derecho'. Esto puede hacerse de tres formas (al menos):"
   ]
  },
  {
   "cell_type": "code",
   "execution_count": 11,
   "id": "a872250f",
   "metadata": {},
   "outputs": [],
   "source": [
    "## forma 1: directamente en el string!\n",
    "f = texto.count('derecho')"
   ]
  },
  {
   "cell_type": "code",
   "execution_count": 12,
   "id": "009cca31",
   "metadata": {},
   "outputs": [
    {
     "data": {
      "text/plain": [
       "2"
      ]
     },
     "execution_count": 12,
     "metadata": {},
     "output_type": "execute_result"
    }
   ],
   "source": [
    "f"
   ]
  },
  {
   "cell_type": "code",
   "execution_count": 19,
   "id": "31da398b",
   "metadata": {},
   "outputs": [],
   "source": [
    "## forma 2: contamos en la lista que construimos desde la lista que extraemos desde el string!\n",
    "lista_tokens = texto.split(' ')\n",
    "\n",
    "## contamos!\n",
    "f = lista_tokens.count('derecho')"
   ]
  },
  {
   "cell_type": "code",
   "execution_count": 20,
   "id": "71dee98e",
   "metadata": {},
   "outputs": [
    {
     "data": {
      "text/plain": [
       "2"
      ]
     },
     "execution_count": 20,
     "metadata": {},
     "output_type": "execute_result"
    }
   ],
   "source": [
    "f"
   ]
  },
  {
   "cell_type": "code",
   "execution_count": 21,
   "id": "2d473027",
   "metadata": {},
   "outputs": [],
   "source": [
    "## forma 3: recorremos lista_tokens y si un string es igual a 'derecho' sumamos 1 a f, que parte \n",
    "## en 0\n",
    "\n",
    "## partimos en 0\n",
    "f = 0\n",
    "\n",
    "## recorremos lista_tokens\n",
    "for palabra in lista_tokens:\n",
    "    ## condición: palabra == 'derecho'\n",
    "    if palabra == 'derecho':\n",
    "        ## sumamos 1 :)\n",
    "        f = f + 1"
   ]
  },
  {
   "cell_type": "code",
   "execution_count": 22,
   "id": "4f0a2863",
   "metadata": {},
   "outputs": [
    {
     "data": {
      "text/plain": [
       "2"
      ]
     },
     "execution_count": 22,
     "metadata": {},
     "output_type": "execute_result"
    }
   ],
   "source": [
    "f"
   ]
  },
  {
   "cell_type": "markdown",
   "id": "99d32485",
   "metadata": {},
   "source": [
    "Un punto importante (quizás, el más importante) es que aquí estamos mirando la frecuencia de una palabra que sabemos que está en el texto. Sin embargo, ¿Cómo identificamos todas las palabras distintas del texto, y así podemos **contar** cuántas veces aparecen en el texto? Esto nos lleva a 1° identificar las palabras distintas, los **types**, y luego 2° contar cuántas veces aparece cada type. "
   ]
  },
  {
   "cell_type": "markdown",
   "id": "b64501c0",
   "metadata": {},
   "source": [
    "Identificamos los **types!**"
   ]
  },
  {
   "cell_type": "code",
   "execution_count": 23,
   "id": "ef13f04c",
   "metadata": {},
   "outputs": [],
   "source": [
    "## partimos por una lista vacía\n",
    "lista_types = []\n",
    "\n",
    "## recorremos la lista lista_tokens\n",
    "for palabra in lista_tokens:\n",
    "    ## condición: solo guardamos, si la variable palabra\n",
    "    ## NO está en la lista lista_types\n",
    "    if palabra not in lista_types:\n",
    "        ## guardamos\n",
    "        lista_types = lista_types + [palabra]"
   ]
  },
  {
   "cell_type": "markdown",
   "id": "7e26e8ed",
   "metadata": {},
   "source": [
    "Con esto, podemos contar cuántas veces aparece cada type de varias formas. Hay dos formas interesantes:\n",
    "\n",
    "- recorrer los **types**, y para cada type usar .count en la lista lista_tokens\n",
    "- recorrer los **tokens**, y para cada token sumar 1 en un contador que parte en 0 para cada type :D"
   ]
  },
  {
   "cell_type": "markdown",
   "id": "9e86a932",
   "metadata": {},
   "source": [
    "## Recorremos los **types!**"
   ]
  },
  {
   "cell_type": "code",
   "execution_count": 24,
   "id": "cdaec53a",
   "metadata": {},
   "outputs": [],
   "source": [
    "## guardamos los resultados en una lista\n",
    "resultados = []\n",
    "\n",
    "## recorremos la lista lista_types\n",
    "for palabra in lista_types:\n",
    "    ## contamos cuántas veces aparece en lista_tokes\n",
    "    resultados = resultados + [lista_tokens.count(palabra)]"
   ]
  },
  {
   "cell_type": "code",
   "execution_count": 25,
   "id": "d5783b1d",
   "metadata": {},
   "outputs": [
    {
     "data": {
      "text/plain": [
       "[29, 12, 9, 38, 2, 2, 25, 1, 7, 1]"
      ]
     },
     "execution_count": 25,
     "metadata": {},
     "output_type": "execute_result"
    }
   ],
   "source": [
    "resultados[:10]"
   ]
  },
  {
   "cell_type": "code",
   "execution_count": 26,
   "id": "78446ac1",
   "metadata": {},
   "outputs": [],
   "source": [
    "## Recorremos los tokens!\n",
    "\n",
    "## guardamos los resultados en una lista de ceros, tantos ceros como types ¿Por qué?\n",
    "resultados = []\n",
    "\n",
    "## llenamos de ceros\n",
    "for palabra in lista_types:\n",
    "    ## agregamos un cero por cada type\n",
    "    resultados = resultados + [0]"
   ]
  },
  {
   "cell_type": "code",
   "execution_count": null,
   "id": "409d3f5a",
   "metadata": {},
   "outputs": [],
   "source": []
  }
 ],
 "metadata": {
  "kernelspec": {
   "display_name": "Python 3",
   "language": "python",
   "name": "python3"
  },
  "language_info": {
   "codemirror_mode": {
    "name": "ipython",
    "version": 3
   },
   "file_extension": ".py",
   "mimetype": "text/x-python",
   "name": "python",
   "nbconvert_exporter": "python",
   "pygments_lexer": "ipython3",
   "version": "3.8.8"
  }
 },
 "nbformat": 4,
 "nbformat_minor": 5
}
