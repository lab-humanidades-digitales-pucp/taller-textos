{
 "cells": [
  {
   "cell_type": "code",
   "execution_count": 1,
   "id": "f1a4e773",
   "metadata": {},
   "outputs": [],
   "source": [
    "## Supongamos que queremos borrar muchos signos de puntuación, entonces los ponemos en una lista\n",
    "\n",
    "lista_punt = ['.',':',';','\"','?'] ## agrega los que necesites"
   ]
  },
  {
   "cell_type": "code",
   "execution_count": 4,
   "id": "9e444c68",
   "metadata": {},
   "outputs": [],
   "source": [
    "## otra forma: usamos una librería\n",
    "import string\n",
    "\n",
    "## esta lista queda bien completa\n",
    "lista_punct = list(string.punctuation)"
   ]
  },
  {
   "cell_type": "code",
   "execution_count": 5,
   "id": "173028a4",
   "metadata": {},
   "outputs": [],
   "source": [
    "## ahora recorremos cada elemento de lista_punct, ya vamos borrando\n",
    "string_original = 'hola! cómo estás?'"
   ]
  },
  {
   "cell_type": "code",
   "execution_count": 6,
   "id": "d434bed1",
   "metadata": {},
   "outputs": [],
   "source": [
    "## recorremos los puntos!\n",
    "for puntuacion in lista_punct:\n",
    "    ## borramos\n",
    "    string_original = string_original.replace(puntuacion,'')"
   ]
  },
  {
   "cell_type": "code",
   "execution_count": 7,
   "id": "55497d7d",
   "metadata": {},
   "outputs": [
    {
     "data": {
      "text/plain": [
       "'hola cómo estás'"
      ]
     },
     "execution_count": 7,
     "metadata": {},
     "output_type": "execute_result"
    }
   ],
   "source": [
    "string_original"
   ]
  },
  {
   "cell_type": "code",
   "execution_count": null,
   "id": "9d0e6e67",
   "metadata": {},
   "outputs": [],
   "source": []
  }
 ],
 "metadata": {
  "kernelspec": {
   "display_name": "Python 3",
   "language": "python",
   "name": "python3"
  },
  "language_info": {
   "codemirror_mode": {
    "name": "ipython",
    "version": 3
   },
   "file_extension": ".py",
   "mimetype": "text/x-python",
   "name": "python",
   "nbconvert_exporter": "python",
   "pygments_lexer": "ipython3",
   "version": "3.8.8"
  }
 },
 "nbformat": 4,
 "nbformat_minor": 5
}
