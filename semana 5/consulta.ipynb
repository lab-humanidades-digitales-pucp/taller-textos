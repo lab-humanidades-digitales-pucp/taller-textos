{
 "cells": [
  {
   "cell_type": "code",
   "execution_count": 1,
   "id": "381eec46",
   "metadata": {},
   "outputs": [],
   "source": [
    "## elementos\n",
    "L = ['palabra','palabra','otra palabra','otra otra palabra']\n",
    "\n",
    "## lista vacía\n",
    "Lu = []"
   ]
  },
  {
   "cell_type": "code",
   "execution_count": 2,
   "id": "8f6450e5",
   "metadata": {},
   "outputs": [],
   "source": [
    "## variables\n",
    "p = L[0]\n",
    "a = L[1]\n",
    "l = L[2]\n",
    "b = L[3]"
   ]
  },
  {
   "cell_type": "code",
   "execution_count": 4,
   "id": "f7bd48ce",
   "metadata": {},
   "outputs": [
    {
     "name": "stdout",
     "output_type": "stream",
     "text": [
      "['palabra']\n"
     ]
    }
   ],
   "source": [
    "## condición \n",
    "if (p in L) and (p not in Lu):\n",
    "    print([p]) in Lu"
   ]
  },
  {
   "cell_type": "markdown",
   "id": "8f79f8da",
   "metadata": {},
   "source": [
    "En esta condición, estás imprimiendo \"[p]\", pero no la estás agregando a Lu. Mejor no usemos print() :) Para eso, debemos agregar el elemento p a Lu. Esto se hace con la típica asignación de variables"
   ]
  },
  {
   "cell_type": "code",
   "execution_count": 6,
   "id": "20376ae6",
   "metadata": {},
   "outputs": [],
   "source": [
    "## en vez de lo anterior, podemos poner\n",
    "\n",
    "## condición \n",
    "if (p in L) and (p not in Lu):\n",
    "    ## ahora lo estamos agregando!\n",
    "    Lu = Lu + [p]"
   ]
  },
  {
   "cell_type": "code",
   "execution_count": 7,
   "id": "924d32e3",
   "metadata": {},
   "outputs": [
    {
     "data": {
      "text/plain": [
       "['palabra']"
      ]
     },
     "execution_count": 7,
     "metadata": {},
     "output_type": "execute_result"
    }
   ],
   "source": [
    "## revisamos\n",
    "Lu"
   ]
  },
  {
   "cell_type": "code",
   "execution_count": 8,
   "id": "230a94e4",
   "metadata": {},
   "outputs": [],
   "source": [
    "## otro mini cambio que podemos hacer está en la proposición: (p in L) and (p not in Lu). Si te fijas, la primera parte es\n",
    "## siempre verdadera, justamente porque p es un elemento de L. Entonces es equivalente que la saquemos, es decir,\n",
    "\n",
    "## lista vacía\n",
    "Lu = []\n",
    "\n",
    "## condición \n",
    "if p not in Lu:\n",
    "    ## ahora lo estamos agregando!\n",
    "    Lu = Lu + [p]"
   ]
  },
  {
   "cell_type": "code",
   "execution_count": 9,
   "id": "05ca9737",
   "metadata": {},
   "outputs": [
    {
     "data": {
      "text/plain": [
       "['palabra']"
      ]
     },
     "execution_count": 9,
     "metadata": {},
     "output_type": "execute_result"
    }
   ],
   "source": [
    "Lu"
   ]
  },
  {
   "cell_type": "code",
   "execution_count": 10,
   "id": "7bbfa530",
   "metadata": {},
   "outputs": [],
   "source": [
    "## ahora puedes seguir con las otras palabras!"
   ]
  },
  {
   "cell_type": "code",
   "execution_count": null,
   "id": "fefe994d",
   "metadata": {},
   "outputs": [],
   "source": []
  }
 ],
 "metadata": {
  "kernelspec": {
   "display_name": "Python 3",
   "language": "python",
   "name": "python3"
  },
  "language_info": {
   "codemirror_mode": {
    "name": "ipython",
    "version": 3
   },
   "file_extension": ".py",
   "mimetype": "text/x-python",
   "name": "python",
   "nbconvert_exporter": "python",
   "pygments_lexer": "ipython3",
   "version": "3.8.8"
  }
 },
 "nbformat": 4,
 "nbformat_minor": 5
}
