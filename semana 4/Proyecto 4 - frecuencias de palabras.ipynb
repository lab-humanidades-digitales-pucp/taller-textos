{
 "cells": [
  {
   "cell_type": "markdown",
   "id": "792f12b1",
   "metadata": {},
   "source": [
    "# **Análisis automático de textos en Humanidades**\n",
    "### Javier Vera Zúñiga, jveraz@pucp.edu.pe"
   ]
  },
  {
   "cell_type": "markdown",
   "id": "bfd314eb",
   "metadata": {},
   "source": [
    "**Proyecto 4: Frecuencias de palabras en un texto**\n",
    "\n",
    "**Fecha:** lunes 20 de febrero. \n",
    "\n",
    "**Modalidad:**  grupos de 1, 2 o 3 personas. Si trabajan en grupo, traten de que cada miembro participe de una forma equivalente. \n",
    "\n",
    "En este proyecto, trataremos de acercarnos a la siguiente pregunta:\n",
    "    \n",
    "¿De qué forma **Python** nos permite contar palabras de un texto?\n",
    "\n",
    "Para responder esta pregunta, practicaremos las siguientes nociones:\n",
    "\n",
    "- listas\n",
    "- condiciones lógicas simples\n",
    "- ciclos for\n",
    "\n",
    "Este proyecto, además de responder la pregunta, nos permitirá repasar e introducir conceptos importantes de Python. "
   ]
  },
  {
   "cell_type": "code",
   "execution_count": 3,
   "id": "6d5cda06",
   "metadata": {},
   "outputs": [],
   "source": [
    "## puede cambiar el nombre\n",
    "\n",
    "archivo = open('funes el memorioso-borges.txt', 'r', encoding='utf-8')"
   ]
  },
  {
   "cell_type": "code",
   "execution_count": 4,
   "id": "45d092ee",
   "metadata": {},
   "outputs": [],
   "source": [
    "## esta será la variable elegida!\n",
    "\n",
    "archivo = archivo.read()"
   ]
  },
  {
   "cell_type": "code",
   "execution_count": 5,
   "id": "58d20326",
   "metadata": {},
   "outputs": [
    {
     "data": {
      "text/plain": [
       "'Lo recuerdo (yo no tengo derecho a pronunciar ese verbo sagrado, solo un hombre en la tierra tuvo derecho y ese hombre ha muerto) con una oscura pasionaria en la mano, viéndola como nadie la ha visto, aunque la mirara desde el crepúsculo del día hasta el de la noche, toda una vida entera. Lo recuerdo, la cara taciturna y aindiada y singularmente remota, detrás del cigarrillo. Recuerdo (creo) sus manos afiladas de trenzador. Recuerdo cerca de esas manos un mate, con las armas de la Banda Oriental; recuerdo en la ventana de la casa una estera amarilla, con un vago paisaje lacustre. Recuerdo claramente su voz; la voz pausada, resentida y nasal del orillero antiguo, sin los silbidos italianos de ahora. Más de tres veces no lo vi; la última, en 1887… Me parece muy feliz el proyecto de que todos aquellos que lo trataron escriban sobre él; mi testimonio será acaso el más breve y sin duda el más pobre, pero no el menos imparcial del volumen que editarán ustedes. Mi deplorable condición de argentino me impedirá incurrir en el ditirambo —género obligatorio en el Uruguay, cuando el tema es un uruguayo. Literato, cajetilla, porteño: Funes no dijo esas injuriosas palabras, pero de un modo suficiente me consta que yo representaba para él esas desventuras. Pedro Leandro Ipuche ha escrito que Funes era un precursor de los superhombres; “Un Zarathustra cimarrón y vernáculo”; no lo discuto, pero no hay que olvidar que era también un compadrito de Fray Bentos, con ciertas incurables limitaciones.\\n\\nMi primer recuerdo de Funes es muy perspicuo. Lo veo en un atardecer de marzo o febrero del año ochenta y cuatro. Mi padre, ese año, me había llevado a veranear a Fray Bentos. Yo volvía con mi primo Bernardo Haedo de la estancia de San Francisco. Volvíamos cantando, a caballo, y esa no era la única circunstancia de mi felicidad. Después de un día bochornoso, una enorme tormenta color pizarra había escondido el cielo. La alentaba el viento del Sur, ya se enloquecían los árboles; yo tenía el temor (la esperanza) de que nos sorprendiera en un descampado el agua elemental. Corrimos una especie de carrera con la tormenta. Entramos en un callejón que se ahondaba entre dos veredas altísimas de ladrillo. Había oscurecido de golpe; oí rápidos y casi secretos pasos en lo alto; alcé los ojos y vi un muchacho que corría por la estrecha y rota vereda como por una estrecha y rota pared. Recuerdo la bombacha, las alpargatas, recuerdo el cigarrillo en el duro rostro, contra el nubarrón ya sin límites. Bernardo le gritó imprevisiblemente: ¿Qué horas son, Ireneo? Sin consultar el cielo, sin detenerse, el otro respondió: Faltan cuatro minutos para las ocho, joven Bernardo Juan Francisco. La voz era aguda, burlona.\\n\\nYo soy tan distraído que el diálogo que acabo de referir no me hubiera llamado la atención si no lo hubiera recalcado mi primo, a quien estimulaban (creo) cierto orgullo local, y el deseo de mostrarse indiferente a la réplica tripartita del otro.\\n\\nMe dijo que el muchacho del callejón era un tal Ireneo Funes, mentado por algunas rarezas como la de no darse con nadie y la de saber siempre la hora, como un reloj. Agregó que era hijo de una planchadora del pueblo, María Clementina Funes, y que algunos decían que su padre era un médico del saladero, un inglés O’Connor, y otros un domador o rastreador del departamento del Salto. Vivía con su madre, a la vuelta de la quinta de los Laureles.\\n\\nLos años ochenta y cinco y ochenta y seis veraneamos en la ciudad de Montevideo. El ochenta y siete volví a Fray Bentos. Pregunté, como es natural, por todos los conocidos y, finalmente, por el “cronométrico Funes”. Me contestaron que lo había volteado un redomón en la estancia de San Francisco, y que había quedado tullido, sin esperanza. Recuerdo la impresión de incómoda magia que la noticia me produjo: la única vez que yo lo vi, veníamos a caballo de San Francisco y él andaba en un lugar alto; el hecho, en boca de mi primo Bernardo, tenía mucho de sueño elaborado con elementos anteriores. Me dijeron que no se movía del catre, puestos los ojos en la higuera del fondo o en una telaraña. En los atardeceres, permitía que lo sacaran a la ventana. Llevaba la soberbia hasta el punto de simular que era benéfico el golpe que lo había fulminado… Dos veces lo vi atrás de la reja, que burdamente recalcaba su condición de eterno prisionero: una, inmóvil, con los ojos cerrados; otra, inmóvil también, absorto en la contemplación de un oloroso gajo de santonina.\\n\\nNo sin alguna vanagloria yo había iniciado en aquel tiempo el estudio metódico del latín. Mi valija incluía el De viris illustribus de Lhomond, el Thesaurus de Quicherat, los comentarios de Julio César y un volumen impar de la Naturalis historia de Plinio, que excedía (y sigue excediendo) mis módicas virtudes de latinista. Todo se propala en un pueblo chico; Ireneo, en su rancho de las orillas, no tardó en enterarse del arribo de esos libros anómalos. Me dirigió una carta florida y ceremoniosa, en la que recordaba nuestro encuentro, desdichadamente fugaz, “del día siete de febrero del año ochenta y cuatro”, ponderaba los gloriosos servicios que don Gregorio Haedo, mi tío, finado ese mismo año, “había prestado a las dos patrias en la valerosa jornada de Ituzaingó”, y me solicitaba el préstamo de cualquiera de los volúmenes, acompañado de un diccionario “para la buena inteligencia del texto original, porque todavía ignoro el latín”. Prometía devolverlos en buen estado, casi inmediatamente. La letra era perfecta, muy perfilada; la ortografía, del tipo que Andrés Bello preconizó: i por y, j por g. Al principio, temí naturalmente una broma. Mis primos me aseguraron que no, que eran cosas de Ireneo. No supe si atribuir a descaro, a ignorancia o a estupidez la idea de que el arduo latín no requería más instrumento que un diccionario; para desengañarlo con plenitud le mandé el Gradus ad Parnassum de Quicherat. y la obra de Plinio.\\n\\nEl catorce de febrero me telegrafiaron de Buenos Aires que volviera inmediatamente, porque mi padre no estaba “nada bien”. Dios me perdone; el prestigio de ser el destinatario de un telegrama urgente, el deseo de comunicar a todo Fray Bentos la contradicción entre la forma negativa de la noticia y el perentorio adverbio, la tentación de dramatizar mi dolor, fingiendo un viril estoicismo, tal vez me distrajeron de toda posibilidad de dolor. Al hacer la valija, noté que me faltaban el Gradus y el primer tomo de la Naturalis historia. El “Saturno” zarpaba al día siguiente, por la mañana; esa noche, después de cenar, me encaminé a casa de Funes. Me asombró que la noche fuera no menos pesada que el día.\\n\\nEn el decente rancho, la madre de Funes me recibió. Me dijo que Ireneo estaba en la pieza del fondo y que no me extrañara encontrarla a oscuras, porque Ireneo sabía pasarse las horas muertas sin encender la vela. Atravesé el patio de baldosa, el corredorcito; llegué al segundo patio. Había una parra; la oscuridad pudo parecerme total. Oí de pronto la alta y burlona voz de Ireneo. Esa voz hablaba en latín; esa voz (que venía de la tiniebla) articulaba con moroso deleite un discurso o plegaria o incantación. Resonaron las sílabas romanas en el patio de tierra; mi temor las creía indescifrables, interminables; después, en el enorme diálogo de esa noche, supe que formaban el primer párrafo del vigésimocuarto capítulo del libro séptimo de la Naturalis historia. La materia de ese capítulo es la memoria; las palabras últimas fueron ut nihil non usdem verbis redderetur auditum.\\n\\nSin el menor cambio de voz, Ireneo me dijo que pasara. Estaba en el catre, fumando. Me parece que no le vi la cara hasta el alba; creo rememorar el ascua momentánea del cigarrillo. La pieza olía vagamente a humedad. Me senté; repetí la historia del telegrama y de la enfermedad de mi padre. Arribo, ahora, al más difícil punto de mi relato. Este (bueno es que ya lo sepa el lector) no tiene otro argumento que ese diálogo de hace ya medio siglo. No trataré de reproducir sus palabras, irrecuperables ahora. Prefiero resumir con veracidad las muchas cosas que me dijo Ireneo. El estilo indirecto es remoto y débil; yo sé que sacrifico la eficacia de mi relato; que mis lectores se imaginen los entrecortados períodos que me abrumaron esa noche.\\n\\nIreneo empezó por enumerar, en latín y español, los casos de memoria prodigiosa registrados por la Naturalis historia: Ciro, rey de los persas, que sabía llamar por su nombre a todos los soldados de sus ejércitos; Mitrídates Eupator, que administraba la justicia en los 22 idiomas de su imperio; Simónides, inventor de la mnemotecnia; Metrodoro, que profesaba el arte de repetir con fidelidad lo escuchado una sola vez. Con evidente buena fe se maravilló de que tales casos maravillaran. Me dijo que antes de esa tarde lluviosa en que lo volteó el azulejo, él había sido lo que son todos los cristianos: un ciego, un sordo, un abombado, un desmemoriado. (Traté de recordarle su percepción exacta del tiempo, su memoria de nombres propios; no me hizo caso.) Diecinueve años había vivido como quien sueña: miraba sin ver, oía sin oír, se olvidaba de todo, de casi todo. Al caer, perdió el conocimiento; cuando lo recobró, el presente era casi intolerable de tan rico y tan nítido, y también las memorias más antiguas y más triviales. Poco después averiguó que estaba tullido. El hecho apenas le interesó. Razonó (sintió) que la inmovilidad era un precio mínimo. Ahora su percepción y su memoria eran infalibles.\\n\\nNosotros, de un vistazo, percibimos tres copas en una mesa; Funes, todos los vástagos y racimos y frutos que comprende una parra. Sabía las formas de las nubes australes del amanecer del treinta de abril de mil ochocientos ochenta y dos y podía compararlas en el recuerdo con las vetas de un libro en pasta española que solo había mirado una vez y con las líneas de la espuma que un remo levantó en el Río Negro la víspera de la acción del Quebracho. Esos recuerdos no eran simples; cada imagen visual estaba ligada a sensaciones musculares, térmicas, etc. Podía reconstruir todos los sueños, todos los entresueños. Dos o tres veces había reconstruido un día entero; no había dudado nunca, pero cada reconstrucción había requerido un día entero. Me dijo: Más recuerdos tengo yo solo que los que habrán tenido todos los hombres desde que el mundo es mundo. Y también: Mis sueños son como 1a vigilia de ustedes. Y también, hacia el alba: Mi memoría, señor, es como vacíadero de basuras. Una circunferencia en un pizarrón, un triángulo rectángulo, un rombo, son formas que podemos intuir plenamente; lo mismo le pasaba a Ireneo con las aborrascadas crines de un potro, con una punta de ganado en una cuchilla, con el fuego cambiante y con la innumerable ceniza, con las muchas caras de un muerto en un largo velorio. No sé cuántas estrellas veía en el cielo.\\n\\nEsas cosas me dijo; ni entonces ni después las he puesto en duda. En aquel tiempo no había cinematógrafos ni fonógrafos; es, sin embargo, inverosímil y hasta increíble que nadie hiciera un experimento con Funes. Lo cierto es que vivimos postergando todo lo postergable; tal vez todos sabemos profundamente que somos inmortales y que tarde o temprano, todo hombre hará todas las cosas y sabrá todo.\\n\\nLa voz de Funes, desde la oscuridad, seguía hablando.\\n\\nMe dijo que hacia 1886 había discurrido un sistema original de numeración y que en muy pocos días había rebasado el veinticuatro mil. No lo había escrito, porque lo pensado una sola vez ya no podía borrársele. Su primer estímulo, creo, fue el desagrado de que los treinta y tres orientales requirieran dos signos y tres palabras, en lugar de una sola palabra y un solo signo. Aplicó luego ese disparatado principio a los otros números. En lugar de siete mil trece, decía (por ejemplo) Máximo Pérez; en lugar de siete mil catorce, El Ferrocarril; otros números eran Luis Melián Lafinur, Olimar, azufre, los bastos, la ballena, gas, la caldera, Napoleón, Agustín Vedia. En lugar de quinientos, decía nueve. Cada palabra tenía un signo particular, una especie marca; las últimas muy complicadas… Yo traté de explicarle que esa rapsodia de voces inconexas era precisamente lo contrario de un sistema numeración. Le dije que decir 365 era decir tres centenas, seis decenas, cinco unidades; análisis no existe en los “números” El Negro Timoteo o manta de carne. Funes no me entendió o no quiso entenderme.\\n\\nLocke, en el siglo XVII, postuló (y reprobó) un idioma imposible en el que cada cosa individual, cada piedra, cada pájaro y cada rama tuviera nombre propio; Funes proyectó alguna vez un idioma análogo, pero lo desechó por parecerle demasiado general, demasiado ambiguo. En efecto, Funes no solo recordaba cada hoja de cada árbol de cada monte, sino cada una de las veces que la había percibido o imaginado. Resolvió reducir cada una de sus jornadas pretéritas a unos setenta mil recuerdos, que definiría luego por cifras. Lo disuadieron dos consideraciones: la conciencia de que la tarea era interminable, la conciencia de que era inútil. Pensó que en la hora de la muerte no habría acabado aún de clasificar todos los recuerdos de la niñez.\\n\\nLos dos proyectos que he indicado (un vocabulario infinito para serie natural de los números, un inútil catálogo mental de todas las imágenes del recuerdo) son insensatos, pero revelan cierta balbuciente grandeza. Nos dejan vislumbrar o inferir el vertiginoso mundo de Funes. Este, no lo olvidemos, era casi incapaz de ideas generales, platónicas. No solo le costaba comprender que el símbolo genérico perro abarcara tantos individuos dispares de diversos tamaños y diversa forma; le molestaba que el perro de las tres y catorce (visto de perfil) tuviera el mismo nombre que el perro de las tres y cuarto (visto de frente). Su propia cara en el espejo, sus propias manos, lo sorprendían cada vez. Refiere Swift que el emperador de Lilliput discernía el movimiento del minutero; Funes discernía continuamente los tranquilos avances de la corrupción, de las caries, de la fatiga. Notaba los progresos de la muerte, de la humedad. Era el solitario y lúcido espectador de un mundo multiforme, instantáneo y casi intolerablemente preciso. Babilonia, Londres y Nueva York han abrumado con feroz esplendor la imaginación de los hombres; nadie, en sus torres populosas o en sus avenidas urgentes, ha sentido el calor y la presión de una realidad tan infatigable como la que día y noche convergía sobre el infeliz Ireneo, en su pobre arrabal sudamericano. Le era muy difícil dormir. Dormir es distraerse del mundo; Funes, de espaldas en el catre, en la sombra, se figuraba cada grieta y cada moldura de las casas precisas que lo rodeaban. (Repito que el menos importante de sus recuerdos era más minucioso y más vivo que nuestra percepción de un goce físico o de un tormento físico.) Hacia el Este, en un trecho no amanzanado, había casas nuevas, desconocidas. Funes las imaginaba negras, compactas, hechas de tiniebla homogénea; en esa dirección volvía la cara para dormir. También solía imaginarse en el fondo del río, mecido y anulado por la corriente.\\n\\nHabía aprendido sin esfuerzo el inglés, el francés, el portugués, el latín. Sospecho, sin embargo, que no era muy capaz de pensar. Pensar es olvidar diferencias, es generalizar, abstraer. En el abarrotado mundo de Funes no había sino detalles, casi inmediatos.\\n\\nLa recelosa claridad de la madrugada entró por el patio de tierra.\\n\\nEntonces vi la cara de la voz que toda la noche había hablado. Ireneo tenía diecinueve años; había nacido en 1868; me pareció monumental como el bronce, más antiguo que Egipto, anterior a las profecías y a las pirámides. Pensé que cada una de mis palabras (que cada uno de mis gestos) perduraría en su implacable memoria; me entorpeció el temor de multiplicar ademanes inútiles.\\n\\nIreneo Funes murió en 1889, de una congestión pulmonar.'"
      ]
     },
     "execution_count": 5,
     "metadata": {},
     "output_type": "execute_result"
    }
   ],
   "source": [
    "archivo"
   ]
  },
  {
   "cell_type": "markdown",
   "id": "cae334e4",
   "metadata": {},
   "source": [
    "## 1. Listas y condiciones lógicas &#x1F916;!\n",
    "\n",
    "Llegó el momento esperado en que vamos a formalizar las **listas!** Las **listas** deben ser nuestro aliado permanente en hacer códigos en **Python.** Siempre (bueno, casi siempre) que necesitemos resolver un problema vamos a usar **listas.** Se definen por algunas características:\n",
    "\n",
    "- Son repositorios de información\n",
    "- Están ordenadas\n",
    "- Pueden variar, manteniendo el mismo nombre de variable!"
   ]
  },
  {
   "cell_type": "code",
   "execution_count": 33,
   "id": "5a898f9b",
   "metadata": {},
   "outputs": [],
   "source": [
    "## en primer lugar, comencemos con la lista más simple\n",
    "\n",
    "L = []"
   ]
  },
  {
   "cell_type": "code",
   "execution_count": 34,
   "id": "84200cba",
   "metadata": {},
   "outputs": [],
   "source": [
    "## noten que esta lista vacía tiene largo 0: ¿Por qué las listas y los strings tienen len?\n",
    "\n",
    "n = len(L)"
   ]
  },
  {
   "cell_type": "code",
   "execution_count": 35,
   "id": "108ef590",
   "metadata": {},
   "outputs": [
    {
     "data": {
      "text/plain": [
       "0"
      ]
     },
     "execution_count": 35,
     "metadata": {},
     "output_type": "execute_result"
    }
   ],
   "source": [
    "n"
   ]
  },
  {
   "cell_type": "code",
   "execution_count": 36,
   "id": "68aa3537",
   "metadata": {},
   "outputs": [],
   "source": [
    "## podemos agregar \"manualmente\" elemenos a una lista\n",
    "\n",
    "L = ['Lo', 'recuerdo']\n",
    "\n",
    "## noten que los elementos están separados por comas. Estos elementos pueden ser cualquier cosa; incluso, otras listas"
   ]
  },
  {
   "cell_type": "code",
   "execution_count": 37,
   "id": "dbccae02",
   "metadata": {},
   "outputs": [],
   "source": [
    "## lista de listas\n",
    "\n",
    "LL = [L, L]"
   ]
  },
  {
   "cell_type": "code",
   "execution_count": 38,
   "id": "5bda6697",
   "metadata": {},
   "outputs": [
    {
     "data": {
      "text/plain": [
       "[['Lo', 'recuerdo'], ['Lo', 'recuerdo']]"
      ]
     },
     "execution_count": 38,
     "metadata": {},
     "output_type": "execute_result"
    }
   ],
   "source": [
    "LL"
   ]
  },
  {
   "cell_type": "code",
   "execution_count": 39,
   "id": "285efb2b",
   "metadata": {},
   "outputs": [],
   "source": [
    "## las listas tienen posiciones, o índices, que nos permiten acceder a los elementos\n",
    "\n",
    "primer_elemento = L[0]"
   ]
  },
  {
   "cell_type": "code",
   "execution_count": 40,
   "id": "a907dea0",
   "metadata": {},
   "outputs": [
    {
     "data": {
      "text/plain": [
       "'Lo'"
      ]
     },
     "execution_count": 40,
     "metadata": {},
     "output_type": "execute_result"
    }
   ],
   "source": [
    "primer_elemento"
   ]
  },
  {
   "cell_type": "markdown",
   "id": "69529b7b",
   "metadata": {},
   "source": [
    "¿Cómo accedemos al último elemento de la lista **L**?"
   ]
  },
  {
   "cell_type": "markdown",
   "id": "d84b9863",
   "metadata": {},
   "source": [
    "Un aspecto interesante de las listas es que sus índices se mueven entre **0** y **n - 1** (si n es el largo de la lista). Por ejemplo, si la lista tienen largo 2 (como **L**) tendremos los índices 0 y 1. Ahora, una pregunta interesante es: ¿Cómo sabemos si un elemento pertenece a una lista? "
   ]
  },
  {
   "cell_type": "code",
   "execution_count": 41,
   "id": "51558798",
   "metadata": {},
   "outputs": [
    {
     "data": {
      "text/plain": [
       "True"
      ]
     },
     "execution_count": 41,
     "metadata": {},
     "output_type": "execute_result"
    }
   ],
   "source": [
    "## sabemos que 'Lo' y 'recuerdo' están en L\n",
    "\n",
    "'Lo' in L"
   ]
  },
  {
   "cell_type": "code",
   "execution_count": 42,
   "id": "58e9eb10",
   "metadata": {},
   "outputs": [
    {
     "data": {
      "text/plain": [
       "True"
      ]
     },
     "execution_count": 42,
     "metadata": {},
     "output_type": "execute_result"
    }
   ],
   "source": [
    "'recuerdo' in L"
   ]
  },
  {
   "cell_type": "markdown",
   "id": "135a15cb",
   "metadata": {},
   "source": [
    "Es decir, el operador **in** nos permite preguntar: ¿Está elemento en la lista **L**? Con esto, podemos tocar ciertas acciones específicas. Por ejemplo, si un string está en **L** entonces queremos imprimir 'el elemento está en L'. "
   ]
  },
  {
   "cell_type": "code",
   "execution_count": 43,
   "id": "d46ab91e",
   "metadata": {},
   "outputs": [
    {
     "name": "stdout",
     "output_type": "stream",
     "text": [
      "Sí está :)\n"
     ]
    }
   ],
   "source": [
    "## noten la sintaxis. \n",
    "\n",
    "## Esta línea puede traducirse a \"si la proposición (el elemento está en L) es verdadera\". Note el uso de \":\"\n",
    "if 'Lo' in L: ## aquí apretamos \"enter\" luego de escribir \":\". Automáticamente Python genera un tab\n",
    "    print('Sí está :)')"
   ]
  },
  {
   "cell_type": "markdown",
   "id": "ad4e4c36",
   "metadata": {},
   "source": [
    "¿Y si no está? "
   ]
  },
  {
   "cell_type": "code",
   "execution_count": 44,
   "id": "bb47631d",
   "metadata": {},
   "outputs": [],
   "source": [
    "## Esta línea puede traducirse a \"si la proposición (el elemento está en L) es verdadera\". \n",
    "if 'gato' in L: \n",
    "    print('Sí está :)')\n",
    "    \n",
    "## ¿Por qué NO se imprime nada en este caso?"
   ]
  },
  {
   "cell_type": "code",
   "execution_count": 45,
   "id": "d1ab2108",
   "metadata": {},
   "outputs": [
    {
     "data": {
      "text/plain": [
       "True"
      ]
     },
     "execution_count": 45,
     "metadata": {},
     "output_type": "execute_result"
    }
   ],
   "source": [
    "## Para el otro caso, es decir la proposición ('gato' no está en L), usamos\n",
    "\n",
    "'gato' not in L ## ¿Por qué esta proposición es verdadera?"
   ]
  },
  {
   "cell_type": "code",
   "execution_count": 46,
   "id": "e8a98d48",
   "metadata": {},
   "outputs": [
    {
     "name": "stdout",
     "output_type": "stream",
     "text": [
      "No está :(\n"
     ]
    }
   ],
   "source": [
    "## Usemos if! Esto se traduce por: \"si la proposición ('gato' not in L) es verdadera\" \n",
    "if 'gato' not in L: \n",
    "    print('No está :(')"
   ]
  },
  {
   "cell_type": "markdown",
   "id": "28402847",
   "metadata": {},
   "source": [
    "Hagamos el código más interesante!"
   ]
  },
  {
   "cell_type": "code",
   "execution_count": 47,
   "id": "6c9717af",
   "metadata": {},
   "outputs": [
    {
     "name": "stdout",
     "output_type": "stream",
     "text": [
      "No está :(\n"
     ]
    }
   ],
   "source": [
    "## elemento que vamos a consultar\n",
    "elemento = 'gato'\n",
    "\n",
    "## si la proposición (elemento in L) es verdadera\n",
    "if elemento in L: \n",
    "    print('Sí está :)')\n",
    "\n",
    "## si la proposición (elemento not in L) es verdadera \n",
    "if elemento not in L: \n",
    "    print('No está :(')"
   ]
  },
  {
   "cell_type": "markdown",
   "id": "84461654",
   "metadata": {},
   "source": [
    "¿Podremos condensar aún más el código? Un elemento cualquier solo tiene dos posibilidades: o está en L o no está. Esto equivale a "
   ]
  },
  {
   "cell_type": "code",
   "execution_count": 48,
   "id": "3b84a9f9",
   "metadata": {},
   "outputs": [
    {
     "name": "stdout",
     "output_type": "stream",
     "text": [
      "No está :(\n"
     ]
    }
   ],
   "source": [
    "## elemento que vamos a consultar\n",
    "elemento = 'gato'\n",
    "\n",
    "## si la proposición (elemento in L) es verdadera\n",
    "if elemento in L: \n",
    "    print('Sí está :)')\n",
    "## En otro caso! = si la proposición (elemento not in L) es verdadera\n",
    "else: \n",
    "    print('No está :(')"
   ]
  },
  {
   "cell_type": "markdown",
   "id": "8cc3c505",
   "metadata": {},
   "source": [
    "Escriba un código que permita consultar si un string está en la lista formada por los tokens del string **archivo.** Recuerde el uso de **split.**"
   ]
  },
  {
   "cell_type": "markdown",
   "id": "a5be8149",
   "metadata": {},
   "source": [
    "## 2. Agreguemos elementos a listas &#x1F916;!\n",
    "\n",
    "¿Cómo agregamos elementos a una lista?"
   ]
  },
  {
   "cell_type": "code",
   "execution_count": 49,
   "id": "bd934fd0",
   "metadata": {},
   "outputs": [],
   "source": [
    "## compare los siguientes códigos\n",
    "\n",
    "L = L + ['(yo']"
   ]
  },
  {
   "cell_type": "code",
   "execution_count": 50,
   "id": "584790bf",
   "metadata": {},
   "outputs": [
    {
     "data": {
      "text/plain": [
       "['Lo', 'recuerdo', '(yo']"
      ]
     },
     "execution_count": 50,
     "metadata": {},
     "output_type": "execute_result"
    }
   ],
   "source": [
    "L"
   ]
  },
  {
   "cell_type": "code",
   "execution_count": 51,
   "id": "a3889d0a",
   "metadata": {},
   "outputs": [
    {
     "ename": "TypeError",
     "evalue": "can only concatenate list (not \"str\") to list",
     "output_type": "error",
     "traceback": [
      "\u001b[1;31m---------------------------------------------------------------------------\u001b[0m",
      "\u001b[1;31mTypeError\u001b[0m                                 Traceback (most recent call last)",
      "\u001b[1;32m<ipython-input-51-41ab90af47a3>\u001b[0m in \u001b[0;36m<module>\u001b[1;34m\u001b[0m\n\u001b[1;32m----> 1\u001b[1;33m \u001b[0mL\u001b[0m \u001b[1;33m=\u001b[0m \u001b[0mL\u001b[0m \u001b[1;33m+\u001b[0m \u001b[1;34m'(yo'\u001b[0m\u001b[1;33m\u001b[0m\u001b[1;33m\u001b[0m\u001b[0m\n\u001b[0m",
      "\u001b[1;31mTypeError\u001b[0m: can only concatenate list (not \"str\") to list"
     ]
    }
   ],
   "source": [
    "L = L + '(yo'"
   ]
  },
  {
   "cell_type": "markdown",
   "id": "90b6f6d8",
   "metadata": {},
   "source": [
    "¿Por qué se genera error en el segundo caso? En general, podemos agregar elementos a lista simplemente usando **+**. Las **listas** funcionan como las colas de supermercado: si llega alguien más, se ubicará al final de la cola. Si agregamos un elemento a una lista, este se ubicará al final y, por consiguiente, la lista aumentará de tamaño. "
   ]
  },
  {
   "cell_type": "markdown",
   "id": "7700924c",
   "metadata": {},
   "source": [
    "Defina una lista vacía **l.** Agregue sucesivamente los elementos de **L** a **l.** Use índices para acceder a los elementos de **L.**"
   ]
  },
  {
   "cell_type": "markdown",
   "id": "0fdffa20",
   "metadata": {},
   "source": [
    "Considere una lista un poco más grande"
   ]
  },
  {
   "cell_type": "code",
   "execution_count": 54,
   "id": "46ddbb89",
   "metadata": {},
   "outputs": [],
   "source": [
    "## nueva versión de L. Usamos .split(' ')\n",
    "L = 'Lo recuerdo (yo no tengo derecho a pronunciar ese verbo sagrado, solo un hombre en la tierra tuvo derecho y ese hombre ha muerto) con una oscura pasionaria en la mano, viéndola como nadie la ha visto, aunque la mirara desde el crepúsculo del día hasta el de la noche, toda una vida entera.'.split(' ')"
   ]
  },
  {
   "cell_type": "code",
   "execution_count": 55,
   "id": "09ee3e01",
   "metadata": {},
   "outputs": [
    {
     "data": {
      "text/plain": [
       "['Lo',\n",
       " 'recuerdo',\n",
       " '(yo',\n",
       " 'no',\n",
       " 'tengo',\n",
       " 'derecho',\n",
       " 'a',\n",
       " 'pronunciar',\n",
       " 'ese',\n",
       " 'verbo',\n",
       " 'sagrado,',\n",
       " 'solo',\n",
       " 'un',\n",
       " 'hombre',\n",
       " 'en',\n",
       " 'la',\n",
       " 'tierra',\n",
       " 'tuvo',\n",
       " 'derecho',\n",
       " 'y',\n",
       " 'ese',\n",
       " 'hombre',\n",
       " 'ha',\n",
       " 'muerto)',\n",
       " 'con',\n",
       " 'una',\n",
       " 'oscura',\n",
       " 'pasionaria',\n",
       " 'en',\n",
       " 'la',\n",
       " 'mano,',\n",
       " 'viéndola',\n",
       " 'como',\n",
       " 'nadie',\n",
       " 'la',\n",
       " 'ha',\n",
       " 'visto,',\n",
       " 'aunque',\n",
       " 'la',\n",
       " 'mirara',\n",
       " 'desde',\n",
       " 'el',\n",
       " 'crepúsculo',\n",
       " 'del',\n",
       " 'día',\n",
       " 'hasta',\n",
       " 'el',\n",
       " 'de',\n",
       " 'la',\n",
       " 'noche,',\n",
       " 'toda',\n",
       " 'una',\n",
       " 'vida',\n",
       " 'entera.']"
      ]
     },
     "execution_count": 55,
     "metadata": {},
     "output_type": "execute_result"
    }
   ],
   "source": [
    "L"
   ]
  },
  {
   "cell_type": "markdown",
   "id": "918330d0",
   "metadata": {},
   "source": [
    "En este caso, si queremos guardar los elementos en otra lista, al parecer, el trabajo manual parece interminable ¿Qué hacemos? **Python** nos ofrece la posibilidad de **recorrer** los elementos de una lista usando el hecho de que los elementos de la lista están ordenados. "
   ]
  },
  {
   "cell_type": "code",
   "execution_count": 57,
   "id": "c0eef6a1",
   "metadata": {},
   "outputs": [],
   "source": [
    "## una nueva lista vacía\n",
    "l = []"
   ]
  },
  {
   "cell_type": "code",
   "execution_count": 58,
   "id": "01404e17",
   "metadata": {},
   "outputs": [],
   "source": [
    "## en vez de escribir\n",
    "\n",
    "## paso 1\n",
    "l = l + [L[0]]\n",
    "\n",
    "## paso 2\n",
    "l = l + [L[0]]\n",
    "\n",
    "## y así sucesivamente"
   ]
  },
  {
   "cell_type": "code",
   "execution_count": 59,
   "id": "2cfbc7b1",
   "metadata": {},
   "outputs": [],
   "source": [
    "## usamos los ciclos for!\n",
    "\n",
    "## una nueva lista vacía\n",
    "l = []\n",
    "\n",
    "## recorremos los elementos de L\n",
    "for elemento in L:\n",
    "    l = l + [elemento]"
   ]
  },
  {
   "cell_type": "code",
   "execution_count": 60,
   "id": "7f527bf9",
   "metadata": {},
   "outputs": [
    {
     "data": {
      "text/plain": [
       "['Lo',\n",
       " 'recuerdo',\n",
       " '(yo',\n",
       " 'no',\n",
       " 'tengo',\n",
       " 'derecho',\n",
       " 'a',\n",
       " 'pronunciar',\n",
       " 'ese',\n",
       " 'verbo',\n",
       " 'sagrado,',\n",
       " 'solo',\n",
       " 'un',\n",
       " 'hombre',\n",
       " 'en',\n",
       " 'la',\n",
       " 'tierra',\n",
       " 'tuvo',\n",
       " 'derecho',\n",
       " 'y',\n",
       " 'ese',\n",
       " 'hombre',\n",
       " 'ha',\n",
       " 'muerto)',\n",
       " 'con',\n",
       " 'una',\n",
       " 'oscura',\n",
       " 'pasionaria',\n",
       " 'en',\n",
       " 'la',\n",
       " 'mano,',\n",
       " 'viéndola',\n",
       " 'como',\n",
       " 'nadie',\n",
       " 'la',\n",
       " 'ha',\n",
       " 'visto,',\n",
       " 'aunque',\n",
       " 'la',\n",
       " 'mirara',\n",
       " 'desde',\n",
       " 'el',\n",
       " 'crepúsculo',\n",
       " 'del',\n",
       " 'día',\n",
       " 'hasta',\n",
       " 'el',\n",
       " 'de',\n",
       " 'la',\n",
       " 'noche,',\n",
       " 'toda',\n",
       " 'una',\n",
       " 'vida',\n",
       " 'entera.']"
      ]
     },
     "execution_count": 60,
     "metadata": {},
     "output_type": "execute_result"
    }
   ],
   "source": [
    "l"
   ]
  },
  {
   "cell_type": "markdown",
   "id": "638f0fc2",
   "metadata": {},
   "source": [
    "¿Qué es **elemento**?"
   ]
  },
  {
   "cell_type": "markdown",
   "id": "5243b6b2",
   "metadata": {},
   "source": [
    "**Desafío!** Construya una nueva lista que incluya los elementos de **L** sin repeticiones. Por ejemplo, si L fuera [1,1,2]\n",
    "la lista que buscamos sería [1,2]. "
   ]
  },
  {
   "cell_type": "code",
   "execution_count": null,
   "id": "da6f6f7e",
   "metadata": {},
   "outputs": [],
   "source": []
  }
 ],
 "metadata": {
  "kernelspec": {
   "display_name": "Python 3",
   "language": "python",
   "name": "python3"
  },
  "language_info": {
   "codemirror_mode": {
    "name": "ipython",
    "version": 3
   },
   "file_extension": ".py",
   "mimetype": "text/x-python",
   "name": "python",
   "nbconvert_exporter": "python",
   "pygments_lexer": "ipython3",
   "version": "3.8.8"
  }
 },
 "nbformat": 4,
 "nbformat_minor": 5
}
