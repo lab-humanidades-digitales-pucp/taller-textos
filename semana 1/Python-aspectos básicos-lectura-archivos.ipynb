{
 "cells": [
  {
   "cell_type": "markdown",
   "metadata": {
    "id": "Bonrs-i763k3"
   },
   "source": [
    "# **Taller de Análisis automático de textos en Humanidades**\n",
    "### Javier Vera Zúñiga, jveraz@pucp.edu.pe"
   ]
  },
  {
   "cell_type": "markdown",
   "metadata": {},
   "source": [
    "## Link importante para elementos básicos de Python\n",
    "\n",
    "[Curso de Python](https://developers.google.com/edu/python/introduction)"
   ]
  },
  {
   "cell_type": "markdown",
   "metadata": {},
   "source": [
    "## Primeros elementos de Python\n",
    "\n",
    "En este primer acercamiento a **Python**, veremos los siguientes conceptos:\n",
    "\n",
    "- ¿Qué es Python?\n",
    "- ¿Dónde programar?\n",
    "- Tipos de celdas en Jupyter\n",
    "- Nociones básicas de variables\n",
    "- Lectura de archivos"
   ]
  },
  {
   "cell_type": "markdown",
   "metadata": {},
   "source": [
    "## ¿Qué es Python?\n",
    "\n",
    "- un **lenguaje de programación** es un lenguaje artificial que se usa para dar instrucciones que controlan una máquina.\n",
    "- tal como en las lenguas naturales, es posible definir elementos que se combinan (una sintaxis) y que portan un significado (una semántica).\n",
    "- es relevante pensar, entonces, en qué unidades o estructuras nos ofrece **Python** y cómo se combinan. Con esto, podremos dar instrucciones precisas al computador. \n",
    "- **Python** es un lenguaje de programación de sintaxis amigable, que privilegia que los códigos o programas sean legibles.\n",
    "- **Python** necesita de un espacio donde escribir los códigos, para que luego sean transformados en instrucciones para el computador. "
   ]
  },
  {
   "cell_type": "markdown",
   "metadata": {},
   "source": [
    "## ¿Dónde programar?\n",
    "\n",
    "- [Sagemaker StudioLab](https://studiolab.sagemaker.aws): gratis + 24 horas\n",
    "- [Sagemaker](https://portal.aws.amazon.com/billing/signup#/start/email): gratis + tarjeta de crédito/débito\n",
    "- [Anaconda](https://www.anaconda.com/products/distribution)\n",
    "- [Try jupyter](https://jupyter.org/try-jupyter/lab/): solo para probar"
   ]
  },
  {
   "cell_type": "markdown",
   "metadata": {},
   "source": [
    "## Tipos de celdas\n",
    "\n",
    "Dos tipos esenciales:\n",
    "\n",
    "- Código (code)\n",
    "- Texto (markdown)"
   ]
  },
  {
   "cell_type": "markdown",
   "metadata": {},
   "source": [
    "## Archivos en Python\n",
    "\n",
    "Supongamos que tenemos un archivo en txt. En este caso, el cuento \"Funes el memorioso\", de Jorge Luis Borges. El archivo 1° se llama \"funes el memorioso-borges.txt\"; y 2° se encuentra en la misma carpeta que este **jupyter.**"
   ]
  },
  {
   "cell_type": "code",
   "execution_count": 13,
   "metadata": {},
   "outputs": [],
   "source": [
    "f = open('funes el memorioso-borges.txt', 'r', encoding='utf-8')"
   ]
  },
  {
   "cell_type": "code",
   "execution_count": 14,
   "metadata": {},
   "outputs": [
    {
     "data": {
      "text/plain": [
       "<_io.TextIOWrapper name='funes el memorioso-borges.txt' mode='r' encoding='utf-8'>"
      ]
     },
     "execution_count": 14,
     "metadata": {},
     "output_type": "execute_result"
    }
   ],
   "source": [
    "f"
   ]
  },
  {
   "cell_type": "code",
   "execution_count": 8,
   "metadata": {},
   "outputs": [],
   "source": [
    "f = f.read()"
   ]
  },
  {
   "cell_type": "code",
   "execution_count": 12,
   "metadata": {},
   "outputs": [
    {
     "data": {
      "text/plain": [
       "'Lo recuerdo (yo no tengo derecho a pronunciar ese verbo sagrado, solo un hombre en la tierra tuvo derecho y ese hombre ha muerto) con una oscura pasionaria en la mano, viéndola como nadie la ha visto, aunque la mirara desde el crepúsculo del día hasta el de la noche, toda una vida entera. Lo recuerdo, la cara taciturna y aindiada y singularmente remota, detrás del cigarrillo. Recuerdo (creo) sus manos afiladas de trenzador. Recuerdo cerca de esas manos un mate, con las armas de la Banda Oriental; recuerdo en la ventana de la casa una estera amarilla, con un vago paisaje lacustre. Recuerdo claramente su voz; la voz pausada, resentida y nasal del orillero antiguo, sin los silbidos italianos de ahora. Más de tres veces no lo vi; la última, en 1887… Me parece muy feliz el proyecto de que todos aquellos que lo trataron escriban sobre él; mi testimonio será acaso el más breve y sin duda el más pobre, pero no el menos imparcial del volumen que editarán ustedes. Mi deplorable condición de argentino me impedirá incurrir en el ditirambo —género obligatorio en el Uruguay, cuando el tema es un uruguayo. Literato, cajetilla, porteño: Funes no dijo esas injuriosas palabras, pero de un modo suficiente me consta que yo representaba para él esas desventuras. Pedro Leandro Ipuche ha escrito que Funes era un precursor de los superhombres; “Un Zarathustra cimarrón y vernáculo”; no lo discuto, pero no hay que olvidar que era también un compadrito de Fray Bentos, con ciertas incurables limitaciones.\\n\\nMi primer recuerdo de Funes es muy perspicuo. Lo veo en un atardecer de marzo o febrero del año ochenta y cuatro. Mi padre, ese año, me había llevado a veranear a Fray Bentos. Yo volvía con mi primo Bernardo Haedo de la estancia de San Francisco. Volvíamos cantando, a caballo, y esa no era la única circunstancia de mi felicidad. Después de un día bochornoso, una enorme tormenta color pizarra había escondido el cielo. La alentaba el viento del Sur, ya se enloquecían los árboles; yo tenía el temor (la esperanza) de que nos sorprendiera en un descampado el agua elemental. Corrimos una especie de carrera con la tormenta. Entramos en un callejón que se ahondaba entre dos veredas altísimas de ladrillo. Había oscurecido de golpe; oí rápidos y casi secretos pasos en lo alto; alcé los ojos y vi un muchacho que corría por la estrecha y rota vereda como por una estrecha y rota pared. Recuerdo la bombacha, las alpargatas, recuerdo el cigarrillo en el duro rostro, contra el nubarrón ya sin límites. Bernardo le gritó imprevisiblemente: ¿Qué horas son, Ireneo? Sin consultar el cielo, sin detenerse, el otro respondió: Faltan cuatro minutos para las ocho, joven Bernardo Juan Francisco. La voz era aguda, burlona.\\n\\nYo soy tan distraído que el diálogo que acabo de referir no me hubiera llamado la atención si no lo hubiera recalcado mi primo, a quien estimulaban (creo) cierto orgullo local, y el deseo de mostrarse indiferente a la réplica tripartita del otro.\\n\\nMe dijo que el muchacho del callejón era un tal Ireneo Funes, mentado por algunas rarezas como la de no darse con nadie y la de saber siempre la hora, como un reloj. Agregó que era hijo de una planchadora del pueblo, María Clementina Funes, y que algunos decían que su padre era un médico del saladero, un inglés O’Connor, y otros un domador o rastreador del departamento del Salto. Vivía con su madre, a la vuelta de la quinta de los Laureles.\\n\\nLos años ochenta y cinco y ochenta y seis veraneamos en la ciudad de Montevideo. El ochenta y siete volví a Fray Bentos. Pregunté, como es natural, por todos los conocidos y, finalmente, por el “cronométrico Funes”. Me contestaron que lo había volteado un redomón en la estancia de San Francisco, y que había quedado tullido, sin esperanza. Recuerdo la impresión de incómoda magia que la noticia me produjo: la única vez que yo lo vi, veníamos a caballo de San Francisco y él andaba en un lugar alto; el hecho, en boca de mi primo Bernardo, tenía mucho de sueño elaborado con elementos anteriores. Me dijeron que no se movía del catre, puestos los ojos en la higuera del fondo o en una telaraña. En los atardeceres, permitía que lo sacaran a la ventana. Llevaba la soberbia hasta el punto de simular que era benéfico el golpe que lo había fulminado… Dos veces lo vi atrás de la reja, que burdamente recalcaba su condición de eterno prisionero: una, inmóvil, con los ojos cerrados; otra, inmóvil también, absorto en la contemplación de un oloroso gajo de santonina.\\n\\nNo sin alguna vanagloria yo había iniciado en aquel tiempo el estudio metódico del latín. Mi valija incluía el De viris illustribus de Lhomond, el Thesaurus de Quicherat, los comentarios de Julio César y un volumen impar de la Naturalis historia de Plinio, que excedía (y sigue excediendo) mis módicas virtudes de latinista. Todo se propala en un pueblo chico; Ireneo, en su rancho de las orillas, no tardó en enterarse del arribo de esos libros anómalos. Me dirigió una carta florida y ceremoniosa, en la que recordaba nuestro encuentro, desdichadamente fugaz, “del día siete de febrero del año ochenta y cuatro”, ponderaba los gloriosos servicios que don Gregorio Haedo, mi tío, finado ese mismo año, “había prestado a las dos patrias en la valerosa jornada de Ituzaingó”, y me solicitaba el préstamo de cualquiera de los volúmenes, acompañado de un diccionario “para la buena inteligencia del texto original, porque todavía ignoro el latín”. Prometía devolverlos en buen estado, casi inmediatamente. La letra era perfecta, muy perfilada; la ortografía, del tipo que Andrés Bello preconizó: i por y, j por g. Al principio, temí naturalmente una broma. Mis primos me aseguraron que no, que eran cosas de Ireneo. No supe si atribuir a descaro, a ignorancia o a estupidez la idea de que el arduo latín no requería más instrumento que un diccionario; para desengañarlo con plenitud le mandé el Gradus ad Parnassum de Quicherat. y la obra de Plinio.\\n\\nEl catorce de febrero me telegrafiaron de Buenos Aires que volviera inmediatamente, porque mi padre no estaba “nada bien”. Dios me perdone; el prestigio de ser el destinatario de un telegrama urgente, el deseo de comunicar a todo Fray Bentos la contradicción entre la forma negativa de la noticia y el perentorio adverbio, la tentación de dramatizar mi dolor, fingiendo un viril estoicismo, tal vez me distrajeron de toda posibilidad de dolor. Al hacer la valija, noté que me faltaban el Gradus y el primer tomo de la Naturalis historia. El “Saturno” zarpaba al día siguiente, por la mañana; esa noche, después de cenar, me encaminé a casa de Funes. Me asombró que la noche fuera no menos pesada que el día.\\n\\nEn el decente rancho, la madre de Funes me recibió. Me dijo que Ireneo estaba en la pieza del fondo y que no me extrañara encontrarla a oscuras, porque Ireneo sabía pasarse las horas muertas sin encender la vela. Atravesé el patio de baldosa, el corredorcito; llegué al segundo patio. Había una parra; la oscuridad pudo parecerme total. Oí de pronto la alta y burlona voz de Ireneo. Esa voz hablaba en latín; esa voz (que venía de la tiniebla) articulaba con moroso deleite un discurso o plegaria o incantación. Resonaron las sílabas romanas en el patio de tierra; mi temor las creía indescifrables, interminables; después, en el enorme diálogo de esa noche, supe que formaban el primer párrafo del vigésimocuarto capítulo del libro séptimo de la Naturalis historia. La materia de ese capítulo es la memoria; las palabras últimas fueron ut nihil non usdem verbis redderetur auditum.\\n\\nSin el menor cambio de voz, Ireneo me dijo que pasara. Estaba en el catre, fumando. Me parece que no le vi la cara hasta el alba; creo rememorar el ascua momentánea del cigarrillo. La pieza olía vagamente a humedad. Me senté; repetí la historia del telegrama y de la enfermedad de mi padre. Arribo, ahora, al más difícil punto de mi relato. Este (bueno es que ya lo sepa el lector) no tiene otro argumento que ese diálogo de hace ya medio siglo. No trataré de reproducir sus palabras, irrecuperables ahora. Prefiero resumir con veracidad las muchas cosas que me dijo Ireneo. El estilo indirecto es remoto y débil; yo sé que sacrifico la eficacia de mi relato; que mis lectores se imaginen los entrecortados períodos que me abrumaron esa noche.\\n\\nIreneo empezó por enumerar, en latín y español, los casos de memoria prodigiosa registrados por la Naturalis historia: Ciro, rey de los persas, que sabía llamar por su nombre a todos los soldados de sus ejércitos; Mitrídates Eupator, que administraba la justicia en los 22 idiomas de su imperio; Simónides, inventor de la mnemotecnia; Metrodoro, que profesaba el arte de repetir con fidelidad lo escuchado una sola vez. Con evidente buena fe se maravilló de que tales casos maravillaran. Me dijo que antes de esa tarde lluviosa en que lo volteó el azulejo, él había sido lo que son todos los cristianos: un ciego, un sordo, un abombado, un desmemoriado. (Traté de recordarle su percepción exacta del tiempo, su memoria de nombres propios; no me hizo caso.) Diecinueve años había vivido como quien sueña: miraba sin ver, oía sin oír, se olvidaba de todo, de casi todo. Al caer, perdió el conocimiento; cuando lo recobró, el presente era casi intolerable de tan rico y tan nítido, y también las memorias más antiguas y más triviales. Poco después averiguó que estaba tullido. El hecho apenas le interesó. Razonó (sintió) que la inmovilidad era un precio mínimo. Ahora su percepción y su memoria eran infalibles.\\n\\nNosotros, de un vistazo, percibimos tres copas en una mesa; Funes, todos los vástagos y racimos y frutos que comprende una parra. Sabía las formas de las nubes australes del amanecer del treinta de abril de mil ochocientos ochenta y dos y podía compararlas en el recuerdo con las vetas de un libro en pasta española que solo había mirado una vez y con las líneas de la espuma que un remo levantó en el Río Negro la víspera de la acción del Quebracho. Esos recuerdos no eran simples; cada imagen visual estaba ligada a sensaciones musculares, térmicas, etc. Podía reconstruir todos los sueños, todos los entresueños. Dos o tres veces había reconstruido un día entero; no había dudado nunca, pero cada reconstrucción había requerido un día entero. Me dijo: Más recuerdos tengo yo solo que los que habrán tenido todos los hombres desde que el mundo es mundo. Y también: Mis sueños son como 1a vigilia de ustedes. Y también, hacia el alba: Mi memoría, señor, es como vacíadero de basuras. Una circunferencia en un pizarrón, un triángulo rectángulo, un rombo, son formas que podemos intuir plenamente; lo mismo le pasaba a Ireneo con las aborrascadas crines de un potro, con una punta de ganado en una cuchilla, con el fuego cambiante y con la innumerable ceniza, con las muchas caras de un muerto en un largo velorio. No sé cuántas estrellas veía en el cielo.\\n\\nEsas cosas me dijo; ni entonces ni después las he puesto en duda. En aquel tiempo no había cinematógrafos ni fonógrafos; es, sin embargo, inverosímil y hasta increíble que nadie hiciera un experimento con Funes. Lo cierto es que vivimos postergando todo lo postergable; tal vez todos sabemos profundamente que somos inmortales y que tarde o temprano, todo hombre hará todas las cosas y sabrá todo.\\n\\nLa voz de Funes, desde la oscuridad, seguía hablando.\\n\\nMe dijo que hacia 1886 había discurrido un sistema original de numeración y que en muy pocos días había rebasado el veinticuatro mil. No lo había escrito, porque lo pensado una sola vez ya no podía borrársele. Su primer estímulo, creo, fue el desagrado de que los treinta y tres orientales requirieran dos signos y tres palabras, en lugar de una sola palabra y un solo signo. Aplicó luego ese disparatado principio a los otros números. En lugar de siete mil trece, decía (por ejemplo) Máximo Pérez; en lugar de siete mil catorce, El Ferrocarril; otros números eran Luis Melián Lafinur, Olimar, azufre, los bastos, la ballena, gas, la caldera, Napoleón, Agustín Vedia. En lugar de quinientos, decía nueve. Cada palabra tenía un signo particular, una especie marca; las últimas muy complicadas… Yo traté de explicarle que esa rapsodia de voces inconexas era precisamente lo contrario de un sistema numeración. Le dije que decir 365 era decir tres centenas, seis decenas, cinco unidades; análisis no existe en los “números” El Negro Timoteo o manta de carne. Funes no me entendió o no quiso entenderme.\\n\\nLocke, en el siglo XVII, postuló (y reprobó) un idioma imposible en el que cada cosa individual, cada piedra, cada pájaro y cada rama tuviera nombre propio; Funes proyectó alguna vez un idioma análogo, pero lo desechó por parecerle demasiado general, demasiado ambiguo. En efecto, Funes no solo recordaba cada hoja de cada árbol de cada monte, sino cada una de las veces que la había percibido o imaginado. Resolvió reducir cada una de sus jornadas pretéritas a unos setenta mil recuerdos, que definiría luego por cifras. Lo disuadieron dos consideraciones: la conciencia de que la tarea era interminable, la conciencia de que era inútil. Pensó que en la hora de la muerte no habría acabado aún de clasificar todos los recuerdos de la niñez.\\n\\nLos dos proyectos que he indicado (un vocabulario infinito para serie natural de los números, un inútil catálogo mental de todas las imágenes del recuerdo) son insensatos, pero revelan cierta balbuciente grandeza. Nos dejan vislumbrar o inferir el vertiginoso mundo de Funes. Este, no lo olvidemos, era casi incapaz de ideas generales, platónicas. No solo le costaba comprender que el símbolo genérico perro abarcara tantos individuos dispares de diversos tamaños y diversa forma; le molestaba que el perro de las tres y catorce (visto de perfil) tuviera el mismo nombre que el perro de las tres y cuarto (visto de frente). Su propia cara en el espejo, sus propias manos, lo sorprendían cada vez. Refiere Swift que el emperador de Lilliput discernía el movimiento del minutero; Funes discernía continuamente los tranquilos avances de la corrupción, de las caries, de la fatiga. Notaba los progresos de la muerte, de la humedad. Era el solitario y lúcido espectador de un mundo multiforme, instantáneo y casi intolerablemente preciso. Babilonia, Londres y Nueva York han abrumado con feroz esplendor la imaginación de los hombres; nadie, en sus torres populosas o en sus avenidas urgentes, ha sentido el calor y la presión de una realidad tan infatigable como la que día y noche convergía sobre el infeliz Ireneo, en su pobre arrabal sudamericano. Le era muy difícil dormir. Dormir es distraerse del mundo; Funes, de espaldas en el catre, en la sombra, se figuraba cada grieta y cada moldura de las casas precisas que lo rodeaban. (Repito que el menos importante de sus recuerdos era más minucioso y más vivo que nuestra percepción de un goce físico o de un tormento físico.) Hacia el Este, en un trecho no amanzanado, había casas nuevas, desconocidas. Funes las imaginaba negras, compactas, hechas de tiniebla homogénea; en esa dirección volvía la cara para dormir. También solía imaginarse en el fondo del río, mecido y anulado por la corriente.\\n\\nHabía aprendido sin esfuerzo el inglés, el francés, el portugués, el latín. Sospecho, sin embargo, que no era muy capaz de pensar. Pensar es olvidar diferencias, es generalizar, abstraer. En el abarrotado mundo de Funes no había sino detalles, casi inmediatos.\\n\\nLa recelosa claridad de la madrugada entró por el patio de tierra.\\n\\nEntonces vi la cara de la voz que toda la noche había hablado. Ireneo tenía diecinueve años; había nacido en 1868; me pareció monumental como el bronce, más antiguo que Egipto, anterior a las profecías y a las pirámides. Pensé que cada una de mis palabras (que cada uno de mis gestos) perduraría en su implacable memoria; me entorpeció el temor de multiplicar ademanes inútiles.\\n\\nIreneo Funes murió en 1889, de una congestión pulmonar.'"
      ]
     },
     "execution_count": 12,
     "metadata": {},
     "output_type": "execute_result"
    }
   ],
   "source": [
    "f"
   ]
  },
  {
   "cell_type": "code",
   "execution_count": 10,
   "metadata": {},
   "outputs": [],
   "source": [
    "L = f.split()"
   ]
  },
  {
   "cell_type": "code",
   "execution_count": 11,
   "metadata": {},
   "outputs": [
    {
     "data": {
      "text/plain": [
       "['Lo',\n",
       " 'recuerdo',\n",
       " '(yo',\n",
       " 'no',\n",
       " 'tengo',\n",
       " 'derecho',\n",
       " 'a',\n",
       " 'pronunciar',\n",
       " 'ese',\n",
       " 'verbo',\n",
       " 'sagrado,',\n",
       " 'solo',\n",
       " 'un',\n",
       " 'hombre',\n",
       " 'en',\n",
       " 'la',\n",
       " 'tierra',\n",
       " 'tuvo',\n",
       " 'derecho',\n",
       " 'y',\n",
       " 'ese',\n",
       " 'hombre',\n",
       " 'ha',\n",
       " 'muerto)',\n",
       " 'con',\n",
       " 'una',\n",
       " 'oscura',\n",
       " 'pasionaria',\n",
       " 'en',\n",
       " 'la',\n",
       " 'mano,',\n",
       " 'viéndola',\n",
       " 'como',\n",
       " 'nadie',\n",
       " 'la',\n",
       " 'ha',\n",
       " 'visto,',\n",
       " 'aunque',\n",
       " 'la',\n",
       " 'mirara',\n",
       " 'desde',\n",
       " 'el',\n",
       " 'crepúsculo',\n",
       " 'del',\n",
       " 'día',\n",
       " 'hasta',\n",
       " 'el',\n",
       " 'de',\n",
       " 'la',\n",
       " 'noche,',\n",
       " 'toda',\n",
       " 'una',\n",
       " 'vida',\n",
       " 'entera.',\n",
       " 'Lo',\n",
       " 'recuerdo,',\n",
       " 'la',\n",
       " 'cara',\n",
       " 'taciturna',\n",
       " 'y',\n",
       " 'aindiada',\n",
       " 'y',\n",
       " 'singularmente',\n",
       " 'remota,',\n",
       " 'detrás',\n",
       " 'del',\n",
       " 'cigarrillo.',\n",
       " 'Recuerdo',\n",
       " '(creo)',\n",
       " 'sus',\n",
       " 'manos',\n",
       " 'afiladas',\n",
       " 'de',\n",
       " 'trenzador.',\n",
       " 'Recuerdo',\n",
       " 'cerca',\n",
       " 'de',\n",
       " 'esas',\n",
       " 'manos',\n",
       " 'un',\n",
       " 'mate,',\n",
       " 'con',\n",
       " 'las',\n",
       " 'armas',\n",
       " 'de',\n",
       " 'la',\n",
       " 'Banda',\n",
       " 'Oriental;',\n",
       " 'recuerdo',\n",
       " 'en',\n",
       " 'la',\n",
       " 'ventana',\n",
       " 'de',\n",
       " 'la',\n",
       " 'casa',\n",
       " 'una',\n",
       " 'estera',\n",
       " 'amarilla,',\n",
       " 'con',\n",
       " 'un',\n",
       " 'vago',\n",
       " 'paisaje',\n",
       " 'lacustre.',\n",
       " 'Recuerdo',\n",
       " 'claramente',\n",
       " 'su',\n",
       " 'voz;',\n",
       " 'la',\n",
       " 'voz',\n",
       " 'pausada,',\n",
       " 'resentida',\n",
       " 'y',\n",
       " 'nasal',\n",
       " 'del',\n",
       " 'orillero',\n",
       " 'antiguo,',\n",
       " 'sin',\n",
       " 'los',\n",
       " 'silbidos',\n",
       " 'italianos',\n",
       " 'de',\n",
       " 'ahora.',\n",
       " 'Más',\n",
       " 'de',\n",
       " 'tres',\n",
       " 'veces',\n",
       " 'no',\n",
       " 'lo',\n",
       " 'vi;',\n",
       " 'la',\n",
       " 'última,',\n",
       " 'en',\n",
       " '1887…',\n",
       " 'Me',\n",
       " 'parece',\n",
       " 'muy',\n",
       " 'feliz',\n",
       " 'el',\n",
       " 'proyecto',\n",
       " 'de',\n",
       " 'que',\n",
       " 'todos',\n",
       " 'aquellos',\n",
       " 'que',\n",
       " 'lo',\n",
       " 'trataron',\n",
       " 'escriban',\n",
       " 'sobre',\n",
       " 'él;',\n",
       " 'mi',\n",
       " 'testimonio',\n",
       " 'será',\n",
       " 'acaso',\n",
       " 'el',\n",
       " 'más',\n",
       " 'breve',\n",
       " 'y',\n",
       " 'sin',\n",
       " 'duda',\n",
       " 'el',\n",
       " 'más',\n",
       " 'pobre,',\n",
       " 'pero',\n",
       " 'no',\n",
       " 'el',\n",
       " 'menos',\n",
       " 'imparcial',\n",
       " 'del',\n",
       " 'volumen',\n",
       " 'que',\n",
       " 'editarán',\n",
       " 'ustedes.',\n",
       " 'Mi',\n",
       " 'deplorable',\n",
       " 'condición',\n",
       " 'de',\n",
       " 'argentino',\n",
       " 'me',\n",
       " 'impedirá',\n",
       " 'incurrir',\n",
       " 'en',\n",
       " 'el',\n",
       " 'ditirambo',\n",
       " '—género',\n",
       " 'obligatorio',\n",
       " 'en',\n",
       " 'el',\n",
       " 'Uruguay,',\n",
       " 'cuando',\n",
       " 'el',\n",
       " 'tema',\n",
       " 'es',\n",
       " 'un',\n",
       " 'uruguayo.',\n",
       " 'Literato,',\n",
       " 'cajetilla,',\n",
       " 'porteño:',\n",
       " 'Funes',\n",
       " 'no',\n",
       " 'dijo',\n",
       " 'esas',\n",
       " 'injuriosas',\n",
       " 'palabras,',\n",
       " 'pero',\n",
       " 'de',\n",
       " 'un',\n",
       " 'modo',\n",
       " 'suficiente',\n",
       " 'me',\n",
       " 'consta',\n",
       " 'que',\n",
       " 'yo',\n",
       " 'representaba',\n",
       " 'para',\n",
       " 'él',\n",
       " 'esas',\n",
       " 'desventuras.',\n",
       " 'Pedro',\n",
       " 'Leandro',\n",
       " 'Ipuche',\n",
       " 'ha',\n",
       " 'escrito',\n",
       " 'que',\n",
       " 'Funes',\n",
       " 'era',\n",
       " 'un',\n",
       " 'precursor',\n",
       " 'de',\n",
       " 'los',\n",
       " 'superhombres;',\n",
       " '“Un',\n",
       " 'Zarathustra',\n",
       " 'cimarrón',\n",
       " 'y',\n",
       " 'vernáculo”;',\n",
       " 'no',\n",
       " 'lo',\n",
       " 'discuto,',\n",
       " 'pero',\n",
       " 'no',\n",
       " 'hay',\n",
       " 'que',\n",
       " 'olvidar',\n",
       " 'que',\n",
       " 'era',\n",
       " 'también',\n",
       " 'un',\n",
       " 'compadrito',\n",
       " 'de',\n",
       " 'Fray',\n",
       " 'Bentos,',\n",
       " 'con',\n",
       " 'ciertas',\n",
       " 'incurables',\n",
       " 'limitaciones.',\n",
       " 'Mi',\n",
       " 'primer',\n",
       " 'recuerdo',\n",
       " 'de',\n",
       " 'Funes',\n",
       " 'es',\n",
       " 'muy',\n",
       " 'perspicuo.',\n",
       " 'Lo',\n",
       " 'veo',\n",
       " 'en',\n",
       " 'un',\n",
       " 'atardecer',\n",
       " 'de',\n",
       " 'marzo',\n",
       " 'o',\n",
       " 'febrero',\n",
       " 'del',\n",
       " 'año',\n",
       " 'ochenta',\n",
       " 'y',\n",
       " 'cuatro.',\n",
       " 'Mi',\n",
       " 'padre,',\n",
       " 'ese',\n",
       " 'año,',\n",
       " 'me',\n",
       " 'había',\n",
       " 'llevado',\n",
       " 'a',\n",
       " 'veranear',\n",
       " 'a',\n",
       " 'Fray',\n",
       " 'Bentos.',\n",
       " 'Yo',\n",
       " 'volvía',\n",
       " 'con',\n",
       " 'mi',\n",
       " 'primo',\n",
       " 'Bernardo',\n",
       " 'Haedo',\n",
       " 'de',\n",
       " 'la',\n",
       " 'estancia',\n",
       " 'de',\n",
       " 'San',\n",
       " 'Francisco.',\n",
       " 'Volvíamos',\n",
       " 'cantando,',\n",
       " 'a',\n",
       " 'caballo,',\n",
       " 'y',\n",
       " 'esa',\n",
       " 'no',\n",
       " 'era',\n",
       " 'la',\n",
       " 'única',\n",
       " 'circunstancia',\n",
       " 'de',\n",
       " 'mi',\n",
       " 'felicidad.',\n",
       " 'Después',\n",
       " 'de',\n",
       " 'un',\n",
       " 'día',\n",
       " 'bochornoso,',\n",
       " 'una',\n",
       " 'enorme',\n",
       " 'tormenta',\n",
       " 'color',\n",
       " 'pizarra',\n",
       " 'había',\n",
       " 'escondido',\n",
       " 'el',\n",
       " 'cielo.',\n",
       " 'La',\n",
       " 'alentaba',\n",
       " 'el',\n",
       " 'viento',\n",
       " 'del',\n",
       " 'Sur,',\n",
       " 'ya',\n",
       " 'se',\n",
       " 'enloquecían',\n",
       " 'los',\n",
       " 'árboles;',\n",
       " 'yo',\n",
       " 'tenía',\n",
       " 'el',\n",
       " 'temor',\n",
       " '(la',\n",
       " 'esperanza)',\n",
       " 'de',\n",
       " 'que',\n",
       " 'nos',\n",
       " 'sorprendiera',\n",
       " 'en',\n",
       " 'un',\n",
       " 'descampado',\n",
       " 'el',\n",
       " 'agua',\n",
       " 'elemental.',\n",
       " 'Corrimos',\n",
       " 'una',\n",
       " 'especie',\n",
       " 'de',\n",
       " 'carrera',\n",
       " 'con',\n",
       " 'la',\n",
       " 'tormenta.',\n",
       " 'Entramos',\n",
       " 'en',\n",
       " 'un',\n",
       " 'callejón',\n",
       " 'que',\n",
       " 'se',\n",
       " 'ahondaba',\n",
       " 'entre',\n",
       " 'dos',\n",
       " 'veredas',\n",
       " 'altísimas',\n",
       " 'de',\n",
       " 'ladrillo.',\n",
       " 'Había',\n",
       " 'oscurecido',\n",
       " 'de',\n",
       " 'golpe;',\n",
       " 'oí',\n",
       " 'rápidos',\n",
       " 'y',\n",
       " 'casi',\n",
       " 'secretos',\n",
       " 'pasos',\n",
       " 'en',\n",
       " 'lo',\n",
       " 'alto;',\n",
       " 'alcé',\n",
       " 'los',\n",
       " 'ojos',\n",
       " 'y',\n",
       " 'vi',\n",
       " 'un',\n",
       " 'muchacho',\n",
       " 'que',\n",
       " 'corría',\n",
       " 'por',\n",
       " 'la',\n",
       " 'estrecha',\n",
       " 'y',\n",
       " 'rota',\n",
       " 'vereda',\n",
       " 'como',\n",
       " 'por',\n",
       " 'una',\n",
       " 'estrecha',\n",
       " 'y',\n",
       " 'rota',\n",
       " 'pared.',\n",
       " 'Recuerdo',\n",
       " 'la',\n",
       " 'bombacha,',\n",
       " 'las',\n",
       " 'alpargatas,',\n",
       " 'recuerdo',\n",
       " 'el',\n",
       " 'cigarrillo',\n",
       " 'en',\n",
       " 'el',\n",
       " 'duro',\n",
       " 'rostro,',\n",
       " 'contra',\n",
       " 'el',\n",
       " 'nubarrón',\n",
       " 'ya',\n",
       " 'sin',\n",
       " 'límites.',\n",
       " 'Bernardo',\n",
       " 'le',\n",
       " 'gritó',\n",
       " 'imprevisiblemente:',\n",
       " '¿Qué',\n",
       " 'horas',\n",
       " 'son,',\n",
       " 'Ireneo?',\n",
       " 'Sin',\n",
       " 'consultar',\n",
       " 'el',\n",
       " 'cielo,',\n",
       " 'sin',\n",
       " 'detenerse,',\n",
       " 'el',\n",
       " 'otro',\n",
       " 'respondió:',\n",
       " 'Faltan',\n",
       " 'cuatro',\n",
       " 'minutos',\n",
       " 'para',\n",
       " 'las',\n",
       " 'ocho,',\n",
       " 'joven',\n",
       " 'Bernardo',\n",
       " 'Juan',\n",
       " 'Francisco.',\n",
       " 'La',\n",
       " 'voz',\n",
       " 'era',\n",
       " 'aguda,',\n",
       " 'burlona.',\n",
       " 'Yo',\n",
       " 'soy',\n",
       " 'tan',\n",
       " 'distraído',\n",
       " 'que',\n",
       " 'el',\n",
       " 'diálogo',\n",
       " 'que',\n",
       " 'acabo',\n",
       " 'de',\n",
       " 'referir',\n",
       " 'no',\n",
       " 'me',\n",
       " 'hubiera',\n",
       " 'llamado',\n",
       " 'la',\n",
       " 'atención',\n",
       " 'si',\n",
       " 'no',\n",
       " 'lo',\n",
       " 'hubiera',\n",
       " 'recalcado',\n",
       " 'mi',\n",
       " 'primo,',\n",
       " 'a',\n",
       " 'quien',\n",
       " 'estimulaban',\n",
       " '(creo)',\n",
       " 'cierto',\n",
       " 'orgullo',\n",
       " 'local,',\n",
       " 'y',\n",
       " 'el',\n",
       " 'deseo',\n",
       " 'de',\n",
       " 'mostrarse',\n",
       " 'indiferente',\n",
       " 'a',\n",
       " 'la',\n",
       " 'réplica',\n",
       " 'tripartita',\n",
       " 'del',\n",
       " 'otro.',\n",
       " 'Me',\n",
       " 'dijo',\n",
       " 'que',\n",
       " 'el',\n",
       " 'muchacho',\n",
       " 'del',\n",
       " 'callejón',\n",
       " 'era',\n",
       " 'un',\n",
       " 'tal',\n",
       " 'Ireneo',\n",
       " 'Funes,',\n",
       " 'mentado',\n",
       " 'por',\n",
       " 'algunas',\n",
       " 'rarezas',\n",
       " 'como',\n",
       " 'la',\n",
       " 'de',\n",
       " 'no',\n",
       " 'darse',\n",
       " 'con',\n",
       " 'nadie',\n",
       " 'y',\n",
       " 'la',\n",
       " 'de',\n",
       " 'saber',\n",
       " 'siempre',\n",
       " 'la',\n",
       " 'hora,',\n",
       " 'como',\n",
       " 'un',\n",
       " 'reloj.',\n",
       " 'Agregó',\n",
       " 'que',\n",
       " 'era',\n",
       " 'hijo',\n",
       " 'de',\n",
       " 'una',\n",
       " 'planchadora',\n",
       " 'del',\n",
       " 'pueblo,',\n",
       " 'María',\n",
       " 'Clementina',\n",
       " 'Funes,',\n",
       " 'y',\n",
       " 'que',\n",
       " 'algunos',\n",
       " 'decían',\n",
       " 'que',\n",
       " 'su',\n",
       " 'padre',\n",
       " 'era',\n",
       " 'un',\n",
       " 'médico',\n",
       " 'del',\n",
       " 'saladero,',\n",
       " 'un',\n",
       " 'inglés',\n",
       " 'O’Connor,',\n",
       " 'y',\n",
       " 'otros',\n",
       " 'un',\n",
       " 'domador',\n",
       " 'o',\n",
       " 'rastreador',\n",
       " 'del',\n",
       " 'departamento',\n",
       " 'del',\n",
       " 'Salto.',\n",
       " 'Vivía',\n",
       " 'con',\n",
       " 'su',\n",
       " 'madre,',\n",
       " 'a',\n",
       " 'la',\n",
       " 'vuelta',\n",
       " 'de',\n",
       " 'la',\n",
       " 'quinta',\n",
       " 'de',\n",
       " 'los',\n",
       " 'Laureles.',\n",
       " 'Los',\n",
       " 'años',\n",
       " 'ochenta',\n",
       " 'y',\n",
       " 'cinco',\n",
       " 'y',\n",
       " 'ochenta',\n",
       " 'y',\n",
       " 'seis',\n",
       " 'veraneamos',\n",
       " 'en',\n",
       " 'la',\n",
       " 'ciudad',\n",
       " 'de',\n",
       " 'Montevideo.',\n",
       " 'El',\n",
       " 'ochenta',\n",
       " 'y',\n",
       " 'siete',\n",
       " 'volví',\n",
       " 'a',\n",
       " 'Fray',\n",
       " 'Bentos.',\n",
       " 'Pregunté,',\n",
       " 'como',\n",
       " 'es',\n",
       " 'natural,',\n",
       " 'por',\n",
       " 'todos',\n",
       " 'los',\n",
       " 'conocidos',\n",
       " 'y,',\n",
       " 'finalmente,',\n",
       " 'por',\n",
       " 'el',\n",
       " '“cronométrico',\n",
       " 'Funes”.',\n",
       " 'Me',\n",
       " 'contestaron',\n",
       " 'que',\n",
       " 'lo',\n",
       " 'había',\n",
       " 'volteado',\n",
       " 'un',\n",
       " 'redomón',\n",
       " 'en',\n",
       " 'la',\n",
       " 'estancia',\n",
       " 'de',\n",
       " 'San',\n",
       " 'Francisco,',\n",
       " 'y',\n",
       " 'que',\n",
       " 'había',\n",
       " 'quedado',\n",
       " 'tullido,',\n",
       " 'sin',\n",
       " 'esperanza.',\n",
       " 'Recuerdo',\n",
       " 'la',\n",
       " 'impresión',\n",
       " 'de',\n",
       " 'incómoda',\n",
       " 'magia',\n",
       " 'que',\n",
       " 'la',\n",
       " 'noticia',\n",
       " 'me',\n",
       " 'produjo:',\n",
       " 'la',\n",
       " 'única',\n",
       " 'vez',\n",
       " 'que',\n",
       " 'yo',\n",
       " 'lo',\n",
       " 'vi,',\n",
       " 'veníamos',\n",
       " 'a',\n",
       " 'caballo',\n",
       " 'de',\n",
       " 'San',\n",
       " 'Francisco',\n",
       " 'y',\n",
       " 'él',\n",
       " 'andaba',\n",
       " 'en',\n",
       " 'un',\n",
       " 'lugar',\n",
       " 'alto;',\n",
       " 'el',\n",
       " 'hecho,',\n",
       " 'en',\n",
       " 'boca',\n",
       " 'de',\n",
       " 'mi',\n",
       " 'primo',\n",
       " 'Bernardo,',\n",
       " 'tenía',\n",
       " 'mucho',\n",
       " 'de',\n",
       " 'sueño',\n",
       " 'elaborado',\n",
       " 'con',\n",
       " 'elementos',\n",
       " 'anteriores.',\n",
       " 'Me',\n",
       " 'dijeron',\n",
       " 'que',\n",
       " 'no',\n",
       " 'se',\n",
       " 'movía',\n",
       " 'del',\n",
       " 'catre,',\n",
       " 'puestos',\n",
       " 'los',\n",
       " 'ojos',\n",
       " 'en',\n",
       " 'la',\n",
       " 'higuera',\n",
       " 'del',\n",
       " 'fondo',\n",
       " 'o',\n",
       " 'en',\n",
       " 'una',\n",
       " 'telaraña.',\n",
       " 'En',\n",
       " 'los',\n",
       " 'atardeceres,',\n",
       " 'permitía',\n",
       " 'que',\n",
       " 'lo',\n",
       " 'sacaran',\n",
       " 'a',\n",
       " 'la',\n",
       " 'ventana.',\n",
       " 'Llevaba',\n",
       " 'la',\n",
       " 'soberbia',\n",
       " 'hasta',\n",
       " 'el',\n",
       " 'punto',\n",
       " 'de',\n",
       " 'simular',\n",
       " 'que',\n",
       " 'era',\n",
       " 'benéfico',\n",
       " 'el',\n",
       " 'golpe',\n",
       " 'que',\n",
       " 'lo',\n",
       " 'había',\n",
       " 'fulminado…',\n",
       " 'Dos',\n",
       " 'veces',\n",
       " 'lo',\n",
       " 'vi',\n",
       " 'atrás',\n",
       " 'de',\n",
       " 'la',\n",
       " 'reja,',\n",
       " 'que',\n",
       " 'burdamente',\n",
       " 'recalcaba',\n",
       " 'su',\n",
       " 'condición',\n",
       " 'de',\n",
       " 'eterno',\n",
       " 'prisionero:',\n",
       " 'una,',\n",
       " 'inmóvil,',\n",
       " 'con',\n",
       " 'los',\n",
       " 'ojos',\n",
       " 'cerrados;',\n",
       " 'otra,',\n",
       " 'inmóvil',\n",
       " 'también,',\n",
       " 'absorto',\n",
       " 'en',\n",
       " 'la',\n",
       " 'contemplación',\n",
       " 'de',\n",
       " 'un',\n",
       " 'oloroso',\n",
       " 'gajo',\n",
       " 'de',\n",
       " 'santonina.',\n",
       " 'No',\n",
       " 'sin',\n",
       " 'alguna',\n",
       " 'vanagloria',\n",
       " 'yo',\n",
       " 'había',\n",
       " 'iniciado',\n",
       " 'en',\n",
       " 'aquel',\n",
       " 'tiempo',\n",
       " 'el',\n",
       " 'estudio',\n",
       " 'metódico',\n",
       " 'del',\n",
       " 'latín.',\n",
       " 'Mi',\n",
       " 'valija',\n",
       " 'incluía',\n",
       " 'el',\n",
       " 'De',\n",
       " 'viris',\n",
       " 'illustribus',\n",
       " 'de',\n",
       " 'Lhomond,',\n",
       " 'el',\n",
       " 'Thesaurus',\n",
       " 'de',\n",
       " 'Quicherat,',\n",
       " 'los',\n",
       " 'comentarios',\n",
       " 'de',\n",
       " 'Julio',\n",
       " 'César',\n",
       " 'y',\n",
       " 'un',\n",
       " 'volumen',\n",
       " 'impar',\n",
       " 'de',\n",
       " 'la',\n",
       " 'Naturalis',\n",
       " 'historia',\n",
       " 'de',\n",
       " 'Plinio,',\n",
       " 'que',\n",
       " 'excedía',\n",
       " '(y',\n",
       " 'sigue',\n",
       " 'excediendo)',\n",
       " 'mis',\n",
       " 'módicas',\n",
       " 'virtudes',\n",
       " 'de',\n",
       " 'latinista.',\n",
       " 'Todo',\n",
       " 'se',\n",
       " 'propala',\n",
       " 'en',\n",
       " 'un',\n",
       " 'pueblo',\n",
       " 'chico;',\n",
       " 'Ireneo,',\n",
       " 'en',\n",
       " 'su',\n",
       " 'rancho',\n",
       " 'de',\n",
       " 'las',\n",
       " 'orillas,',\n",
       " 'no',\n",
       " 'tardó',\n",
       " 'en',\n",
       " 'enterarse',\n",
       " 'del',\n",
       " 'arribo',\n",
       " 'de',\n",
       " 'esos',\n",
       " 'libros',\n",
       " 'anómalos.',\n",
       " 'Me',\n",
       " 'dirigió',\n",
       " 'una',\n",
       " 'carta',\n",
       " 'florida',\n",
       " 'y',\n",
       " 'ceremoniosa,',\n",
       " 'en',\n",
       " 'la',\n",
       " 'que',\n",
       " 'recordaba',\n",
       " 'nuestro',\n",
       " 'encuentro,',\n",
       " 'desdichadamente',\n",
       " 'fugaz,',\n",
       " '“del',\n",
       " 'día',\n",
       " 'siete',\n",
       " 'de',\n",
       " 'febrero',\n",
       " 'del',\n",
       " 'año',\n",
       " 'ochenta',\n",
       " 'y',\n",
       " 'cuatro”,',\n",
       " 'ponderaba',\n",
       " 'los',\n",
       " 'gloriosos',\n",
       " 'servicios',\n",
       " 'que',\n",
       " 'don',\n",
       " 'Gregorio',\n",
       " 'Haedo,',\n",
       " 'mi',\n",
       " 'tío,',\n",
       " 'finado',\n",
       " 'ese',\n",
       " 'mismo',\n",
       " 'año,',\n",
       " '“había',\n",
       " 'prestado',\n",
       " 'a',\n",
       " 'las',\n",
       " 'dos',\n",
       " 'patrias',\n",
       " 'en',\n",
       " 'la',\n",
       " 'valerosa',\n",
       " 'jornada',\n",
       " 'de',\n",
       " 'Ituzaingó”,',\n",
       " 'y',\n",
       " 'me',\n",
       " 'solicitaba',\n",
       " 'el',\n",
       " 'préstamo',\n",
       " 'de',\n",
       " 'cualquiera',\n",
       " 'de',\n",
       " 'los',\n",
       " 'volúmenes,',\n",
       " 'acompañado',\n",
       " 'de',\n",
       " 'un',\n",
       " 'diccionario',\n",
       " '“para',\n",
       " 'la',\n",
       " 'buena',\n",
       " 'inteligencia',\n",
       " 'del',\n",
       " 'texto',\n",
       " 'original,',\n",
       " 'porque',\n",
       " 'todavía',\n",
       " 'ignoro',\n",
       " 'el',\n",
       " 'latín”.',\n",
       " 'Prometía',\n",
       " 'devolverlos',\n",
       " 'en',\n",
       " 'buen',\n",
       " 'estado,',\n",
       " 'casi',\n",
       " 'inmediatamente.',\n",
       " 'La',\n",
       " 'letra',\n",
       " 'era',\n",
       " 'perfecta,',\n",
       " 'muy',\n",
       " 'perfilada;',\n",
       " 'la',\n",
       " 'ortografía,',\n",
       " 'del',\n",
       " 'tipo',\n",
       " 'que',\n",
       " 'Andrés',\n",
       " 'Bello',\n",
       " 'preconizó:',\n",
       " 'i',\n",
       " 'por',\n",
       " 'y,',\n",
       " 'j',\n",
       " 'por',\n",
       " 'g.',\n",
       " 'Al',\n",
       " 'principio,',\n",
       " 'temí',\n",
       " 'naturalmente',\n",
       " 'una',\n",
       " 'broma.',\n",
       " 'Mis',\n",
       " 'primos',\n",
       " 'me',\n",
       " 'aseguraron',\n",
       " 'que',\n",
       " 'no,',\n",
       " 'que',\n",
       " 'eran',\n",
       " 'cosas',\n",
       " 'de',\n",
       " 'Ireneo.',\n",
       " 'No',\n",
       " 'supe',\n",
       " 'si',\n",
       " 'atribuir',\n",
       " 'a',\n",
       " 'descaro,',\n",
       " 'a',\n",
       " 'ignorancia',\n",
       " 'o',\n",
       " 'a',\n",
       " 'estupidez',\n",
       " 'la',\n",
       " 'idea',\n",
       " 'de',\n",
       " 'que',\n",
       " 'el',\n",
       " 'arduo',\n",
       " 'latín',\n",
       " 'no',\n",
       " 'requería',\n",
       " 'más',\n",
       " 'instrumento',\n",
       " 'que',\n",
       " 'un',\n",
       " 'diccionario;',\n",
       " 'para',\n",
       " ...]"
      ]
     },
     "execution_count": 11,
     "metadata": {},
     "output_type": "execute_result"
    }
   ],
   "source": [
    "L"
   ]
  },
  {
   "cell_type": "code",
   "execution_count": null,
   "metadata": {},
   "outputs": [],
   "source": [
    "for line in f:   \n",
    "    print(line, end='')    \n",
    "\n",
    "f.close()"
   ]
  },
  {
   "cell_type": "code",
   "execution_count": 2,
   "metadata": {},
   "outputs": [
    {
     "data": {
      "text/plain": [
       "2"
      ]
     },
     "execution_count": 2,
     "metadata": {},
     "output_type": "execute_result"
    }
   ],
   "source": [
    "a"
   ]
  },
  {
   "cell_type": "markdown",
   "metadata": {},
   "source": [
    "## Variables en Python\n",
    "\n",
    "### Asuntos básicos de variables\n",
    "En la expresiones\n",
    "```python\n",
    "palabra = 'Lima'\n",
    "```\n",
    "y \n",
    "\n",
    "```python\n",
    "numero = 57\n",
    "```\n",
    "\n",
    "el contenido _Lima_ y _57_ se asigna a nombres específicos, que llamaremos **variables.**"
   ]
  },
  {
   "cell_type": "code",
   "execution_count": 45,
   "metadata": {},
   "outputs": [],
   "source": [
    "## definimos las variables en una celda de código!\n",
    "\n",
    "## variable tipo string\n",
    "palabra = 'Lima'\n",
    "\n",
    "## variable tipo número (entero)\n",
    "numero = 57"
   ]
  },
  {
   "cell_type": "code",
   "execution_count": 46,
   "metadata": {},
   "outputs": [
    {
     "data": {
      "text/plain": [
       "'Lima'"
      ]
     },
     "execution_count": 46,
     "metadata": {},
     "output_type": "execute_result"
    }
   ],
   "source": [
    "## vemos qué hay adentro de la variable \"palabra\"\n",
    "\n",
    "palabra"
   ]
  },
  {
   "cell_type": "code",
   "execution_count": 47,
   "metadata": {},
   "outputs": [
    {
     "data": {
      "text/plain": [
       "57"
      ]
     },
     "execution_count": 47,
     "metadata": {},
     "output_type": "execute_result"
    }
   ],
   "source": [
    "## vemos qué hay adentro de la variable \"numero\"\n",
    "\n",
    "numero"
   ]
  },
  {
   "cell_type": "markdown",
   "metadata": {},
   "source": [
    "Las **variables** (ya sean números, strings o listas (como veremos)) tienen características poderosas:\n",
    "\n",
    "* Son **variables**, es decir, pueden variar en su contenido\n",
    "* El **tipo de variable** cambia el significado de las oraciones. Aquí hay un poco de magia.  \n",
    "* La **asignación ocurre de derecha a izquierda:** el signo \"=\" **NO** indica igualdad, sino que el hecho de que se está asignando lo que está a la derecha en la variable de la izquierda\n",
    "\n",
    "y algunas **recomendaciones:**\n",
    "\n",
    "* elijan nombres informativos, breves y que indiquen alguna información sobre el tipo de variable: NO elijan 837383838aux o variable o var\n",
    "* respeten cuidadosamente los espacios, eso facilita la lectura\n",
    "* usen comentarios cada vez que definan una variable: qué es, qué contiene"
   ]
  },
  {
   "cell_type": "code",
   "execution_count": 48,
   "metadata": {},
   "outputs": [],
   "source": [
    "## ¿en qué sentido son variables? Asignemos nuevamente las variables palabra y numero\n",
    "\n",
    "## nueva asignación de la variable tipo string\n",
    "palabra = 'Santiago'\n",
    "\n",
    "## nueva asignación de la variable tipo número (entero)\n",
    "numero = 34"
   ]
  },
  {
   "cell_type": "code",
   "execution_count": 49,
   "metadata": {},
   "outputs": [
    {
     "data": {
      "text/plain": [
       "34"
      ]
     },
     "execution_count": 49,
     "metadata": {},
     "output_type": "execute_result"
    }
   ],
   "source": [
    "## pregunta: ¿Cuánto \"valen\" estas variables?\n",
    "\n",
    "## vemos qué hay adentro de la (nueva asignación de la) variable \"numero\"\n",
    "\n",
    "numero"
   ]
  },
  {
   "cell_type": "code",
   "execution_count": 50,
   "metadata": {},
   "outputs": [
    {
     "data": {
      "text/plain": [
       "'Santiago'"
      ]
     },
     "execution_count": 50,
     "metadata": {},
     "output_type": "execute_result"
    }
   ],
   "source": [
    "## vemos qué hay adentro de la (nueva asignación de la) variable \"palabra\"\n",
    "\n",
    "palabra"
   ]
  },
  {
   "cell_type": "markdown",
   "metadata": {},
   "source": [
    "¿Qué podemos **concluir**? Las variables se quedan con su **última asignación de contenido**"
   ]
  },
  {
   "cell_type": "markdown",
   "metadata": {},
   "source": [
    "### Las operaciones entre variables dependen del contexto"
   ]
  },
  {
   "cell_type": "markdown",
   "metadata": {},
   "source": [
    "Pensemos en dos preguntas muy simples: ¿Cómo podemos pegar (concatenar) strings? ¿Cómo sumamos números? El contenido (el **string**) 'Lima' se asigna a la variable \"palabra\". Ya sabemos que la variable \"palabra\" tiene como valor el que asignamos en su última asignación. Si tenemos dos strings, por ejemplo,"
   ]
  },
  {
   "cell_type": "code",
   "execution_count": 51,
   "metadata": {},
   "outputs": [],
   "source": [
    "## asignación de un string a una variable\n",
    "\n",
    "palabra1 = 'Lima'\n",
    "\n",
    "## asignación de un string a una variable\n",
    "\n",
    "palabra2 = 'Santiago'"
   ]
  },
  {
   "cell_type": "code",
   "execution_count": 52,
   "metadata": {},
   "outputs": [
    {
     "data": {
      "text/plain": [
       "('Lima', 'Santiago')"
      ]
     },
     "execution_count": 52,
     "metadata": {},
     "output_type": "execute_result"
    }
   ],
   "source": [
    "palabra1, palabra2"
   ]
  },
  {
   "cell_type": "code",
   "execution_count": 53,
   "metadata": {},
   "outputs": [
    {
     "data": {
      "text/plain": [
       "'LimaSantiago'"
      ]
     },
     "execution_count": 53,
     "metadata": {},
     "output_type": "execute_result"
    }
   ],
   "source": [
    "## podemos concatenarlos (pegarlos) usando\n",
    "\n",
    "## concatenación de dos strings\n",
    "'Lima' + 'Santiago'"
   ]
  },
  {
   "cell_type": "code",
   "execution_count": 54,
   "metadata": {},
   "outputs": [
    {
     "data": {
      "text/plain": [
       "'LimaSantiago'"
      ]
     },
     "execution_count": 54,
     "metadata": {},
     "output_type": "execute_result"
    }
   ],
   "source": [
    "## o bien\n",
    "\n",
    "## concatenación de dos variables tipo string\n",
    "palabra1 + palabra2"
   ]
  },
  {
   "cell_type": "code",
   "execution_count": 55,
   "metadata": {},
   "outputs": [],
   "source": [
    "## o bien!\n",
    "\n",
    "## asignación en la variable3 de la concatenación de dos variables tipo string\n",
    "palabra3 = palabra1 + palabra2"
   ]
  },
  {
   "cell_type": "code",
   "execution_count": 56,
   "metadata": {},
   "outputs": [
    {
     "data": {
      "text/plain": [
       "'LimaSantiago'"
      ]
     },
     "execution_count": 56,
     "metadata": {},
     "output_type": "execute_result"
    }
   ],
   "source": [
    "palabra3"
   ]
  },
  {
   "cell_type": "markdown",
   "metadata": {},
   "source": [
    "¿Cuál es la diferencia? ¿Qué hace el operador \"+\"? Si tenemos dos números, por ejemplo,"
   ]
  },
  {
   "cell_type": "code",
   "execution_count": 57,
   "metadata": {},
   "outputs": [],
   "source": [
    "## asignación de un string a una variable\n",
    "\n",
    "numero1 = 34\n",
    "\n",
    "## asignación de un string a una variable\n",
    "\n",
    "numero2 = 16"
   ]
  },
  {
   "cell_type": "code",
   "execution_count": 58,
   "metadata": {},
   "outputs": [
    {
     "data": {
      "text/plain": [
       "50"
      ]
     },
     "execution_count": 58,
     "metadata": {},
     "output_type": "execute_result"
    }
   ],
   "source": [
    "## podemos sumarlos usando\n",
    "\n",
    "## suma de dos números\n",
    "34 + 16"
   ]
  },
  {
   "cell_type": "code",
   "execution_count": 59,
   "metadata": {},
   "outputs": [
    {
     "data": {
      "text/plain": [
       "50"
      ]
     },
     "execution_count": 59,
     "metadata": {},
     "output_type": "execute_result"
    }
   ],
   "source": [
    "## podemos concatenarlos (pegarlos) usando\n",
    "\n",
    "## concatenación de dos strings\n",
    "numero1 + numero2"
   ]
  },
  {
   "cell_type": "code",
   "execution_count": 60,
   "metadata": {},
   "outputs": [],
   "source": [
    "## o bien!\n",
    "\n",
    "## asignación en numero3 de la suma de dos variables tipo número\n",
    "numero3 = numero1 + numero2"
   ]
  },
  {
   "cell_type": "code",
   "execution_count": 61,
   "metadata": {},
   "outputs": [
    {
     "data": {
      "text/plain": [
       "50"
      ]
     },
     "execution_count": 61,
     "metadata": {},
     "output_type": "execute_result"
    }
   ],
   "source": [
    "numero3"
   ]
  },
  {
   "cell_type": "code",
   "execution_count": 62,
   "metadata": {},
   "outputs": [
    {
     "ename": "TypeError",
     "evalue": "unsupported operand type(s) for +: 'int' and 'str'",
     "output_type": "error",
     "traceback": [
      "\u001b[1;31m---------------------------------------------------------------------------\u001b[0m",
      "\u001b[1;31mTypeError\u001b[0m                                 Traceback (most recent call last)",
      "\u001b[1;32m<ipython-input-62-fedabf654cf1>\u001b[0m in \u001b[0;36m<module>\u001b[1;34m\u001b[0m\n\u001b[0;32m      1\u001b[0m \u001b[1;31m## ¿Qué ocurre si \"sumamos\" números con strings?\u001b[0m\u001b[1;33m\u001b[0m\u001b[1;33m\u001b[0m\u001b[1;33m\u001b[0m\u001b[0m\n\u001b[0;32m      2\u001b[0m \u001b[1;33m\u001b[0m\u001b[0m\n\u001b[1;32m----> 3\u001b[1;33m \u001b[0mnumero1\u001b[0m \u001b[1;33m+\u001b[0m \u001b[0mpalabra1\u001b[0m\u001b[1;33m\u001b[0m\u001b[1;33m\u001b[0m\u001b[0m\n\u001b[0m",
      "\u001b[1;31mTypeError\u001b[0m: unsupported operand type(s) for +: 'int' and 'str'"
     ]
    }
   ],
   "source": [
    "## ¿Qué ocurre si \"sumamos\" números con strings?\n",
    "\n",
    "numero1 + palabra1"
   ]
  },
  {
   "cell_type": "markdown",
   "metadata": {},
   "source": [
    "¿Qué es **+** de acuerdo a los ejemplos anteriores? Una conclusión fundamental es:\n",
    "    \n",
    "* El operador **+** depende del contexto: números o strings!\n",
    "* Solo podemos operar entre variables del mismo tipo!"
   ]
  },
  {
   "cell_type": "markdown",
   "metadata": {},
   "source": [
    "### Un poco más sobre strings\n",
    "\n",
    "Idea importante! todas las asignaciones ocurren de derecha a izquierda :O"
   ]
  },
  {
   "cell_type": "code",
   "execution_count": 63,
   "metadata": {},
   "outputs": [],
   "source": [
    "## ejemplo: número 21 en Quechua\n",
    "\n",
    "## asignamos un string a la variable string_numero\n",
    "string_numero = 'iskay chunka huk-ni-yuq'"
   ]
  },
  {
   "cell_type": "code",
   "execution_count": 64,
   "metadata": {},
   "outputs": [],
   "source": [
    "## tiene un largo que equivale al número de caracteres. Esto incluye, por supuesto, los espacios en blanco!\n",
    "\n",
    "n = len(string_numero)"
   ]
  },
  {
   "cell_type": "code",
   "execution_count": 65,
   "metadata": {},
   "outputs": [
    {
     "data": {
      "text/plain": [
       "23"
      ]
     },
     "execution_count": 65,
     "metadata": {},
     "output_type": "execute_result"
    }
   ],
   "source": [
    "n"
   ]
  },
  {
   "cell_type": "code",
   "execution_count": 66,
   "metadata": {},
   "outputs": [],
   "source": [
    "## todos los caracteres en mayúscula\n",
    "\n",
    "string_mayuscula = string_numero.upper()"
   ]
  },
  {
   "cell_type": "code",
   "execution_count": 67,
   "metadata": {},
   "outputs": [
    {
     "data": {
      "text/plain": [
       "'ISKAY CHUNKA HUK-NI-YUQ'"
      ]
     },
     "execution_count": 67,
     "metadata": {},
     "output_type": "execute_result"
    }
   ],
   "source": [
    "string_mayuscula"
   ]
  },
  {
   "cell_type": "code",
   "execution_count": 68,
   "metadata": {},
   "outputs": [],
   "source": [
    "## todos los caracteres en minúscula\n",
    "\n",
    "string_minuscula = string_mayuscula.lower()"
   ]
  },
  {
   "cell_type": "code",
   "execution_count": 69,
   "metadata": {},
   "outputs": [
    {
     "data": {
      "text/plain": [
       "'iskay chunka huk-ni-yuq'"
      ]
     },
     "execution_count": 69,
     "metadata": {},
     "output_type": "execute_result"
    }
   ],
   "source": [
    "string_minuscula"
   ]
  },
  {
   "cell_type": "code",
   "execution_count": 70,
   "metadata": {},
   "outputs": [],
   "source": [
    "## ¿Cuántas veces aparece un caracter?\n",
    "\n",
    "## usamos count\n",
    "\n",
    "numero_veces = string_numero.count('k')"
   ]
  },
  {
   "cell_type": "code",
   "execution_count": 71,
   "metadata": {},
   "outputs": [
    {
     "data": {
      "text/plain": [
       "3"
      ]
     },
     "execution_count": 71,
     "metadata": {},
     "output_type": "execute_result"
    }
   ],
   "source": [
    "numero_veces"
   ]
  },
  {
   "cell_type": "code",
   "execution_count": 72,
   "metadata": {},
   "outputs": [],
   "source": [
    "## cambiemos partes de un string\n",
    "## usamos replace: el viejo por el nuevo\n",
    "\n",
    "string_nueva_version_numero = string_numero.replace('iskay', 'kimsa' )"
   ]
  },
  {
   "cell_type": "code",
   "execution_count": 73,
   "metadata": {},
   "outputs": [
    {
     "data": {
      "text/plain": [
       "'kimsa chunka huk-ni-yuq'"
      ]
     },
     "execution_count": 73,
     "metadata": {},
     "output_type": "execute_result"
    }
   ],
   "source": [
    "string_nueva_version_numero"
   ]
  },
  {
   "cell_type": "code",
   "execution_count": 74,
   "metadata": {},
   "outputs": [],
   "source": [
    "## transformaciones de número a string\n",
    "\n",
    "string_desde_numero = str(31)"
   ]
  },
  {
   "cell_type": "code",
   "execution_count": 75,
   "metadata": {},
   "outputs": [
    {
     "data": {
      "text/plain": [
       "'31'"
      ]
     },
     "execution_count": 75,
     "metadata": {},
     "output_type": "execute_result"
    }
   ],
   "source": [
    "string_desde_numero"
   ]
  },
  {
   "cell_type": "code",
   "execution_count": 76,
   "metadata": {},
   "outputs": [],
   "source": [
    "## largo de este nuevo string\n",
    "\n",
    "n = len(string_desde_numero)"
   ]
  },
  {
   "cell_type": "code",
   "execution_count": 77,
   "metadata": {},
   "outputs": [
    {
     "data": {
      "text/plain": [
       "2"
      ]
     },
     "execution_count": 77,
     "metadata": {},
     "output_type": "execute_result"
    }
   ],
   "source": [
    "n"
   ]
  },
  {
   "cell_type": "markdown",
   "metadata": {},
   "source": [
    "### Desafíos!"
   ]
  },
  {
   "cell_type": "code",
   "execution_count": 78,
   "metadata": {},
   "outputs": [],
   "source": [
    "## Encuentre el número de veces que aparece cada caracter de string_numero\n",
    "## Sume todas las veces que aparece cada caracter de string_numero\n",
    "## ¿A qué equivale esta suma?"
   ]
  },
  {
   "cell_type": "code",
   "execution_count": 79,
   "metadata": {},
   "outputs": [],
   "source": [
    "## 31 se escribe kimsa chunka huk-ni-yuq\n",
    "## 33 se escribe kimsa chunka kimsa-yuq\n",
    "## Reemplace caracteres para transformar un string en el otro"
   ]
  },
  {
   "cell_type": "code",
   "execution_count": 80,
   "metadata": {},
   "outputs": [],
   "source": [
    "## intente explicar el siguiente código\n",
    "\n",
    "string_numero_nuevo = string_numero[:4] + string_numero[4:]"
   ]
  },
  {
   "cell_type": "code",
   "execution_count": 81,
   "metadata": {},
   "outputs": [
    {
     "data": {
      "text/plain": [
       "'iskay chunka huk-ni-yuq'"
      ]
     },
     "execution_count": 81,
     "metadata": {},
     "output_type": "execute_result"
    }
   ],
   "source": [
    "string_numero_nuevo"
   ]
  },
  {
   "cell_type": "code",
   "execution_count": 82,
   "metadata": {},
   "outputs": [],
   "source": [
    "## Encuentre el número de dígitos que tiene un número entero. Por ejemplo, 34 tiene 2 dígitos; 345 tiene tres dígitos. "
   ]
  },
  {
   "cell_type": "code",
   "execution_count": 83,
   "metadata": {},
   "outputs": [],
   "source": [
    "## Explique con sus propias palabras qué significan las siguientes líneas de código\n",
    "## Agregue comentarios que expliquen cada línea\n",
    "## ¿Qué es el signo \"=\"? ¿Qué valor tienen las variables en cada línea?\n",
    "\n",
    "numero = 10\n",
    "\n",
    "numero = numero + 2\n",
    "\n",
    "numero = numero - 7"
   ]
  },
  {
   "cell_type": "code",
   "execution_count": 84,
   "metadata": {},
   "outputs": [],
   "source": [
    "string = 'hola'\n",
    "\n",
    "string = string + '-chao'\n",
    "\n",
    "string = string + ' '"
   ]
  },
  {
   "cell_type": "code",
   "execution_count": null,
   "metadata": {},
   "outputs": [],
   "source": []
  },
  {
   "cell_type": "code",
   "execution_count": null,
   "metadata": {},
   "outputs": [],
   "source": []
  },
  {
   "cell_type": "code",
   "execution_count": null,
   "metadata": {},
   "outputs": [],
   "source": []
  }
 ],
 "metadata": {
  "colab": {
   "name": "semana-1.ipynb",
   "provenance": []
  },
  "kernelspec": {
   "display_name": "Python 3",
   "language": "python",
   "name": "python3"
  },
  "language_info": {
   "codemirror_mode": {
    "name": "ipython",
    "version": 3
   },
   "file_extension": ".py",
   "mimetype": "text/x-python",
   "name": "python",
   "nbconvert_exporter": "python",
   "pygments_lexer": "ipython3",
   "version": "3.8.8"
  },
  "vscode": {
   "interpreter": {
    "hash": "3ad933181bd8a04b432d3370b9dc3b0662ad032c4dfaa4e4f1596c548f763858"
   }
  }
 },
 "nbformat": 4,
 "nbformat_minor": 1
}
