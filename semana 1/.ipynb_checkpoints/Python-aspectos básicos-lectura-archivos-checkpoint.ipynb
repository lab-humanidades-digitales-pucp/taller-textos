{
 "cells": [
  {
   "cell_type": "markdown",
   "metadata": {
    "id": "Bonrs-i763k3"
   },
   "source": [
    "# **Taller de Análisis automático de textos en Humanidades**\n",
    "### Javier Vera Zúñiga, jveraz@pucp.edu.pe"
   ]
  },
  {
   "cell_type": "markdown",
   "metadata": {},
   "source": [
    "## Link importante para elementos básicos de Python\n",
    "\n",
    "[Curso de Python](https://developers.google.com/edu/python/introduction)"
   ]
  },
  {
   "cell_type": "markdown",
   "metadata": {},
   "source": [
    "## Primeros elementos de Python\n",
    "\n",
    "En este primer acercamiento a **Python**, veremos los siguientes conceptos:\n",
    "\n",
    "- ¿Qué es Python?\n",
    "- ¿Dónde programar?\n",
    "- Tipos de celdas en Jupyter\n",
    "- Nociones básicas de variables\n",
    "- Lectura de archivos"
   ]
  },
  {
   "cell_type": "markdown",
   "metadata": {},
   "source": [
    "## ¿Qué es Python?\n",
    "\n",
    "- un **lenguaje de programación** es un lenguaje artificial que se usa para dar instrucciones que controlan una máquina.\n",
    "- tal como en las lenguas naturales, es posible definir elementos que se combinan (una sintaxis) y que portan un significado (una semántica).\n",
    "- es relevante pensar, entonces, en qué unidades o estructuras nos ofrece **Python** y cómo se combinan. Con esto, podremos dar instrucciones precisas al computador. \n",
    "- **Python** es un lenguaje de programación de sintaxis amigable, que privilegia que los códigos o programas sean legibles.\n",
    "- **Python** necesita de un espacio donde escribir los códigos, para que luego sean transformados en instrucciones para el computador. "
   ]
  },
  {
   "cell_type": "markdown",
   "metadata": {},
   "source": [
    "## ¿Dónde programar?\n",
    "\n",
    "- [Sagemaker StudioLab](https://studiolab.sagemaker.aws): gratis + 24 horas\n",
    "- [Sagemaker](https://portal.aws.amazon.com/billing/signup#/start/email): gratis + tarjeta de crédito/débito\n",
    "- [Anaconda](https://www.anaconda.com/products/distribution)\n",
    "- [Try jupyter](https://jupyter.org/try-jupyter/lab/): solo para probar"
   ]
  },
  {
   "cell_type": "markdown",
   "metadata": {},
   "source": [
    "## Tipos de celdas\n",
    "\n",
    "Dos tipos esenciales:\n",
    "\n",
    "- **Código** (code)\n",
    "- **Texto** (markdown)\n",
    "\n",
    "Probemos! ¿Cuál debemos usar?"
   ]
  },
  {
   "cell_type": "markdown",
   "metadata": {},
   "source": [
    "## Variables en Python\n",
    "\n",
    "### Asuntos básicos de variables\n",
    "En la expresiones\n",
    "```python\n",
    "palabra = 'Lima'\n",
    "```\n",
    "y \n",
    "\n",
    "```python\n",
    "numero = 57\n",
    "```\n",
    "\n",
    "el contenido _Lima_ y _57_ se asigna a nombres específicos, que llamaremos **variables.**"
   ]
  },
  {
   "cell_type": "code",
   "execution_count": 4,
   "metadata": {},
   "outputs": [],
   "source": [
    "## definimos las variables en una celda de código!\n",
    "\n",
    "## variable tipo string\n",
    "palabra = 'Lima'\n",
    "\n",
    "## variable tipo número (entero)\n",
    "numero = 57"
   ]
  },
  {
   "cell_type": "code",
   "execution_count": 6,
   "metadata": {},
   "outputs": [
    {
     "data": {
      "text/plain": [
       "'Lima'"
      ]
     },
     "execution_count": 6,
     "metadata": {},
     "output_type": "execute_result"
    }
   ],
   "source": [
    "## vemos qué hay adentro de la variable \"palabra\"\n",
    "\n",
    "palabra"
   ]
  },
  {
   "cell_type": "code",
   "execution_count": 47,
   "metadata": {},
   "outputs": [
    {
     "data": {
      "text/plain": [
       "57"
      ]
     },
     "execution_count": 47,
     "metadata": {},
     "output_type": "execute_result"
    }
   ],
   "source": [
    "## vemos qué hay adentro de la variable \"numero\"\n",
    "\n",
    "numero"
   ]
  },
  {
   "cell_type": "markdown",
   "metadata": {},
   "source": [
    "Las **variables** (ya sean números, strings o listas (como veremos)) tienen características poderosas:\n",
    "\n",
    "* Son **variables**, es decir, pueden variar en su contenido\n",
    "* El **tipo de variable** cambia el significado de las oraciones. Aquí hay un poco de magia.  \n",
    "* La **asignación ocurre de derecha a izquierda:** el signo \"=\" **NO** indica igualdad, sino que el hecho de que se está asignando lo que está a la derecha en la variable de la izquierda\n",
    "\n",
    "y algunas **recomendaciones:**\n",
    "\n",
    "* elijan nombres informativos, breves y que indiquen alguna información sobre el tipo de variable: NO elijan 837383838aux o variable o var\n",
    "* respeten cuidadosamente los espacios, eso facilita la lectura\n",
    "* usen comentarios cada vez que definan una variable: qué es, qué contiene"
   ]
  },
  {
   "cell_type": "code",
   "execution_count": 48,
   "metadata": {},
   "outputs": [],
   "source": [
    "## ¿en qué sentido son variables? Asignemos nuevamente las variables palabra y numero\n",
    "\n",
    "## nueva asignación de la variable tipo string\n",
    "palabra = 'Santiago'\n",
    "\n",
    "## nueva asignación de la variable tipo número (entero)\n",
    "numero = 34"
   ]
  },
  {
   "cell_type": "code",
   "execution_count": 49,
   "metadata": {},
   "outputs": [
    {
     "data": {
      "text/plain": [
       "34"
      ]
     },
     "execution_count": 49,
     "metadata": {},
     "output_type": "execute_result"
    }
   ],
   "source": [
    "## pregunta: ¿Cuánto \"valen\" estas variables?\n",
    "\n",
    "## vemos qué hay adentro de la (nueva asignación de la) variable \"numero\"\n",
    "\n",
    "numero"
   ]
  },
  {
   "cell_type": "code",
   "execution_count": 50,
   "metadata": {},
   "outputs": [
    {
     "data": {
      "text/plain": [
       "'Santiago'"
      ]
     },
     "execution_count": 50,
     "metadata": {},
     "output_type": "execute_result"
    }
   ],
   "source": [
    "## vemos qué hay adentro de la (nueva asignación de la) variable \"palabra\"\n",
    "\n",
    "palabra"
   ]
  },
  {
   "cell_type": "markdown",
   "metadata": {},
   "source": [
    "¿Qué podemos **concluir**? Las variables se quedan con su **última asignación de contenido**"
   ]
  },
  {
   "cell_type": "code",
   "execution_count": null,
   "metadata": {},
   "outputs": [],
   "source": []
  }
 ],
 "metadata": {
  "colab": {
   "name": "semana-1.ipynb",
   "provenance": []
  },
  "kernelspec": {
   "display_name": "Python 3",
   "language": "python",
   "name": "python3"
  },
  "language_info": {
   "codemirror_mode": {
    "name": "ipython",
    "version": 3
   },
   "file_extension": ".py",
   "mimetype": "text/x-python",
   "name": "python",
   "nbconvert_exporter": "python",
   "pygments_lexer": "ipython3",
   "version": "3.8.8"
  },
  "vscode": {
   "interpreter": {
    "hash": "3ad933181bd8a04b432d3370b9dc3b0662ad032c4dfaa4e4f1596c548f763858"
   }
  }
 },
 "nbformat": 4,
 "nbformat_minor": 1
}
