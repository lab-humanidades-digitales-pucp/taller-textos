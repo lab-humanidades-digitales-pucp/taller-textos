{
 "cells": [
  {
   "cell_type": "markdown",
   "metadata": {
    "id": "Bonrs-i763k3"
   },
   "source": [
    "# **Taller de Análisis automático de textos en Humanidades**\n",
    "### Javier Vera Zúñiga, jveraz@pucp.edu.pe"
   ]
  },
  {
   "cell_type": "markdown",
   "metadata": {},
   "source": [
    "## Link importante para elementos básicos de Python\n",
    "\n",
    "[Curso de Python](https://developers.google.com/edu/python/introduction)"
   ]
  },
  {
   "cell_type": "markdown",
   "metadata": {},
   "source": [
    "## Primeros elementos de Python\n",
    "\n",
    "En este primer acercamiento a **Python**, veremos los siguientes conceptos:\n",
    "\n",
    "- ¿Qué es Python?\n",
    "- ¿Dónde programar?\n",
    "- Tipos de celdas en Jupyter\n",
    "- Nociones básicas de variables\n",
    "- Lectura de archivos"
   ]
  },
  {
   "cell_type": "markdown",
   "metadata": {},
   "source": [
    "## ¿Qué es Python?\n",
    "\n",
    "- un **lenguaje de programación** es un lenguaje artificial que se usa para dar instrucciones que controlan una máquina.\n",
    "- tal como en las lenguas naturales, es posible definir elementos que se combinan (una sintaxis) y que portan un significado (una semántica).\n",
    "- es relevante pensar, entonces, en qué unidades o estructuras nos ofrece **Python** y cómo se combinan. Con esto, podremos dar instrucciones precisas al computador. \n",
    "- **Python** es un lenguaje de programación de sintaxis amigable, que privilegia que los códigos o programas sean legibles.\n",
    "- **Python** necesita de un espacio donde escribir los códigos, para que luego sean transformados en instrucciones para el computador. "
   ]
  },
  {
   "cell_type": "markdown",
   "metadata": {},
   "source": [
    "## ¿Dónde programar?\n",
    "\n",
    "- [Sagemaker StudioLab](https://studiolab.sagemaker.aws): gratis + 24 horas\n",
    "- [Sagemaker](https://portal.aws.amazon.com/billing/signup#/start/email): gratis + tarjeta de crédito/débito\n",
    "- [Anaconda](https://www.anaconda.com/products/distribution)\n",
    "- [Try jupyter](https://jupyter.org/try-jupyter/lab/): solo para probar"
   ]
  },
  {
   "cell_type": "markdown",
   "metadata": {},
   "source": [
    "## Tipos de celdas\n",
    "\n",
    "Dos tipos esenciales:\n",
    "\n",
    "- **Código** (code)\n",
    "- **Texto** (markdown)\n",
    "\n",
    "Probemos! ¿Cuál debemos usar?"
   ]
  },
  {
   "cell_type": "markdown",
   "metadata": {},
   "source": [
    "## Python en términos de Python\n",
    "\n",
    "En términos un poco más prácticos, en **Python** siempre vamos a estar interesados en manipular información de diversas formas. La idea es manipular **variables**, que van a ir actualizando sus valores. Un **código de Python** es esencialmente una **secuencia de pasos** que **modifican el valor** de **ciertas variables &#x1F638;.** "
   ]
  },
  {
   "cell_type": "markdown",
   "metadata": {},
   "source": [
    "## Variables en Python\n",
    "\n",
    "¿Qué es una **variable**?\n",
    "\n",
    "Una **variable** es, al mismo tiempo,\n",
    "\n",
    "- un espacio de memoria (físicamente asignado en el propio computador) que permite manejar información; y\n",
    "- una etiqueta que permite manejar esa información en nuestros códigos. \n",
    "\n",
    "Supongamos por ejemplo que nuestra información proviene de un texto en formato **txt.** Como programadores/programadoras &#x1F916; debemos pensar en \n",
    "\n",
    "- ¿Cuál es el **objetivo** de nuestro **código**?\n",
    "- ¿Qué **variables** vamos a usar?\n",
    "- ¿Qué **procedimientos** vamos a usar para **cambiar el valor de variables**?"
   ]
  },
  {
   "cell_type": "markdown",
   "metadata": {},
   "source": [
    "### Asuntos básicos de variables\n",
    "En la expresión\n",
    "```python\n",
    "palabra = 'Lima'\n",
    "```\n",
    "el contenido _Lima_ se asigna a una etiqueta, la **variable** \"palabra\" &#x1F638;. La asignación es de derecha a izquierda! El signo \"=\" **NO** indica igualdad, **sino** el hecho de que se está asignando lo que está a la derecha en la variable de la izquierda &#x1F640; "
   ]
  },
  {
   "cell_type": "code",
   "execution_count": 30,
   "metadata": {},
   "outputs": [],
   "source": [
    "## definimos la variable en una celda de código!\n",
    "\n",
    "## variable tipo string\n",
    "palabra = 'Lima'"
   ]
  },
  {
   "cell_type": "code",
   "execution_count": 27,
   "metadata": {},
   "outputs": [
    {
     "data": {
      "text/plain": [
       "'Lima'"
      ]
     },
     "execution_count": 27,
     "metadata": {},
     "output_type": "execute_result"
    }
   ],
   "source": [
    "## veamos qué hay almacenado en la variable \"palabra\"\n",
    "palabra"
   ]
  },
  {
   "cell_type": "code",
   "execution_count": 17,
   "metadata": {},
   "outputs": [
    {
     "data": {
      "text/plain": [
       "str"
      ]
     },
     "execution_count": 17,
     "metadata": {},
     "output_type": "execute_result"
    }
   ],
   "source": [
    "## revisemos el tipo de variable\n",
    "type(palabra)"
   ]
  },
  {
   "cell_type": "markdown",
   "metadata": {},
   "source": [
    "Ahora, es fundamental que notemos que cada vez que usemos la variable **\"palabra\"** estaremos utilizando la **información almanacenada** en esta, es decir, el **string** 'Lima'. Los **strings** son esencialmente secuencias ordenadas de caracteres (como las palabras de las lenguas humanas). Ya veremos que la simple idea de que tienen un primer caracter ('L', en nuestro ejemplo), un segundo caracter, y así sucesivamente, genera posibilidades maravillosas de ordenar y almacenar información. Estos **caracteres son elegidos de un conjunto finito**, que intenta codificar las lenguas del mundo. A veces, existen **problemas de codificación!** ¿Dónde podrían existir estos problemas? \t&#x1F640;"
   ]
  },
  {
   "cell_type": "markdown",
   "metadata": {},
   "source": [
    "¿En qué sentido las **variables** son **variables**? Asignemos nuevamente la variable \"palabra\""
   ]
  },
  {
   "cell_type": "code",
   "execution_count": 35,
   "metadata": {},
   "outputs": [],
   "source": [
    "## nueva asignación de la variable tipo string\n",
    "palabra = 'Santiago'"
   ]
  },
  {
   "cell_type": "code",
   "execution_count": 33,
   "metadata": {},
   "outputs": [
    {
     "data": {
      "text/plain": [
       "'Santiago'"
      ]
     },
     "execution_count": 33,
     "metadata": {},
     "output_type": "execute_result"
    }
   ],
   "source": [
    "palabra"
   ]
  },
  {
   "cell_type": "markdown",
   "metadata": {},
   "source": [
    "**pregunta!** ¿Cuánto \"vale\" esta variable? &#x1F640;"
   ]
  },
  {
   "cell_type": "code",
   "execution_count": 5,
   "metadata": {},
   "outputs": [
    {
     "data": {
      "text/plain": [
       "'Santiago'"
      ]
     },
     "execution_count": 5,
     "metadata": {},
     "output_type": "execute_result"
    }
   ],
   "source": [
    "## vemos qué hay adentro de la (nueva asignación de la) variable \"palabra\"\n",
    "\n",
    "palabra"
   ]
  },
  {
   "cell_type": "markdown",
   "metadata": {},
   "source": [
    "¿Qué podemos **concluir**? Las variables se quedan con su **última asignación de contenido &#x1F47D;.** "
   ]
  },
  {
   "cell_type": "code",
   "execution_count": null,
   "metadata": {},
   "outputs": [],
   "source": []
  }
 ],
 "metadata": {
  "colab": {
   "name": "semana-1.ipynb",
   "provenance": []
  },
  "kernelspec": {
   "display_name": "Python 3",
   "language": "python",
   "name": "python3"
  },
  "language_info": {
   "codemirror_mode": {
    "name": "ipython",
    "version": 3
   },
   "file_extension": ".py",
   "mimetype": "text/x-python",
   "name": "python",
   "nbconvert_exporter": "python",
   "pygments_lexer": "ipython3",
   "version": "3.8.8"
  },
  "vscode": {
   "interpreter": {
    "hash": "3ad933181bd8a04b432d3370b9dc3b0662ad032c4dfaa4e4f1596c548f763858"
   }
  }
 },
 "nbformat": 4,
 "nbformat_minor": 1
}
