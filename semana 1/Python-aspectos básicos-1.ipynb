{
 "cells": [
  {
   "cell_type": "markdown",
   "metadata": {
    "id": "Bonrs-i763k3"
   },
   "source": [
    "# **Taller de Análisis automático de textos en Humanidades**\n",
    "### Javier Vera Zúñiga, jveraz@pucp.edu.pe\n",
    "en construcción!"
   ]
  },
  {
   "cell_type": "markdown",
   "metadata": {},
   "source": [
    "## (Jupyter) notebooks y tipos de celdas\n",
    "Existen celdas de texto o markdown, como esta misma, en donde podemos escribir texto (e incluso código como texto). "
   ]
  },
  {
   "cell_type": "code",
   "execution_count": 1,
   "metadata": {},
   "outputs": [],
   "source": [
    "## y celdas de código, como esta otra. En las celdas de código el signo \"#\" indica un comentario. Los comentarios son algo\n",
    "## MUY importante en programación: \n",
    "#### - permiten comentar qué estamos haciendo; y por sobre todo\n",
    "#### - cómo lo estamos haciendo\n",
    "## El ideal es que cada línea de código tenga un comentario!\n",
    "\n",
    "## una pequeña porción de código de ejemplo: a vale 1\n",
    "a = 2"
   ]
  },
  {
   "cell_type": "code",
   "execution_count": 2,
   "metadata": {},
   "outputs": [
    {
     "data": {
      "text/plain": [
       "2"
      ]
     },
     "execution_count": 2,
     "metadata": {},
     "output_type": "execute_result"
    }
   ],
   "source": [
    "a"
   ]
  },
  {
   "cell_type": "markdown",
   "metadata": {},
   "source": [
    "## Variables en Python\n",
    "\n",
    "### Asuntos básicos de variables\n",
    "En la expresiones\n",
    "```python\n",
    "palabra = 'Lima'\n",
    "```\n",
    "y \n",
    "\n",
    "```python\n",
    "numero = 57\n",
    "```\n",
    "\n",
    "el contenido _Lima_ y _57_ se asigna a nombres específicos, que llamaremos **variables.**"
   ]
  },
  {
   "cell_type": "code",
   "execution_count": 45,
   "metadata": {},
   "outputs": [],
   "source": [
    "## definimos las variables en una celda de código!\n",
    "\n",
    "## variable tipo string\n",
    "palabra = 'Lima'\n",
    "\n",
    "## variable tipo número (entero)\n",
    "numero = 57"
   ]
  },
  {
   "cell_type": "code",
   "execution_count": 46,
   "metadata": {},
   "outputs": [
    {
     "data": {
      "text/plain": [
       "'Lima'"
      ]
     },
     "execution_count": 46,
     "metadata": {},
     "output_type": "execute_result"
    }
   ],
   "source": [
    "## vemos qué hay adentro de la variable \"palabra\"\n",
    "\n",
    "palabra"
   ]
  },
  {
   "cell_type": "code",
   "execution_count": 47,
   "metadata": {},
   "outputs": [
    {
     "data": {
      "text/plain": [
       "57"
      ]
     },
     "execution_count": 47,
     "metadata": {},
     "output_type": "execute_result"
    }
   ],
   "source": [
    "## vemos qué hay adentro de la variable \"numero\"\n",
    "\n",
    "numero"
   ]
  },
  {
   "cell_type": "markdown",
   "metadata": {},
   "source": [
    "Las **variables** (ya sean números, strings o listas (como veremos)) tienen características poderosas:\n",
    "\n",
    "* Son **variables**, es decir, pueden variar en su contenido\n",
    "* El **tipo de variable** cambia el significado de las oraciones. Aquí hay un poco de magia.  \n",
    "* La **asignación ocurre de derecha a izquierda:** el signo \"=\" **NO** indica igualdad, sino que el hecho de que se está asignando lo que está a la derecha en la variable de la izquierda\n",
    "\n",
    "y algunas **recomendaciones:**\n",
    "\n",
    "* elijan nombres informativos, breves y que indiquen alguna información sobre el tipo de variable: NO elijan 837383838aux o variable o var\n",
    "* respeten cuidadosamente los espacios, eso facilita la lectura\n",
    "* usen comentarios cada vez que definan una variable: qué es, qué contiene"
   ]
  },
  {
   "cell_type": "code",
   "execution_count": 48,
   "metadata": {},
   "outputs": [],
   "source": [
    "## ¿en qué sentido son variables? Asignemos nuevamente las variables palabra y numero\n",
    "\n",
    "## nueva asignación de la variable tipo string\n",
    "palabra = 'Santiago'\n",
    "\n",
    "## nueva asignación de la variable tipo número (entero)\n",
    "numero = 34"
   ]
  },
  {
   "cell_type": "code",
   "execution_count": 49,
   "metadata": {},
   "outputs": [
    {
     "data": {
      "text/plain": [
       "34"
      ]
     },
     "execution_count": 49,
     "metadata": {},
     "output_type": "execute_result"
    }
   ],
   "source": [
    "## pregunta: ¿Cuánto \"valen\" estas variables?\n",
    "\n",
    "## vemos qué hay adentro de la (nueva asignación de la) variable \"numero\"\n",
    "\n",
    "numero"
   ]
  },
  {
   "cell_type": "code",
   "execution_count": 50,
   "metadata": {},
   "outputs": [
    {
     "data": {
      "text/plain": [
       "'Santiago'"
      ]
     },
     "execution_count": 50,
     "metadata": {},
     "output_type": "execute_result"
    }
   ],
   "source": [
    "## vemos qué hay adentro de la (nueva asignación de la) variable \"palabra\"\n",
    "\n",
    "palabra"
   ]
  },
  {
   "cell_type": "markdown",
   "metadata": {},
   "source": [
    "¿Qué podemos **concluir**? Las variables se quedan con su **última asignación de contenido**"
   ]
  },
  {
   "cell_type": "markdown",
   "metadata": {},
   "source": [
    "### Las operaciones entre variables dependen del contexto"
   ]
  },
  {
   "cell_type": "markdown",
   "metadata": {},
   "source": [
    "Pensemos en dos preguntas muy simples: ¿Cómo podemos pegar (concatenar) strings? ¿Cómo sumamos números? El contenido (el **string**) 'Lima' se asigna a la variable \"palabra\". Ya sabemos que la variable \"palabra\" tiene como valor el que asignamos en su última asignación. Si tenemos dos strings, por ejemplo,"
   ]
  },
  {
   "cell_type": "code",
   "execution_count": 51,
   "metadata": {},
   "outputs": [],
   "source": [
    "## asignación de un string a una variable\n",
    "\n",
    "palabra1 = 'Lima'\n",
    "\n",
    "## asignación de un string a una variable\n",
    "\n",
    "palabra2 = 'Santiago'"
   ]
  },
  {
   "cell_type": "code",
   "execution_count": 52,
   "metadata": {},
   "outputs": [
    {
     "data": {
      "text/plain": [
       "('Lima', 'Santiago')"
      ]
     },
     "execution_count": 52,
     "metadata": {},
     "output_type": "execute_result"
    }
   ],
   "source": [
    "palabra1, palabra2"
   ]
  },
  {
   "cell_type": "code",
   "execution_count": 53,
   "metadata": {},
   "outputs": [
    {
     "data": {
      "text/plain": [
       "'LimaSantiago'"
      ]
     },
     "execution_count": 53,
     "metadata": {},
     "output_type": "execute_result"
    }
   ],
   "source": [
    "## podemos concatenarlos (pegarlos) usando\n",
    "\n",
    "## concatenación de dos strings\n",
    "'Lima' + 'Santiago'"
   ]
  },
  {
   "cell_type": "code",
   "execution_count": 54,
   "metadata": {},
   "outputs": [
    {
     "data": {
      "text/plain": [
       "'LimaSantiago'"
      ]
     },
     "execution_count": 54,
     "metadata": {},
     "output_type": "execute_result"
    }
   ],
   "source": [
    "## o bien\n",
    "\n",
    "## concatenación de dos variables tipo string\n",
    "palabra1 + palabra2"
   ]
  },
  {
   "cell_type": "code",
   "execution_count": 55,
   "metadata": {},
   "outputs": [],
   "source": [
    "## o bien!\n",
    "\n",
    "## asignación en la variable3 de la concatenación de dos variables tipo string\n",
    "palabra3 = palabra1 + palabra2"
   ]
  },
  {
   "cell_type": "code",
   "execution_count": 56,
   "metadata": {},
   "outputs": [
    {
     "data": {
      "text/plain": [
       "'LimaSantiago'"
      ]
     },
     "execution_count": 56,
     "metadata": {},
     "output_type": "execute_result"
    }
   ],
   "source": [
    "palabra3"
   ]
  },
  {
   "cell_type": "markdown",
   "metadata": {},
   "source": [
    "¿Cuál es la diferencia? ¿Qué hace el operador \"+\"? Si tenemos dos números, por ejemplo,"
   ]
  },
  {
   "cell_type": "code",
   "execution_count": 57,
   "metadata": {},
   "outputs": [],
   "source": [
    "## asignación de un string a una variable\n",
    "\n",
    "numero1 = 34\n",
    "\n",
    "## asignación de un string a una variable\n",
    "\n",
    "numero2 = 16"
   ]
  },
  {
   "cell_type": "code",
   "execution_count": 58,
   "metadata": {},
   "outputs": [
    {
     "data": {
      "text/plain": [
       "50"
      ]
     },
     "execution_count": 58,
     "metadata": {},
     "output_type": "execute_result"
    }
   ],
   "source": [
    "## podemos sumarlos usando\n",
    "\n",
    "## suma de dos números\n",
    "34 + 16"
   ]
  },
  {
   "cell_type": "code",
   "execution_count": 59,
   "metadata": {},
   "outputs": [
    {
     "data": {
      "text/plain": [
       "50"
      ]
     },
     "execution_count": 59,
     "metadata": {},
     "output_type": "execute_result"
    }
   ],
   "source": [
    "## podemos concatenarlos (pegarlos) usando\n",
    "\n",
    "## concatenación de dos strings\n",
    "numero1 + numero2"
   ]
  },
  {
   "cell_type": "code",
   "execution_count": 60,
   "metadata": {},
   "outputs": [],
   "source": [
    "## o bien!\n",
    "\n",
    "## asignación en numero3 de la suma de dos variables tipo número\n",
    "numero3 = numero1 + numero2"
   ]
  },
  {
   "cell_type": "code",
   "execution_count": 61,
   "metadata": {},
   "outputs": [
    {
     "data": {
      "text/plain": [
       "50"
      ]
     },
     "execution_count": 61,
     "metadata": {},
     "output_type": "execute_result"
    }
   ],
   "source": [
    "numero3"
   ]
  },
  {
   "cell_type": "code",
   "execution_count": 62,
   "metadata": {},
   "outputs": [
    {
     "ename": "TypeError",
     "evalue": "unsupported operand type(s) for +: 'int' and 'str'",
     "output_type": "error",
     "traceback": [
      "\u001b[1;31m---------------------------------------------------------------------------\u001b[0m",
      "\u001b[1;31mTypeError\u001b[0m                                 Traceback (most recent call last)",
      "\u001b[1;32m<ipython-input-62-fedabf654cf1>\u001b[0m in \u001b[0;36m<module>\u001b[1;34m\u001b[0m\n\u001b[0;32m      1\u001b[0m \u001b[1;31m## ¿Qué ocurre si \"sumamos\" números con strings?\u001b[0m\u001b[1;33m\u001b[0m\u001b[1;33m\u001b[0m\u001b[1;33m\u001b[0m\u001b[0m\n\u001b[0;32m      2\u001b[0m \u001b[1;33m\u001b[0m\u001b[0m\n\u001b[1;32m----> 3\u001b[1;33m \u001b[0mnumero1\u001b[0m \u001b[1;33m+\u001b[0m \u001b[0mpalabra1\u001b[0m\u001b[1;33m\u001b[0m\u001b[1;33m\u001b[0m\u001b[0m\n\u001b[0m",
      "\u001b[1;31mTypeError\u001b[0m: unsupported operand type(s) for +: 'int' and 'str'"
     ]
    }
   ],
   "source": [
    "## ¿Qué ocurre si \"sumamos\" números con strings?\n",
    "\n",
    "numero1 + palabra1"
   ]
  },
  {
   "cell_type": "markdown",
   "metadata": {},
   "source": [
    "¿Qué es **+** de acuerdo a los ejemplos anteriores? Una conclusión fundamental es:\n",
    "    \n",
    "* El operador **+** depende del contexto: números o strings!\n",
    "* Solo podemos operar entre variables del mismo tipo!"
   ]
  },
  {
   "cell_type": "markdown",
   "metadata": {},
   "source": [
    "### Un poco más sobre strings\n",
    "\n",
    "Idea importante! todas las asignaciones ocurren de derecha a izquierda :O"
   ]
  },
  {
   "cell_type": "code",
   "execution_count": 63,
   "metadata": {},
   "outputs": [],
   "source": [
    "## ejemplo: número 21 en Quechua\n",
    "\n",
    "## asignamos un string a la variable string_numero\n",
    "string_numero = 'iskay chunka huk-ni-yuq'"
   ]
  },
  {
   "cell_type": "code",
   "execution_count": 64,
   "metadata": {},
   "outputs": [],
   "source": [
    "## tiene un largo que equivale al número de caracteres. Esto incluye, por supuesto, los espacios en blanco!\n",
    "\n",
    "n = len(string_numero)"
   ]
  },
  {
   "cell_type": "code",
   "execution_count": 65,
   "metadata": {},
   "outputs": [
    {
     "data": {
      "text/plain": [
       "23"
      ]
     },
     "execution_count": 65,
     "metadata": {},
     "output_type": "execute_result"
    }
   ],
   "source": [
    "n"
   ]
  },
  {
   "cell_type": "code",
   "execution_count": 66,
   "metadata": {},
   "outputs": [],
   "source": [
    "## todos los caracteres en mayúscula\n",
    "\n",
    "string_mayuscula = string_numero.upper()"
   ]
  },
  {
   "cell_type": "code",
   "execution_count": 67,
   "metadata": {},
   "outputs": [
    {
     "data": {
      "text/plain": [
       "'ISKAY CHUNKA HUK-NI-YUQ'"
      ]
     },
     "execution_count": 67,
     "metadata": {},
     "output_type": "execute_result"
    }
   ],
   "source": [
    "string_mayuscula"
   ]
  },
  {
   "cell_type": "code",
   "execution_count": 68,
   "metadata": {},
   "outputs": [],
   "source": [
    "## todos los caracteres en minúscula\n",
    "\n",
    "string_minuscula = string_mayuscula.lower()"
   ]
  },
  {
   "cell_type": "code",
   "execution_count": 69,
   "metadata": {},
   "outputs": [
    {
     "data": {
      "text/plain": [
       "'iskay chunka huk-ni-yuq'"
      ]
     },
     "execution_count": 69,
     "metadata": {},
     "output_type": "execute_result"
    }
   ],
   "source": [
    "string_minuscula"
   ]
  },
  {
   "cell_type": "code",
   "execution_count": 70,
   "metadata": {},
   "outputs": [],
   "source": [
    "## ¿Cuántas veces aparece un caracter?\n",
    "\n",
    "## usamos count\n",
    "\n",
    "numero_veces = string_numero.count('k')"
   ]
  },
  {
   "cell_type": "code",
   "execution_count": 71,
   "metadata": {},
   "outputs": [
    {
     "data": {
      "text/plain": [
       "3"
      ]
     },
     "execution_count": 71,
     "metadata": {},
     "output_type": "execute_result"
    }
   ],
   "source": [
    "numero_veces"
   ]
  },
  {
   "cell_type": "code",
   "execution_count": 72,
   "metadata": {},
   "outputs": [],
   "source": [
    "## cambiemos partes de un string\n",
    "## usamos replace: el viejo por el nuevo\n",
    "\n",
    "string_nueva_version_numero = string_numero.replace('iskay', 'kimsa' )"
   ]
  },
  {
   "cell_type": "code",
   "execution_count": 73,
   "metadata": {},
   "outputs": [
    {
     "data": {
      "text/plain": [
       "'kimsa chunka huk-ni-yuq'"
      ]
     },
     "execution_count": 73,
     "metadata": {},
     "output_type": "execute_result"
    }
   ],
   "source": [
    "string_nueva_version_numero"
   ]
  },
  {
   "cell_type": "code",
   "execution_count": 74,
   "metadata": {},
   "outputs": [],
   "source": [
    "## transformaciones de número a string\n",
    "\n",
    "string_desde_numero = str(31)"
   ]
  },
  {
   "cell_type": "code",
   "execution_count": 75,
   "metadata": {},
   "outputs": [
    {
     "data": {
      "text/plain": [
       "'31'"
      ]
     },
     "execution_count": 75,
     "metadata": {},
     "output_type": "execute_result"
    }
   ],
   "source": [
    "string_desde_numero"
   ]
  },
  {
   "cell_type": "code",
   "execution_count": 76,
   "metadata": {},
   "outputs": [],
   "source": [
    "## largo de este nuevo string\n",
    "\n",
    "n = len(string_desde_numero)"
   ]
  },
  {
   "cell_type": "code",
   "execution_count": 77,
   "metadata": {},
   "outputs": [
    {
     "data": {
      "text/plain": [
       "2"
      ]
     },
     "execution_count": 77,
     "metadata": {},
     "output_type": "execute_result"
    }
   ],
   "source": [
    "n"
   ]
  },
  {
   "cell_type": "markdown",
   "metadata": {},
   "source": [
    "### Desafíos!"
   ]
  },
  {
   "cell_type": "code",
   "execution_count": 78,
   "metadata": {},
   "outputs": [],
   "source": [
    "## Encuentre el número de veces que aparece cada caracter de string_numero\n",
    "## Sume todas las veces que aparece cada caracter de string_numero\n",
    "## ¿A qué equivale esta suma?"
   ]
  },
  {
   "cell_type": "code",
   "execution_count": 79,
   "metadata": {},
   "outputs": [],
   "source": [
    "## 31 se escribe kimsa chunka huk-ni-yuq\n",
    "## 33 se escribe kimsa chunka kimsa-yuq\n",
    "## Reemplace caracteres para transformar un string en el otro"
   ]
  },
  {
   "cell_type": "code",
   "execution_count": 80,
   "metadata": {},
   "outputs": [],
   "source": [
    "## intente explicar el siguiente código\n",
    "\n",
    "string_numero_nuevo = string_numero[:4] + string_numero[4:]"
   ]
  },
  {
   "cell_type": "code",
   "execution_count": 81,
   "metadata": {},
   "outputs": [
    {
     "data": {
      "text/plain": [
       "'iskay chunka huk-ni-yuq'"
      ]
     },
     "execution_count": 81,
     "metadata": {},
     "output_type": "execute_result"
    }
   ],
   "source": [
    "string_numero_nuevo"
   ]
  },
  {
   "cell_type": "code",
   "execution_count": 82,
   "metadata": {},
   "outputs": [],
   "source": [
    "## Encuentre el número de dígitos que tiene un número entero. Por ejemplo, 34 tiene 2 dígitos; 345 tiene tres dígitos. "
   ]
  },
  {
   "cell_type": "code",
   "execution_count": 83,
   "metadata": {},
   "outputs": [],
   "source": [
    "## Explique con sus propias palabras qué significan las siguientes líneas de código\n",
    "## Agregue comentarios que expliquen cada línea\n",
    "## ¿Qué es el signo \"=\"? ¿Qué valor tienen las variables en cada línea?\n",
    "\n",
    "numero = 10\n",
    "\n",
    "numero = numero + 2\n",
    "\n",
    "numero = numero - 7"
   ]
  },
  {
   "cell_type": "code",
   "execution_count": 84,
   "metadata": {},
   "outputs": [],
   "source": [
    "string = 'hola'\n",
    "\n",
    "string = string + '-chao'\n",
    "\n",
    "string = string + ' '"
   ]
  },
  {
   "cell_type": "code",
   "execution_count": null,
   "metadata": {},
   "outputs": [],
   "source": []
  },
  {
   "cell_type": "code",
   "execution_count": null,
   "metadata": {},
   "outputs": [],
   "source": []
  },
  {
   "cell_type": "code",
   "execution_count": null,
   "metadata": {},
   "outputs": [],
   "source": []
  }
 ],
 "metadata": {
  "colab": {
   "name": "semana-1.ipynb",
   "provenance": []
  },
  "kernelspec": {
   "display_name": "Python 3",
   "language": "python",
   "name": "python3"
  },
  "language_info": {
   "codemirror_mode": {
    "name": "ipython",
    "version": 3
   },
   "file_extension": ".py",
   "mimetype": "text/x-python",
   "name": "python",
   "nbconvert_exporter": "python",
   "pygments_lexer": "ipython3",
   "version": "3.10.4"
  },
  "vscode": {
   "interpreter": {
    "hash": "3ad933181bd8a04b432d3370b9dc3b0662ad032c4dfaa4e4f1596c548f763858"
   }
  }
 },
 "nbformat": 4,
 "nbformat_minor": 1
}
