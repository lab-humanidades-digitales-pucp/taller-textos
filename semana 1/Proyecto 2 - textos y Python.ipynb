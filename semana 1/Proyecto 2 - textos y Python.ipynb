{
 "cells": [
  {
   "cell_type": "markdown",
   "id": "570c04fd",
   "metadata": {},
   "source": [
    "# **Taller de Análisis automático de textos en Humanidades**\n",
    "### Javier Vera Zúñiga, jveraz@pucp.edu.pe"
   ]
  },
  {
   "cell_type": "markdown",
   "id": "83e9f8c1",
   "metadata": {},
   "source": [
    "**Proyecto 2**\n",
    "\n",
    "**Fecha:** lunes 6 de febrero. \n",
    "\n",
    "**Modalidad:**  grupos de 1, 2 o 3 personas. Cada grupo entregará un **jupyter notebook** y un **archivo txt.** \n",
    "\n",
    "En este proyecto, trataremos de acercarnos a las siguientes preguntas:\n",
    "    \n",
    "¿Qué es un **texto** para un **computador**? ¿De qué forma podemos representar **textos** mediante **Python**?\n",
    "\n",
    "Para acercarnos a estas preguntas, si bien trabajaremos con las respuestas a lo largo de todo el taller, realizaremos los siguientes puntos:\n",
    "\n",
    "- Vea el [video](https://tube.switch.ch/videos/95c94280/). Los primeros 25 minutos son obligatorios, el resto es opcional pero muy recomendado. \n",
    "- Elija un texto de su interés. Puede ser un texto literario, filosófico, histórico, ...\n",
    "- Transforme el texto elegido en un achivo txt. Pueden hacerlo de diversas formas, incluso manualmente. \n",
    "- Responda muy brevemente: En relación al video ¿En qué medida la transformación a txt reduce la complejidad del texto? ¿Qué información perdemos? ¿Qué posibilidades se abren? "
   ]
  },
  {
   "cell_type": "markdown",
   "id": "651e757c",
   "metadata": {},
   "source": [
    "abra el archivo elegido con "
   ]
  },
  {
   "cell_type": "code",
   "execution_count": null,
   "id": "de3d26c5",
   "metadata": {},
   "outputs": [],
   "source": [
    "## puede cambiar el nombre\n",
    "archivo = open('archivo_elegido.txt', 'r', encoding='utf-8')"
   ]
  },
  {
   "cell_type": "markdown",
   "id": "0bb66d43",
   "metadata": {},
   "source": [
    "¿Qué es \"archivo\"?"
   ]
  },
  {
   "cell_type": "markdown",
   "id": "32c99f40",
   "metadata": {},
   "source": [
    "lea el archivo usando"
   ]
  },
  {
   "cell_type": "code",
   "execution_count": null,
   "id": "696116b3",
   "metadata": {},
   "outputs": [],
   "source": [
    "archivo_leido = archivo.read()"
   ]
  },
  {
   "cell_type": "markdown",
   "id": "935dbc8a",
   "metadata": {},
   "source": [
    "¿Qué es ahora \"archivo\"?"
   ]
  },
  {
   "cell_type": "markdown",
   "id": "09034ce2",
   "metadata": {},
   "source": [
    "compare la variable \"archivo_leido\" con la siguiente versión"
   ]
  },
  {
   "cell_type": "code",
   "execution_count": null,
   "id": "0ab062d0",
   "metadata": {},
   "outputs": [],
   "source": [
    "archivo_lista = archivo_leido.split(' ')"
   ]
  },
  {
   "cell_type": "markdown",
   "id": "3da6105a",
   "metadata": {},
   "source": [
    "Según el video, ¿Cuál sería la diferencia entre \"archivo_leido\" y \"archivo_lista\"?\n",
    "\n",
    "Finalmente, ¿Qué es un texto para **Python**?"
   ]
  },
  {
   "cell_type": "markdown",
   "id": "ac59b9eb",
   "metadata": {},
   "source": []
  },
  {
   "cell_type": "code",
   "execution_count": null,
   "id": "d1b7ba10",
   "metadata": {},
   "outputs": [],
   "source": []
  }
 ],
 "metadata": {
  "kernelspec": {
   "display_name": "Python 3",
   "language": "python",
   "name": "python3"
  },
  "language_info": {
   "codemirror_mode": {
    "name": "ipython",
    "version": 3
   },
   "file_extension": ".py",
   "mimetype": "text/x-python",
   "name": "python",
   "nbconvert_exporter": "python",
   "pygments_lexer": "ipython3",
   "version": "3.8.8"
  }
 },
 "nbformat": 4,
 "nbformat_minor": 5
}
