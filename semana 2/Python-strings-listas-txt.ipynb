{
 "cells": [
  {
   "cell_type": "markdown",
   "metadata": {
    "id": "Bonrs-i763k3"
   },
   "source": [
    "# **Taller de Análisis automático de textos en Humanidades**\n",
    "### Javier Vera Zúñiga, jveraz@pucp.edu.pe"
   ]
  },
  {
   "cell_type": "markdown",
   "metadata": {},
   "source": [
    "## Variables en Python\n",
    "\n",
    "Recordemos que una **variable** es &#x1F638;\n",
    "\n",
    "- un espacio de memoria que permite manejar información; y\n",
    "- una etiqueta que permite manejar esa información en nuestros códigos. \n",
    "\n",
    "¿Cómo conectamos las variables con los textos? empecemos! &#x1F640;"
   ]
  },
  {
   "cell_type": "markdown",
   "metadata": {},
   "source": [
    "### Un poco sobre archivos y variables"
   ]
  },
  {
   "cell_type": "code",
   "execution_count": 37,
   "metadata": {},
   "outputs": [],
   "source": [
    "## leamos un archivo\n",
    "\n",
    "archivo = open('funes el memorioso-borges.txt', 'r', encoding='utf-8')\n",
    "\n",
    "## ¿qué forma tiene? ¿es \"archivo\" una variable?"
   ]
  },
  {
   "cell_type": "code",
   "execution_count": 38,
   "metadata": {},
   "outputs": [
    {
     "data": {
      "text/plain": [
       "<_io.TextIOWrapper name='funes el memorioso-borges.txt' mode='r' encoding='utf-8'>"
      ]
     },
     "execution_count": 38,
     "metadata": {},
     "output_type": "execute_result"
    }
   ],
   "source": [
    "archivo"
   ]
  },
  {
   "cell_type": "code",
   "execution_count": 39,
   "metadata": {},
   "outputs": [],
   "source": [
    "## ahora lo leemos\n",
    "\n",
    "archivo_leido = archivo.read()"
   ]
  },
  {
   "cell_type": "code",
   "execution_count": 40,
   "metadata": {},
   "outputs": [
    {
     "data": {
      "text/plain": [
       "'Lo recuerdo (yo no tengo derecho a pronunciar ese verbo sagrado, solo un hombre en la tierra tuvo derecho y ese hombre ha muerto) con una oscura pasionaria en la mano, viéndola como nadie la ha visto, aunque la mirara desde el crepúsculo del día hasta el de la noche, toda una vida entera. Lo recuerdo, la cara taciturna y aindiada y singularmente remota, detrás del cigarrillo. Recuerdo (creo) sus manos afiladas de trenzador. Recuerdo cerca de esas manos un mate, con las armas de la Banda Oriental; recuerdo en la ventana de la casa una estera amarilla, con un vago paisaje lacustre. Recuerdo claramente su voz; la voz pausada, resentida y nasal del orillero antiguo, sin los silbidos italianos de ahora. Más de tres veces no lo vi; la última, en 1887… Me parece muy feliz el proyecto de que todos aquellos que lo trataron escriban sobre él; mi testimonio será acaso el más breve y sin duda el más pobre, pero no el menos imparcial del volumen que editarán ustedes. Mi deplorable condición de argentino me impedirá incurrir en el ditirambo —género obligatorio en el Uruguay, cuando el tema es un uruguayo. Literato, cajetilla, porteño: Funes no dijo esas injuriosas palabras, pero de un modo suficiente me consta que yo representaba para él esas desventuras. Pedro Leandro Ipuche ha escrito que Funes era un precursor de los superhombres; “Un Zarathustra cimarrón y vernáculo”; no lo discuto, pero no hay que olvidar que era también un compadrito de Fray Bentos, con ciertas incurables limitaciones.\\n\\nMi primer recuerdo de Funes es muy perspicuo. Lo veo en un atardecer de marzo o febrero del año ochenta y cuatro. Mi padre, ese año, me había llevado a veranear a Fray Bentos. Yo volvía con mi primo Bernardo Haedo de la estancia de San Francisco. Volvíamos cantando, a caballo, y esa no era la única circunstancia de mi felicidad. Después de un día bochornoso, una enorme tormenta color pizarra había escondido el cielo. La alentaba el viento del Sur, ya se enloquecían los árboles; yo tenía el temor (la esperanza) de que nos sorprendiera en un descampado el agua elemental. Corrimos una especie de carrera con la tormenta. Entramos en un callejón que se ahondaba entre dos veredas altísimas de ladrillo. Había oscurecido de golpe; oí rápidos y casi secretos pasos en lo alto; alcé los ojos y vi un muchacho que corría por la estrecha y rota vereda como por una estrecha y rota pared. Recuerdo la bombacha, las alpargatas, recuerdo el cigarrillo en el duro rostro, contra el nubarrón ya sin límites. Bernardo le gritó imprevisiblemente: ¿Qué horas son, Ireneo? Sin consultar el cielo, sin detenerse, el otro respondió: Faltan cuatro minutos para las ocho, joven Bernardo Juan Francisco. La voz era aguda, burlona.\\n\\nYo soy tan distraído que el diálogo que acabo de referir no me hubiera llamado la atención si no lo hubiera recalcado mi primo, a quien estimulaban (creo) cierto orgullo local, y el deseo de mostrarse indiferente a la réplica tripartita del otro.\\n\\nMe dijo que el muchacho del callejón era un tal Ireneo Funes, mentado por algunas rarezas como la de no darse con nadie y la de saber siempre la hora, como un reloj. Agregó que era hijo de una planchadora del pueblo, María Clementina Funes, y que algunos decían que su padre era un médico del saladero, un inglés O’Connor, y otros un domador o rastreador del departamento del Salto. Vivía con su madre, a la vuelta de la quinta de los Laureles.\\n\\nLos años ochenta y cinco y ochenta y seis veraneamos en la ciudad de Montevideo. El ochenta y siete volví a Fray Bentos. Pregunté, como es natural, por todos los conocidos y, finalmente, por el “cronométrico Funes”. Me contestaron que lo había volteado un redomón en la estancia de San Francisco, y que había quedado tullido, sin esperanza. Recuerdo la impresión de incómoda magia que la noticia me produjo: la única vez que yo lo vi, veníamos a caballo de San Francisco y él andaba en un lugar alto; el hecho, en boca de mi primo Bernardo, tenía mucho de sueño elaborado con elementos anteriores. Me dijeron que no se movía del catre, puestos los ojos en la higuera del fondo o en una telaraña. En los atardeceres, permitía que lo sacaran a la ventana. Llevaba la soberbia hasta el punto de simular que era benéfico el golpe que lo había fulminado… Dos veces lo vi atrás de la reja, que burdamente recalcaba su condición de eterno prisionero: una, inmóvil, con los ojos cerrados; otra, inmóvil también, absorto en la contemplación de un oloroso gajo de santonina.\\n\\nNo sin alguna vanagloria yo había iniciado en aquel tiempo el estudio metódico del latín. Mi valija incluía el De viris illustribus de Lhomond, el Thesaurus de Quicherat, los comentarios de Julio César y un volumen impar de la Naturalis historia de Plinio, que excedía (y sigue excediendo) mis módicas virtudes de latinista. Todo se propala en un pueblo chico; Ireneo, en su rancho de las orillas, no tardó en enterarse del arribo de esos libros anómalos. Me dirigió una carta florida y ceremoniosa, en la que recordaba nuestro encuentro, desdichadamente fugaz, “del día siete de febrero del año ochenta y cuatro”, ponderaba los gloriosos servicios que don Gregorio Haedo, mi tío, finado ese mismo año, “había prestado a las dos patrias en la valerosa jornada de Ituzaingó”, y me solicitaba el préstamo de cualquiera de los volúmenes, acompañado de un diccionario “para la buena inteligencia del texto original, porque todavía ignoro el latín”. Prometía devolverlos en buen estado, casi inmediatamente. La letra era perfecta, muy perfilada; la ortografía, del tipo que Andrés Bello preconizó: i por y, j por g. Al principio, temí naturalmente una broma. Mis primos me aseguraron que no, que eran cosas de Ireneo. No supe si atribuir a descaro, a ignorancia o a estupidez la idea de que el arduo latín no requería más instrumento que un diccionario; para desengañarlo con plenitud le mandé el Gradus ad Parnassum de Quicherat. y la obra de Plinio.\\n\\nEl catorce de febrero me telegrafiaron de Buenos Aires que volviera inmediatamente, porque mi padre no estaba “nada bien”. Dios me perdone; el prestigio de ser el destinatario de un telegrama urgente, el deseo de comunicar a todo Fray Bentos la contradicción entre la forma negativa de la noticia y el perentorio adverbio, la tentación de dramatizar mi dolor, fingiendo un viril estoicismo, tal vez me distrajeron de toda posibilidad de dolor. Al hacer la valija, noté que me faltaban el Gradus y el primer tomo de la Naturalis historia. El “Saturno” zarpaba al día siguiente, por la mañana; esa noche, después de cenar, me encaminé a casa de Funes. Me asombró que la noche fuera no menos pesada que el día.\\n\\nEn el decente rancho, la madre de Funes me recibió. Me dijo que Ireneo estaba en la pieza del fondo y que no me extrañara encontrarla a oscuras, porque Ireneo sabía pasarse las horas muertas sin encender la vela. Atravesé el patio de baldosa, el corredorcito; llegué al segundo patio. Había una parra; la oscuridad pudo parecerme total. Oí de pronto la alta y burlona voz de Ireneo. Esa voz hablaba en latín; esa voz (que venía de la tiniebla) articulaba con moroso deleite un discurso o plegaria o incantación. Resonaron las sílabas romanas en el patio de tierra; mi temor las creía indescifrables, interminables; después, en el enorme diálogo de esa noche, supe que formaban el primer párrafo del vigésimocuarto capítulo del libro séptimo de la Naturalis historia. La materia de ese capítulo es la memoria; las palabras últimas fueron ut nihil non usdem verbis redderetur auditum.\\n\\nSin el menor cambio de voz, Ireneo me dijo que pasara. Estaba en el catre, fumando. Me parece que no le vi la cara hasta el alba; creo rememorar el ascua momentánea del cigarrillo. La pieza olía vagamente a humedad. Me senté; repetí la historia del telegrama y de la enfermedad de mi padre. Arribo, ahora, al más difícil punto de mi relato. Este (bueno es que ya lo sepa el lector) no tiene otro argumento que ese diálogo de hace ya medio siglo. No trataré de reproducir sus palabras, irrecuperables ahora. Prefiero resumir con veracidad las muchas cosas que me dijo Ireneo. El estilo indirecto es remoto y débil; yo sé que sacrifico la eficacia de mi relato; que mis lectores se imaginen los entrecortados períodos que me abrumaron esa noche.\\n\\nIreneo empezó por enumerar, en latín y español, los casos de memoria prodigiosa registrados por la Naturalis historia: Ciro, rey de los persas, que sabía llamar por su nombre a todos los soldados de sus ejércitos; Mitrídates Eupator, que administraba la justicia en los 22 idiomas de su imperio; Simónides, inventor de la mnemotecnia; Metrodoro, que profesaba el arte de repetir con fidelidad lo escuchado una sola vez. Con evidente buena fe se maravilló de que tales casos maravillaran. Me dijo que antes de esa tarde lluviosa en que lo volteó el azulejo, él había sido lo que son todos los cristianos: un ciego, un sordo, un abombado, un desmemoriado. (Traté de recordarle su percepción exacta del tiempo, su memoria de nombres propios; no me hizo caso.) Diecinueve años había vivido como quien sueña: miraba sin ver, oía sin oír, se olvidaba de todo, de casi todo. Al caer, perdió el conocimiento; cuando lo recobró, el presente era casi intolerable de tan rico y tan nítido, y también las memorias más antiguas y más triviales. Poco después averiguó que estaba tullido. El hecho apenas le interesó. Razonó (sintió) que la inmovilidad era un precio mínimo. Ahora su percepción y su memoria eran infalibles.\\n\\nNosotros, de un vistazo, percibimos tres copas en una mesa; Funes, todos los vástagos y racimos y frutos que comprende una parra. Sabía las formas de las nubes australes del amanecer del treinta de abril de mil ochocientos ochenta y dos y podía compararlas en el recuerdo con las vetas de un libro en pasta española que solo había mirado una vez y con las líneas de la espuma que un remo levantó en el Río Negro la víspera de la acción del Quebracho. Esos recuerdos no eran simples; cada imagen visual estaba ligada a sensaciones musculares, térmicas, etc. Podía reconstruir todos los sueños, todos los entresueños. Dos o tres veces había reconstruido un día entero; no había dudado nunca, pero cada reconstrucción había requerido un día entero. Me dijo: Más recuerdos tengo yo solo que los que habrán tenido todos los hombres desde que el mundo es mundo. Y también: Mis sueños son como 1a vigilia de ustedes. Y también, hacia el alba: Mi memoría, señor, es como vacíadero de basuras. Una circunferencia en un pizarrón, un triángulo rectángulo, un rombo, son formas que podemos intuir plenamente; lo mismo le pasaba a Ireneo con las aborrascadas crines de un potro, con una punta de ganado en una cuchilla, con el fuego cambiante y con la innumerable ceniza, con las muchas caras de un muerto en un largo velorio. No sé cuántas estrellas veía en el cielo.\\n\\nEsas cosas me dijo; ni entonces ni después las he puesto en duda. En aquel tiempo no había cinematógrafos ni fonógrafos; es, sin embargo, inverosímil y hasta increíble que nadie hiciera un experimento con Funes. Lo cierto es que vivimos postergando todo lo postergable; tal vez todos sabemos profundamente que somos inmortales y que tarde o temprano, todo hombre hará todas las cosas y sabrá todo.\\n\\nLa voz de Funes, desde la oscuridad, seguía hablando.\\n\\nMe dijo que hacia 1886 había discurrido un sistema original de numeración y que en muy pocos días había rebasado el veinticuatro mil. No lo había escrito, porque lo pensado una sola vez ya no podía borrársele. Su primer estímulo, creo, fue el desagrado de que los treinta y tres orientales requirieran dos signos y tres palabras, en lugar de una sola palabra y un solo signo. Aplicó luego ese disparatado principio a los otros números. En lugar de siete mil trece, decía (por ejemplo) Máximo Pérez; en lugar de siete mil catorce, El Ferrocarril; otros números eran Luis Melián Lafinur, Olimar, azufre, los bastos, la ballena, gas, la caldera, Napoleón, Agustín Vedia. En lugar de quinientos, decía nueve. Cada palabra tenía un signo particular, una especie marca; las últimas muy complicadas… Yo traté de explicarle que esa rapsodia de voces inconexas era precisamente lo contrario de un sistema numeración. Le dije que decir 365 era decir tres centenas, seis decenas, cinco unidades; análisis no existe en los “números” El Negro Timoteo o manta de carne. Funes no me entendió o no quiso entenderme.\\n\\nLocke, en el siglo XVII, postuló (y reprobó) un idioma imposible en el que cada cosa individual, cada piedra, cada pájaro y cada rama tuviera nombre propio; Funes proyectó alguna vez un idioma análogo, pero lo desechó por parecerle demasiado general, demasiado ambiguo. En efecto, Funes no solo recordaba cada hoja de cada árbol de cada monte, sino cada una de las veces que la había percibido o imaginado. Resolvió reducir cada una de sus jornadas pretéritas a unos setenta mil recuerdos, que definiría luego por cifras. Lo disuadieron dos consideraciones: la conciencia de que la tarea era interminable, la conciencia de que era inútil. Pensó que en la hora de la muerte no habría acabado aún de clasificar todos los recuerdos de la niñez.\\n\\nLos dos proyectos que he indicado (un vocabulario infinito para serie natural de los números, un inútil catálogo mental de todas las imágenes del recuerdo) son insensatos, pero revelan cierta balbuciente grandeza. Nos dejan vislumbrar o inferir el vertiginoso mundo de Funes. Este, no lo olvidemos, era casi incapaz de ideas generales, platónicas. No solo le costaba comprender que el símbolo genérico perro abarcara tantos individuos dispares de diversos tamaños y diversa forma; le molestaba que el perro de las tres y catorce (visto de perfil) tuviera el mismo nombre que el perro de las tres y cuarto (visto de frente). Su propia cara en el espejo, sus propias manos, lo sorprendían cada vez. Refiere Swift que el emperador de Lilliput discernía el movimiento del minutero; Funes discernía continuamente los tranquilos avances de la corrupción, de las caries, de la fatiga. Notaba los progresos de la muerte, de la humedad. Era el solitario y lúcido espectador de un mundo multiforme, instantáneo y casi intolerablemente preciso. Babilonia, Londres y Nueva York han abrumado con feroz esplendor la imaginación de los hombres; nadie, en sus torres populosas o en sus avenidas urgentes, ha sentido el calor y la presión de una realidad tan infatigable como la que día y noche convergía sobre el infeliz Ireneo, en su pobre arrabal sudamericano. Le era muy difícil dormir. Dormir es distraerse del mundo; Funes, de espaldas en el catre, en la sombra, se figuraba cada grieta y cada moldura de las casas precisas que lo rodeaban. (Repito que el menos importante de sus recuerdos era más minucioso y más vivo que nuestra percepción de un goce físico o de un tormento físico.) Hacia el Este, en un trecho no amanzanado, había casas nuevas, desconocidas. Funes las imaginaba negras, compactas, hechas de tiniebla homogénea; en esa dirección volvía la cara para dormir. También solía imaginarse en el fondo del río, mecido y anulado por la corriente.\\n\\nHabía aprendido sin esfuerzo el inglés, el francés, el portugués, el latín. Sospecho, sin embargo, que no era muy capaz de pensar. Pensar es olvidar diferencias, es generalizar, abstraer. En el abarrotado mundo de Funes no había sino detalles, casi inmediatos.\\n\\nLa recelosa claridad de la madrugada entró por el patio de tierra.\\n\\nEntonces vi la cara de la voz que toda la noche había hablado. Ireneo tenía diecinueve años; había nacido en 1868; me pareció monumental como el bronce, más antiguo que Egipto, anterior a las profecías y a las pirámides. Pensé que cada una de mis palabras (que cada uno de mis gestos) perduraría en su implacable memoria; me entorpeció el temor de multiplicar ademanes inútiles.\\n\\nIreneo Funes murió en 1889, de una congestión pulmonar.'"
      ]
     },
     "execution_count": 40,
     "metadata": {},
     "output_type": "execute_result"
    }
   ],
   "source": [
    "## ¿Qué es \"archivo_leido\"? Es de tipo string\n",
    "\n",
    "archivo_leido"
   ]
  },
  {
   "cell_type": "code",
   "execution_count": 102,
   "metadata": {},
   "outputs": [],
   "source": [
    "texto_min = archivo_leido.lower()"
   ]
  },
  {
   "cell_type": "code",
   "execution_count": 103,
   "metadata": {},
   "outputs": [
    {
     "data": {
      "text/plain": [
       "'lo recuerdo (yo no tengo derecho a pronunciar ese verbo sagrado, solo un hombre en la tierra tuvo derecho y ese hombre ha muerto) con una oscura pasionaria en la mano, viéndola como nadie la ha visto, aunque la mirara desde el crepúsculo del día hasta el de la noche, toda una vida entera. lo recuerdo, la cara taciturna y aindiada y singularmente remota, detrás del cigarrillo. recuerdo (creo) sus manos afiladas de trenzador. recuerdo cerca de esas manos un mate, con las armas de la banda oriental; recuerdo en la ventana de la casa una estera amarilla, con un vago paisaje lacustre. recuerdo claramente su voz; la voz pausada, resentida y nasal del orillero antiguo, sin los silbidos italianos de ahora. más de tres veces no lo vi; la última, en 1887… me parece muy feliz el proyecto de que todos aquellos que lo trataron escriban sobre él; mi testimonio será acaso el más breve y sin duda el más pobre, pero no el menos imparcial del volumen que editarán ustedes. mi deplorable condición de argentino me impedirá incurrir en el ditirambo —género obligatorio en el uruguay, cuando el tema es un uruguayo. literato, cajetilla, porteño: funes no dijo esas injuriosas palabras, pero de un modo suficiente me consta que yo representaba para él esas desventuras. pedro leandro ipuche ha escrito que funes era un precursor de los superhombres; “un zarathustra cimarrón y vernáculo”; no lo discuto, pero no hay que olvidar que era también un compadrito de fray bentos, con ciertas incurables limitaciones.\\n\\nmi primer recuerdo de funes es muy perspicuo. lo veo en un atardecer de marzo o febrero del año ochenta y cuatro. mi padre, ese año, me había llevado a veranear a fray bentos. yo volvía con mi primo bernardo haedo de la estancia de san francisco. volvíamos cantando, a caballo, y esa no era la única circunstancia de mi felicidad. después de un día bochornoso, una enorme tormenta color pizarra había escondido el cielo. la alentaba el viento del sur, ya se enloquecían los árboles; yo tenía el temor (la esperanza) de que nos sorprendiera en un descampado el agua elemental. corrimos una especie de carrera con la tormenta. entramos en un callejón que se ahondaba entre dos veredas altísimas de ladrillo. había oscurecido de golpe; oí rápidos y casi secretos pasos en lo alto; alcé los ojos y vi un muchacho que corría por la estrecha y rota vereda como por una estrecha y rota pared. recuerdo la bombacha, las alpargatas, recuerdo el cigarrillo en el duro rostro, contra el nubarrón ya sin límites. bernardo le gritó imprevisiblemente: ¿qué horas son, ireneo? sin consultar el cielo, sin detenerse, el otro respondió: faltan cuatro minutos para las ocho, joven bernardo juan francisco. la voz era aguda, burlona.\\n\\nyo soy tan distraído que el diálogo que acabo de referir no me hubiera llamado la atención si no lo hubiera recalcado mi primo, a quien estimulaban (creo) cierto orgullo local, y el deseo de mostrarse indiferente a la réplica tripartita del otro.\\n\\nme dijo que el muchacho del callejón era un tal ireneo funes, mentado por algunas rarezas como la de no darse con nadie y la de saber siempre la hora, como un reloj. agregó que era hijo de una planchadora del pueblo, maría clementina funes, y que algunos decían que su padre era un médico del saladero, un inglés o’connor, y otros un domador o rastreador del departamento del salto. vivía con su madre, a la vuelta de la quinta de los laureles.\\n\\nlos años ochenta y cinco y ochenta y seis veraneamos en la ciudad de montevideo. el ochenta y siete volví a fray bentos. pregunté, como es natural, por todos los conocidos y, finalmente, por el “cronométrico funes”. me contestaron que lo había volteado un redomón en la estancia de san francisco, y que había quedado tullido, sin esperanza. recuerdo la impresión de incómoda magia que la noticia me produjo: la única vez que yo lo vi, veníamos a caballo de san francisco y él andaba en un lugar alto; el hecho, en boca de mi primo bernardo, tenía mucho de sueño elaborado con elementos anteriores. me dijeron que no se movía del catre, puestos los ojos en la higuera del fondo o en una telaraña. en los atardeceres, permitía que lo sacaran a la ventana. llevaba la soberbia hasta el punto de simular que era benéfico el golpe que lo había fulminado… dos veces lo vi atrás de la reja, que burdamente recalcaba su condición de eterno prisionero: una, inmóvil, con los ojos cerrados; otra, inmóvil también, absorto en la contemplación de un oloroso gajo de santonina.\\n\\nno sin alguna vanagloria yo había iniciado en aquel tiempo el estudio metódico del latín. mi valija incluía el de viris illustribus de lhomond, el thesaurus de quicherat, los comentarios de julio césar y un volumen impar de la naturalis historia de plinio, que excedía (y sigue excediendo) mis módicas virtudes de latinista. todo se propala en un pueblo chico; ireneo, en su rancho de las orillas, no tardó en enterarse del arribo de esos libros anómalos. me dirigió una carta florida y ceremoniosa, en la que recordaba nuestro encuentro, desdichadamente fugaz, “del día siete de febrero del año ochenta y cuatro”, ponderaba los gloriosos servicios que don gregorio haedo, mi tío, finado ese mismo año, “había prestado a las dos patrias en la valerosa jornada de ituzaingó”, y me solicitaba el préstamo de cualquiera de los volúmenes, acompañado de un diccionario “para la buena inteligencia del texto original, porque todavía ignoro el latín”. prometía devolverlos en buen estado, casi inmediatamente. la letra era perfecta, muy perfilada; la ortografía, del tipo que andrés bello preconizó: i por y, j por g. al principio, temí naturalmente una broma. mis primos me aseguraron que no, que eran cosas de ireneo. no supe si atribuir a descaro, a ignorancia o a estupidez la idea de que el arduo latín no requería más instrumento que un diccionario; para desengañarlo con plenitud le mandé el gradus ad parnassum de quicherat. y la obra de plinio.\\n\\nel catorce de febrero me telegrafiaron de buenos aires que volviera inmediatamente, porque mi padre no estaba “nada bien”. dios me perdone; el prestigio de ser el destinatario de un telegrama urgente, el deseo de comunicar a todo fray bentos la contradicción entre la forma negativa de la noticia y el perentorio adverbio, la tentación de dramatizar mi dolor, fingiendo un viril estoicismo, tal vez me distrajeron de toda posibilidad de dolor. al hacer la valija, noté que me faltaban el gradus y el primer tomo de la naturalis historia. el “saturno” zarpaba al día siguiente, por la mañana; esa noche, después de cenar, me encaminé a casa de funes. me asombró que la noche fuera no menos pesada que el día.\\n\\nen el decente rancho, la madre de funes me recibió. me dijo que ireneo estaba en la pieza del fondo y que no me extrañara encontrarla a oscuras, porque ireneo sabía pasarse las horas muertas sin encender la vela. atravesé el patio de baldosa, el corredorcito; llegué al segundo patio. había una parra; la oscuridad pudo parecerme total. oí de pronto la alta y burlona voz de ireneo. esa voz hablaba en latín; esa voz (que venía de la tiniebla) articulaba con moroso deleite un discurso o plegaria o incantación. resonaron las sílabas romanas en el patio de tierra; mi temor las creía indescifrables, interminables; después, en el enorme diálogo de esa noche, supe que formaban el primer párrafo del vigésimocuarto capítulo del libro séptimo de la naturalis historia. la materia de ese capítulo es la memoria; las palabras últimas fueron ut nihil non usdem verbis redderetur auditum.\\n\\nsin el menor cambio de voz, ireneo me dijo que pasara. estaba en el catre, fumando. me parece que no le vi la cara hasta el alba; creo rememorar el ascua momentánea del cigarrillo. la pieza olía vagamente a humedad. me senté; repetí la historia del telegrama y de la enfermedad de mi padre. arribo, ahora, al más difícil punto de mi relato. este (bueno es que ya lo sepa el lector) no tiene otro argumento que ese diálogo de hace ya medio siglo. no trataré de reproducir sus palabras, irrecuperables ahora. prefiero resumir con veracidad las muchas cosas que me dijo ireneo. el estilo indirecto es remoto y débil; yo sé que sacrifico la eficacia de mi relato; que mis lectores se imaginen los entrecortados períodos que me abrumaron esa noche.\\n\\nireneo empezó por enumerar, en latín y español, los casos de memoria prodigiosa registrados por la naturalis historia: ciro, rey de los persas, que sabía llamar por su nombre a todos los soldados de sus ejércitos; mitrídates eupator, que administraba la justicia en los 22 idiomas de su imperio; simónides, inventor de la mnemotecnia; metrodoro, que profesaba el arte de repetir con fidelidad lo escuchado una sola vez. con evidente buena fe se maravilló de que tales casos maravillaran. me dijo que antes de esa tarde lluviosa en que lo volteó el azulejo, él había sido lo que son todos los cristianos: un ciego, un sordo, un abombado, un desmemoriado. (traté de recordarle su percepción exacta del tiempo, su memoria de nombres propios; no me hizo caso.) diecinueve años había vivido como quien sueña: miraba sin ver, oía sin oír, se olvidaba de todo, de casi todo. al caer, perdió el conocimiento; cuando lo recobró, el presente era casi intolerable de tan rico y tan nítido, y también las memorias más antiguas y más triviales. poco después averiguó que estaba tullido. el hecho apenas le interesó. razonó (sintió) que la inmovilidad era un precio mínimo. ahora su percepción y su memoria eran infalibles.\\n\\nnosotros, de un vistazo, percibimos tres copas en una mesa; funes, todos los vástagos y racimos y frutos que comprende una parra. sabía las formas de las nubes australes del amanecer del treinta de abril de mil ochocientos ochenta y dos y podía compararlas en el recuerdo con las vetas de un libro en pasta española que solo había mirado una vez y con las líneas de la espuma que un remo levantó en el río negro la víspera de la acción del quebracho. esos recuerdos no eran simples; cada imagen visual estaba ligada a sensaciones musculares, térmicas, etc. podía reconstruir todos los sueños, todos los entresueños. dos o tres veces había reconstruido un día entero; no había dudado nunca, pero cada reconstrucción había requerido un día entero. me dijo: más recuerdos tengo yo solo que los que habrán tenido todos los hombres desde que el mundo es mundo. y también: mis sueños son como 1a vigilia de ustedes. y también, hacia el alba: mi memoría, señor, es como vacíadero de basuras. una circunferencia en un pizarrón, un triángulo rectángulo, un rombo, son formas que podemos intuir plenamente; lo mismo le pasaba a ireneo con las aborrascadas crines de un potro, con una punta de ganado en una cuchilla, con el fuego cambiante y con la innumerable ceniza, con las muchas caras de un muerto en un largo velorio. no sé cuántas estrellas veía en el cielo.\\n\\nesas cosas me dijo; ni entonces ni después las he puesto en duda. en aquel tiempo no había cinematógrafos ni fonógrafos; es, sin embargo, inverosímil y hasta increíble que nadie hiciera un experimento con funes. lo cierto es que vivimos postergando todo lo postergable; tal vez todos sabemos profundamente que somos inmortales y que tarde o temprano, todo hombre hará todas las cosas y sabrá todo.\\n\\nla voz de funes, desde la oscuridad, seguía hablando.\\n\\nme dijo que hacia 1886 había discurrido un sistema original de numeración y que en muy pocos días había rebasado el veinticuatro mil. no lo había escrito, porque lo pensado una sola vez ya no podía borrársele. su primer estímulo, creo, fue el desagrado de que los treinta y tres orientales requirieran dos signos y tres palabras, en lugar de una sola palabra y un solo signo. aplicó luego ese disparatado principio a los otros números. en lugar de siete mil trece, decía (por ejemplo) máximo pérez; en lugar de siete mil catorce, el ferrocarril; otros números eran luis melián lafinur, olimar, azufre, los bastos, la ballena, gas, la caldera, napoleón, agustín vedia. en lugar de quinientos, decía nueve. cada palabra tenía un signo particular, una especie marca; las últimas muy complicadas… yo traté de explicarle que esa rapsodia de voces inconexas era precisamente lo contrario de un sistema numeración. le dije que decir 365 era decir tres centenas, seis decenas, cinco unidades; análisis no existe en los “números” el negro timoteo o manta de carne. funes no me entendió o no quiso entenderme.\\n\\nlocke, en el siglo xvii, postuló (y reprobó) un idioma imposible en el que cada cosa individual, cada piedra, cada pájaro y cada rama tuviera nombre propio; funes proyectó alguna vez un idioma análogo, pero lo desechó por parecerle demasiado general, demasiado ambiguo. en efecto, funes no solo recordaba cada hoja de cada árbol de cada monte, sino cada una de las veces que la había percibido o imaginado. resolvió reducir cada una de sus jornadas pretéritas a unos setenta mil recuerdos, que definiría luego por cifras. lo disuadieron dos consideraciones: la conciencia de que la tarea era interminable, la conciencia de que era inútil. pensó que en la hora de la muerte no habría acabado aún de clasificar todos los recuerdos de la niñez.\\n\\nlos dos proyectos que he indicado (un vocabulario infinito para serie natural de los números, un inútil catálogo mental de todas las imágenes del recuerdo) son insensatos, pero revelan cierta balbuciente grandeza. nos dejan vislumbrar o inferir el vertiginoso mundo de funes. este, no lo olvidemos, era casi incapaz de ideas generales, platónicas. no solo le costaba comprender que el símbolo genérico perro abarcara tantos individuos dispares de diversos tamaños y diversa forma; le molestaba que el perro de las tres y catorce (visto de perfil) tuviera el mismo nombre que el perro de las tres y cuarto (visto de frente). su propia cara en el espejo, sus propias manos, lo sorprendían cada vez. refiere swift que el emperador de lilliput discernía el movimiento del minutero; funes discernía continuamente los tranquilos avances de la corrupción, de las caries, de la fatiga. notaba los progresos de la muerte, de la humedad. era el solitario y lúcido espectador de un mundo multiforme, instantáneo y casi intolerablemente preciso. babilonia, londres y nueva york han abrumado con feroz esplendor la imaginación de los hombres; nadie, en sus torres populosas o en sus avenidas urgentes, ha sentido el calor y la presión de una realidad tan infatigable como la que día y noche convergía sobre el infeliz ireneo, en su pobre arrabal sudamericano. le era muy difícil dormir. dormir es distraerse del mundo; funes, de espaldas en el catre, en la sombra, se figuraba cada grieta y cada moldura de las casas precisas que lo rodeaban. (repito que el menos importante de sus recuerdos era más minucioso y más vivo que nuestra percepción de un goce físico o de un tormento físico.) hacia el este, en un trecho no amanzanado, había casas nuevas, desconocidas. funes las imaginaba negras, compactas, hechas de tiniebla homogénea; en esa dirección volvía la cara para dormir. también solía imaginarse en el fondo del río, mecido y anulado por la corriente.\\n\\nhabía aprendido sin esfuerzo el inglés, el francés, el portugués, el latín. sospecho, sin embargo, que no era muy capaz de pensar. pensar es olvidar diferencias, es generalizar, abstraer. en el abarrotado mundo de funes no había sino detalles, casi inmediatos.\\n\\nla recelosa claridad de la madrugada entró por el patio de tierra.\\n\\nentonces vi la cara de la voz que toda la noche había hablado. ireneo tenía diecinueve años; había nacido en 1868; me pareció monumental como el bronce, más antiguo que egipto, anterior a las profecías y a las pirámides. pensé que cada una de mis palabras (que cada uno de mis gestos) perduraría en su implacable memoria; me entorpeció el temor de multiplicar ademanes inútiles.\\n\\nireneo funes murió en 1889, de una congestión pulmonar.'"
      ]
     },
     "execution_count": 103,
     "metadata": {},
     "output_type": "execute_result"
    }
   ],
   "source": [
    "texto_min"
   ]
  },
  {
   "cell_type": "code",
   "execution_count": 146,
   "metadata": {},
   "outputs": [
    {
     "data": {
      "text/plain": [
       "<re.Match object; span=(13, 15), match='yo'>"
      ]
     },
     "execution_count": 146,
     "metadata": {},
     "output_type": "execute_result"
    }
   ],
   "source": [
    "import re\n",
    "\n",
    "re.search('yo',texto_min)"
   ]
  },
  {
   "cell_type": "code",
   "execution_count": 125,
   "metadata": {},
   "outputs": [],
   "source": [
    "largo_texto = len(archivo_leido)"
   ]
  },
  {
   "cell_type": "code",
   "execution_count": 126,
   "metadata": {},
   "outputs": [
    {
     "data": {
      "text/plain": [
       "15845"
      ]
     },
     "execution_count": 126,
     "metadata": {},
     "output_type": "execute_result"
    }
   ],
   "source": [
    "largo_texto"
   ]
  },
  {
   "cell_type": "code",
   "execution_count": 135,
   "metadata": {},
   "outputs": [],
   "source": [
    "veces_pero = archivo_leido.count('pero')"
   ]
  },
  {
   "cell_type": "code",
   "execution_count": 136,
   "metadata": {},
   "outputs": [
    {
     "data": {
      "text/plain": [
       "6"
      ]
     },
     "execution_count": 136,
     "metadata": {},
     "output_type": "execute_result"
    }
   ],
   "source": [
    "veces_pero"
   ]
  },
  {
   "cell_type": "markdown",
   "metadata": {},
   "source": [
    "¿Cómo podemos **indexar** cada palabra con el número asignado por su posición? Respuesta! usando **listas!** "
   ]
  },
  {
   "cell_type": "code",
   "execution_count": 41,
   "metadata": {},
   "outputs": [],
   "source": [
    "## nueva variable\n",
    "\n",
    "lista_palabras = archivo_leido.split(' ')"
   ]
  },
  {
   "cell_type": "code",
   "execution_count": 42,
   "metadata": {},
   "outputs": [
    {
     "data": {
      "text/plain": [
       "['Lo',\n",
       " 'recuerdo',\n",
       " '(yo',\n",
       " 'no',\n",
       " 'tengo',\n",
       " 'derecho',\n",
       " 'a',\n",
       " 'pronunciar',\n",
       " 'ese',\n",
       " 'verbo',\n",
       " 'sagrado,',\n",
       " 'solo',\n",
       " 'un',\n",
       " 'hombre',\n",
       " 'en',\n",
       " 'la',\n",
       " 'tierra',\n",
       " 'tuvo',\n",
       " 'derecho',\n",
       " 'y',\n",
       " 'ese',\n",
       " 'hombre',\n",
       " 'ha',\n",
       " 'muerto)',\n",
       " 'con',\n",
       " 'una',\n",
       " 'oscura',\n",
       " 'pasionaria',\n",
       " 'en',\n",
       " 'la',\n",
       " 'mano,',\n",
       " 'viéndola',\n",
       " 'como',\n",
       " 'nadie',\n",
       " 'la',\n",
       " 'ha',\n",
       " 'visto,',\n",
       " 'aunque',\n",
       " 'la',\n",
       " 'mirara',\n",
       " 'desde',\n",
       " 'el',\n",
       " 'crepúsculo',\n",
       " 'del',\n",
       " 'día',\n",
       " 'hasta',\n",
       " 'el',\n",
       " 'de',\n",
       " 'la',\n",
       " 'noche,',\n",
       " 'toda',\n",
       " 'una',\n",
       " 'vida',\n",
       " 'entera.',\n",
       " 'Lo',\n",
       " 'recuerdo,',\n",
       " 'la',\n",
       " 'cara',\n",
       " 'taciturna',\n",
       " 'y',\n",
       " 'aindiada',\n",
       " 'y',\n",
       " 'singularmente',\n",
       " 'remota,',\n",
       " 'detrás',\n",
       " 'del',\n",
       " 'cigarrillo.',\n",
       " 'Recuerdo',\n",
       " '(creo)',\n",
       " 'sus',\n",
       " 'manos',\n",
       " 'afiladas',\n",
       " 'de',\n",
       " 'trenzador.',\n",
       " 'Recuerdo',\n",
       " 'cerca',\n",
       " 'de',\n",
       " 'esas',\n",
       " 'manos',\n",
       " 'un',\n",
       " 'mate,',\n",
       " 'con',\n",
       " 'las',\n",
       " 'armas',\n",
       " 'de',\n",
       " 'la',\n",
       " 'Banda',\n",
       " 'Oriental;',\n",
       " 'recuerdo',\n",
       " 'en',\n",
       " 'la',\n",
       " 'ventana',\n",
       " 'de',\n",
       " 'la',\n",
       " 'casa',\n",
       " 'una',\n",
       " 'estera',\n",
       " 'amarilla,',\n",
       " 'con',\n",
       " 'un',\n",
       " 'vago',\n",
       " 'paisaje',\n",
       " 'lacustre.',\n",
       " 'Recuerdo',\n",
       " 'claramente',\n",
       " 'su',\n",
       " 'voz;',\n",
       " 'la',\n",
       " 'voz',\n",
       " 'pausada,',\n",
       " 'resentida',\n",
       " 'y',\n",
       " 'nasal',\n",
       " 'del',\n",
       " 'orillero',\n",
       " 'antiguo,',\n",
       " 'sin',\n",
       " 'los',\n",
       " 'silbidos',\n",
       " 'italianos',\n",
       " 'de',\n",
       " 'ahora.',\n",
       " 'Más',\n",
       " 'de',\n",
       " 'tres',\n",
       " 'veces',\n",
       " 'no',\n",
       " 'lo',\n",
       " 'vi;',\n",
       " 'la',\n",
       " 'última,',\n",
       " 'en',\n",
       " '1887…',\n",
       " 'Me',\n",
       " 'parece',\n",
       " 'muy',\n",
       " 'feliz',\n",
       " 'el',\n",
       " 'proyecto',\n",
       " 'de',\n",
       " 'que',\n",
       " 'todos',\n",
       " 'aquellos',\n",
       " 'que',\n",
       " 'lo',\n",
       " 'trataron',\n",
       " 'escriban',\n",
       " 'sobre',\n",
       " 'él;',\n",
       " 'mi',\n",
       " 'testimonio',\n",
       " 'será',\n",
       " 'acaso',\n",
       " 'el',\n",
       " 'más',\n",
       " 'breve',\n",
       " 'y',\n",
       " 'sin',\n",
       " 'duda',\n",
       " 'el',\n",
       " 'más',\n",
       " 'pobre,',\n",
       " 'pero',\n",
       " 'no',\n",
       " 'el',\n",
       " 'menos',\n",
       " 'imparcial',\n",
       " 'del',\n",
       " 'volumen',\n",
       " 'que',\n",
       " 'editarán',\n",
       " 'ustedes.',\n",
       " 'Mi',\n",
       " 'deplorable',\n",
       " 'condición',\n",
       " 'de',\n",
       " 'argentino',\n",
       " 'me',\n",
       " 'impedirá',\n",
       " 'incurrir',\n",
       " 'en',\n",
       " 'el',\n",
       " 'ditirambo',\n",
       " '—género',\n",
       " 'obligatorio',\n",
       " 'en',\n",
       " 'el',\n",
       " 'Uruguay,',\n",
       " 'cuando',\n",
       " 'el',\n",
       " 'tema',\n",
       " 'es',\n",
       " 'un',\n",
       " 'uruguayo.',\n",
       " 'Literato,',\n",
       " 'cajetilla,',\n",
       " 'porteño:',\n",
       " 'Funes',\n",
       " 'no',\n",
       " 'dijo',\n",
       " 'esas',\n",
       " 'injuriosas',\n",
       " 'palabras,',\n",
       " 'pero',\n",
       " 'de',\n",
       " 'un',\n",
       " 'modo',\n",
       " 'suficiente',\n",
       " 'me',\n",
       " 'consta',\n",
       " 'que',\n",
       " 'yo',\n",
       " 'representaba',\n",
       " 'para',\n",
       " 'él',\n",
       " 'esas',\n",
       " 'desventuras.',\n",
       " 'Pedro',\n",
       " 'Leandro',\n",
       " 'Ipuche',\n",
       " 'ha',\n",
       " 'escrito',\n",
       " 'que',\n",
       " 'Funes',\n",
       " 'era',\n",
       " 'un',\n",
       " 'precursor',\n",
       " 'de',\n",
       " 'los',\n",
       " 'superhombres;',\n",
       " '“Un',\n",
       " 'Zarathustra',\n",
       " 'cimarrón',\n",
       " 'y',\n",
       " 'vernáculo”;',\n",
       " 'no',\n",
       " 'lo',\n",
       " 'discuto,',\n",
       " 'pero',\n",
       " 'no',\n",
       " 'hay',\n",
       " 'que',\n",
       " 'olvidar',\n",
       " 'que',\n",
       " 'era',\n",
       " 'también',\n",
       " 'un',\n",
       " 'compadrito',\n",
       " 'de',\n",
       " 'Fray',\n",
       " 'Bentos,',\n",
       " 'con',\n",
       " 'ciertas',\n",
       " 'incurables',\n",
       " 'limitaciones.\\n\\nMi',\n",
       " 'primer',\n",
       " 'recuerdo',\n",
       " 'de',\n",
       " 'Funes',\n",
       " 'es',\n",
       " 'muy',\n",
       " 'perspicuo.',\n",
       " 'Lo',\n",
       " 'veo',\n",
       " 'en',\n",
       " 'un',\n",
       " 'atardecer',\n",
       " 'de',\n",
       " 'marzo',\n",
       " 'o',\n",
       " 'febrero',\n",
       " 'del',\n",
       " 'año',\n",
       " 'ochenta',\n",
       " 'y',\n",
       " 'cuatro.',\n",
       " 'Mi',\n",
       " 'padre,',\n",
       " 'ese',\n",
       " 'año,',\n",
       " 'me',\n",
       " 'había',\n",
       " 'llevado',\n",
       " 'a',\n",
       " 'veranear',\n",
       " 'a',\n",
       " 'Fray',\n",
       " 'Bentos.',\n",
       " 'Yo',\n",
       " 'volvía',\n",
       " 'con',\n",
       " 'mi',\n",
       " 'primo',\n",
       " 'Bernardo',\n",
       " 'Haedo',\n",
       " 'de',\n",
       " 'la',\n",
       " 'estancia',\n",
       " 'de',\n",
       " 'San',\n",
       " 'Francisco.',\n",
       " 'Volvíamos',\n",
       " 'cantando,',\n",
       " 'a',\n",
       " 'caballo,',\n",
       " 'y',\n",
       " 'esa',\n",
       " 'no',\n",
       " 'era',\n",
       " 'la',\n",
       " 'única',\n",
       " 'circunstancia',\n",
       " 'de',\n",
       " 'mi',\n",
       " 'felicidad.',\n",
       " 'Después',\n",
       " 'de',\n",
       " 'un',\n",
       " 'día',\n",
       " 'bochornoso,',\n",
       " 'una',\n",
       " 'enorme',\n",
       " 'tormenta',\n",
       " 'color',\n",
       " 'pizarra',\n",
       " 'había',\n",
       " 'escondido',\n",
       " 'el',\n",
       " 'cielo.',\n",
       " 'La',\n",
       " 'alentaba',\n",
       " 'el',\n",
       " 'viento',\n",
       " 'del',\n",
       " 'Sur,',\n",
       " 'ya',\n",
       " 'se',\n",
       " 'enloquecían',\n",
       " 'los',\n",
       " 'árboles;',\n",
       " 'yo',\n",
       " 'tenía',\n",
       " 'el',\n",
       " 'temor',\n",
       " '(la',\n",
       " 'esperanza)',\n",
       " 'de',\n",
       " 'que',\n",
       " 'nos',\n",
       " 'sorprendiera',\n",
       " 'en',\n",
       " 'un',\n",
       " 'descampado',\n",
       " 'el',\n",
       " 'agua',\n",
       " 'elemental.',\n",
       " 'Corrimos',\n",
       " 'una',\n",
       " 'especie',\n",
       " 'de',\n",
       " 'carrera',\n",
       " 'con',\n",
       " 'la',\n",
       " 'tormenta.',\n",
       " 'Entramos',\n",
       " 'en',\n",
       " 'un',\n",
       " 'callejón',\n",
       " 'que',\n",
       " 'se',\n",
       " 'ahondaba',\n",
       " 'entre',\n",
       " 'dos',\n",
       " 'veredas',\n",
       " 'altísimas',\n",
       " 'de',\n",
       " 'ladrillo.',\n",
       " 'Había',\n",
       " 'oscurecido',\n",
       " 'de',\n",
       " 'golpe;',\n",
       " 'oí',\n",
       " 'rápidos',\n",
       " 'y',\n",
       " 'casi',\n",
       " 'secretos',\n",
       " 'pasos',\n",
       " 'en',\n",
       " 'lo',\n",
       " 'alto;',\n",
       " 'alcé',\n",
       " 'los',\n",
       " 'ojos',\n",
       " 'y',\n",
       " 'vi',\n",
       " 'un',\n",
       " 'muchacho',\n",
       " 'que',\n",
       " 'corría',\n",
       " 'por',\n",
       " 'la',\n",
       " 'estrecha',\n",
       " 'y',\n",
       " 'rota',\n",
       " 'vereda',\n",
       " 'como',\n",
       " 'por',\n",
       " 'una',\n",
       " 'estrecha',\n",
       " 'y',\n",
       " 'rota',\n",
       " 'pared.',\n",
       " 'Recuerdo',\n",
       " 'la',\n",
       " 'bombacha,',\n",
       " 'las',\n",
       " 'alpargatas,',\n",
       " 'recuerdo',\n",
       " 'el',\n",
       " 'cigarrillo',\n",
       " 'en',\n",
       " 'el',\n",
       " 'duro',\n",
       " 'rostro,',\n",
       " 'contra',\n",
       " 'el',\n",
       " 'nubarrón',\n",
       " 'ya',\n",
       " 'sin',\n",
       " 'límites.',\n",
       " 'Bernardo',\n",
       " 'le',\n",
       " 'gritó',\n",
       " 'imprevisiblemente:',\n",
       " '¿Qué',\n",
       " 'horas',\n",
       " 'son,',\n",
       " 'Ireneo?',\n",
       " 'Sin',\n",
       " 'consultar',\n",
       " 'el',\n",
       " 'cielo,',\n",
       " 'sin',\n",
       " 'detenerse,',\n",
       " 'el',\n",
       " 'otro',\n",
       " 'respondió:',\n",
       " 'Faltan',\n",
       " 'cuatro',\n",
       " 'minutos',\n",
       " 'para',\n",
       " 'las',\n",
       " 'ocho,',\n",
       " 'joven',\n",
       " 'Bernardo',\n",
       " 'Juan',\n",
       " 'Francisco.',\n",
       " 'La',\n",
       " 'voz',\n",
       " 'era',\n",
       " 'aguda,',\n",
       " 'burlona.\\n\\nYo',\n",
       " 'soy',\n",
       " 'tan',\n",
       " 'distraído',\n",
       " 'que',\n",
       " 'el',\n",
       " 'diálogo',\n",
       " 'que',\n",
       " 'acabo',\n",
       " 'de',\n",
       " 'referir',\n",
       " 'no',\n",
       " 'me',\n",
       " 'hubiera',\n",
       " 'llamado',\n",
       " 'la',\n",
       " 'atención',\n",
       " 'si',\n",
       " 'no',\n",
       " 'lo',\n",
       " 'hubiera',\n",
       " 'recalcado',\n",
       " 'mi',\n",
       " 'primo,',\n",
       " 'a',\n",
       " 'quien',\n",
       " 'estimulaban',\n",
       " '(creo)',\n",
       " 'cierto',\n",
       " 'orgullo',\n",
       " 'local,',\n",
       " 'y',\n",
       " 'el',\n",
       " 'deseo',\n",
       " 'de',\n",
       " 'mostrarse',\n",
       " 'indiferente',\n",
       " 'a',\n",
       " 'la',\n",
       " 'réplica',\n",
       " 'tripartita',\n",
       " 'del',\n",
       " 'otro.\\n\\nMe',\n",
       " 'dijo',\n",
       " 'que',\n",
       " 'el',\n",
       " 'muchacho',\n",
       " 'del',\n",
       " 'callejón',\n",
       " 'era',\n",
       " 'un',\n",
       " 'tal',\n",
       " 'Ireneo',\n",
       " 'Funes,',\n",
       " 'mentado',\n",
       " 'por',\n",
       " 'algunas',\n",
       " 'rarezas',\n",
       " 'como',\n",
       " 'la',\n",
       " 'de',\n",
       " 'no',\n",
       " 'darse',\n",
       " 'con',\n",
       " 'nadie',\n",
       " 'y',\n",
       " 'la',\n",
       " 'de',\n",
       " 'saber',\n",
       " 'siempre',\n",
       " 'la',\n",
       " 'hora,',\n",
       " 'como',\n",
       " 'un',\n",
       " 'reloj.',\n",
       " 'Agregó',\n",
       " 'que',\n",
       " 'era',\n",
       " 'hijo',\n",
       " 'de',\n",
       " 'una',\n",
       " 'planchadora',\n",
       " 'del',\n",
       " 'pueblo,',\n",
       " 'María',\n",
       " 'Clementina',\n",
       " 'Funes,',\n",
       " 'y',\n",
       " 'que',\n",
       " 'algunos',\n",
       " 'decían',\n",
       " 'que',\n",
       " 'su',\n",
       " 'padre',\n",
       " 'era',\n",
       " 'un',\n",
       " 'médico',\n",
       " 'del',\n",
       " 'saladero,',\n",
       " 'un',\n",
       " 'inglés',\n",
       " 'O’Connor,',\n",
       " 'y',\n",
       " 'otros',\n",
       " 'un',\n",
       " 'domador',\n",
       " 'o',\n",
       " 'rastreador',\n",
       " 'del',\n",
       " 'departamento',\n",
       " 'del',\n",
       " 'Salto.',\n",
       " 'Vivía',\n",
       " 'con',\n",
       " 'su',\n",
       " 'madre,',\n",
       " 'a',\n",
       " 'la',\n",
       " 'vuelta',\n",
       " 'de',\n",
       " 'la',\n",
       " 'quinta',\n",
       " 'de',\n",
       " 'los',\n",
       " 'Laureles.\\n\\nLos',\n",
       " 'años',\n",
       " 'ochenta',\n",
       " 'y',\n",
       " 'cinco',\n",
       " 'y',\n",
       " 'ochenta',\n",
       " 'y',\n",
       " 'seis',\n",
       " 'veraneamos',\n",
       " 'en',\n",
       " 'la',\n",
       " 'ciudad',\n",
       " 'de',\n",
       " 'Montevideo.',\n",
       " 'El',\n",
       " 'ochenta',\n",
       " 'y',\n",
       " 'siete',\n",
       " 'volví',\n",
       " 'a',\n",
       " 'Fray',\n",
       " 'Bentos.',\n",
       " 'Pregunté,',\n",
       " 'como',\n",
       " 'es',\n",
       " 'natural,',\n",
       " 'por',\n",
       " 'todos',\n",
       " 'los',\n",
       " 'conocidos',\n",
       " 'y,',\n",
       " 'finalmente,',\n",
       " 'por',\n",
       " 'el',\n",
       " '“cronométrico',\n",
       " 'Funes”.',\n",
       " 'Me',\n",
       " 'contestaron',\n",
       " 'que',\n",
       " 'lo',\n",
       " 'había',\n",
       " 'volteado',\n",
       " 'un',\n",
       " 'redomón',\n",
       " 'en',\n",
       " 'la',\n",
       " 'estancia',\n",
       " 'de',\n",
       " 'San',\n",
       " 'Francisco,',\n",
       " 'y',\n",
       " 'que',\n",
       " 'había',\n",
       " 'quedado',\n",
       " 'tullido,',\n",
       " 'sin',\n",
       " 'esperanza.',\n",
       " 'Recuerdo',\n",
       " 'la',\n",
       " 'impresión',\n",
       " 'de',\n",
       " 'incómoda',\n",
       " 'magia',\n",
       " 'que',\n",
       " 'la',\n",
       " 'noticia',\n",
       " 'me',\n",
       " 'produjo:',\n",
       " 'la',\n",
       " 'única',\n",
       " 'vez',\n",
       " 'que',\n",
       " 'yo',\n",
       " 'lo',\n",
       " 'vi,',\n",
       " 'veníamos',\n",
       " 'a',\n",
       " 'caballo',\n",
       " 'de',\n",
       " 'San',\n",
       " 'Francisco',\n",
       " 'y',\n",
       " 'él',\n",
       " 'andaba',\n",
       " 'en',\n",
       " 'un',\n",
       " 'lugar',\n",
       " 'alto;',\n",
       " 'el',\n",
       " 'hecho,',\n",
       " 'en',\n",
       " 'boca',\n",
       " 'de',\n",
       " 'mi',\n",
       " 'primo',\n",
       " 'Bernardo,',\n",
       " 'tenía',\n",
       " 'mucho',\n",
       " 'de',\n",
       " 'sueño',\n",
       " 'elaborado',\n",
       " 'con',\n",
       " 'elementos',\n",
       " 'anteriores.',\n",
       " 'Me',\n",
       " 'dijeron',\n",
       " 'que',\n",
       " 'no',\n",
       " 'se',\n",
       " 'movía',\n",
       " 'del',\n",
       " 'catre,',\n",
       " 'puestos',\n",
       " 'los',\n",
       " 'ojos',\n",
       " 'en',\n",
       " 'la',\n",
       " 'higuera',\n",
       " 'del',\n",
       " 'fondo',\n",
       " 'o',\n",
       " 'en',\n",
       " 'una',\n",
       " 'telaraña.',\n",
       " 'En',\n",
       " 'los',\n",
       " 'atardeceres,',\n",
       " 'permitía',\n",
       " 'que',\n",
       " 'lo',\n",
       " 'sacaran',\n",
       " 'a',\n",
       " 'la',\n",
       " 'ventana.',\n",
       " 'Llevaba',\n",
       " 'la',\n",
       " 'soberbia',\n",
       " 'hasta',\n",
       " 'el',\n",
       " 'punto',\n",
       " 'de',\n",
       " 'simular',\n",
       " 'que',\n",
       " 'era',\n",
       " 'benéfico',\n",
       " 'el',\n",
       " 'golpe',\n",
       " 'que',\n",
       " 'lo',\n",
       " 'había',\n",
       " 'fulminado…',\n",
       " 'Dos',\n",
       " 'veces',\n",
       " 'lo',\n",
       " 'vi',\n",
       " 'atrás',\n",
       " 'de',\n",
       " 'la',\n",
       " 'reja,',\n",
       " 'que',\n",
       " 'burdamente',\n",
       " 'recalcaba',\n",
       " 'su',\n",
       " 'condición',\n",
       " 'de',\n",
       " 'eterno',\n",
       " 'prisionero:',\n",
       " 'una,',\n",
       " 'inmóvil,',\n",
       " 'con',\n",
       " 'los',\n",
       " 'ojos',\n",
       " 'cerrados;',\n",
       " 'otra,',\n",
       " 'inmóvil',\n",
       " 'también,',\n",
       " 'absorto',\n",
       " 'en',\n",
       " 'la',\n",
       " 'contemplación',\n",
       " 'de',\n",
       " 'un',\n",
       " 'oloroso',\n",
       " 'gajo',\n",
       " 'de',\n",
       " 'santonina.\\n\\nNo',\n",
       " 'sin',\n",
       " 'alguna',\n",
       " 'vanagloria',\n",
       " 'yo',\n",
       " 'había',\n",
       " 'iniciado',\n",
       " 'en',\n",
       " 'aquel',\n",
       " 'tiempo',\n",
       " 'el',\n",
       " 'estudio',\n",
       " 'metódico',\n",
       " 'del',\n",
       " 'latín.',\n",
       " 'Mi',\n",
       " 'valija',\n",
       " 'incluía',\n",
       " 'el',\n",
       " 'De',\n",
       " 'viris',\n",
       " 'illustribus',\n",
       " 'de',\n",
       " 'Lhomond,',\n",
       " 'el',\n",
       " 'Thesaurus',\n",
       " 'de',\n",
       " 'Quicherat,',\n",
       " 'los',\n",
       " 'comentarios',\n",
       " 'de',\n",
       " 'Julio',\n",
       " 'César',\n",
       " 'y',\n",
       " 'un',\n",
       " 'volumen',\n",
       " 'impar',\n",
       " 'de',\n",
       " 'la',\n",
       " 'Naturalis',\n",
       " 'historia',\n",
       " 'de',\n",
       " 'Plinio,',\n",
       " 'que',\n",
       " 'excedía',\n",
       " '(y',\n",
       " 'sigue',\n",
       " 'excediendo)',\n",
       " 'mis',\n",
       " 'módicas',\n",
       " 'virtudes',\n",
       " 'de',\n",
       " 'latinista.',\n",
       " 'Todo',\n",
       " 'se',\n",
       " 'propala',\n",
       " 'en',\n",
       " 'un',\n",
       " 'pueblo',\n",
       " 'chico;',\n",
       " 'Ireneo,',\n",
       " 'en',\n",
       " 'su',\n",
       " 'rancho',\n",
       " 'de',\n",
       " 'las',\n",
       " 'orillas,',\n",
       " 'no',\n",
       " 'tardó',\n",
       " 'en',\n",
       " 'enterarse',\n",
       " 'del',\n",
       " 'arribo',\n",
       " 'de',\n",
       " 'esos',\n",
       " 'libros',\n",
       " 'anómalos.',\n",
       " 'Me',\n",
       " 'dirigió',\n",
       " 'una',\n",
       " 'carta',\n",
       " 'florida',\n",
       " 'y',\n",
       " 'ceremoniosa,',\n",
       " 'en',\n",
       " 'la',\n",
       " 'que',\n",
       " 'recordaba',\n",
       " 'nuestro',\n",
       " 'encuentro,',\n",
       " 'desdichadamente',\n",
       " 'fugaz,',\n",
       " '“del',\n",
       " 'día',\n",
       " 'siete',\n",
       " 'de',\n",
       " 'febrero',\n",
       " 'del',\n",
       " 'año',\n",
       " 'ochenta',\n",
       " 'y',\n",
       " 'cuatro”,',\n",
       " 'ponderaba',\n",
       " 'los',\n",
       " 'gloriosos',\n",
       " 'servicios',\n",
       " 'que',\n",
       " 'don',\n",
       " 'Gregorio',\n",
       " 'Haedo,',\n",
       " 'mi',\n",
       " 'tío,',\n",
       " 'finado',\n",
       " 'ese',\n",
       " 'mismo',\n",
       " 'año,',\n",
       " '“había',\n",
       " 'prestado',\n",
       " 'a',\n",
       " 'las',\n",
       " 'dos',\n",
       " 'patrias',\n",
       " 'en',\n",
       " 'la',\n",
       " 'valerosa',\n",
       " 'jornada',\n",
       " 'de',\n",
       " 'Ituzaingó”,',\n",
       " 'y',\n",
       " 'me',\n",
       " 'solicitaba',\n",
       " 'el',\n",
       " 'préstamo',\n",
       " 'de',\n",
       " 'cualquiera',\n",
       " 'de',\n",
       " 'los',\n",
       " 'volúmenes,',\n",
       " 'acompañado',\n",
       " 'de',\n",
       " 'un',\n",
       " 'diccionario',\n",
       " '“para',\n",
       " 'la',\n",
       " 'buena',\n",
       " 'inteligencia',\n",
       " 'del',\n",
       " 'texto',\n",
       " 'original,',\n",
       " 'porque',\n",
       " 'todavía',\n",
       " 'ignoro',\n",
       " 'el',\n",
       " 'latín”.',\n",
       " 'Prometía',\n",
       " 'devolverlos',\n",
       " 'en',\n",
       " 'buen',\n",
       " 'estado,',\n",
       " 'casi',\n",
       " 'inmediatamente.',\n",
       " 'La',\n",
       " 'letra',\n",
       " 'era',\n",
       " 'perfecta,',\n",
       " 'muy',\n",
       " 'perfilada;',\n",
       " 'la',\n",
       " 'ortografía,',\n",
       " 'del',\n",
       " 'tipo',\n",
       " 'que',\n",
       " 'Andrés',\n",
       " 'Bello',\n",
       " 'preconizó:',\n",
       " 'i',\n",
       " 'por',\n",
       " 'y,',\n",
       " 'j',\n",
       " 'por',\n",
       " 'g.',\n",
       " 'Al',\n",
       " 'principio,',\n",
       " 'temí',\n",
       " 'naturalmente',\n",
       " 'una',\n",
       " 'broma.',\n",
       " 'Mis',\n",
       " 'primos',\n",
       " 'me',\n",
       " 'aseguraron',\n",
       " 'que',\n",
       " 'no,',\n",
       " 'que',\n",
       " 'eran',\n",
       " 'cosas',\n",
       " 'de',\n",
       " 'Ireneo.',\n",
       " 'No',\n",
       " 'supe',\n",
       " 'si',\n",
       " 'atribuir',\n",
       " 'a',\n",
       " 'descaro,',\n",
       " 'a',\n",
       " 'ignorancia',\n",
       " 'o',\n",
       " 'a',\n",
       " 'estupidez',\n",
       " 'la',\n",
       " 'idea',\n",
       " 'de',\n",
       " 'que',\n",
       " 'el',\n",
       " 'arduo',\n",
       " 'latín',\n",
       " 'no',\n",
       " 'requería',\n",
       " 'más',\n",
       " 'instrumento',\n",
       " 'que',\n",
       " 'un',\n",
       " 'diccionario;',\n",
       " 'para',\n",
       " 'desengañarlo',\n",
       " 'con',\n",
       " 'plenitud',\n",
       " 'le',\n",
       " 'mandé',\n",
       " ...]"
      ]
     },
     "execution_count": 42,
     "metadata": {},
     "output_type": "execute_result"
    }
   ],
   "source": [
    "lista_palabras"
   ]
  },
  {
   "cell_type": "markdown",
   "metadata": {},
   "source": [
    "### Manejo básico de strings (y variables) &#x1F638;"
   ]
  },
  {
   "cell_type": "code",
   "execution_count": 104,
   "metadata": {},
   "outputs": [],
   "source": [
    "### típica estructura de variable\n",
    "\n",
    "## algo_a_la_izquierda = algo_a_la_derecha\n",
    "## lineamientos de estilo de las variables\n",
    "#### nombres simples - breves\n",
    "#### nombres que no estén en color verde o azul\n",
    "#### nombres indiquen (un poco) el tipo de variable\n",
    "#### nombres simples: sin acentos, sin ñ, uso razonable de números\n",
    "#### nombres en minúscula\n",
    "#### nombres de variables tipo número pueden ser letras: n, m, ..."
   ]
  },
  {
   "cell_type": "code",
   "execution_count": 59,
   "metadata": {},
   "outputs": [],
   "source": [
    "## asignamos dos strings a variables distintas\n",
    "\n",
    "string_lima = 'Lima'\n",
    "string_santiago = 'Santiago'"
   ]
  },
  {
   "cell_type": "code",
   "execution_count": 60,
   "metadata": {},
   "outputs": [
    {
     "data": {
      "text/plain": [
       "'Lima'"
      ]
     },
     "execution_count": 60,
     "metadata": {},
     "output_type": "execute_result"
    }
   ],
   "source": [
    "string_lima"
   ]
  },
  {
   "cell_type": "code",
   "execution_count": 61,
   "metadata": {},
   "outputs": [
    {
     "data": {
      "text/plain": [
       "'Santiago'"
      ]
     },
     "execution_count": 61,
     "metadata": {},
     "output_type": "execute_result"
    }
   ],
   "source": [
    "string_santiago"
   ]
  },
  {
   "cell_type": "code",
   "execution_count": 62,
   "metadata": {},
   "outputs": [],
   "source": [
    "## podemos crear una tercera variable, que sea la \"suma\" o concatenación de ambos strings\n",
    "\n",
    "string_concat = string_lima + string_santiago"
   ]
  },
  {
   "cell_type": "code",
   "execution_count": 63,
   "metadata": {},
   "outputs": [
    {
     "data": {
      "text/plain": [
       "'LimaSantiago'"
      ]
     },
     "execution_count": 63,
     "metadata": {},
     "output_type": "execute_result"
    }
   ],
   "source": [
    "string_concat"
   ]
  },
  {
   "cell_type": "code",
   "execution_count": 79,
   "metadata": {},
   "outputs": [],
   "source": [
    "string = \"\""
   ]
  },
  {
   "cell_type": "code",
   "execution_count": 80,
   "metadata": {},
   "outputs": [
    {
     "data": {
      "text/plain": [
       "0"
      ]
     },
     "execution_count": 80,
     "metadata": {},
     "output_type": "execute_result"
    }
   ],
   "source": [
    "len(string)"
   ]
  },
  {
   "cell_type": "markdown",
   "metadata": {},
   "source": [
    "¿Qué es \"string_concat\"? ¿Qué forma tiene? "
   ]
  },
  {
   "cell_type": "code",
   "execution_count": 81,
   "metadata": {},
   "outputs": [
    {
     "data": {
      "text/plain": [
       "'Lima'"
      ]
     },
     "execution_count": 81,
     "metadata": {},
     "output_type": "execute_result"
    }
   ],
   "source": [
    "string_lima"
   ]
  },
  {
   "cell_type": "code",
   "execution_count": 82,
   "metadata": {},
   "outputs": [],
   "source": [
    "## los strings son cadenas de caracteres que podemos contar!\n",
    "\n",
    "n = len(string_lima)"
   ]
  },
  {
   "cell_type": "code",
   "execution_count": 83,
   "metadata": {},
   "outputs": [
    {
     "data": {
      "text/plain": [
       "4"
      ]
     },
     "execution_count": 83,
     "metadata": {},
     "output_type": "execute_result"
    }
   ],
   "source": [
    "n"
   ]
  },
  {
   "cell_type": "markdown",
   "metadata": {},
   "source": [
    "**n** es una variable tipo número que almacena la cantidad de caracteres de la variable **string_lima** &#x1F640;"
   ]
  },
  {
   "cell_type": "code",
   "execution_count": 85,
   "metadata": {},
   "outputs": [],
   "source": [
    "## definamos lo mismo para string_santiago\n",
    "\n",
    "m = len(string_santiago)"
   ]
  },
  {
   "cell_type": "code",
   "execution_count": 86,
   "metadata": {},
   "outputs": [
    {
     "data": {
      "text/plain": [
       "8"
      ]
     },
     "execution_count": 86,
     "metadata": {},
     "output_type": "execute_result"
    }
   ],
   "source": [
    "m"
   ]
  },
  {
   "cell_type": "code",
   "execution_count": 87,
   "metadata": {},
   "outputs": [],
   "source": [
    "suma = n + m"
   ]
  },
  {
   "cell_type": "code",
   "execution_count": 88,
   "metadata": {},
   "outputs": [
    {
     "data": {
      "text/plain": [
       "12"
      ]
     },
     "execution_count": 88,
     "metadata": {},
     "output_type": "execute_result"
    }
   ],
   "source": [
    "suma"
   ]
  },
  {
   "cell_type": "code",
   "execution_count": 89,
   "metadata": {},
   "outputs": [
    {
     "data": {
      "text/plain": [
       "'Lima'"
      ]
     },
     "execution_count": 89,
     "metadata": {},
     "output_type": "execute_result"
    }
   ],
   "source": [
    "## tenemos 3 strings\n",
    "\n",
    "string_lima"
   ]
  },
  {
   "cell_type": "code",
   "execution_count": 90,
   "metadata": {},
   "outputs": [
    {
     "data": {
      "text/plain": [
       "'Santiago'"
      ]
     },
     "execution_count": 90,
     "metadata": {},
     "output_type": "execute_result"
    }
   ],
   "source": [
    "string_santiago"
   ]
  },
  {
   "cell_type": "code",
   "execution_count": 91,
   "metadata": {},
   "outputs": [
    {
     "data": {
      "text/plain": [
       "'LimaSantiago'"
      ]
     },
     "execution_count": 91,
     "metadata": {},
     "output_type": "execute_result"
    }
   ],
   "source": [
    "string_concat"
   ]
  },
  {
   "cell_type": "code",
   "execution_count": 94,
   "metadata": {},
   "outputs": [],
   "source": [
    "n = len(string_lima)\n",
    "m = len(string_santiago)\n",
    "r = len(string_concat)"
   ]
  },
  {
   "cell_type": "code",
   "execution_count": 95,
   "metadata": {},
   "outputs": [],
   "source": [
    "suma = n + m"
   ]
  },
  {
   "cell_type": "code",
   "execution_count": 96,
   "metadata": {},
   "outputs": [
    {
     "data": {
      "text/plain": [
       "12"
      ]
     },
     "execution_count": 96,
     "metadata": {},
     "output_type": "execute_result"
    }
   ],
   "source": [
    "suma"
   ]
  },
  {
   "cell_type": "code",
   "execution_count": 97,
   "metadata": {},
   "outputs": [
    {
     "data": {
      "text/plain": [
       "12"
      ]
     },
     "execution_count": 97,
     "metadata": {},
     "output_type": "execute_result"
    }
   ],
   "source": [
    "r"
   ]
  },
  {
   "cell_type": "markdown",
   "metadata": {},
   "source": [
    "Defina una nueva variable tipo número que sea la suma de **n** y **m** &#x1F916;"
   ]
  },
  {
   "cell_type": "code",
   "execution_count": 98,
   "metadata": {},
   "outputs": [],
   "source": [
    "## los caracteres en mayúscula\n",
    "\n",
    "string_mayuscula = string_lima.upper()"
   ]
  },
  {
   "cell_type": "code",
   "execution_count": 99,
   "metadata": {},
   "outputs": [
    {
     "data": {
      "text/plain": [
       "'LIMA'"
      ]
     },
     "execution_count": 99,
     "metadata": {},
     "output_type": "execute_result"
    }
   ],
   "source": [
    "string_mayuscula"
   ]
  },
  {
   "cell_type": "code",
   "execution_count": 100,
   "metadata": {},
   "outputs": [],
   "source": [
    "## todos los caracteres en minúscula\n",
    "\n",
    "string_minuscula = string_mayuscula.lower()"
   ]
  },
  {
   "cell_type": "code",
   "execution_count": 101,
   "metadata": {},
   "outputs": [
    {
     "data": {
      "text/plain": [
       "'lima'"
      ]
     },
     "execution_count": 101,
     "metadata": {},
     "output_type": "execute_result"
    }
   ],
   "source": [
    "string_minuscula"
   ]
  },
  {
   "cell_type": "code",
   "execution_count": 105,
   "metadata": {},
   "outputs": [
    {
     "data": {
      "text/plain": [
       "'Santiago'"
      ]
     },
     "execution_count": 105,
     "metadata": {},
     "output_type": "execute_result"
    }
   ],
   "source": [
    "string_santiago"
   ]
  },
  {
   "cell_type": "code",
   "execution_count": 116,
   "metadata": {},
   "outputs": [],
   "source": [
    "## ¿Cuántas veces aparece un caracter?\n",
    "\n",
    "## usamos count\n",
    "\n",
    "numero_veces = string_santiago.count('santiago')"
   ]
  },
  {
   "cell_type": "code",
   "execution_count": 117,
   "metadata": {},
   "outputs": [
    {
     "data": {
      "text/plain": [
       "0"
      ]
     },
     "execution_count": 117,
     "metadata": {},
     "output_type": "execute_result"
    }
   ],
   "source": [
    "numero_veces"
   ]
  },
  {
   "cell_type": "code",
   "execution_count": 118,
   "metadata": {},
   "outputs": [],
   "source": [
    "#'santiago' es distinto del string 'Santiago'!!!!!!!!!!!"
   ]
  },
  {
   "cell_type": "code",
   "execution_count": 123,
   "metadata": {},
   "outputs": [],
   "source": [
    "## cambiemos partes de un string\n",
    "## usamos replace: el viejo por el nuevo\n",
    "\n",
    "string_nueva_version = string_santiago.replace('Santiago', 'Lima')"
   ]
  },
  {
   "cell_type": "code",
   "execution_count": 124,
   "metadata": {},
   "outputs": [
    {
     "data": {
      "text/plain": [
       "'Lima'"
      ]
     },
     "execution_count": 124,
     "metadata": {},
     "output_type": "execute_result"
    }
   ],
   "source": [
    "string_nueva_version"
   ]
  },
  {
   "cell_type": "markdown",
   "metadata": {},
   "source": [
    "**Desafíos** &#x1F638;"
   ]
  },
  {
   "cell_type": "markdown",
   "metadata": {},
   "source": [
    "Encuentre el número de veces que aparece cada caracter de **string_santiago.** Sume todas las veces que aparece cada caracter **distinto** de string_numero (o sea, **'S', 'a', 'n', 't', 'i', 'g' y 'o'**) A qué equivale esta suma?"
   ]
  },
  {
   "cell_type": "code",
   "execution_count": 139,
   "metadata": {},
   "outputs": [
    {
     "data": {
      "text/plain": [
       "'Santiago'"
      ]
     },
     "execution_count": 139,
     "metadata": {},
     "output_type": "execute_result"
    }
   ],
   "source": [
    "string_santiago"
   ]
  },
  {
   "cell_type": "code",
   "execution_count": 137,
   "metadata": {},
   "outputs": [],
   "source": [
    "m = len(string_santiago)"
   ]
  },
  {
   "cell_type": "code",
   "execution_count": 138,
   "metadata": {},
   "outputs": [
    {
     "data": {
      "text/plain": [
       "8"
      ]
     },
     "execution_count": 138,
     "metadata": {},
     "output_type": "execute_result"
    }
   ],
   "source": [
    "m"
   ]
  },
  {
   "cell_type": "code",
   "execution_count": null,
   "metadata": {},
   "outputs": [],
   "source": [
    "### :)\n",
    "\n"
   ]
  },
  {
   "cell_type": "markdown",
   "metadata": {},
   "source": [
    "Explique con sus propias palabras qué significan las siguientes líneas de código. Agregue comentarios que expliquen cada línea ¿Qué es el signo \"=\"? ¿Qué valor tienen las variables en cada línea?"
   ]
  },
  {
   "cell_type": "code",
   "execution_count": 33,
   "metadata": {},
   "outputs": [],
   "source": [
    "numero = 10\n",
    "\n",
    "numero = numero + 2\n",
    "\n",
    "numero = numero - 7"
   ]
  },
  {
   "cell_type": "code",
   "execution_count": 34,
   "metadata": {},
   "outputs": [],
   "source": [
    "string = 'hola'\n",
    "\n",
    "string = string + '-chao'\n",
    "\n",
    "string = string + ' '"
   ]
  },
  {
   "cell_type": "code",
   "execution_count": 142,
   "metadata": {},
   "outputs": [],
   "source": [
    "## leamos un archivo (al parece con problemas)\n",
    "\n",
    "archivo = open('Ribeyro.txt', 'r', encoding='latin-1')\n",
    "\n",
    "## ¿qué forma tiene? ¿es \"archivo\" una variable?"
   ]
  },
  {
   "cell_type": "code",
   "execution_count": 143,
   "metadata": {},
   "outputs": [
    {
     "data": {
      "text/plain": [
       "'Julio Ramón Ribeyro \\n(Lima, Perú, 31 de agosto de 1929 - Lima, 4 de diciembre de 1994) \\n \\n \\nTERRA INCOGNITA \\nSilvio en El Rosedal \\n(no se publicó como un libro individual, pero fue publicado en 1977 \\ncomo parte del tercer tomo de La palabra del mudo) \\nLa palabra del mudo. Cuentos 1952-1977, tomo III. \\n(Lima: Milla Batres Editorial, 1977, 220 págs.) \\n\\n      EL DOCTOR ALVARO Peñaflor interrumpió la lectura del libro de Platón \\nque tenía entre las manos y quedó contemplando por los ventanales de su \\nbiblioteca las luces de la ciudad de Lima que se extendían desde La Punta \\nhasta el Morro Solar. Era un anochecer invernal inhabitualmente \\ndespejado. Podía distinguir avisos luminosos parpadeando en altos \\nedificios y detrás la línea oscura del mar y el perfil de la Isla de San \\nLorenzo. \\n       Cuando quiso reanudar su lectura notó que estaba distraído, que desde \\nesa galaxia extendida a sus pies una voz lo llamaba. Habituado a los \\nanálisis finos escrutó nuevamente por la ventana y se escrutó a sí mismo y \\nterminó por descubrir que la voz no estaba fuera sino dentro de él. Y esa \\nvoz le decía: sal, conoce tu ciudad, vive. \\n       Ya días antes esa voz había intentado hacerse presente, pero la había \\nsofocado. Su mujer y sus dos hijas habían partido hacia México y Estados \\nUnidos en una tour económica, hacía dos semanas, y desde entonces, por \\nprimera vez desde que se casó, se había quedado completamente solo. Solo \\nen esa casa que después de veinte años de ahorros había construido en una \\ncolina de Monterrico y en la cual creía haber encontrado el refugio ideal \\npara un hombre desapegado de toda ambición temporal, dedicado solo a \\nlos placeres de la inteligencia. \\n       Pero la soledad tenía muchos rostros. El había conocido únicamente la \\nsoledad literaria, aquella de la que hablaban los poetas y filósofos, sobre la \\ncual había dictado cursillos en la universidad y escrito incluso un lindo \\nartículo que mereció la congratulación de su colega, el doctor Carcopino. \\n       Pero la soledad real era otra cosa. Ahora la vivía y se daba cuenta cómo \\ncrecía el espacio y se dilataba el tiempo cuando uno se hallaba abandonado \\na su propio transcurrir en un lugar que, aunque no fuese grande, se volvía \\ninsondable porque ninguna voz respondía a la suya ni ningún ser \\nrefractaba su existencia. La vieja criada Edelmira estaba, es verdad, pero \\nperdida en las habitaciones interiores, ocupada en misteriosos trajines de \\nlos cuales no le llegaban sino los signos, un piso encerado, unas camisas \\nlavadas, un golpe en la puerta anunciando que la cena estaba servida. \\n       El golpe llego también esta vez, pero el doctor no respondió. Detrás de \\nla puerta Edelmira dejó escuchar una exclamación perpleja, pero cuando el \\ndoctor dijo que no se preocupara, que tenía una invitación a comer, se \\nescucharon unos pasos enojados que se alejaban hasta esfumarse en el \\nsilencio. Solo entonces el doctor comprendió que sus palabras se habían \\nanticipado a su decisión y, puesto que ya lo había dicho, no le quedó más \\nremedio que ponerse el saco, buscar las llaves de su automóvil y bajar las \\nescaleras. \\n       Cuando estuvo frente al volante quedó absolutamente absorto. El tenía \\nun conocimiento libresco pero perfecto de las viejas ciudades helenas, de \\ntodos los laberintos de la mitología, de las fortalezas donde perecieron \\ntantos héroes y fueron heridos tantos dioses, pero de su ciudad natal no \\nsabía casi nada, aparte de los caminos que siempre había seguido para ir a \\nla universidad, a la biblioteca nacional, a la casa del doctor Carcopino, \\ndonde su madre. Por eso, al poner el carro en marcha, se dio cuenta que \\nsus manos temblaban, que este viaje era realmente una exploración de lo \\ndesconocido, la terra incognita. \\n \\n       Vagó y divagó por urbanizaciones recientes, florecientes, cuyo lenguaje \\ntrató en vano de descifrar y que no le dijo nada. Al fin una pista lo arrancó \\nde ese archipiélago de un confort monótono y más bien tenebroso y lo \\ncondujo hacia Miraflores, adonde iba muy rara vez, pero del cual \\nconservaba algunos recuerdos juveniles: el parque, un restorán con \\nterraza, un vino pasable, muchachas que entonces le parecieron de una \\nbelleza inmortal. \\n       No le fue difícil ubicar el local, pero notó que había sufrido una \\ndegradación: la terraza había sido suprimida. Se instaló entonces en el \\ninterior ruidoso, donde grupos familiares comían pizzas y spagettis. Pidió \\nuna ternera a la milanesa y se decidió a beber un vino chileno. Pero le \\nbastó un somero examen de su contorno para darse cuenta que de allí no \\ncabría esperar nada. Las bellas dehesas de su adolescencia habían \\ndesaparecido, frecuentaban seguramente otros lugares o eran ahora esas \\nmatronas saciadas que tronaban en una mesa blandiendo como signo de \\nrealeza un tenedor. \\n       A pesar de ello terminó su vino y al hacerlo el local se volvió más \\nrisueño. Distinguió incluso una mujer que estaba sola, bella por \\nañadidura, y que observaba indecisa un helado piramidal, con crema, \\ncerezas y chocolate, al que al parecer no sabía por dónde atacar. \\nEliminando a todo el resto sólo concentró su atención en ella. Tenía un \\nensortijado cabello de Medusa y perfil que calificó de Alejandrino. Se \\nentretuvo en inventarle varios destinos -sicóloga, poetisa, actriz de teatro- \\nhasta que sus miradas se cruzaron. Ello ocurrió varias veces y el doctor \\ncomenzó a encontrar la noche diabólicamente seductora. Pidió media \\nbotella de vino, encendió un cigarrillo, examinó durante un momento la \\ndecoración del lugar y cuando volvió la mirada donde la solitaria notó con \\nsorpresa que había devorado su helado en un santiamén y que llamando al \\nmozo pagaba la cuenta y se retiraba. A partir de ese momento el local se \\nensombreció. El doctor penó para encontrar sabroso su vino, se escrutó \\ncon ansiedad llamando a la voz que antes lo llamaba, sin escuchar nada ni \\ndentro ni fuera de sí. Esa salida había sido un fiasco total. No quedaba otra \\ncosa que retornar a la lectura de Platón. \\n       Pero cuando estuvo en la calle el aire freso lo reanimó, escuchó el ruido \\ndel mar y en lugar en enrumbar a su casa recorrió en su automóvil la \\navenida principal, observando sus calzadas, por donde derivaban \\nretardados paseantes, cafés nuevos que iban cerrando, árboles que se \\nmecían en la noche límpida, hasta que llegó al parquecito Salazar. Para \\nasombro suyo grupos de muchachas y muchachos circulaban aún por sus \\nveredas o platicaban en torno a una banca. No eran muchos, pero estaban \\nallí y era reconfortante verlos, pues simbolizaban algo, eran como los \\nmilicianos de la noche resistiéndose a abandonar una ciudad que iba \\nsiendo anegada por el sueño. \\n       Estacionando su automóvil quedó observándolos. Los grupos que \\ncirculaban en sentido contrario se detenían al cruzarse, quedaban un \\nmomento conversando y recomenzaban su marcha, intercambiando \\nalgunos de sus componentes. Los que estaban en torno a la banca cedían \\nalgunos de los suyos a los ambulantes y recibían otros en canje. Era un ir y \\nvenir aparentemente caótico, pero que obedecía a reglas inmemoriales, \\nque se cumplían rigurosamente. Así, en pequeños espacios como ese, \\ndonde la gente se encontraba, se conocía, dialogaba, se afrontaba, debían \\nhaber surgido las premisas de la ciudad ateniense. \\n       Y una figura entre todas lo intrigó. Era una muchacha en pantalones, \\nde pelo muy largo, que parecía encarnar en un debate una posición \\nextrema, pues era acosada por todos y se defendía haciendo graciosas \\nfintas con el cuerpo o repartiendo gestos que mantenían a sus adversarios \\na distancia. Pero de pronto algo ocurrió, pues los que estaban junto a la \\nbanca quedaron callados y los que paseaban los imitaron y todos estaban \\ninmóviles y miraban hacia él, el único auto detenido a esas horas en el \\nlugar. De lejos daban la impresión de que parlamentaban en voz baja y un \\nemisario partió en reconocimiento, la muchacha del pelo largo. Conforme \\nse iba acercando el doctor registraba sus rasgos, sus formas y cuando \\nestuvo cerca del auto comprobó que se trataba de un muchacho. El \\nadolescente pasó cerca de la portezuela mirándolo con descaro y regresó \\ndonde sus amigos corriendo. Algo les dijo porque estos rieron. Algunos lo \\nseñalaron con el dedo, otro hizo un ademán equívoco con el brazo. \\nEscuchó claramente la palabra viejo y otras que entendió a medias pero \\nque lo dejaron confuso. El ágora antigua estallaba, se ensuciaba. \\nEncendiendo el contacto puso el carro en marcha y se alejó avergonzado. \\n \\n       Conducía distraído, extraviado, por calles arboladas y lóbregas, donde \\nya no se veía a nadie y sin ver tampoco a nadie, pues en espíritu estaba en \\nsu biblioteca, siete mil volúmenes lo rodeaban, del brazo de Jenofonte o de \\nTucídides recorría reinados, guerras, coronaciones y desastres. Y odiaba \\nhaber cedido a esa tentación banal, esa excursión por los extramuros de \\nlos serenidad, olvidando que hacía años había elegido una forma de vivir, \\nla lectura de viejos manuales, la traducción paciente de textos homéricos y \\nel propósito ilusorio pero tenaz de proponer una imagen antigua, \\nprobablemente escéptica, pero armoniosa y soportable de la vida terrenal. \\n       El claxon de una camioneta que estuvo a punto de embestirlo lo sacó \\nde sus meditaciones. Acababa de atravesar un puente sobre la Vía Expresa, \\nel vino astringente le había dejado la garganta seca, ese barrio aún \\nanimado debía ser Surquillo, distinguió la enseña luminosa del bar El \\ntriunfo, decían que era un antro de trancas y de grescas, no podía ser el \\nruido del mar lo que llegaba a sus oídos sino el canto de las sirenas, sus \\nlibros estaban tan lejos y la sed lo abrasaba, su auto estaba ya detenido \\nfrente al establecimiento y con paso resuelto caminaba hacia la puerta \\nbatiente. \\n       En lugar de sirenas, hombres hirsutos y ceñudos bebían cerveza en los \\napartados pegados al muro o en las mesitas del espacio central. Ocupando \\nuna de éstas pidió también una cerveza y se deleitó con el primer sorbo de \\nuna amarga frescura y lo repitió llenándose la boca de espuma. Las noches \\npodían ser eternas si uno sabía usar de ellas. Se entretuvo mirando las \\nrepisas cimbradas por el peso de la botellería, pero cuando quiso \\nrealmente implantar un sentido, un orden a lo que lo rodeaba se dio \\ncuenta que nada comprendía, que no había entrado a ningún lugar ni nada \\nhabía entrado en él. Era el sediento perdido en el desierto, el náufrago \\naterrado buscando entre las brumas la costa de la isla de Circe. Figuras \\ncetrinas en saco blanco patinaban sobre las baldosas con platos en la \\nmano, una sirena gorda surgió en un apartado acosada por una legión de \\nperfiles caprenses, por algún sitio alguien secaba vasos con un trapo sucio, \\nalgo así como un chino hacía anotaciones en una libreta, alguien rió a su \\nlado y al mirarlo vio que desde millones de años atrás afluían a su rostro \\nlos rasgos del tiranosaurio, se llevó un vaso más a la boca buscando en la \\nespuma la respuesta y ahora la sirena era la Venus Hotentote lacerada por \\nlos tábanos, sátiros hilares se dirigían con la mano en la bragueta hacia \\nuna puerta oscura y todo estaba lleno de moscas, miasmas y mugidos. Al \\nlevantar la mano tenía delante una grasienta corbata de mariposa. Dejó \\nunos billetes y salió mirando escrupulosamente sus zapatos, avanzaba \\nprimero un pie y después el otro, sobre un dibujo de una incomprensible \\ngeometría, entre colillas de cigarros y cápsulas de botellas. \\n       Anduvo tambaleándose por la acera, su auto debía estar en algún \\nlugar, avanzó una centena de metros, llegó a una esquina, otro bar abría su \\nenorme portón, mesitas de mármol acogían a una población chillona que \\nhacía desaforados gestos con los brazos. No tuvo ánimo de entrar allí y \\nprosiguió su camino, seguía buscando. Pero no era la buena senda, \\ndesapareció el asfalto, los faroles se hicieron raros, perros veloces cruzaron \\nla pista, escuchó correr el agua de una acequia, olía a matorral, un animal \\nalado le rozó el cabello. Estaba en el reino de las sombras. Allí debían \\nreposar los dioses vencidos, los héroes occisos de la Ilíada. \\n       Un estrecho zaguán lo absorbió y se encontró con los codos apoyados \\nen un mostrador de madera. A lo lejos se escuchaba croar a las ranas. \\nDetrás de esos muros de adobe debía estar el descampado. Le había \\nparecido leer a la entrada un letrero pintado a la brocha gorda que rezaba \\nEl Botellón. Por eso pidió el botellón y el botellón ya estaba allí, echando \\nespuma por el pico y no pudo evitar el cogerlo entre sus manos, eso era lo \\nque quería, la regla había sido trasgredida, lo levantó con un gesto de \\nadoración y bebió del gollete como hacían los otros, mientras escuchaba al \\nhombre que hablaba a su lado o recitaba o cantaba, no lo sabía, era un \\nrostro tiznado, gruesos labios emitían un discurso cadencioso, estimado \\ncaballero, un humilde servidor de usted, aprovechando de las \\ncircunstancias, hijo de un cortador de caña, nunca es tarde para aprender, \\ndecirle con toda modestia... \\n       ¿Qué decía? Haciendo un esfuerzo fijó su atención y descubrió al \\ngigante, al invencible guerrero que se reposaba de sus lides y se esparcía \\nnarrando sus hazañas. Su ruda mano estaba apoyada en el mostrador y \\nmostraba los estigmas del combate. Pero viéndolo bien, no era un \\nguerrero, era el héroe civil confesando su culpa antes de ir al suplicio. Pero \\nni siquiera eso, apenas un negro corpulento, medio borracho, que le hacía \\nsalud con su botella y le pedía un cigarrillo. \\n       El doctor se lo ofreció y como premio inmediato recibió una palmada \\nen la espalda. Pero luego un botellón espumante y ya estaba escuchándolo, \\nonce hermanos, al camión le faltaba una llanta, don Belisario era un hijo \\nde puta, con perdón de usted, y toda esta historia tan llena de galardones, \\nrefranes y paréntesis lo fascinaba como la lectura de un texto hermético y a \\nsu vez ofreció un botellón, mientras se animaba a intercalar un comentario \\nque hizo reflexionar a su interlocutor y lo forzó a nuevos comentarios y de \\npronto era él quien hablaba, por algún extraño camino había llegado a la \\npoesía, los ojos del gigante estaban muy abiertos, de sus labios hinchados \\nsalió una copla en respuesta a una cita de Anacreonte, pero todo era muy \\nfrágil, el hilo tendido estaba a punto de romperse, detrás del mostrador \\nalguien gritaba que todo el mundo debía irse, justo cuando el negro reía y \\nle ponía la mano en el hombro, ya son las tres de la mañana, no tenemos \\nlicencia, sonaron golpes en el mostrador y todos estaban de pie, el portón \\nse cerraba, iban saliendo en grupos a la calle oscura, parejas abrazadas \\ntomaban senderos secretos hacia las copas del alba y el negro le \\npreguntaba, ilustre caballero, dónde vamos a tomarnos, querido amigo, el \\núltimo botellón y él respondió en mi casa. \\n \\n       Algo había sucedido. El negro se le recostó bruscamente al dar una \\ncurva, perdió el timón y se estrellaron contra una cerca de barro: una \\nabolladura en el guardafango. Pero eso era ya historia antigua, tan lejana \\ncomo la batalla de las Termópilas. Ya habían entrado a la biblioteca, el \\nnegro estuvo a punto de caer de espaldas cuando vio tantos libros, \\npreguntó si los había leído todos y terminó por hundirse en el sillón de \\ncuero, el mismo en el cual el doctor Carcopino, desde hacía tantísimos \\naños, acostumbraba a repantigarse para comunicarle sus últimas lecturas \\nde historia romana. Pero eso no era lo importante, ni el accidente ni el \\ndesconocido en lugar de Carcopino, era otra cosa, el hilo se había roto o se \\nhabía enredado, el doctor estaba sentado frente al coloso y veía sus ojos \\nenormes que lo miraban y sus gruesas manos inmóviles en las acodaderas \\ndel sillón, sin decir nada ni pedir nada, como si estuviera fuera del tiempo, \\nespiándolo, a la espera. Entonces, claro, recordó, habían venido a tomar \\nun trago y ya se preguntaba de dónde sacaría algo con qué hacer un \\nbrindis, si en esa casa jamás había nada qué beber y por ello se excusó y \\nfue a husmear por el comedor, por la cocina, pero sigilosamente, no fuera \\nque Edelmira se despertara, las viejas tenían sueño ligero y sus manos \\ntemblaban en la oscuridad, palpando tazas, ensaladeras, hasta que se \\nanimó a encender la luz y descubrió un depósito de olvidadas botellas, un \\npisco, un whisky, un oporto y llevó todo a la biblioteca en un azafate con \\nun poco de hielo. Los ojos del negro emitieron un destello y sus labios \\nsonrieron, pero no dijo nada y él tuvo que preguntarle qué quería, un pisco \\nnaturalmente, en otra copa sirvió un whisky y al hacer el primer brindis \\ntodo pareció dar marcha atrás y era como si estuvieran nuevamente en El \\nBotellón, el gigante hablaba de sus once hermanos, del hijo de puta de don \\nBelisario, con el perdón de usted, y el doctor sentía la tentación de asesinar \\na ese patrón tiránico y al mismo tiempo de romper con los dientes la dura \\ncaña dulce y caminar descalzo por las playas del sur. \\n       Al hacer el segundo brindis tomó el relevo y empezó una exposición \\nsobre la agricultura en la época de Pericles, las palabras le fluían como de \\nuna urna de oro, brotaban espontáneamente todas las flores de su \\nerudición, sin hiato pasó del agro a la escultura, regalándose con su propia \\nelocuencia, agobiado casi por el esplendor de una inteligencia que refulgía \\na esa hora ante un interlocutor que no daba otro signo de vida que su boca \\ncada vez más abierta y que por último, como traspiraba, se desabrochó \\nalgunos botones de su camisa dejando ver un tórax convexo de una \\nsoberbia musculatura. Entonces el doctor se dio cuenta que no se había \\nequivocado, que en El Botellón había visto justo, ese hombre era el héroe \\narcaico, la imagen de Aristogitón y se lo dijo, pero como el negro no \\ninterpretó el mensaje y se limitó a servirse otra copa, se puso de pie para \\ninspeccionar los libros de su biblioteca, todo podía olvidar menos donde \\nestaba precisamente ese libro y abriendo sus páginas le mostró la figura de \\nun esplendoroso desnudo con el brazo erguido en un gesto triunfal. \\n       El negro la observó un largo rato, sin dar mayores muestras de interés \\ny terminó por decir calato, la tiene muerta y por echarse a reír, mientras se \\nabría un botón más de la camisa descubriendo un escapulario del Señor de \\nlos Milagros. El doctor ya estaba contando la historia de ese ciudadano \\nateniense que asesinó a un déspota en compañía de un amigo y fue por ello \\ntorturado a muerte, pero se interrumpió al ver el escapulario. Cerró \\nentonces su libro y quedó vacilando, pero ahora era el negro el que decía \\nilustrísimo profesor, la fe venía de herencia, querido doctor, había cargado \\ntres veces el anda, escuche amigo, una cosa es la religión y otra la vida, \\noiga usted, eso no impide olvidarse de las necesidades del cuerpo y ya \\nestaba sirviéndose otra copa, mientras señalaba el libro que el doctor tenía \\ncerrado contra su pecho y repetía lo del hombre calato que la tiene muerta \\ny redoblaba su risa pataleando contra el piso alfombrado. El doctor estuvo \\na punto de imitarlo, pero se contuvo, iba hacia los estantes a guardar su \\nlibro, el abismo que crea la diferencia de cultura, escribir un ensayo sobre \\nla forma de hacer accesible el arte al pueblo, colocó el libro en su lugar, \\nmostrarle otras imágenes, pero cuando volvió la cabeza notó que el negro \\nsostenía su copa vacía en la mano y se había quedado dormido en el sillón, \\ncompletamente descamisado y cubierto de sudor. Entonces dirigió la \\nmirada hacia los ventanales y vio las luces de Lima, que seguían clamando \\nangustiosamente en la noche impávida. \\n       Quitándose el saco se sentó en el sillón y como no sabía que hacer se \\nsirvió un whisky. En su escritorio distinguió un alto de papeles, un curso \\nen preparación sobre Aristófanes, pero los olvidó y volvió su mirada hacia \\nel gigante dormido, un Aristogitón ilusorio que iba recobrando el ropaje \\ndel camionero ebrio. Imaginó un instante que entraba el doctor Carcopino \\ncon un legajo bajo el brazo, pero rechazó indignado esta imagen y otra vez \\nobservó los ventanales, avisos luminosos se apagaban, algo indicaba el \\namanecer inminente. Edelmira era madrugadora y lo primero que hacía al \\nlevantarse era recoger de la biblioteca el cenicero sucio y la taza de café. \\nAcercándose al sillón rozó con la mano la mejilla del coloso pero no logró \\nsino arrancarle un ronquido. Con ambas manos lo abofeteó, cada vez más \\nfuerte, la cabeza se bamboleaba de un lado para otro, no llegaba ninguna \\nrespuesta, apenas la copa cayó de su mano. Yendo al baño regresó con una \\ntoalla mojada, le frotó la frente, la cara, los hombros, pero nada salía de \\nese pesado monolito. Por último lo cogió de las muñecas y trató de \\nlevantarlo, era un combate desigual, lograba un instante atraerlo hacia sí \\npero cedía ante su peso, consiguió separarlo del espaldar y ponerlo casi de \\npie para luego caer encima de él, lo tenía abrazado, olía su sudor, sentía en \\nla cara la piel de su pecho, la barbilla mal afeitada le raspaba la frente, \\nbuscó su garganta y apretó, ojos enormes se abrieron, ojos asustados, \\ncarajo, lo empujaba hacia atrás, qué pasa, estuvo a punto de hacerlo caer, \\npero algo debió recordar pues ahora se excusaba, distinguido caballero, \\ncualquiera se queda dormido, ilustre doctor, y miraba parpadeando su \\npecho desnudo, su camisa en el suelo y luego al doctor, que a su vez pedía \\nperdón, no había sido nada, voy a llamar un taxi y el negro se miraba otra \\nvez el torso, el pantalón y se dejaba caer en el sillón indagando por su \\ncopa, necesito otra, oiga usted, pero no era posible, allí estaba la ducha, un \\nchorro de agua fría le haría bien y al fin Aristogitón estaba de pie, más \\nfornido que nunca, preguntando por qué tenía que irse de allí y si no había \\nuna cama donde tirarse. \\n       Y el ruido del agua llegaba desde la ducha, mientras iba amaneciendo. \\nEl doctor estaba en su sillón, fumando, mirando agobiado los siete mil \\nlibros que lo circundaban. El taxi debía estar en camino. Tal vez en el \\ncuarto de huéspedes, si hubiera pensado antes, abandonar a alguien así. \\nUna voz tronó en el baño y de un salto se puso de pie, Edelmira y su leve \\nsueño, el doctor Carcopino, estaba pidiendo una toalla y se atrevía a reír \\nbromeando a propósito de los caños tan gordos y encorvados y tuvo que \\nentrar con un paño enorme y ver la recia forma oscura contra la mayólica \\nblanca, mientras el coloso aún medio perdido entre El Botellón, el agro, la \\nducha, el escapulario, seguía diciendo que la religión no tenía nada que ver \\ncon las necesidades de la vida y que después de todo no había ningún \\nproblema, siempre que hubiera una cama blanda donde tirarse y algo que \\nle permitiese cambiar la llanta del camión. \\n       El doctor había enmudecido. La idea del cuarto de huéspedes la \\nabandonó, había escuchado en los bajos el claxon de un automóvil, no \\nsabía aún qué ritmo era el del coloso, el chofer del taxi podía tocar el \\ntimbre, cada cual se vestía a una velocidad, pero el negro era de los rápidos \\ny ya estaba en la biblioteca abotonándose la camisa, siempre sonriente, \\nuna copa le vendría bien, luego un café caliente. Ya el cielo estaba celeste, \\npodía llevarse la botella pero no habría café, debía comprender, sus \\nobligaciones, y lo estaba empujando hacia las escaleras, mientras el negro \\nno ofrecía mucha resistencia, esas cosas ocurrían, ilustrísimo doctor, ha \\nsido un placer, pero alguien tiene que pagar el taxi, ya sabe usted a sus \\nórdenes, todas las noches en El Botellón, y el billete pasó de una mano a \\notra y al fin la puerta estaba cerrada con doble llave y el doctor pudo subir \\njadeando hasta la biblioteca. \\n       Miró por los ventanales. El taxi se alejaba en la ciudad ya extinguida. \\nEn su escritorio seguían amontonados sus papeles, en los estantes todos \\nsus libros, en el extranjero su familia, en su interior su propia efigie. Pero \\nya no era la misma. \\n\\n\\n\\n'"
      ]
     },
     "execution_count": 143,
     "metadata": {},
     "output_type": "execute_result"
    }
   ],
   "source": [
    "archivo.read()"
   ]
  },
  {
   "cell_type": "code",
   "execution_count": null,
   "metadata": {},
   "outputs": [],
   "source": []
  }
 ],
 "metadata": {
  "colab": {
   "name": "semana-1.ipynb",
   "provenance": []
  },
  "kernelspec": {
   "display_name": "Python 3",
   "language": "python",
   "name": "python3"
  },
  "language_info": {
   "codemirror_mode": {
    "name": "ipython",
    "version": 3
   },
   "file_extension": ".py",
   "mimetype": "text/x-python",
   "name": "python",
   "nbconvert_exporter": "python",
   "pygments_lexer": "ipython3",
   "version": "3.8.8"
  },
  "vscode": {
   "interpreter": {
    "hash": "3ad933181bd8a04b432d3370b9dc3b0662ad032c4dfaa4e4f1596c548f763858"
   }
  }
 },
 "nbformat": 4,
 "nbformat_minor": 1
}
